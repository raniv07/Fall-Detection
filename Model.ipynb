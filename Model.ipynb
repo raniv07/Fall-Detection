{
  "cells": [
    {
      "cell_type": "code",
      "source": [
        "from google.colab import drive\n",
        "drive.mount('/content/drive/')"
      ],
      "metadata": {
        "colab": {
          "base_uri": "https://localhost:8080/"
        },
        "id": "oWOT_CA1xXpc",
        "outputId": "b3052463-15df-49db-a8cf-0b1c48b586d3"
      },
      "id": "oWOT_CA1xXpc",
      "execution_count": null,
      "outputs": [
        {
          "output_type": "stream",
          "name": "stdout",
          "text": [
            "Mounted at /content/drive/\n"
          ]
        }
      ]
    },
    {
      "cell_type": "code",
      "execution_count": null,
      "id": "2d13c058-9760-4570-bab5-bd2a92fb34bc",
      "metadata": {
        "id": "2d13c058-9760-4570-bab5-bd2a92fb34bc"
      },
      "outputs": [],
      "source": [
        "import pandas as pd\n",
        "import os\n",
        "import numpy as np\n",
        "import cv2\n",
        "from matplotlib.pyplot import imread\n",
        "import matplotlib.pyplot as plt\n",
        "import random as rn\n",
        "from sklearn.preprocessing import  StandardScaler\n"
      ]
    },
    {
      "cell_type": "code",
      "execution_count": null,
      "id": "bf6d129c-339c-4404-81f8-6da259dee4e8",
      "metadata": {
        "tags": [],
        "colab": {
          "base_uri": "https://localhost:8080/"
        },
        "id": "bf6d129c-339c-4404-81f8-6da259dee4e8",
        "outputId": "33819aaa-6ad5-4c86-c097-95152f713eae"
      },
      "outputs": [
        {
          "output_type": "stream",
          "name": "stdout",
          "text": [
            "Looking in indexes: https://pypi.org/simple, https://us-python.pkg.dev/colab-wheels/public/simple/\n",
            "Collecting tensorflow_addons\n",
            "  Downloading tensorflow_addons-0.20.0-cp39-cp39-manylinux_2_17_x86_64.manylinux2014_x86_64.whl (591 kB)\n",
            "\u001b[2K     \u001b[90m━━━━━━━━━━━━━━━━━━━━━━━━━━━━━━━━━━━━━━\u001b[0m \u001b[32m591.0/591.0 kB\u001b[0m \u001b[31m41.3 MB/s\u001b[0m eta \u001b[36m0:00:00\u001b[0m\n",
            "\u001b[?25hCollecting typeguard<3.0.0,>=2.7\n",
            "  Downloading typeguard-2.13.3-py3-none-any.whl (17 kB)\n",
            "Requirement already satisfied: packaging in /usr/local/lib/python3.9/dist-packages (from tensorflow_addons) (23.0)\n",
            "Installing collected packages: typeguard, tensorflow_addons\n",
            "Successfully installed tensorflow_addons-0.20.0 typeguard-2.13.3\n"
          ]
        },
        {
          "output_type": "stream",
          "name": "stderr",
          "text": [
            "/usr/local/lib/python3.9/dist-packages/tensorflow_addons/utils/tfa_eol_msg.py:23: UserWarning: \n",
            "\n",
            "TensorFlow Addons (TFA) has ended development and introduction of new features.\n",
            "TFA has entered a minimal maintenance and release mode until a planned end of life in May 2024.\n",
            "Please modify downstream libraries to take dependencies from other repositories in our TensorFlow community (e.g. Keras, Keras-CV, and Keras-NLP). \n",
            "\n",
            "For more information see: https://github.com/tensorflow/addons/issues/2807 \n",
            "\n",
            "  warnings.warn(\n"
          ]
        }
      ],
      "source": [
        "!pip3 install tensorflow_addons\n",
        "import tensorflow as tf\n",
        "import tensorflow_addons as tfa\n",
        "from tensorflow import keras\n",
        "from tensorflow.keras import Sequential,Model\n",
        "from tensorflow.keras.layers import Dense, Dropout, Activation, Flatten , Input ,BatchNormalization, Concatenate\n",
        "from tensorflow.keras.layers import Conv2D, MaxPooling2D , Conv1D , MaxPooling1D\n",
        "from tensorflow.keras.utils import to_categorical\n",
        "from tensorflow.keras.callbacks import ModelCheckpoint\n",
        "\n",
        "from sklearn.model_selection import train_test_split\n",
        "from sklearn.metrics import accuracy_score,f1_score,precision_score,recall_score,confusion_matrix,balanced_accuracy_score\n",
        "import joblib"
      ]
    },
    {
      "cell_type": "code",
      "source": [
        "path = 'drive/MyDrive/'"
      ],
      "metadata": {
        "id": "ROahCi5cyxdJ"
      },
      "id": "ROahCi5cyxdJ",
      "execution_count": null,
      "outputs": []
    },
    {
      "cell_type": "code",
      "execution_count": null,
      "id": "3fe34c75-9d04-46fe-8f33-c97118ff3597",
      "metadata": {
        "colab": {
          "base_uri": "https://localhost:8080/",
          "height": 421
        },
        "id": "3fe34c75-9d04-46fe-8f33-c97118ff3597",
        "outputId": "76237c91-089d-4d0d-eede-da03e6203721"
      },
      "outputs": [
        {
          "output_type": "execute_result",
          "data": {
            "text/plain": [
              "                         Time  X-axis Accelerometer (g)  \\\n",
              "0  2018-07-04T12:04:17.738369                    -1.005   \n",
              "1  2018-07-04T12:04:17.790509                    -1.005   \n",
              "2  2018-07-04T12:04:17.836632                    -1.005   \n",
              "3  2018-07-04T12:04:17.885262                    -1.005   \n",
              "4  2018-07-04T12:04:17.945423                    -1.008   \n",
              "\n",
              "   Y-axis Accelerometer (g)  Z-axis Accelerometer (g)  \\\n",
              "0                     0.229                    -0.083   \n",
              "1                     0.228                    -0.082   \n",
              "2                     0.231                    -0.079   \n",
              "3                     0.231                    -0.079   \n",
              "4                     0.229                    -0.072   \n",
              "\n",
              "   Roll Gyroscrope (deg/s)  Pitch Gyroscope (deg/s)  Yaw Gyroscope (deg/s)  \\\n",
              "0                   -0.671                    0.488                 -2.683   \n",
              "1                   -3.415                   -0.549                  0.122   \n",
              "2                   -2.622                   -1.402                 -0.549   \n",
              "3                   -2.561                   -2.195                 -1.220   \n",
              "4                   -3.537                   -2.073                 -0.305   \n",
              "\n",
              "   Luminosity (lux)  X-axis Accelerometer (g).1  Y-axis Accelerometer (g).1  \\\n",
              "0               0.0                      -0.981                       0.260   \n",
              "1               0.0                      -0.981                       0.260   \n",
              "2               0.0                      -0.975                       0.282   \n",
              "3               0.0                      -0.973                       0.301   \n",
              "4               0.0                      -0.973                       0.301   \n",
              "\n",
              "   ...  Yaw Gyroscope (deg/s).4  Luminosity (lux).4  Raw Brainwave Signal   \\\n",
              "0  ...                  315.915            2108.154                     45   \n",
              "1  ...                  344.146            2108.154                      1   \n",
              "2  ...                  372.012            2108.154                    325   \n",
              "3  ...                  356.463            2108.154                    396   \n",
              "4  ...                  126.768            2108.154                   -436   \n",
              "\n",
              "   Infrared 1  Infrared 2  Infrared 3  Infrared 4  Infrared 5  Infrared 6  \\\n",
              "0           1           1           1           1           1           1   \n",
              "1           1           1           1           1           1           1   \n",
              "2           1           1           1           1           1           1   \n",
              "3           1           1           1           1           1           1   \n",
              "4           1           1           1           1           1           1   \n",
              "\n",
              "   Label  \n",
              "0      7  \n",
              "1      7  \n",
              "2      7  \n",
              "3      7  \n",
              "4      7  \n",
              "\n",
              "[5 rows x 44 columns]"
            ],
            "text/html": [
              "\n",
              "  <div id=\"df-26ef6085-1f6a-4fbb-8831-a930048c4e38\">\n",
              "    <div class=\"colab-df-container\">\n",
              "      <div>\n",
              "<style scoped>\n",
              "    .dataframe tbody tr th:only-of-type {\n",
              "        vertical-align: middle;\n",
              "    }\n",
              "\n",
              "    .dataframe tbody tr th {\n",
              "        vertical-align: top;\n",
              "    }\n",
              "\n",
              "    .dataframe thead th {\n",
              "        text-align: right;\n",
              "    }\n",
              "</style>\n",
              "<table border=\"1\" class=\"dataframe\">\n",
              "  <thead>\n",
              "    <tr style=\"text-align: right;\">\n",
              "      <th></th>\n",
              "      <th>Time</th>\n",
              "      <th>X-axis Accelerometer (g)</th>\n",
              "      <th>Y-axis Accelerometer (g)</th>\n",
              "      <th>Z-axis Accelerometer (g)</th>\n",
              "      <th>Roll Gyroscrope (deg/s)</th>\n",
              "      <th>Pitch Gyroscope (deg/s)</th>\n",
              "      <th>Yaw Gyroscope (deg/s)</th>\n",
              "      <th>Luminosity (lux)</th>\n",
              "      <th>X-axis Accelerometer (g).1</th>\n",
              "      <th>Y-axis Accelerometer (g).1</th>\n",
              "      <th>...</th>\n",
              "      <th>Yaw Gyroscope (deg/s).4</th>\n",
              "      <th>Luminosity (lux).4</th>\n",
              "      <th>Raw Brainwave Signal</th>\n",
              "      <th>Infrared 1</th>\n",
              "      <th>Infrared 2</th>\n",
              "      <th>Infrared 3</th>\n",
              "      <th>Infrared 4</th>\n",
              "      <th>Infrared 5</th>\n",
              "      <th>Infrared 6</th>\n",
              "      <th>Label</th>\n",
              "    </tr>\n",
              "  </thead>\n",
              "  <tbody>\n",
              "    <tr>\n",
              "      <th>0</th>\n",
              "      <td>2018-07-04T12:04:17.738369</td>\n",
              "      <td>-1.005</td>\n",
              "      <td>0.229</td>\n",
              "      <td>-0.083</td>\n",
              "      <td>-0.671</td>\n",
              "      <td>0.488</td>\n",
              "      <td>-2.683</td>\n",
              "      <td>0.0</td>\n",
              "      <td>-0.981</td>\n",
              "      <td>0.260</td>\n",
              "      <td>...</td>\n",
              "      <td>315.915</td>\n",
              "      <td>2108.154</td>\n",
              "      <td>45</td>\n",
              "      <td>1</td>\n",
              "      <td>1</td>\n",
              "      <td>1</td>\n",
              "      <td>1</td>\n",
              "      <td>1</td>\n",
              "      <td>1</td>\n",
              "      <td>7</td>\n",
              "    </tr>\n",
              "    <tr>\n",
              "      <th>1</th>\n",
              "      <td>2018-07-04T12:04:17.790509</td>\n",
              "      <td>-1.005</td>\n",
              "      <td>0.228</td>\n",
              "      <td>-0.082</td>\n",
              "      <td>-3.415</td>\n",
              "      <td>-0.549</td>\n",
              "      <td>0.122</td>\n",
              "      <td>0.0</td>\n",
              "      <td>-0.981</td>\n",
              "      <td>0.260</td>\n",
              "      <td>...</td>\n",
              "      <td>344.146</td>\n",
              "      <td>2108.154</td>\n",
              "      <td>1</td>\n",
              "      <td>1</td>\n",
              "      <td>1</td>\n",
              "      <td>1</td>\n",
              "      <td>1</td>\n",
              "      <td>1</td>\n",
              "      <td>1</td>\n",
              "      <td>7</td>\n",
              "    </tr>\n",
              "    <tr>\n",
              "      <th>2</th>\n",
              "      <td>2018-07-04T12:04:17.836632</td>\n",
              "      <td>-1.005</td>\n",
              "      <td>0.231</td>\n",
              "      <td>-0.079</td>\n",
              "      <td>-2.622</td>\n",
              "      <td>-1.402</td>\n",
              "      <td>-0.549</td>\n",
              "      <td>0.0</td>\n",
              "      <td>-0.975</td>\n",
              "      <td>0.282</td>\n",
              "      <td>...</td>\n",
              "      <td>372.012</td>\n",
              "      <td>2108.154</td>\n",
              "      <td>325</td>\n",
              "      <td>1</td>\n",
              "      <td>1</td>\n",
              "      <td>1</td>\n",
              "      <td>1</td>\n",
              "      <td>1</td>\n",
              "      <td>1</td>\n",
              "      <td>7</td>\n",
              "    </tr>\n",
              "    <tr>\n",
              "      <th>3</th>\n",
              "      <td>2018-07-04T12:04:17.885262</td>\n",
              "      <td>-1.005</td>\n",
              "      <td>0.231</td>\n",
              "      <td>-0.079</td>\n",
              "      <td>-2.561</td>\n",
              "      <td>-2.195</td>\n",
              "      <td>-1.220</td>\n",
              "      <td>0.0</td>\n",
              "      <td>-0.973</td>\n",
              "      <td>0.301</td>\n",
              "      <td>...</td>\n",
              "      <td>356.463</td>\n",
              "      <td>2108.154</td>\n",
              "      <td>396</td>\n",
              "      <td>1</td>\n",
              "      <td>1</td>\n",
              "      <td>1</td>\n",
              "      <td>1</td>\n",
              "      <td>1</td>\n",
              "      <td>1</td>\n",
              "      <td>7</td>\n",
              "    </tr>\n",
              "    <tr>\n",
              "      <th>4</th>\n",
              "      <td>2018-07-04T12:04:17.945423</td>\n",
              "      <td>-1.008</td>\n",
              "      <td>0.229</td>\n",
              "      <td>-0.072</td>\n",
              "      <td>-3.537</td>\n",
              "      <td>-2.073</td>\n",
              "      <td>-0.305</td>\n",
              "      <td>0.0</td>\n",
              "      <td>-0.973</td>\n",
              "      <td>0.301</td>\n",
              "      <td>...</td>\n",
              "      <td>126.768</td>\n",
              "      <td>2108.154</td>\n",
              "      <td>-436</td>\n",
              "      <td>1</td>\n",
              "      <td>1</td>\n",
              "      <td>1</td>\n",
              "      <td>1</td>\n",
              "      <td>1</td>\n",
              "      <td>1</td>\n",
              "      <td>7</td>\n",
              "    </tr>\n",
              "  </tbody>\n",
              "</table>\n",
              "<p>5 rows × 44 columns</p>\n",
              "</div>\n",
              "      <button class=\"colab-df-convert\" onclick=\"convertToInteractive('df-26ef6085-1f6a-4fbb-8831-a930048c4e38')\"\n",
              "              title=\"Convert this dataframe to an interactive table.\"\n",
              "              style=\"display:none;\">\n",
              "        \n",
              "  <svg xmlns=\"http://www.w3.org/2000/svg\" height=\"24px\"viewBox=\"0 0 24 24\"\n",
              "       width=\"24px\">\n",
              "    <path d=\"M0 0h24v24H0V0z\" fill=\"none\"/>\n",
              "    <path d=\"M18.56 5.44l.94 2.06.94-2.06 2.06-.94-2.06-.94-.94-2.06-.94 2.06-2.06.94zm-11 1L8.5 8.5l.94-2.06 2.06-.94-2.06-.94L8.5 2.5l-.94 2.06-2.06.94zm10 10l.94 2.06.94-2.06 2.06-.94-2.06-.94-.94-2.06-.94 2.06-2.06.94z\"/><path d=\"M17.41 7.96l-1.37-1.37c-.4-.4-.92-.59-1.43-.59-.52 0-1.04.2-1.43.59L10.3 9.45l-7.72 7.72c-.78.78-.78 2.05 0 2.83L4 21.41c.39.39.9.59 1.41.59.51 0 1.02-.2 1.41-.59l7.78-7.78 2.81-2.81c.8-.78.8-2.07 0-2.86zM5.41 20L4 18.59l7.72-7.72 1.47 1.35L5.41 20z\"/>\n",
              "  </svg>\n",
              "      </button>\n",
              "      \n",
              "  <style>\n",
              "    .colab-df-container {\n",
              "      display:flex;\n",
              "      flex-wrap:wrap;\n",
              "      gap: 12px;\n",
              "    }\n",
              "\n",
              "    .colab-df-convert {\n",
              "      background-color: #E8F0FE;\n",
              "      border: none;\n",
              "      border-radius: 50%;\n",
              "      cursor: pointer;\n",
              "      display: none;\n",
              "      fill: #1967D2;\n",
              "      height: 32px;\n",
              "      padding: 0 0 0 0;\n",
              "      width: 32px;\n",
              "    }\n",
              "\n",
              "    .colab-df-convert:hover {\n",
              "      background-color: #E2EBFA;\n",
              "      box-shadow: 0px 1px 2px rgba(60, 64, 67, 0.3), 0px 1px 3px 1px rgba(60, 64, 67, 0.15);\n",
              "      fill: #174EA6;\n",
              "    }\n",
              "\n",
              "    [theme=dark] .colab-df-convert {\n",
              "      background-color: #3B4455;\n",
              "      fill: #D2E3FC;\n",
              "    }\n",
              "\n",
              "    [theme=dark] .colab-df-convert:hover {\n",
              "      background-color: #434B5C;\n",
              "      box-shadow: 0px 1px 3px 1px rgba(0, 0, 0, 0.15);\n",
              "      filter: drop-shadow(0px 1px 2px rgba(0, 0, 0, 0.3));\n",
              "      fill: #FFFFFF;\n",
              "    }\n",
              "  </style>\n",
              "\n",
              "      <script>\n",
              "        const buttonEl =\n",
              "          document.querySelector('#df-26ef6085-1f6a-4fbb-8831-a930048c4e38 button.colab-df-convert');\n",
              "        buttonEl.style.display =\n",
              "          google.colab.kernel.accessAllowed ? 'block' : 'none';\n",
              "\n",
              "        async function convertToInteractive(key) {\n",
              "          const element = document.querySelector('#df-26ef6085-1f6a-4fbb-8831-a930048c4e38');\n",
              "          const dataTable =\n",
              "            await google.colab.kernel.invokeFunction('convertToInteractive',\n",
              "                                                     [key], {});\n",
              "          if (!dataTable) return;\n",
              "\n",
              "          const docLinkHtml = 'Like what you see? Visit the ' +\n",
              "            '<a target=\"_blank\" href=https://colab.research.google.com/notebooks/data_table.ipynb>data table notebook</a>'\n",
              "            + ' to learn more about interactive tables.';\n",
              "          element.innerHTML = '';\n",
              "          dataTable['output_type'] = 'display_data';\n",
              "          await google.colab.output.renderOutput(dataTable, element);\n",
              "          const docLink = document.createElement('div');\n",
              "          docLink.innerHTML = docLinkHtml;\n",
              "          element.appendChild(docLink);\n",
              "        }\n",
              "      </script>\n",
              "    </div>\n",
              "  </div>\n",
              "  "
            ]
          },
          "metadata": {},
          "execution_count": 7
        }
      ],
      "source": [
        "SUB = pd.read_csv(path+'Sensor + Image/sensor.csv', skiprows = 1)\n",
        "SUB.head()"
      ]
    },
    {
      "cell_type": "code",
      "source": [
        "SUB['Label'].unique()"
      ],
      "metadata": {
        "colab": {
          "base_uri": "https://localhost:8080/"
        },
        "id": "MikJtTXIoufs",
        "outputId": "d7661701-ad29-4c87-f59b-81c4e9c665f0"
      },
      "id": "MikJtTXIoufs",
      "execution_count": null,
      "outputs": [
        {
          "output_type": "execute_result",
          "data": {
            "text/plain": [
              "array([ 7,  1, 11,  2,  3,  4,  5,  6,  8,  9, 10])"
            ]
          },
          "metadata": {},
          "execution_count": 8
        }
      ]
    },
    {
      "cell_type": "code",
      "execution_count": null,
      "id": "00e77544-8f45-4d72-b263-b5069a35d333",
      "metadata": {
        "colab": {
          "base_uri": "https://localhost:8080/"
        },
        "id": "00e77544-8f45-4d72-b263-b5069a35d333",
        "outputId": "cebe46ae-f4b2-4ac2-d725-4701ef77b13d"
      },
      "outputs": [
        {
          "output_type": "stream",
          "name": "stdout",
          "text": [
            "(17932, 44)\n"
          ]
        }
      ],
      "source": [
        "print(SUB.shape)"
      ]
    },
    {
      "cell_type": "markdown",
      "id": "a49ff9cf-cde1-4b35-8653-a8230fa294e0",
      "metadata": {
        "id": "a49ff9cf-cde1-4b35-8653-a8230fa294e0"
      },
      "source": [
        "# Data Processing"
      ]
    },
    {
      "cell_type": "code",
      "execution_count": null,
      "id": "ea090b6d-1ad9-4483-9ff9-0be05a1080d0",
      "metadata": {
        "id": "ea090b6d-1ad9-4483-9ff9-0be05a1080d0",
        "colab": {
          "base_uri": "https://localhost:8080/"
        },
        "outputId": "0c0d3b96-9247-4cce-8a1f-b5a31c220a09"
      },
      "outputs": [
        {
          "output_type": "execute_result",
          "data": {
            "text/plain": [
              "Time                          0\n",
              "X-axis Accelerometer (g)      0\n",
              "Y-axis Accelerometer (g)      0\n",
              "Z-axis Accelerometer (g)      0\n",
              "Roll Gyroscrope (deg/s)       0\n",
              "Pitch Gyroscope (deg/s)       0\n",
              "Yaw Gyroscope (deg/s)         0\n",
              "Luminosity (lux)              0\n",
              "X-axis Accelerometer (g).1    0\n",
              "Y-axis Accelerometer (g).1    0\n",
              "Z-axis Accelerometer (g).1    0\n",
              "Roll Gyroscrope (deg/s).1     0\n",
              "Pitch Gyroscope (deg/s).1     0\n",
              "Yaw Gyroscope (deg/s).1       0\n",
              "Luminosity (lux).1            0\n",
              "X-axis Accelerometer (g).2    0\n",
              "Y-axis Accelerometer (g).2    0\n",
              "Z-axis Accelerometer (g).2    0\n",
              "Roll Gyroscrope (deg/s).2     0\n",
              "Pitch Gyroscope (deg/s).2     0\n",
              "Yaw Gyroscope (deg/s).2       0\n",
              "Luminosity (lux).2            0\n",
              "X-axis Accelerometer (g).3    0\n",
              "Y-axis Accelerometer (g).3    0\n",
              "Z-axis Accelerometer (g).3    0\n",
              "Roll Gyroscrope (deg/s).3     0\n",
              "Pitch Gyroscope (deg/s).3     0\n",
              "Yaw Gyroscope (deg/s).3       0\n",
              "Luminosity (lux).3            0\n",
              "X-axis Accelerometer (g).4    0\n",
              "Y-axis Accelerometer (g).4    0\n",
              "Z-axis Accelerometer (g).4    0\n",
              "Roll Gyroscrope (deg/s).4     0\n",
              "Pitch Gyroscope (deg/s).4     0\n",
              "Yaw Gyroscope (deg/s).4       0\n",
              "Luminosity (lux).4            0\n",
              "Raw Brainwave Signal          0\n",
              "Infrared 1                    0\n",
              "Infrared 2                    0\n",
              "Infrared 3                    0\n",
              "Infrared 4                    0\n",
              "Infrared 5                    0\n",
              "Infrared 6                    0\n",
              "Label                         0\n",
              "dtype: int64"
            ]
          },
          "metadata": {},
          "execution_count": 10
        }
      ],
      "source": [
        "SUB.isnull().sum()"
      ]
    },
    {
      "cell_type": "code",
      "execution_count": null,
      "id": "2691a0e4-ccd1-4e78-a42e-0e41eb657934",
      "metadata": {
        "colab": {
          "base_uri": "https://localhost:8080/"
        },
        "id": "2691a0e4-ccd1-4e78-a42e-0e41eb657934",
        "outputId": "b2186f05-a854-4aac-d31a-ea2f2cb2dd5b"
      },
      "outputs": [
        {
          "output_type": "stream",
          "name": "stdout",
          "text": [
            "Columns contain NULL values : \n",
            " Index([], dtype='object')\n",
            "Sensor Data shape after dropping NaN and redudant samples : (17932, 44)\n",
            "Sensor Data shape after dropping columns contain NaN values : (17932, 38)\n"
          ]
        }
      ],
      "source": [
        "NA_cols  = SUB.columns[SUB.isnull().any()]\n",
        "print('Columns contain NULL values : \\n', NA_cols )\n",
        "\n",
        "\n",
        "SUB.dropna(inplace = True)\n",
        "SUB.drop_duplicates(inplace = True)\n",
        "print('Sensor Data shape after dropping NaN and redudant samples :',SUB.shape)\n",
        "\n",
        "\n",
        "times = SUB['Time']\n",
        "\n",
        "list_DROP = [ 'Infrared 1',\n",
        "              'Infrared 2',\n",
        "              'Infrared 3',\n",
        "              'Infrared 4',\n",
        "              'Infrared 5',\n",
        "              'Infrared 6']\n",
        "SUB.drop(list_DROP, axis = 1, inplace=  True )\n",
        "SUB.drop( NA_cols, axis = 1, inplace=  True ) # drop NAN COLS\n",
        "\n",
        "print('Sensor Data shape after dropping columns contain NaN values :',SUB.shape)"
      ]
    },
    {
      "cell_type": "code",
      "execution_count": null,
      "id": "7c3ed6f7-62af-4a48-abe9-2a46ae7bc7e0",
      "metadata": {
        "colab": {
          "base_uri": "https://localhost:8080/",
          "height": 453
        },
        "id": "7c3ed6f7-62af-4a48-abe9-2a46ae7bc7e0",
        "outputId": "aed6af13-2cb7-415c-ef23-dd5f587dfb49"
      },
      "outputs": [
        {
          "output_type": "execute_result",
          "data": {
            "text/plain": [
              "                            X-axis Accelerometer (g)  \\\n",
              "Time                                                   \n",
              "2018-07-04T12:04:17.738369                    -1.005   \n",
              "2018-07-04T12:04:17.790509                    -1.005   \n",
              "2018-07-04T12:04:17.836632                    -1.005   \n",
              "2018-07-04T12:04:17.885262                    -1.005   \n",
              "2018-07-04T12:04:17.945423                    -1.008   \n",
              "\n",
              "                            Y-axis Accelerometer (g)  \\\n",
              "Time                                                   \n",
              "2018-07-04T12:04:17.738369                     0.229   \n",
              "2018-07-04T12:04:17.790509                     0.228   \n",
              "2018-07-04T12:04:17.836632                     0.231   \n",
              "2018-07-04T12:04:17.885262                     0.231   \n",
              "2018-07-04T12:04:17.945423                     0.229   \n",
              "\n",
              "                            Z-axis Accelerometer (g)  Roll Gyroscrope (deg/s)  \\\n",
              "Time                                                                            \n",
              "2018-07-04T12:04:17.738369                    -0.083                   -0.671   \n",
              "2018-07-04T12:04:17.790509                    -0.082                   -3.415   \n",
              "2018-07-04T12:04:17.836632                    -0.079                   -2.622   \n",
              "2018-07-04T12:04:17.885262                    -0.079                   -2.561   \n",
              "2018-07-04T12:04:17.945423                    -0.072                   -3.537   \n",
              "\n",
              "                            Pitch Gyroscope (deg/s)  Yaw Gyroscope (deg/s)  \\\n",
              "Time                                                                         \n",
              "2018-07-04T12:04:17.738369                    0.488                 -2.683   \n",
              "2018-07-04T12:04:17.790509                   -0.549                  0.122   \n",
              "2018-07-04T12:04:17.836632                   -1.402                 -0.549   \n",
              "2018-07-04T12:04:17.885262                   -2.195                 -1.220   \n",
              "2018-07-04T12:04:17.945423                   -2.073                 -0.305   \n",
              "\n",
              "                            Luminosity (lux)  X-axis Accelerometer (g).1  \\\n",
              "Time                                                                       \n",
              "2018-07-04T12:04:17.738369               0.0                      -0.981   \n",
              "2018-07-04T12:04:17.790509               0.0                      -0.981   \n",
              "2018-07-04T12:04:17.836632               0.0                      -0.975   \n",
              "2018-07-04T12:04:17.885262               0.0                      -0.973   \n",
              "2018-07-04T12:04:17.945423               0.0                      -0.973   \n",
              "\n",
              "                            Y-axis Accelerometer (g).1  \\\n",
              "Time                                                     \n",
              "2018-07-04T12:04:17.738369                       0.260   \n",
              "2018-07-04T12:04:17.790509                       0.260   \n",
              "2018-07-04T12:04:17.836632                       0.282   \n",
              "2018-07-04T12:04:17.885262                       0.301   \n",
              "2018-07-04T12:04:17.945423                       0.301   \n",
              "\n",
              "                            Z-axis Accelerometer (g).1  ...  \\\n",
              "Time                                                    ...   \n",
              "2018-07-04T12:04:17.738369                       0.098  ...   \n",
              "2018-07-04T12:04:17.790509                       0.098  ...   \n",
              "2018-07-04T12:04:17.836632                       0.091  ...   \n",
              "2018-07-04T12:04:17.885262                       0.103  ...   \n",
              "2018-07-04T12:04:17.945423                       0.103  ...   \n",
              "\n",
              "                            Luminosity (lux).3  X-axis Accelerometer (g).4  \\\n",
              "Time                                                                         \n",
              "2018-07-04T12:04:17.738369            1231.336                      -1.240   \n",
              "2018-07-04T12:04:17.790509            1231.336                      -1.240   \n",
              "2018-07-04T12:04:17.836632            1231.336                      -1.884   \n",
              "2018-07-04T12:04:17.885262            1231.336                      -1.884   \n",
              "2018-07-04T12:04:17.945423            1231.336                      -1.597   \n",
              "\n",
              "                            Y-axis Accelerometer (g).4  \\\n",
              "Time                                                     \n",
              "2018-07-04T12:04:17.738369                      -0.557   \n",
              "2018-07-04T12:04:17.790509                      -0.557   \n",
              "2018-07-04T12:04:17.836632                      -0.687   \n",
              "2018-07-04T12:04:17.885262                      -0.687   \n",
              "2018-07-04T12:04:17.945423                      -0.646   \n",
              "\n",
              "                            Z-axis Accelerometer (g).4  \\\n",
              "Time                                                     \n",
              "2018-07-04T12:04:17.738369                       0.227   \n",
              "2018-07-04T12:04:17.790509                       0.227   \n",
              "2018-07-04T12:04:17.836632                       0.251   \n",
              "2018-07-04T12:04:17.885262                       0.251   \n",
              "2018-07-04T12:04:17.945423                       0.112   \n",
              "\n",
              "                            Roll Gyroscrope (deg/s).4  \\\n",
              "Time                                                    \n",
              "2018-07-04T12:04:17.738369                    -75.854   \n",
              "2018-07-04T12:04:17.790509                    -28.780   \n",
              "2018-07-04T12:04:17.836632                     27.256   \n",
              "2018-07-04T12:04:17.885262                      2.866   \n",
              "2018-07-04T12:04:17.945423                     10.000   \n",
              "\n",
              "                            Pitch Gyroscope (deg/s).4  \\\n",
              "Time                                                    \n",
              "2018-07-04T12:04:17.738369                     44.024   \n",
              "2018-07-04T12:04:17.790509                     55.549   \n",
              "2018-07-04T12:04:17.836632                     87.134   \n",
              "2018-07-04T12:04:17.885262                    117.683   \n",
              "2018-07-04T12:04:17.945423                     30.671   \n",
              "\n",
              "                            Yaw Gyroscope (deg/s).4  Luminosity (lux).4  \\\n",
              "Time                                                                      \n",
              "2018-07-04T12:04:17.738369                  315.915            2108.154   \n",
              "2018-07-04T12:04:17.790509                  344.146            2108.154   \n",
              "2018-07-04T12:04:17.836632                  372.012            2108.154   \n",
              "2018-07-04T12:04:17.885262                  356.463            2108.154   \n",
              "2018-07-04T12:04:17.945423                  126.768            2108.154   \n",
              "\n",
              "                            Raw Brainwave Signal   Label  \n",
              "Time                                                      \n",
              "2018-07-04T12:04:17.738369                     45      7  \n",
              "2018-07-04T12:04:17.790509                      1      7  \n",
              "2018-07-04T12:04:17.836632                    325      7  \n",
              "2018-07-04T12:04:17.885262                    396      7  \n",
              "2018-07-04T12:04:17.945423                   -436      7  \n",
              "\n",
              "[5 rows x 37 columns]"
            ],
            "text/html": [
              "\n",
              "  <div id=\"df-a0aae7c2-0958-4f2c-9e40-16ae22cd0578\">\n",
              "    <div class=\"colab-df-container\">\n",
              "      <div>\n",
              "<style scoped>\n",
              "    .dataframe tbody tr th:only-of-type {\n",
              "        vertical-align: middle;\n",
              "    }\n",
              "\n",
              "    .dataframe tbody tr th {\n",
              "        vertical-align: top;\n",
              "    }\n",
              "\n",
              "    .dataframe thead th {\n",
              "        text-align: right;\n",
              "    }\n",
              "</style>\n",
              "<table border=\"1\" class=\"dataframe\">\n",
              "  <thead>\n",
              "    <tr style=\"text-align: right;\">\n",
              "      <th></th>\n",
              "      <th>X-axis Accelerometer (g)</th>\n",
              "      <th>Y-axis Accelerometer (g)</th>\n",
              "      <th>Z-axis Accelerometer (g)</th>\n",
              "      <th>Roll Gyroscrope (deg/s)</th>\n",
              "      <th>Pitch Gyroscope (deg/s)</th>\n",
              "      <th>Yaw Gyroscope (deg/s)</th>\n",
              "      <th>Luminosity (lux)</th>\n",
              "      <th>X-axis Accelerometer (g).1</th>\n",
              "      <th>Y-axis Accelerometer (g).1</th>\n",
              "      <th>Z-axis Accelerometer (g).1</th>\n",
              "      <th>...</th>\n",
              "      <th>Luminosity (lux).3</th>\n",
              "      <th>X-axis Accelerometer (g).4</th>\n",
              "      <th>Y-axis Accelerometer (g).4</th>\n",
              "      <th>Z-axis Accelerometer (g).4</th>\n",
              "      <th>Roll Gyroscrope (deg/s).4</th>\n",
              "      <th>Pitch Gyroscope (deg/s).4</th>\n",
              "      <th>Yaw Gyroscope (deg/s).4</th>\n",
              "      <th>Luminosity (lux).4</th>\n",
              "      <th>Raw Brainwave Signal</th>\n",
              "      <th>Label</th>\n",
              "    </tr>\n",
              "    <tr>\n",
              "      <th>Time</th>\n",
              "      <th></th>\n",
              "      <th></th>\n",
              "      <th></th>\n",
              "      <th></th>\n",
              "      <th></th>\n",
              "      <th></th>\n",
              "      <th></th>\n",
              "      <th></th>\n",
              "      <th></th>\n",
              "      <th></th>\n",
              "      <th></th>\n",
              "      <th></th>\n",
              "      <th></th>\n",
              "      <th></th>\n",
              "      <th></th>\n",
              "      <th></th>\n",
              "      <th></th>\n",
              "      <th></th>\n",
              "      <th></th>\n",
              "      <th></th>\n",
              "      <th></th>\n",
              "    </tr>\n",
              "  </thead>\n",
              "  <tbody>\n",
              "    <tr>\n",
              "      <th>2018-07-04T12:04:17.738369</th>\n",
              "      <td>-1.005</td>\n",
              "      <td>0.229</td>\n",
              "      <td>-0.083</td>\n",
              "      <td>-0.671</td>\n",
              "      <td>0.488</td>\n",
              "      <td>-2.683</td>\n",
              "      <td>0.0</td>\n",
              "      <td>-0.981</td>\n",
              "      <td>0.260</td>\n",
              "      <td>0.098</td>\n",
              "      <td>...</td>\n",
              "      <td>1231.336</td>\n",
              "      <td>-1.240</td>\n",
              "      <td>-0.557</td>\n",
              "      <td>0.227</td>\n",
              "      <td>-75.854</td>\n",
              "      <td>44.024</td>\n",
              "      <td>315.915</td>\n",
              "      <td>2108.154</td>\n",
              "      <td>45</td>\n",
              "      <td>7</td>\n",
              "    </tr>\n",
              "    <tr>\n",
              "      <th>2018-07-04T12:04:17.790509</th>\n",
              "      <td>-1.005</td>\n",
              "      <td>0.228</td>\n",
              "      <td>-0.082</td>\n",
              "      <td>-3.415</td>\n",
              "      <td>-0.549</td>\n",
              "      <td>0.122</td>\n",
              "      <td>0.0</td>\n",
              "      <td>-0.981</td>\n",
              "      <td>0.260</td>\n",
              "      <td>0.098</td>\n",
              "      <td>...</td>\n",
              "      <td>1231.336</td>\n",
              "      <td>-1.240</td>\n",
              "      <td>-0.557</td>\n",
              "      <td>0.227</td>\n",
              "      <td>-28.780</td>\n",
              "      <td>55.549</td>\n",
              "      <td>344.146</td>\n",
              "      <td>2108.154</td>\n",
              "      <td>1</td>\n",
              "      <td>7</td>\n",
              "    </tr>\n",
              "    <tr>\n",
              "      <th>2018-07-04T12:04:17.836632</th>\n",
              "      <td>-1.005</td>\n",
              "      <td>0.231</td>\n",
              "      <td>-0.079</td>\n",
              "      <td>-2.622</td>\n",
              "      <td>-1.402</td>\n",
              "      <td>-0.549</td>\n",
              "      <td>0.0</td>\n",
              "      <td>-0.975</td>\n",
              "      <td>0.282</td>\n",
              "      <td>0.091</td>\n",
              "      <td>...</td>\n",
              "      <td>1231.336</td>\n",
              "      <td>-1.884</td>\n",
              "      <td>-0.687</td>\n",
              "      <td>0.251</td>\n",
              "      <td>27.256</td>\n",
              "      <td>87.134</td>\n",
              "      <td>372.012</td>\n",
              "      <td>2108.154</td>\n",
              "      <td>325</td>\n",
              "      <td>7</td>\n",
              "    </tr>\n",
              "    <tr>\n",
              "      <th>2018-07-04T12:04:17.885262</th>\n",
              "      <td>-1.005</td>\n",
              "      <td>0.231</td>\n",
              "      <td>-0.079</td>\n",
              "      <td>-2.561</td>\n",
              "      <td>-2.195</td>\n",
              "      <td>-1.220</td>\n",
              "      <td>0.0</td>\n",
              "      <td>-0.973</td>\n",
              "      <td>0.301</td>\n",
              "      <td>0.103</td>\n",
              "      <td>...</td>\n",
              "      <td>1231.336</td>\n",
              "      <td>-1.884</td>\n",
              "      <td>-0.687</td>\n",
              "      <td>0.251</td>\n",
              "      <td>2.866</td>\n",
              "      <td>117.683</td>\n",
              "      <td>356.463</td>\n",
              "      <td>2108.154</td>\n",
              "      <td>396</td>\n",
              "      <td>7</td>\n",
              "    </tr>\n",
              "    <tr>\n",
              "      <th>2018-07-04T12:04:17.945423</th>\n",
              "      <td>-1.008</td>\n",
              "      <td>0.229</td>\n",
              "      <td>-0.072</td>\n",
              "      <td>-3.537</td>\n",
              "      <td>-2.073</td>\n",
              "      <td>-0.305</td>\n",
              "      <td>0.0</td>\n",
              "      <td>-0.973</td>\n",
              "      <td>0.301</td>\n",
              "      <td>0.103</td>\n",
              "      <td>...</td>\n",
              "      <td>1231.336</td>\n",
              "      <td>-1.597</td>\n",
              "      <td>-0.646</td>\n",
              "      <td>0.112</td>\n",
              "      <td>10.000</td>\n",
              "      <td>30.671</td>\n",
              "      <td>126.768</td>\n",
              "      <td>2108.154</td>\n",
              "      <td>-436</td>\n",
              "      <td>7</td>\n",
              "    </tr>\n",
              "  </tbody>\n",
              "</table>\n",
              "<p>5 rows × 37 columns</p>\n",
              "</div>\n",
              "      <button class=\"colab-df-convert\" onclick=\"convertToInteractive('df-a0aae7c2-0958-4f2c-9e40-16ae22cd0578')\"\n",
              "              title=\"Convert this dataframe to an interactive table.\"\n",
              "              style=\"display:none;\">\n",
              "        \n",
              "  <svg xmlns=\"http://www.w3.org/2000/svg\" height=\"24px\"viewBox=\"0 0 24 24\"\n",
              "       width=\"24px\">\n",
              "    <path d=\"M0 0h24v24H0V0z\" fill=\"none\"/>\n",
              "    <path d=\"M18.56 5.44l.94 2.06.94-2.06 2.06-.94-2.06-.94-.94-2.06-.94 2.06-2.06.94zm-11 1L8.5 8.5l.94-2.06 2.06-.94-2.06-.94L8.5 2.5l-.94 2.06-2.06.94zm10 10l.94 2.06.94-2.06 2.06-.94-2.06-.94-.94-2.06-.94 2.06-2.06.94z\"/><path d=\"M17.41 7.96l-1.37-1.37c-.4-.4-.92-.59-1.43-.59-.52 0-1.04.2-1.43.59L10.3 9.45l-7.72 7.72c-.78.78-.78 2.05 0 2.83L4 21.41c.39.39.9.59 1.41.59.51 0 1.02-.2 1.41-.59l7.78-7.78 2.81-2.81c.8-.78.8-2.07 0-2.86zM5.41 20L4 18.59l7.72-7.72 1.47 1.35L5.41 20z\"/>\n",
              "  </svg>\n",
              "      </button>\n",
              "      \n",
              "  <style>\n",
              "    .colab-df-container {\n",
              "      display:flex;\n",
              "      flex-wrap:wrap;\n",
              "      gap: 12px;\n",
              "    }\n",
              "\n",
              "    .colab-df-convert {\n",
              "      background-color: #E8F0FE;\n",
              "      border: none;\n",
              "      border-radius: 50%;\n",
              "      cursor: pointer;\n",
              "      display: none;\n",
              "      fill: #1967D2;\n",
              "      height: 32px;\n",
              "      padding: 0 0 0 0;\n",
              "      width: 32px;\n",
              "    }\n",
              "\n",
              "    .colab-df-convert:hover {\n",
              "      background-color: #E2EBFA;\n",
              "      box-shadow: 0px 1px 2px rgba(60, 64, 67, 0.3), 0px 1px 3px 1px rgba(60, 64, 67, 0.15);\n",
              "      fill: #174EA6;\n",
              "    }\n",
              "\n",
              "    [theme=dark] .colab-df-convert {\n",
              "      background-color: #3B4455;\n",
              "      fill: #D2E3FC;\n",
              "    }\n",
              "\n",
              "    [theme=dark] .colab-df-convert:hover {\n",
              "      background-color: #434B5C;\n",
              "      box-shadow: 0px 1px 3px 1px rgba(0, 0, 0, 0.15);\n",
              "      filter: drop-shadow(0px 1px 2px rgba(0, 0, 0, 0.3));\n",
              "      fill: #FFFFFF;\n",
              "    }\n",
              "  </style>\n",
              "\n",
              "      <script>\n",
              "        const buttonEl =\n",
              "          document.querySelector('#df-a0aae7c2-0958-4f2c-9e40-16ae22cd0578 button.colab-df-convert');\n",
              "        buttonEl.style.display =\n",
              "          google.colab.kernel.accessAllowed ? 'block' : 'none';\n",
              "\n",
              "        async function convertToInteractive(key) {\n",
              "          const element = document.querySelector('#df-a0aae7c2-0958-4f2c-9e40-16ae22cd0578');\n",
              "          const dataTable =\n",
              "            await google.colab.kernel.invokeFunction('convertToInteractive',\n",
              "                                                     [key], {});\n",
              "          if (!dataTable) return;\n",
              "\n",
              "          const docLinkHtml = 'Like what you see? Visit the ' +\n",
              "            '<a target=\"_blank\" href=https://colab.research.google.com/notebooks/data_table.ipynb>data table notebook</a>'\n",
              "            + ' to learn more about interactive tables.';\n",
              "          element.innerHTML = '';\n",
              "          dataTable['output_type'] = 'display_data';\n",
              "          await google.colab.output.renderOutput(dataTable, element);\n",
              "          const docLink = document.createElement('div');\n",
              "          docLink.innerHTML = docLinkHtml;\n",
              "          element.appendChild(docLink);\n",
              "        }\n",
              "      </script>\n",
              "    </div>\n",
              "  </div>\n",
              "  "
            ]
          },
          "metadata": {},
          "execution_count": 12
        }
      ],
      "source": [
        "SUB.set_index('Time', inplace = True)\n",
        "SUB.head()"
      ]
    },
    {
      "cell_type": "code",
      "source": [
        "\"\"\"\n",
        "LABELS MODIFY\n",
        "\"\"\"\n",
        "\n",
        "SUB['Label'] = np.where(SUB['Label'] <= 5 , 0, SUB['Label'])#Fall\n",
        "SUB['Label'] = np.where(SUB['Label'] >= 6 , 1, SUB['Label'])#Non-Fall\n",
        "SUB['Label'].unique()"
      ],
      "metadata": {
        "colab": {
          "base_uri": "https://localhost:8080/"
        },
        "id": "1sk6yTykuC68",
        "outputId": "46de7fc5-273c-4b87-8f42-3444e22a8cfd"
      },
      "id": "1sk6yTykuC68",
      "execution_count": null,
      "outputs": [
        {
          "output_type": "execute_result",
          "data": {
            "text/plain": [
              "array([1, 0])"
            ]
          },
          "metadata": {},
          "execution_count": 13
        }
      ]
    },
    {
      "cell_type": "code",
      "source": [
        "SUB.head()"
      ],
      "metadata": {
        "colab": {
          "base_uri": "https://localhost:8080/",
          "height": 453
        },
        "id": "gi9fWG9ZxwNG",
        "outputId": "ed144de6-9b0a-4255-ff51-b3f73323cc79"
      },
      "id": "gi9fWG9ZxwNG",
      "execution_count": null,
      "outputs": [
        {
          "output_type": "execute_result",
          "data": {
            "text/plain": [
              "                            X-axis Accelerometer (g)  \\\n",
              "Time                                                   \n",
              "2018-07-04T12:04:17.738369                    -1.005   \n",
              "2018-07-04T12:04:17.790509                    -1.005   \n",
              "2018-07-04T12:04:17.836632                    -1.005   \n",
              "2018-07-04T12:04:17.885262                    -1.005   \n",
              "2018-07-04T12:04:17.945423                    -1.008   \n",
              "\n",
              "                            Y-axis Accelerometer (g)  \\\n",
              "Time                                                   \n",
              "2018-07-04T12:04:17.738369                     0.229   \n",
              "2018-07-04T12:04:17.790509                     0.228   \n",
              "2018-07-04T12:04:17.836632                     0.231   \n",
              "2018-07-04T12:04:17.885262                     0.231   \n",
              "2018-07-04T12:04:17.945423                     0.229   \n",
              "\n",
              "                            Z-axis Accelerometer (g)  Roll Gyroscrope (deg/s)  \\\n",
              "Time                                                                            \n",
              "2018-07-04T12:04:17.738369                    -0.083                   -0.671   \n",
              "2018-07-04T12:04:17.790509                    -0.082                   -3.415   \n",
              "2018-07-04T12:04:17.836632                    -0.079                   -2.622   \n",
              "2018-07-04T12:04:17.885262                    -0.079                   -2.561   \n",
              "2018-07-04T12:04:17.945423                    -0.072                   -3.537   \n",
              "\n",
              "                            Pitch Gyroscope (deg/s)  Yaw Gyroscope (deg/s)  \\\n",
              "Time                                                                         \n",
              "2018-07-04T12:04:17.738369                    0.488                 -2.683   \n",
              "2018-07-04T12:04:17.790509                   -0.549                  0.122   \n",
              "2018-07-04T12:04:17.836632                   -1.402                 -0.549   \n",
              "2018-07-04T12:04:17.885262                   -2.195                 -1.220   \n",
              "2018-07-04T12:04:17.945423                   -2.073                 -0.305   \n",
              "\n",
              "                            Luminosity (lux)  X-axis Accelerometer (g).1  \\\n",
              "Time                                                                       \n",
              "2018-07-04T12:04:17.738369               0.0                      -0.981   \n",
              "2018-07-04T12:04:17.790509               0.0                      -0.981   \n",
              "2018-07-04T12:04:17.836632               0.0                      -0.975   \n",
              "2018-07-04T12:04:17.885262               0.0                      -0.973   \n",
              "2018-07-04T12:04:17.945423               0.0                      -0.973   \n",
              "\n",
              "                            Y-axis Accelerometer (g).1  \\\n",
              "Time                                                     \n",
              "2018-07-04T12:04:17.738369                       0.260   \n",
              "2018-07-04T12:04:17.790509                       0.260   \n",
              "2018-07-04T12:04:17.836632                       0.282   \n",
              "2018-07-04T12:04:17.885262                       0.301   \n",
              "2018-07-04T12:04:17.945423                       0.301   \n",
              "\n",
              "                            Z-axis Accelerometer (g).1  ...  \\\n",
              "Time                                                    ...   \n",
              "2018-07-04T12:04:17.738369                       0.098  ...   \n",
              "2018-07-04T12:04:17.790509                       0.098  ...   \n",
              "2018-07-04T12:04:17.836632                       0.091  ...   \n",
              "2018-07-04T12:04:17.885262                       0.103  ...   \n",
              "2018-07-04T12:04:17.945423                       0.103  ...   \n",
              "\n",
              "                            Luminosity (lux).3  X-axis Accelerometer (g).4  \\\n",
              "Time                                                                         \n",
              "2018-07-04T12:04:17.738369            1231.336                      -1.240   \n",
              "2018-07-04T12:04:17.790509            1231.336                      -1.240   \n",
              "2018-07-04T12:04:17.836632            1231.336                      -1.884   \n",
              "2018-07-04T12:04:17.885262            1231.336                      -1.884   \n",
              "2018-07-04T12:04:17.945423            1231.336                      -1.597   \n",
              "\n",
              "                            Y-axis Accelerometer (g).4  \\\n",
              "Time                                                     \n",
              "2018-07-04T12:04:17.738369                      -0.557   \n",
              "2018-07-04T12:04:17.790509                      -0.557   \n",
              "2018-07-04T12:04:17.836632                      -0.687   \n",
              "2018-07-04T12:04:17.885262                      -0.687   \n",
              "2018-07-04T12:04:17.945423                      -0.646   \n",
              "\n",
              "                            Z-axis Accelerometer (g).4  \\\n",
              "Time                                                     \n",
              "2018-07-04T12:04:17.738369                       0.227   \n",
              "2018-07-04T12:04:17.790509                       0.227   \n",
              "2018-07-04T12:04:17.836632                       0.251   \n",
              "2018-07-04T12:04:17.885262                       0.251   \n",
              "2018-07-04T12:04:17.945423                       0.112   \n",
              "\n",
              "                            Roll Gyroscrope (deg/s).4  \\\n",
              "Time                                                    \n",
              "2018-07-04T12:04:17.738369                    -75.854   \n",
              "2018-07-04T12:04:17.790509                    -28.780   \n",
              "2018-07-04T12:04:17.836632                     27.256   \n",
              "2018-07-04T12:04:17.885262                      2.866   \n",
              "2018-07-04T12:04:17.945423                     10.000   \n",
              "\n",
              "                            Pitch Gyroscope (deg/s).4  \\\n",
              "Time                                                    \n",
              "2018-07-04T12:04:17.738369                     44.024   \n",
              "2018-07-04T12:04:17.790509                     55.549   \n",
              "2018-07-04T12:04:17.836632                     87.134   \n",
              "2018-07-04T12:04:17.885262                    117.683   \n",
              "2018-07-04T12:04:17.945423                     30.671   \n",
              "\n",
              "                            Yaw Gyroscope (deg/s).4  Luminosity (lux).4  \\\n",
              "Time                                                                      \n",
              "2018-07-04T12:04:17.738369                  315.915            2108.154   \n",
              "2018-07-04T12:04:17.790509                  344.146            2108.154   \n",
              "2018-07-04T12:04:17.836632                  372.012            2108.154   \n",
              "2018-07-04T12:04:17.885262                  356.463            2108.154   \n",
              "2018-07-04T12:04:17.945423                  126.768            2108.154   \n",
              "\n",
              "                            Raw Brainwave Signal   Label  \n",
              "Time                                                      \n",
              "2018-07-04T12:04:17.738369                     45      1  \n",
              "2018-07-04T12:04:17.790509                      1      1  \n",
              "2018-07-04T12:04:17.836632                    325      1  \n",
              "2018-07-04T12:04:17.885262                    396      1  \n",
              "2018-07-04T12:04:17.945423                   -436      1  \n",
              "\n",
              "[5 rows x 37 columns]"
            ],
            "text/html": [
              "\n",
              "  <div id=\"df-564cd909-ae94-41d2-bc59-7589fb369221\">\n",
              "    <div class=\"colab-df-container\">\n",
              "      <div>\n",
              "<style scoped>\n",
              "    .dataframe tbody tr th:only-of-type {\n",
              "        vertical-align: middle;\n",
              "    }\n",
              "\n",
              "    .dataframe tbody tr th {\n",
              "        vertical-align: top;\n",
              "    }\n",
              "\n",
              "    .dataframe thead th {\n",
              "        text-align: right;\n",
              "    }\n",
              "</style>\n",
              "<table border=\"1\" class=\"dataframe\">\n",
              "  <thead>\n",
              "    <tr style=\"text-align: right;\">\n",
              "      <th></th>\n",
              "      <th>X-axis Accelerometer (g)</th>\n",
              "      <th>Y-axis Accelerometer (g)</th>\n",
              "      <th>Z-axis Accelerometer (g)</th>\n",
              "      <th>Roll Gyroscrope (deg/s)</th>\n",
              "      <th>Pitch Gyroscope (deg/s)</th>\n",
              "      <th>Yaw Gyroscope (deg/s)</th>\n",
              "      <th>Luminosity (lux)</th>\n",
              "      <th>X-axis Accelerometer (g).1</th>\n",
              "      <th>Y-axis Accelerometer (g).1</th>\n",
              "      <th>Z-axis Accelerometer (g).1</th>\n",
              "      <th>...</th>\n",
              "      <th>Luminosity (lux).3</th>\n",
              "      <th>X-axis Accelerometer (g).4</th>\n",
              "      <th>Y-axis Accelerometer (g).4</th>\n",
              "      <th>Z-axis Accelerometer (g).4</th>\n",
              "      <th>Roll Gyroscrope (deg/s).4</th>\n",
              "      <th>Pitch Gyroscope (deg/s).4</th>\n",
              "      <th>Yaw Gyroscope (deg/s).4</th>\n",
              "      <th>Luminosity (lux).4</th>\n",
              "      <th>Raw Brainwave Signal</th>\n",
              "      <th>Label</th>\n",
              "    </tr>\n",
              "    <tr>\n",
              "      <th>Time</th>\n",
              "      <th></th>\n",
              "      <th></th>\n",
              "      <th></th>\n",
              "      <th></th>\n",
              "      <th></th>\n",
              "      <th></th>\n",
              "      <th></th>\n",
              "      <th></th>\n",
              "      <th></th>\n",
              "      <th></th>\n",
              "      <th></th>\n",
              "      <th></th>\n",
              "      <th></th>\n",
              "      <th></th>\n",
              "      <th></th>\n",
              "      <th></th>\n",
              "      <th></th>\n",
              "      <th></th>\n",
              "      <th></th>\n",
              "      <th></th>\n",
              "      <th></th>\n",
              "    </tr>\n",
              "  </thead>\n",
              "  <tbody>\n",
              "    <tr>\n",
              "      <th>2018-07-04T12:04:17.738369</th>\n",
              "      <td>-1.005</td>\n",
              "      <td>0.229</td>\n",
              "      <td>-0.083</td>\n",
              "      <td>-0.671</td>\n",
              "      <td>0.488</td>\n",
              "      <td>-2.683</td>\n",
              "      <td>0.0</td>\n",
              "      <td>-0.981</td>\n",
              "      <td>0.260</td>\n",
              "      <td>0.098</td>\n",
              "      <td>...</td>\n",
              "      <td>1231.336</td>\n",
              "      <td>-1.240</td>\n",
              "      <td>-0.557</td>\n",
              "      <td>0.227</td>\n",
              "      <td>-75.854</td>\n",
              "      <td>44.024</td>\n",
              "      <td>315.915</td>\n",
              "      <td>2108.154</td>\n",
              "      <td>45</td>\n",
              "      <td>1</td>\n",
              "    </tr>\n",
              "    <tr>\n",
              "      <th>2018-07-04T12:04:17.790509</th>\n",
              "      <td>-1.005</td>\n",
              "      <td>0.228</td>\n",
              "      <td>-0.082</td>\n",
              "      <td>-3.415</td>\n",
              "      <td>-0.549</td>\n",
              "      <td>0.122</td>\n",
              "      <td>0.0</td>\n",
              "      <td>-0.981</td>\n",
              "      <td>0.260</td>\n",
              "      <td>0.098</td>\n",
              "      <td>...</td>\n",
              "      <td>1231.336</td>\n",
              "      <td>-1.240</td>\n",
              "      <td>-0.557</td>\n",
              "      <td>0.227</td>\n",
              "      <td>-28.780</td>\n",
              "      <td>55.549</td>\n",
              "      <td>344.146</td>\n",
              "      <td>2108.154</td>\n",
              "      <td>1</td>\n",
              "      <td>1</td>\n",
              "    </tr>\n",
              "    <tr>\n",
              "      <th>2018-07-04T12:04:17.836632</th>\n",
              "      <td>-1.005</td>\n",
              "      <td>0.231</td>\n",
              "      <td>-0.079</td>\n",
              "      <td>-2.622</td>\n",
              "      <td>-1.402</td>\n",
              "      <td>-0.549</td>\n",
              "      <td>0.0</td>\n",
              "      <td>-0.975</td>\n",
              "      <td>0.282</td>\n",
              "      <td>0.091</td>\n",
              "      <td>...</td>\n",
              "      <td>1231.336</td>\n",
              "      <td>-1.884</td>\n",
              "      <td>-0.687</td>\n",
              "      <td>0.251</td>\n",
              "      <td>27.256</td>\n",
              "      <td>87.134</td>\n",
              "      <td>372.012</td>\n",
              "      <td>2108.154</td>\n",
              "      <td>325</td>\n",
              "      <td>1</td>\n",
              "    </tr>\n",
              "    <tr>\n",
              "      <th>2018-07-04T12:04:17.885262</th>\n",
              "      <td>-1.005</td>\n",
              "      <td>0.231</td>\n",
              "      <td>-0.079</td>\n",
              "      <td>-2.561</td>\n",
              "      <td>-2.195</td>\n",
              "      <td>-1.220</td>\n",
              "      <td>0.0</td>\n",
              "      <td>-0.973</td>\n",
              "      <td>0.301</td>\n",
              "      <td>0.103</td>\n",
              "      <td>...</td>\n",
              "      <td>1231.336</td>\n",
              "      <td>-1.884</td>\n",
              "      <td>-0.687</td>\n",
              "      <td>0.251</td>\n",
              "      <td>2.866</td>\n",
              "      <td>117.683</td>\n",
              "      <td>356.463</td>\n",
              "      <td>2108.154</td>\n",
              "      <td>396</td>\n",
              "      <td>1</td>\n",
              "    </tr>\n",
              "    <tr>\n",
              "      <th>2018-07-04T12:04:17.945423</th>\n",
              "      <td>-1.008</td>\n",
              "      <td>0.229</td>\n",
              "      <td>-0.072</td>\n",
              "      <td>-3.537</td>\n",
              "      <td>-2.073</td>\n",
              "      <td>-0.305</td>\n",
              "      <td>0.0</td>\n",
              "      <td>-0.973</td>\n",
              "      <td>0.301</td>\n",
              "      <td>0.103</td>\n",
              "      <td>...</td>\n",
              "      <td>1231.336</td>\n",
              "      <td>-1.597</td>\n",
              "      <td>-0.646</td>\n",
              "      <td>0.112</td>\n",
              "      <td>10.000</td>\n",
              "      <td>30.671</td>\n",
              "      <td>126.768</td>\n",
              "      <td>2108.154</td>\n",
              "      <td>-436</td>\n",
              "      <td>1</td>\n",
              "    </tr>\n",
              "  </tbody>\n",
              "</table>\n",
              "<p>5 rows × 37 columns</p>\n",
              "</div>\n",
              "      <button class=\"colab-df-convert\" onclick=\"convertToInteractive('df-564cd909-ae94-41d2-bc59-7589fb369221')\"\n",
              "              title=\"Convert this dataframe to an interactive table.\"\n",
              "              style=\"display:none;\">\n",
              "        \n",
              "  <svg xmlns=\"http://www.w3.org/2000/svg\" height=\"24px\"viewBox=\"0 0 24 24\"\n",
              "       width=\"24px\">\n",
              "    <path d=\"M0 0h24v24H0V0z\" fill=\"none\"/>\n",
              "    <path d=\"M18.56 5.44l.94 2.06.94-2.06 2.06-.94-2.06-.94-.94-2.06-.94 2.06-2.06.94zm-11 1L8.5 8.5l.94-2.06 2.06-.94-2.06-.94L8.5 2.5l-.94 2.06-2.06.94zm10 10l.94 2.06.94-2.06 2.06-.94-2.06-.94-.94-2.06-.94 2.06-2.06.94z\"/><path d=\"M17.41 7.96l-1.37-1.37c-.4-.4-.92-.59-1.43-.59-.52 0-1.04.2-1.43.59L10.3 9.45l-7.72 7.72c-.78.78-.78 2.05 0 2.83L4 21.41c.39.39.9.59 1.41.59.51 0 1.02-.2 1.41-.59l7.78-7.78 2.81-2.81c.8-.78.8-2.07 0-2.86zM5.41 20L4 18.59l7.72-7.72 1.47 1.35L5.41 20z\"/>\n",
              "  </svg>\n",
              "      </button>\n",
              "      \n",
              "  <style>\n",
              "    .colab-df-container {\n",
              "      display:flex;\n",
              "      flex-wrap:wrap;\n",
              "      gap: 12px;\n",
              "    }\n",
              "\n",
              "    .colab-df-convert {\n",
              "      background-color: #E8F0FE;\n",
              "      border: none;\n",
              "      border-radius: 50%;\n",
              "      cursor: pointer;\n",
              "      display: none;\n",
              "      fill: #1967D2;\n",
              "      height: 32px;\n",
              "      padding: 0 0 0 0;\n",
              "      width: 32px;\n",
              "    }\n",
              "\n",
              "    .colab-df-convert:hover {\n",
              "      background-color: #E2EBFA;\n",
              "      box-shadow: 0px 1px 2px rgba(60, 64, 67, 0.3), 0px 1px 3px 1px rgba(60, 64, 67, 0.15);\n",
              "      fill: #174EA6;\n",
              "    }\n",
              "\n",
              "    [theme=dark] .colab-df-convert {\n",
              "      background-color: #3B4455;\n",
              "      fill: #D2E3FC;\n",
              "    }\n",
              "\n",
              "    [theme=dark] .colab-df-convert:hover {\n",
              "      background-color: #434B5C;\n",
              "      box-shadow: 0px 1px 3px 1px rgba(0, 0, 0, 0.15);\n",
              "      filter: drop-shadow(0px 1px 2px rgba(0, 0, 0, 0.3));\n",
              "      fill: #FFFFFF;\n",
              "    }\n",
              "  </style>\n",
              "\n",
              "      <script>\n",
              "        const buttonEl =\n",
              "          document.querySelector('#df-564cd909-ae94-41d2-bc59-7589fb369221 button.colab-df-convert');\n",
              "        buttonEl.style.display =\n",
              "          google.colab.kernel.accessAllowed ? 'block' : 'none';\n",
              "\n",
              "        async function convertToInteractive(key) {\n",
              "          const element = document.querySelector('#df-564cd909-ae94-41d2-bc59-7589fb369221');\n",
              "          const dataTable =\n",
              "            await google.colab.kernel.invokeFunction('convertToInteractive',\n",
              "                                                     [key], {});\n",
              "          if (!dataTable) return;\n",
              "\n",
              "          const docLinkHtml = 'Like what you see? Visit the ' +\n",
              "            '<a target=\"_blank\" href=https://colab.research.google.com/notebooks/data_table.ipynb>data table notebook</a>'\n",
              "            + ' to learn more about interactive tables.';\n",
              "          element.innerHTML = '';\n",
              "          dataTable['output_type'] = 'display_data';\n",
              "          await google.colab.output.renderOutput(dataTable, element);\n",
              "          const docLink = document.createElement('div');\n",
              "          docLink.innerHTML = docLinkHtml;\n",
              "          element.appendChild(docLink);\n",
              "        }\n",
              "      </script>\n",
              "    </div>\n",
              "  </div>\n",
              "  "
            ]
          },
          "metadata": {},
          "execution_count": 14
        }
      ]
    },
    {
      "cell_type": "code",
      "execution_count": null,
      "id": "b223726b-92d3-4158-95e3-41d84d9366b4",
      "metadata": {
        "id": "b223726b-92d3-4158-95e3-41d84d9366b4"
      },
      "outputs": [],
      "source": [
        "cam = '1'\n",
        "\n",
        "image = path+'Sensor + Image' + '/' + 'image_' + cam +  '.npy'\n",
        "name = path+'Sensor + Image' + '/' + 'name_' + cam +  '.npy'\n",
        "label = path+'Sensor + Image' + '/' + 'label_' + cam +  '.npy'\n",
        "\n",
        "img_1 = np.load(image)\n",
        "label_1 = np.load(label)\n",
        "name_1 = np.load(name)\n",
        "\n",
        "cam = '2'\n",
        "\n",
        "image = path+'Sensor + Image' + '/' + 'image_' + cam +  '.npy'\n",
        "name = path+'Sensor + Image' + '/' + 'name_' + cam +  '.npy'\n",
        "label = path+'Sensor + Image' + '/' + 'label_' + cam +  '.npy'\n",
        "\n",
        "img_2 = np.load(image)\n",
        "label_2 = np.load(label)\n",
        "name_2 = np.load(name)\n",
        "\n"
      ]
    },
    {
      "cell_type": "code",
      "execution_count": null,
      "id": "602c20c3-fc8b-400e-b73c-0f58be5fdd8b",
      "metadata": {
        "colab": {
          "base_uri": "https://localhost:8080/"
        },
        "id": "602c20c3-fc8b-400e-b73c-0f58be5fdd8b",
        "outputId": "831873b1-ee9b-4202-938f-abcfd37a9b74"
      },
      "outputs": [
        {
          "output_type": "stream",
          "name": "stdout",
          "text": [
            "17932\n",
            "17932\n",
            "17932\n",
            "17932\n"
          ]
        }
      ],
      "source": [
        "print(len(img_1))\n",
        "print(len(name_1))\n",
        "print(len(img_2))\n",
        "print(len(name_2))"
      ]
    },
    {
      "cell_type": "code",
      "execution_count": null,
      "id": "cd1e27d7-1bfc-423b-bec5-50918f0849e3",
      "metadata": {
        "id": "cd1e27d7-1bfc-423b-bec5-50918f0849e3"
      },
      "outputs": [],
      "source": [
        "# remove NaN values corresponding to index sample in csv file\n",
        "redundant_1 = list(set(name_1) - set(times))\n",
        "redundant_2 = list(set(name_2) - set(times))\n",
        "ind = np.arange(0,17932)\n",
        "\n",
        "\n",
        "red_in1 = ind[np.isin(name_1,redundant_1)]\n",
        "name_1 =  np.delete(name_1, red_in1)\n",
        "img_1 = np.delete(img_1, red_in1, axis = 0 )\n",
        "label_1 = np.delete(label_1, red_in1)\n",
        "\n",
        "red_in2 = ind[np.isin(name_2,redundant_2)]\n",
        "name_2 =  np.delete(name_2, red_in2)\n",
        "img_2 = np.delete(img_2, red_in2, axis = 0 )\n",
        "label_2 = np.delete(label_2, red_in2)"
      ]
    },
    {
      "cell_type": "code",
      "source": [
        "label_1 = [0 if i <=5 else 1 for i in label_1]\n",
        "print(label_1)"
      ],
      "metadata": {
        "colab": {
          "base_uri": "https://localhost:8080/"
        },
        "id": "OkK_iNQSyiWM",
        "outputId": "1ccfc4c7-5836-49f7-967c-2aaaac0fa086",
        "collapsed": true
      },
      "id": "OkK_iNQSyiWM",
      "execution_count": null,
      "outputs": [
        {
          "output_type": "stream",
          "name": "stdout",
          "text": [
            "[0, 1, 0, 1, 0, 1, 0, 1, 1, 1, 0, 0, 1, 1, 1, 1, 1, 1, 1, 1, 0, 1, 0, 1, 1, 0, 0, 1, 0, 1, 1, 1, 0, 1, 1, 1, 1, 1, 1, 1, 1, 1, 0, 0, 1, 0, 1, 0, 1, 1, 1, 1, 1, 1, 1, 1, 1, 1, 1, 1, 1, 1, 1, 1, 1, 1, 0, 0, 1, 0, 1, 1, 1, 0, 0, 1, 1, 1, 0, 0, 1, 1, 1, 1, 1, 1, 1, 1, 1, 1, 1, 1, 1, 1, 1, 1, 0, 1, 0, 1, 1, 1, 1, 1, 1, 0, 0, 0, 1, 0, 1, 0, 1, 0, 1, 1, 1, 1, 1, 1, 1, 1, 1, 1, 1, 1, 1, 1, 1, 1, 1, 1, 1, 1, 0, 1, 1, 0, 1, 1, 1, 1, 1, 0, 1, 1, 1, 1, 1, 1, 0, 1, 0, 0, 0, 0, 1, 1, 0, 1, 0, 0, 1, 1, 1, 0, 1, 0, 1, 1, 0, 1, 0, 0, 0, 1, 1, 0, 0, 1, 0, 1, 1, 0, 1, 1, 1, 1, 1, 1, 1, 1, 0, 1, 0, 1, 1, 1, 1, 1, 0, 0, 1, 0, 1, 0, 0, 1, 1, 1, 1, 1, 0, 1, 1, 0, 1, 0, 1, 1, 1, 0, 1, 1, 1, 1, 0, 0, 1, 0, 1, 0, 1, 1, 1, 1, 1, 1, 0, 1, 1, 1, 1, 1, 0, 1, 1, 1, 1, 1, 1, 1, 0, 0, 0, 1, 0, 1, 1, 1, 1, 1, 1, 1, 1, 1, 0, 0, 1, 0, 0, 1, 1, 1, 1, 1, 1, 0, 1, 0, 1, 0, 1, 0, 1, 1, 1, 1, 1, 0, 1, 0, 0, 1, 1, 0, 1, 1, 1, 1, 1, 1, 1, 1, 1, 1, 1, 1, 1, 1, 1, 0, 1, 1, 1, 1, 1, 1, 1, 1, 1, 1, 1, 1, 1, 1, 1, 1, 0, 0, 0, 1, 1, 1, 1, 0, 1, 0, 0, 0, 0, 0, 1, 1, 1, 1, 0, 1, 1, 1, 0, 1, 1, 1, 1, 1, 0, 1, 1, 1, 1, 1, 1, 0, 1, 0, 1, 0, 1, 1, 1, 1, 0, 1, 1, 1, 1, 0, 1, 1, 0, 1, 1, 1, 0, 1, 0, 1, 1, 1, 1, 1, 1, 1, 1, 0, 0, 1, 1, 1, 1, 1, 1, 1, 1, 1, 0, 1, 1, 1, 1, 1, 1, 1, 1, 1, 1, 1, 1, 1, 1, 1, 1, 1, 0, 1, 0, 1, 1, 1, 1, 0, 0, 1, 0, 1, 0, 1, 1, 1, 1, 1, 0, 1, 0, 1, 1, 0, 1, 1, 1, 1, 1, 1, 0, 1, 1, 1, 1, 0, 0, 0, 1, 1, 1, 1, 0, 1, 1, 1, 0, 1, 1, 1, 1, 1, 1, 1, 0, 1, 1, 1, 1, 0, 1, 1, 0, 1, 1, 1, 0, 1, 1, 1, 1, 1, 1, 1, 1, 1, 1, 1, 1, 1, 1, 1, 1, 0, 1, 1, 1, 0, 1, 1, 1, 1, 0, 1, 0, 1, 1, 1, 0, 1, 1, 1, 1, 1, 1, 0, 1, 0, 0, 0, 1, 1, 0, 1, 1, 1, 0, 1, 0, 1, 1, 1, 1, 1, 1, 1, 1, 1, 1, 0, 1, 1, 1, 1, 1, 1, 1, 1, 0, 0, 1, 1, 1, 1, 1, 1, 0, 1, 0, 1, 1, 1, 1, 0, 1, 1, 0, 1, 1, 1, 1, 1, 1, 1, 1, 1, 1, 1, 1, 1, 1, 0, 1, 1, 0, 1, 1, 1, 0, 1, 1, 1, 0, 1, 0, 1, 0, 1, 1, 1, 1, 1, 1, 1, 0, 1, 1, 0, 1, 0, 0, 1, 0, 1, 1, 1, 0, 1, 0, 1, 1, 1, 1, 1, 1, 1, 1, 1, 0, 0, 0, 1, 1, 1, 1, 0, 0, 0, 0, 0, 0, 0, 1, 1, 1, 0, 0, 1, 1, 1, 0, 0, 1, 1, 1, 1, 1, 1, 1, 1, 1, 0, 1, 1, 1, 1, 0, 1, 0, 1, 1, 1, 1, 1, 1, 1, 1, 1, 1, 0, 1, 1, 1, 1, 0, 0, 1, 1, 0, 1, 0, 0, 0, 1, 1, 0, 1, 1, 1, 1, 1, 1, 1, 1, 0, 1, 1, 0, 1, 1, 0, 0, 0, 1, 1, 1, 1, 1, 1, 1, 1, 1, 0, 1, 1, 0, 1, 1, 1, 0, 1, 1, 1, 1, 1, 0, 1, 1, 1, 1, 0, 1, 1, 0, 1, 1, 1, 1, 0, 1, 0, 1, 0, 1, 1, 1, 0, 1, 1, 1, 1, 1, 1, 1, 1, 1, 1, 1, 1, 1, 0, 1, 1, 1, 1, 1, 0, 1, 1, 1, 1, 1, 1, 1, 1, 1, 0, 1, 1, 0, 1, 1, 1, 1, 1, 0, 1, 1, 1, 1, 1, 1, 1, 1, 1, 1, 0, 0, 1, 1, 0, 0, 0, 0, 0, 0, 1, 1, 1, 1, 1, 0, 1, 1, 0, 1, 0, 1, 0, 1, 0, 1, 1, 1, 1, 0, 0, 1, 1, 0, 1, 1, 1, 1, 1, 1, 1, 0, 0, 0, 1, 1, 1, 1, 1, 1, 0, 1, 1, 0, 1, 0, 0, 1, 1, 1, 1, 1, 1, 0, 0, 0, 1, 0, 1, 0, 1, 1, 1, 1, 1, 1, 1, 1, 1, 1, 1, 1, 1, 1, 1, 1, 0, 1, 0, 1, 0, 0, 0, 0, 1, 0, 1, 1, 1, 1, 1, 1, 1, 1, 1, 1, 1, 1, 1, 1, 1, 1, 1, 1, 1, 1, 1, 1, 0, 1, 0, 1, 1, 1, 1, 1, 1, 0, 1, 1, 1, 1, 1, 1, 1, 0, 1, 0, 0, 1, 1, 1, 1, 0, 1, 1, 1, 0, 1, 1, 1, 0, 1, 0, 0, 1, 0, 1, 0, 0, 0, 0, 1, 1, 1, 0, 1, 1, 1, 1, 0, 1, 1, 1, 1, 1, 0, 1, 1, 0, 1, 0, 1, 1, 0, 1, 1, 1, 1, 1, 1, 0, 0, 1, 1, 1, 1, 1, 1, 1, 1, 0, 0, 1, 1, 0, 1, 0, 1, 0, 1, 1, 0, 1, 0, 1, 1, 1, 0, 0, 1, 1, 1, 0, 1, 1, 1, 1, 0, 1, 0, 1, 1, 1, 1, 1, 1, 0, 1, 1, 0, 1, 1, 1, 1, 1, 1, 1, 1, 0, 1, 1, 1, 1, 0, 1, 1, 0, 0, 1, 1, 1, 0, 1, 1, 0, 1, 0, 1, 1, 0, 1, 1, 0, 0, 1, 0, 1, 0, 1, 1, 1, 1, 1, 1, 1, 0, 1, 1, 1, 1, 1, 1, 1, 0, 1, 1, 1, 1, 1, 1, 1, 1, 1, 1, 1, 1, 0, 0, 0, 0, 1, 0, 1, 0, 1, 1, 1, 1, 1, 1, 1, 0, 1, 1, 1, 1, 1, 0, 1, 0, 1, 1, 1, 1, 1, 1, 1, 0, 1, 0, 1, 1, 1, 1, 1, 1, 1, 0, 1, 0, 1, 1, 1, 0, 1, 1, 1, 1, 1, 0, 1, 0, 0, 1, 1, 0, 1, 1, 1, 1, 0, 1, 1, 1, 1, 1, 1, 1, 1, 0, 1, 1, 1, 1, 0, 0, 0, 0, 1, 1, 1, 1, 1, 0, 1, 0, 1, 1, 0, 1, 0, 1, 1, 1, 1, 1, 1, 0, 0, 1, 1, 0, 0, 1, 0, 1, 1, 1, 1, 1, 0, 1, 0, 1, 0, 1, 1, 1, 1, 0, 0, 1, 1, 0, 1, 1, 0, 1, 0, 1, 1, 1, 0, 1, 1, 1, 1, 1, 0, 1, 0, 1, 0, 0, 0, 0, 1, 1, 1, 1, 1, 1, 0, 1, 1, 0, 0, 1, 0, 1, 0, 1, 0, 1, 1, 1, 1, 1, 0, 0, 1, 1, 1, 0, 0, 1, 0, 1, 1, 1, 0, 0, 1, 1, 1, 0, 0, 0, 1, 0, 1, 0, 0, 0, 1, 0, 1, 1, 0, 0, 1, 1, 1, 0, 1, 1, 1, 1, 0, 1, 0, 0, 0, 1, 0, 1, 0, 1, 0, 1, 1, 1, 1, 1, 1, 1, 1, 1, 1, 0, 0, 1, 0, 1, 0, 0, 1, 1, 0, 0, 1, 0, 1, 0, 1, 1, 1, 1, 1, 1, 1, 0, 0, 0, 1, 0, 1, 1, 1, 1, 1, 0, 0, 0, 0, 1, 1, 1, 1, 0, 1, 1, 1, 1, 1, 1, 1, 1, 1, 1, 1, 0, 1, 0, 1, 0, 0, 1, 0, 1, 1, 1, 1, 1, 1, 1, 1, 0, 0, 1, 1, 1, 0, 1, 0, 1, 0, 1, 1, 1, 1, 0, 1, 1, 1, 1, 1, 1, 1, 0, 1, 1, 1, 1, 1, 0, 1, 0, 1, 0, 1, 1, 0, 1, 1, 1, 1, 1, 0, 1, 0, 1, 0, 0, 1, 0, 0, 1, 1, 1, 1, 1, 1, 1, 0, 0, 0, 1, 1, 1, 1, 1, 1, 0, 1, 1, 0, 0, 1, 1, 1, 1, 1, 1, 1, 1, 1, 1, 1, 1, 0, 1, 1, 1, 0, 1, 1, 1, 1, 1, 1, 1, 1, 1, 0, 0, 1, 0, 1, 1, 1, 1, 0, 0, 1, 1, 1, 0, 0, 0, 0, 1, 1, 0, 1, 1, 1, 1, 1, 1, 1, 1, 1, 0, 1, 0, 1, 0, 0, 1, 0, 1, 0, 1, 1, 1, 1, 1, 1, 1, 1, 0, 1, 0, 1, 0, 1, 1, 0, 1, 1, 1, 1, 0, 1, 0, 0, 1, 1, 1, 1, 1, 1, 1, 1, 1, 1, 1, 1, 1, 1, 1, 1, 1, 1, 1, 1, 1, 0, 0, 1, 1, 1, 0, 1, 1, 1, 1, 1, 0, 1, 1, 1, 0, 1, 0, 1, 1, 0, 1, 0, 1, 0, 1, 1, 0, 0, 1, 1, 1, 1, 1, 1, 0, 0, 1, 0, 1, 1, 0, 1, 1, 0, 1, 1, 1, 1, 1, 1, 1, 1, 0, 0, 0, 1, 0, 0, 1, 1, 1, 1, 1, 0, 1, 0, 1, 1, 1, 0, 0, 1, 1, 1, 1, 1, 1, 1, 0, 1, 1, 0, 1, 1, 0, 1, 1, 0, 1, 1, 0, 1, 1, 0, 1, 1, 1, 1, 1, 0, 1, 1, 1, 1, 1, 0, 1, 1, 0, 1, 1, 1, 0, 1, 0, 1, 1, 1, 1, 1, 1, 0, 1, 1, 1, 1, 1, 1, 0, 1, 1, 1, 1, 1, 1, 1, 1, 1, 0, 1, 0, 1, 1, 1, 1, 1, 1, 1, 1, 1, 1, 0, 1, 1, 1, 1, 1, 1, 1, 1, 1, 1, 1, 0, 0, 0, 1, 1, 0, 1, 1, 1, 1, 1, 1, 1, 0, 1, 1, 1, 1, 0, 0, 1, 0, 1, 0, 1, 1, 1, 1, 1, 1, 0, 1, 1, 1, 1, 0, 1, 1, 1, 1, 1, 1, 0, 1, 0, 1, 1, 1, 1, 1, 1, 0, 1, 1, 1, 1, 0, 0, 1, 1, 1, 1, 1, 1, 1, 1, 1, 1, 0, 1, 1, 1, 1, 1, 1, 1, 1, 0, 1, 1, 0, 1, 0, 1, 1, 1, 0, 1, 1, 0, 1, 0, 1, 1, 1, 1, 1, 0, 0, 1, 1, 1, 1, 0, 1, 1, 0, 1, 1, 1, 1, 1, 1, 1, 1, 0, 1, 1, 1, 1, 1, 1, 1, 1, 0, 1, 1, 1, 1, 0, 1, 0, 1, 1, 1, 1, 1, 1, 1, 1, 1, 1, 0, 0, 1, 1, 1, 1, 1, 0, 1, 1, 1, 1, 1, 1, 1, 1, 1, 0, 1, 1, 1, 1, 1, 0, 1, 1, 1, 1, 0, 1, 1, 1, 1, 1, 1, 1, 1, 1, 0, 1, 1, 1, 1, 1, 1, 1, 0, 1, 1, 1, 0, 0, 0, 1, 1, 1, 1, 1, 1, 1, 1, 1, 0, 0, 1, 1, 0, 1, 1, 1, 1, 0, 1, 1, 1, 0, 0, 1, 1, 1, 1, 1, 1, 1, 0, 1, 1, 1, 0, 1, 0, 1, 1, 1, 0, 1, 0, 1, 1, 1, 1, 0, 1, 1, 0, 1, 1, 1, 0, 1, 1, 1, 1, 1, 1, 1, 0, 1, 1, 1, 0, 1, 1, 1, 0, 1, 1, 0, 1, 0, 1, 0, 1, 1, 1, 1, 0, 1, 1, 1, 1, 0, 1, 0, 1, 1, 1, 1, 0, 1, 1, 1, 1, 0, 1, 1, 0, 1, 0, 1, 1, 1, 1, 1, 1, 1, 0, 0, 0, 1, 0, 1, 1, 1, 1, 1, 1, 1, 1, 1, 1, 0, 1, 0, 1, 1, 1, 1, 1, 1, 1, 1, 1, 1, 1, 1, 1, 1, 1, 1, 0, 1, 1, 1, 1, 1, 1, 0, 1, 1, 1, 1, 1, 1, 1, 0, 1, 1, 1, 1, 1, 1, 0, 1, 1, 1, 0, 0, 1, 0, 1, 1, 0, 1, 1, 0, 1, 1, 1, 1, 1, 1, 1, 1, 0, 1, 1, 1, 1, 1, 0, 1, 1, 1, 1, 1, 1, 1, 1, 0, 0, 1, 0, 0, 1, 1, 1, 1, 1, 1, 1, 1, 1, 1, 1, 1, 1, 1, 0, 0, 1, 1, 1, 1, 1, 0, 1, 1, 1, 1, 1, 1, 1, 1, 1, 1, 0, 1, 1, 1, 1, 1, 1, 1, 0, 1, 1, 1, 1, 1, 1, 1, 1, 0, 0, 1, 1, 1, 1, 1, 1, 0, 1, 1, 1, 1, 1, 0, 1, 1, 1, 0, 1, 0, 1, 1, 1, 1, 0, 0, 0, 1, 1, 1, 1, 1, 1, 1, 0, 0, 0, 1, 0, 1, 1, 1, 1, 1, 1, 1, 0, 1, 0, 0, 0, 1, 1, 1, 0, 1, 1, 0, 1, 0, 1, 1, 1, 1, 1, 1, 1, 1, 0, 1, 1, 1, 0, 0, 1, 1, 0, 0, 0, 0, 0, 1, 1, 1, 1, 1, 0, 1, 0, 1, 1, 0, 1, 1, 1, 1, 1, 1, 1, 0, 1, 1, 0, 1, 0, 1, 1, 0, 0, 1, 1, 0, 1, 1, 1, 0, 0, 0, 0, 1, 1, 0, 1, 1, 1, 1, 0, 1, 1, 0, 1, 1, 1, 1, 1, 1, 1, 0, 1, 1, 1, 0, 1, 1, 1, 1, 1, 1, 1, 1, 1, 1, 1, 1, 0, 1, 0, 0, 0, 0, 1, 1, 1, 1, 0, 1, 0, 0, 1, 1, 1, 1, 1, 1, 0, 1, 1, 1, 0, 1, 1, 0, 0, 1, 0, 1, 1, 1, 1, 1, 1, 0, 1, 1, 1, 1, 1, 1, 1, 1, 0, 1, 1, 1, 1, 1, 1, 0, 1, 1, 1, 1, 1, 0, 1, 1, 1, 1, 1, 1, 1, 0, 1, 1, 1, 1, 0, 0, 0, 1, 0, 1, 1, 1, 1, 1, 1, 0, 1, 0, 0, 1, 1, 1, 1, 1, 1, 1, 1, 1, 0, 0, 1, 0, 1, 0, 1, 0, 0, 1, 0, 1, 1, 0, 1, 1, 1, 0, 1, 1, 1, 1, 0, 1, 1, 1, 1, 1, 1, 1, 1, 0, 1, 0, 1, 1, 1, 1, 1, 1, 1, 1, 1, 1, 0, 1, 1, 1, 1, 1, 1, 1, 1, 1, 1, 1, 1, 1, 1, 1, 1, 1, 0, 1, 1, 0, 1, 1, 1, 1, 1, 1, 1, 1, 1, 1, 1, 1, 1, 1, 1, 0, 0, 1, 1, 0, 0, 1, 1, 0, 1, 0, 1, 1, 1, 1, 1, 1, 1, 1, 1, 1, 1, 1, 0, 1, 1, 1, 1, 1, 0, 1, 1, 0, 1, 1, 1, 1, 0, 1, 1, 0, 1, 0, 1, 1, 0, 1, 1, 1, 1, 1, 1, 0, 0, 1, 1, 1, 0, 1, 1, 1, 1, 1, 1, 1, 0, 0, 0, 1, 0, 1, 0, 1, 1, 0, 1, 1, 1, 1, 1, 0, 0, 1, 1, 1, 1, 0, 1, 1, 1, 0, 1, 1, 1, 0, 0, 1, 0, 0, 0, 1, 1, 1, 1, 1, 1, 1, 0, 1, 1, 1, 0, 1, 1, 1, 0, 1, 1, 1, 1, 1, 1, 1, 1, 1, 0, 1, 1, 0, 1, 1, 1, 0, 1, 1, 1, 1, 1, 0, 1, 1, 1, 1, 0, 1, 1, 1, 1, 1, 0, 1, 1, 1, 0, 1, 0, 0, 1, 1, 1, 1, 1, 1, 0, 1, 0, 1, 0, 1, 0, 1, 1, 1, 0, 0, 1, 1, 0, 1, 0, 0, 1, 0, 1, 1, 0, 1, 1, 1, 1, 1, 0, 1, 1, 1, 1, 1, 0, 0, 1, 0, 0, 1, 1, 1, 1, 1, 1, 0, 1, 1, 1, 1, 1, 1, 0, 1, 1, 1, 1, 1, 1, 1, 0, 0, 1, 1, 0, 0, 1, 0, 1, 1, 0, 1, 1, 0, 0, 1, 0, 1, 1, 1, 1, 0, 1, 1, 1, 1, 1, 1, 1, 1, 1, 1, 1, 0, 0, 0, 0, 1, 1, 1, 0, 1, 1, 1, 0, 1, 1, 0, 1, 1, 1, 1, 1, 1, 1, 1, 1, 1, 1, 1, 1, 1, 1, 1, 1, 1, 1, 1, 1, 1, 1, 1, 1, 1, 1, 1, 1, 1, 1, 1, 1, 1, 1, 1, 1, 1, 1, 1, 1, 1, 1, 1, 1, 1, 1, 1, 1, 1, 1, 1, 1, 1, 1, 1, 1, 1, 1, 1, 1, 1, 1, 1, 1, 1, 1, 1, 1, 1, 1, 1, 1, 1, 1, 1, 1, 1, 1, 1, 1, 1, 1, 1, 1, 1, 1, 1, 1, 1, 1, 1, 1, 1, 1, 1, 1, 1, 1, 1, 1, 1, 1, 1, 1, 1, 1, 1, 1, 1, 1, 1, 1, 1, 1, 1, 1, 1, 1, 1, 1, 1, 1, 1, 1, 1, 1, 1, 1, 1, 1, 1, 1, 1, 1, 1, 1, 1, 1, 1, 1, 1, 1, 1, 1, 1, 1, 1, 1, 1, 1, 1, 1, 1, 1, 1, 1, 1, 1, 1, 1, 1, 1, 1, 1, 1, 1, 1, 1, 1, 1, 1, 1, 1, 1, 1, 1, 1, 1, 1, 1, 1, 1, 1, 1, 1, 1, 1, 1, 1, 1, 1, 1, 1, 1, 1, 1, 1, 1, 1, 1, 1, 1, 1, 1, 1, 1, 1, 1, 1, 1, 1, 1, 1, 1, 1, 1, 1, 1, 1, 1, 1, 1, 1, 1, 1, 1, 1, 1, 1, 1, 1, 1, 1, 1, 1, 1, 1, 1, 1, 1, 1, 1, 1, 1, 1, 1, 1, 1, 1, 1, 1, 1, 1, 1, 1, 1, 1, 1, 1, 1, 1, 1, 1, 1, 1, 1, 1, 1, 1, 1, 1, 1, 1, 1, 1, 1, 1, 1, 1, 1, 1, 1, 1, 1, 1, 1, 1, 1, 1, 1, 1, 1, 1, 1, 1, 1, 1, 1, 1, 1, 1, 1, 1, 1, 1, 1, 1, 1, 1, 1, 1, 1, 1, 1, 1, 1, 1, 1, 1, 1, 1, 1, 1, 1, 1, 1, 1, 1, 1, 1, 1, 1, 1, 1, 1, 1, 1, 1, 1, 1, 1, 1, 1, 1, 1, 1, 1, 1, 1, 1, 1, 1, 1, 1, 1, 1, 1, 1, 1, 1, 1, 1, 1, 1, 1, 1, 1, 1, 1, 1, 1, 1, 1, 1, 1, 1, 1, 1, 1, 1, 1, 1, 1, 1, 1, 1, 1, 1, 1, 1, 1, 1, 1, 1, 1, 1, 1, 1, 1, 1, 1, 1, 1, 1, 1, 1, 1, 1, 1, 1, 1, 1, 1, 1, 1, 1, 1, 1, 1, 1, 1, 1, 1, 1, 1, 1, 1, 1, 1, 1, 1, 1, 1, 1, 1, 1, 1, 1, 1, 1, 1, 1, 1, 1, 1, 1, 1, 1, 1, 1, 1, 1, 1, 1, 1, 1, 1, 1, 1, 1, 1, 1, 1, 1, 1, 1, 1, 1, 1, 1, 1, 1, 1, 1, 1, 1, 1, 1, 1, 1, 1, 1, 1, 1, 1, 1, 1, 1, 1, 1, 1, 1, 1, 1, 1, 1, 1, 1, 1, 1, 1, 1, 1, 1, 1, 1, 1, 1, 1, 1, 1, 1, 1, 1, 1, 1, 1, 1, 1, 1, 1, 1, 1, 1, 1, 1, 1, 1, 1, 1, 1, 1, 1, 1, 1, 1, 1, 1, 1, 1, 1, 1, 1, 1, 1, 1, 1, 1, 1, 1, 1, 1, 1, 1, 1, 1, 1, 1, 1, 1, 1, 1, 1, 1, 1, 1, 1, 1, 1, 1, 1, 1, 1, 1, 1, 1, 1, 1, 1, 1, 1, 1, 1, 1, 1, 1, 1, 1, 1, 1, 1, 1, 1, 1, 1, 1, 1, 1, 1, 1, 1, 1, 1, 1, 1, 1, 1, 1, 1, 1, 1, 1, 1, 1, 1, 1, 1, 1, 1, 1, 1, 1, 1, 1, 1, 1, 1, 1, 1, 1, 1, 1, 1, 1, 1, 1, 1, 1, 1, 1, 1, 1, 1, 1, 1, 1, 1, 1, 1, 1, 1, 1, 1, 1, 1, 1, 1, 1, 1, 1, 1, 1, 1, 1, 1, 1, 1, 1, 1, 1, 1, 1, 1, 1, 1, 1, 1, 1, 1, 1, 1, 1, 1, 1, 1, 1, 1, 1, 1, 1, 1, 1, 1, 1, 1, 1, 1, 1, 1, 1, 1, 1, 1, 1, 1, 1, 1, 1, 1, 1, 1, 1, 1, 1, 1, 1, 1, 1, 1, 1, 1, 1, 1, 1, 1, 1, 1, 1, 1, 1, 1, 1, 1, 1, 1, 1, 1, 1, 1, 1, 1, 1, 1, 1, 1, 1, 1, 1, 1, 1, 1, 1, 1, 1, 1, 1, 1, 1, 1, 1, 1, 1, 1, 1, 1, 1, 1, 1, 1, 1, 1, 1, 1, 1, 1, 1, 1, 1, 1, 1, 1, 1, 1, 1, 1, 1, 1, 1, 1, 1, 1, 1, 1, 1, 1, 1, 1, 1, 1, 1, 1, 1, 1, 1, 1, 1, 1, 1, 1, 1, 1, 1, 1, 1, 1, 1, 1, 1, 1, 1, 1, 1, 1, 1, 1, 1, 1, 1, 1, 1, 1, 1, 1, 1, 1, 1, 1, 1, 1, 1, 1, 1, 1, 1, 1, 1, 1, 1, 1, 1, 1, 1, 1, 1, 1, 1, 1, 1, 1, 1, 1, 1, 1, 1, 1, 1, 1, 1, 1, 1, 1, 1, 1, 1, 1, 1, 1, 1, 1, 1, 1, 1, 1, 1, 1, 1, 1, 1, 1, 1, 1, 1, 1, 1, 1, 1, 1, 1, 1, 1, 1, 1, 1, 1, 1, 1, 1, 1, 1, 1, 1, 1, 1, 1, 1, 1, 1, 1, 1, 1, 1, 1, 1, 1, 1, 1, 1, 1, 1, 1, 1, 1, 1, 1, 1, 1, 1, 1, 1, 1, 1, 1, 1, 1, 1, 1, 1, 1, 1, 1, 1, 1, 1, 1, 1, 1, 1, 1, 1, 1, 1, 1, 1, 1, 1, 1, 1, 1, 1, 1, 1, 1, 1, 1, 1, 1, 1, 1, 1, 1, 1, 1, 1, 1, 1, 1, 1, 1, 1, 1, 1, 1, 1, 1, 1, 1, 1, 1, 1, 1, 1, 1, 1, 1, 1, 1, 1, 1, 1, 1, 1, 1, 1, 1, 1, 1, 1, 1, 1, 1, 1, 1, 1, 1, 1, 1, 1, 1, 1, 1, 1, 1, 1, 1, 1, 1, 1, 1, 1, 1, 1, 1, 1, 1, 1, 1, 1, 1, 1, 1, 1, 1, 1, 1, 1, 1, 1, 1, 1, 1, 1, 1, 1, 1, 1, 1, 1, 1, 1, 1, 1, 1, 1, 1, 1, 1, 1, 1, 1, 1, 1, 1, 1, 1, 1, 1, 1, 1, 1, 1, 1, 1, 1, 1, 1, 1, 1, 1, 1, 1, 1, 1, 1, 1, 1, 1, 1, 1, 1, 1, 1, 1, 1, 1, 1, 1, 1, 1, 1, 1, 1, 1, 1, 1, 1, 1, 1, 1, 1, 1, 1, 1, 1, 1, 1, 1, 1, 1, 1, 1, 1, 1, 1, 1, 1, 1, 1, 1, 1, 1, 1, 1, 1, 1, 1, 1, 1, 1, 1, 1, 1, 1, 1, 1, 1, 1, 1, 1, 1, 1, 1, 1, 1, 1, 1, 1, 1, 1, 1, 1, 1, 1, 1, 1, 1, 1, 1, 1, 1, 1, 1, 1, 1, 1, 1, 1, 1, 1, 1, 1, 1, 1, 1, 1, 1, 1, 1, 1, 1, 1, 1, 1, 1, 1, 1, 1, 1, 1, 1, 1, 1, 1, 1, 1, 1, 1, 1, 1, 1, 1, 1, 1, 1, 1, 1, 1, 1, 1, 1, 1, 1, 1, 1, 1, 1, 1, 1, 1, 1, 1, 1, 1, 1, 1, 1, 1, 1, 1, 1, 1, 1, 1, 1, 1, 1, 1, 1, 1, 1, 1, 1, 1, 1, 1, 1, 1, 1, 1, 1, 1, 1, 1, 1, 1, 1, 1, 1, 1, 1, 1, 1, 1, 1, 1, 1, 1, 1, 1, 1, 1, 1, 1, 1, 1, 1, 1, 1, 1, 1, 1, 1, 1, 1, 1, 1, 1, 1, 1, 1, 1, 1, 1, 1, 1, 1, 1, 1, 1, 1, 1, 1, 1, 1, 1, 1, 1, 1, 1, 1, 1, 1, 1, 1, 1, 1, 1, 1, 1, 1, 1, 1, 1, 1, 1, 1, 1, 1, 1, 1, 1, 1, 1, 1, 1, 1, 1, 1, 1, 1, 1, 1, 1, 1, 1, 1, 1, 1, 1, 1, 1, 1, 1, 1, 1, 1, 1, 1, 1, 1, 1, 1, 1, 1, 1, 1, 1, 1, 1, 1, 1, 1, 1, 1, 1, 1, 1, 1, 1, 1, 1, 1, 1, 1, 1, 1, 1, 1, 1, 1, 1, 1, 1, 1, 1, 1, 1, 1, 1, 1, 1, 1, 1, 1, 1, 1, 1, 1, 1, 1, 1, 1, 1, 1, 1, 1, 1, 1, 1, 1, 1, 1, 1, 1, 1, 1, 1, 1, 1, 1, 1, 1, 1, 1, 1, 1, 1, 1, 1, 1, 1, 1, 1, 1, 1, 1, 1, 1, 1, 1, 1, 1, 1, 1, 1, 1, 1, 1, 1, 1, 1, 1, 1, 1, 1, 1, 1, 1, 1, 1, 1, 1, 1, 1, 1, 1, 1, 1, 1, 1, 1, 1, 1, 1, 1, 1, 1, 1, 1, 1, 1, 1, 1, 1, 1, 1, 1, 1, 1, 1, 1, 1, 1, 1, 1, 1, 1, 1, 1, 1, 1, 1, 1, 1, 1, 1, 1, 1, 1, 1, 1, 1, 1, 1, 1, 1, 1, 1, 1, 1, 1, 1, 1, 1, 1, 1, 1, 1, 1, 1, 1, 1, 1, 1, 1, 1, 1, 1, 1, 1, 1, 1, 1, 1, 1, 1, 1, 1, 1, 1, 1, 1, 1, 1, 1, 1, 1, 1, 1, 1, 1, 1, 1, 1, 1, 1, 1, 1, 1, 1, 1, 1, 1, 1, 1, 1, 1, 1, 1, 1, 1, 1, 1, 1, 1, 1, 1, 1, 1, 1, 1, 1, 1, 1, 1, 1, 1, 1, 1, 1, 1, 1, 1, 1, 1, 1, 1, 1, 1, 1, 1, 1, 1, 1, 1, 1, 1, 1, 1, 1, 1, 1, 1, 1, 1, 1, 1, 1, 1, 1, 1, 1, 1, 1, 1, 1, 1, 1, 1, 1, 1, 1, 1, 1, 1, 1, 1, 1, 1, 1, 1, 1, 1, 1, 1, 1, 1, 1, 1, 1, 1, 1, 1, 1, 1, 1, 1, 1, 1, 1, 1, 1, 1, 1, 1, 1, 1, 1, 1, 1, 1, 1, 1, 1, 1, 1, 1, 1, 1, 1, 1, 1, 1, 1, 1, 1, 1, 1, 1, 1, 1, 1, 1, 1, 1, 1, 1, 1, 1, 1, 1, 1, 1, 1, 1, 1, 1, 1, 1, 1, 1, 1, 1, 1, 1, 1, 1, 1, 1, 1, 1, 1, 1, 1, 1, 1, 1, 1, 1, 1, 1, 1, 1, 1, 1, 1, 1, 1, 1, 1, 1, 1, 1, 1, 1, 1, 1, 1, 1, 1, 1, 1, 1, 1, 1, 1, 1, 1, 1, 1, 1, 1, 1, 1, 1, 1, 1, 1, 1, 1, 1, 1, 1, 1, 1, 1, 1, 1, 1, 1, 1, 1, 1, 1, 1, 1, 1, 1, 1, 1, 1, 1, 1, 1, 1, 1, 1, 1, 1, 1, 1, 1, 1, 1, 1, 1, 1, 1, 1, 1, 1, 1, 1, 1, 1, 1, 1, 1, 1, 1, 1, 1, 1, 1, 1, 1, 1, 1, 1, 1, 1, 1, 1, 1, 1, 1, 1, 1, 1, 1, 1, 1, 1, 1, 1, 1, 1, 1, 1, 1, 1, 1, 1, 1, 1, 1, 1, 1, 1, 1, 1, 1, 1, 1, 1, 1, 1, 1, 1, 1, 1, 1, 1, 1, 1, 1, 1, 1, 1, 1, 1, 1, 1, 1, 1, 1, 1, 1, 1, 1, 1, 1, 1, 1, 1, 1, 1, 1, 1, 1, 1, 1, 1, 1, 1, 1, 1, 1, 1, 1, 1, 1, 1, 1, 1, 1, 1, 1, 1, 1, 1, 1, 1, 1, 1, 1, 1, 1, 1, 1, 1, 1, 1, 1, 1, 1, 1, 1, 1, 1, 1, 1, 1, 1, 1, 1, 1, 1, 1, 1, 1, 1, 1, 1, 1, 1, 1, 1, 1, 1, 1, 1, 1, 1, 1, 1, 1, 1, 1, 1, 1, 1, 1, 1, 1, 1, 1, 1, 1, 1, 1, 1, 1, 1, 1, 1, 1, 1, 1, 1, 1, 1, 1, 1, 1, 1, 1, 1, 1, 1, 1, 1, 1, 1, 1, 1, 1, 1, 1, 1, 1, 1, 1, 1, 1, 1, 1, 1, 1, 1, 1, 1, 1, 1, 1, 1, 1, 1, 1, 1, 1, 1, 1, 1, 1, 1, 1, 1, 1, 1, 1, 1, 1, 1, 1, 1, 1, 1, 1, 1, 1, 1, 1, 1, 1, 1, 1, 1, 1, 1, 1, 1, 1, 1, 1, 1, 1, 1, 1, 1, 1, 1, 1, 1, 1, 1, 1, 1, 1, 1, 1, 1, 1, 1, 1, 1, 1, 1, 1, 1, 1, 1, 1, 1, 1, 1, 1, 1, 1, 1, 1, 1, 1, 1, 1, 1, 1, 1, 1, 1, 1, 1, 1, 1, 1, 1, 1, 1, 1, 1, 1, 1, 1, 1, 1, 1, 1, 1, 1, 1, 1, 1, 1, 1, 1, 1, 1, 1, 1, 1, 1, 1, 1, 1, 1, 1, 1, 1, 1, 1, 1, 1, 1, 1, 1, 1, 1, 1, 1, 1, 1, 1, 1, 1, 1, 1, 1, 1, 1, 1, 1, 1, 1, 1, 1, 1, 1, 1, 1, 1, 1, 1, 1, 1, 1, 1, 1, 1, 1, 1, 1, 1, 1, 1, 1, 1, 1, 1, 1, 1, 1, 1, 1, 1, 1, 1, 1, 1, 1, 1, 1, 1, 1, 1, 1, 1, 1, 1, 1, 1, 1, 1, 1, 1, 1, 1, 1, 1, 1, 1, 1, 1, 1, 1, 1, 1, 1, 1, 1, 1, 1, 1, 1, 1, 1, 1, 1, 1, 1, 1, 1, 1, 1, 1, 1, 1, 1, 1, 1, 1, 1, 1, 1, 1, 1, 1, 1, 1, 1, 1, 1, 1, 1, 1, 1, 1, 1, 1, 1, 1, 1, 1, 1, 1, 1, 1, 1, 1, 1, 1, 1, 1, 1, 1, 1, 1, 1, 1, 1, 1, 1, 1, 1, 1, 1, 1, 1, 1, 1, 1, 1, 1, 1, 1, 1, 1, 1, 1, 1, 1, 1, 1, 1, 1, 1, 1, 1, 1, 1, 1, 1, 1, 1, 1, 1, 1, 1, 1, 1, 1, 1, 1, 1, 1, 1, 1, 1, 1, 1, 1, 1, 1, 1, 1, 1, 1, 1, 1, 1, 1, 1, 1, 1, 1, 1, 1, 1, 1, 1, 1, 1, 1, 1, 1, 1, 1, 1, 1, 1, 1, 1, 1, 1, 1, 1, 1, 1, 1, 1, 1, 1, 1, 1, 1, 1, 1, 1, 1, 1, 1, 1, 1, 1, 1, 1, 1, 1, 1, 1, 1, 1, 1, 1, 1, 1, 1, 1, 1, 1, 1, 1, 1, 1, 1, 1, 1, 1, 1, 1, 1, 1, 1, 1, 1, 1, 1, 1, 1, 1, 1, 1, 1, 1, 1, 1, 1, 1, 1, 1, 1, 1, 1, 1, 1, 1, 1, 1, 1, 1, 1, 1, 1, 1, 1, 1, 1, 1, 1, 1, 1, 1, 1, 1, 1, 1, 1, 1, 1, 1, 1, 1, 1, 1, 1, 1, 1, 1, 1, 1, 1, 1, 1, 1, 1, 1, 1, 1, 1, 1, 1, 1, 1, 1, 1, 1, 1, 1, 1, 1, 1, 1, 1, 1, 1, 1, 1, 1, 1, 1, 1, 1, 1, 1, 1, 1, 1, 1, 1, 1, 1, 1, 1, 1, 1, 1, 1, 1, 1, 1, 1, 1, 1, 1, 1, 1, 1, 1, 1, 1, 1, 1, 1, 1, 1, 1, 1, 1, 1, 1, 1, 1, 1, 1, 1, 1, 1, 1, 1, 1, 1, 1, 1, 1, 1, 1, 1, 1, 1, 1, 1, 1, 1, 1, 1, 1, 1, 1, 1, 1, 1, 1, 1, 1, 1, 1, 1, 1, 1, 1, 1, 1, 1, 1, 1, 1, 1, 1, 1, 1, 1, 1, 1, 1, 1, 1, 1, 1, 1, 1, 1, 1, 1, 1, 1, 1, 1, 1, 1, 1, 1, 1, 1, 1, 1, 1, 1, 1, 1, 1, 1, 1, 1, 1, 1, 1, 1, 1, 1, 1, 1, 1, 1, 1, 1, 1, 1, 1, 1, 1, 1, 1, 1, 1, 1, 1, 1, 1, 1, 1, 1, 1, 1, 1, 1, 1, 1, 1, 1, 1, 1, 1, 1, 1, 1, 1, 1, 1, 1, 1, 1, 1, 1, 1, 1, 1, 1, 1, 1, 1, 1, 1, 1, 1, 1, 1, 1, 1, 1, 1, 1, 1, 1, 1, 1, 1, 1, 1, 1, 1, 1, 1, 1, 1, 1, 1, 1, 1, 1, 1, 1, 1, 1, 1, 1, 1, 1, 1, 1, 1, 1, 1, 1, 1, 1, 1, 1, 1, 1, 1, 1, 1, 1, 1, 1, 1, 1, 1, 1, 1, 1, 1, 1, 1, 1, 1, 1, 1, 1, 1, 1, 1, 1, 1, 1, 1, 1, 1, 1, 1, 1, 1, 1, 1, 1, 1, 1, 1, 1, 1, 1, 1, 1, 1, 1, 1, 1, 1, 1, 1, 1, 1, 1, 1, 1, 1, 1, 1, 1, 1, 1, 1, 1, 1, 1, 1, 1, 1, 1, 1, 1, 1, 1, 1, 1, 1, 1, 1, 1, 1, 1, 1, 1, 1, 1, 1, 1, 1, 1, 1, 1, 1, 1, 1, 1, 1, 1, 1, 1, 1, 1, 1, 1, 1, 1, 1, 1, 1, 1, 1, 1, 1, 1, 1, 1, 1, 1, 1, 1, 1, 1, 1, 1, 1, 1, 1, 1, 1, 1, 1, 1, 1, 1, 1, 1, 1, 1, 1, 1, 1, 1, 1, 1, 1, 1, 1, 1, 1, 1, 1, 1, 1, 1, 1, 1, 1, 1, 1, 1, 1, 1, 1, 1, 1, 1, 1, 1, 1, 1, 1, 1, 1, 1, 1, 1, 1, 1, 1, 1, 1, 1, 1, 1, 1, 1, 1, 1, 1, 1, 1, 1, 1, 1, 1, 1, 1, 1, 1, 1, 1, 1, 1, 1, 1, 1, 1, 1, 1, 1, 1, 1, 1, 1, 1, 1, 1, 1, 1, 1, 1, 1, 1, 1, 1, 1, 1, 1, 1, 1, 1, 1, 1, 1, 1, 1, 1, 1, 1, 1, 1, 1, 1, 1, 1, 1, 1, 1, 1, 1, 1, 1, 1, 1, 1, 1, 1, 1, 1, 1, 1, 1, 1, 1, 1, 1, 1, 1, 1, 1, 1, 1, 1, 1, 1, 1, 1, 1, 1, 1, 1, 1, 1, 1, 1, 1, 1, 1, 1, 1, 1, 1, 1, 1, 1, 1, 1, 1, 1, 1, 1, 1, 1, 1, 1, 1, 1, 1, 1, 1, 1, 1, 1, 1, 1, 1, 1, 1, 1, 1, 1, 1, 1, 1, 1, 1, 1, 1, 1, 1, 1, 1, 1, 1, 1, 1, 1, 1, 1, 1, 1, 1, 1, 1, 1, 1, 1, 1, 1, 1, 1, 1, 1, 1, 1, 1, 1, 1, 1, 1, 1, 1, 1, 1, 1, 1, 1, 1, 1, 1, 1, 1, 1, 1, 1, 1, 1, 1, 1, 1, 1, 1, 1, 1, 1, 1, 1, 1, 1, 1, 1, 1, 1, 1, 1, 1, 1, 1, 1, 1, 1, 1, 1, 1, 1, 1, 1, 1, 1, 1, 1, 1, 1, 1, 1, 1, 1, 1, 1, 1, 1, 1, 1, 1, 1, 1, 1, 1, 1, 1, 1, 1, 1, 1, 1, 1, 1, 1, 1, 1, 1, 1, 1, 1, 1, 1, 1, 1, 1, 1, 1, 1, 1, 1, 1, 1, 1, 1, 1, 1, 1, 1, 1, 1, 1, 1, 1, 1, 1, 1, 1, 1, 1, 1, 1, 1, 1, 1, 1, 1, 1, 1, 1, 1, 1, 1, 1, 1, 1, 1, 1, 1, 1, 1, 1, 1, 1, 1, 1, 1, 1, 1, 1, 1, 1, 1, 1, 1, 1, 1, 1, 1, 1, 1, 1, 1, 1, 1, 1, 1, 1, 1, 1, 1, 1, 1, 1, 1, 1, 1, 1, 1, 1, 1, 1, 1, 1, 1, 1, 1, 1, 1, 1, 1, 1, 1, 1, 1, 1, 1, 1, 1, 1, 1, 1, 1, 1, 1, 1, 1, 1, 1, 1, 1, 1, 1, 1, 1, 1, 1, 1, 1, 1, 1, 1, 1, 1, 1, 1, 1, 1, 1, 1, 1, 1, 1, 1, 1, 1, 1, 1, 1, 1, 1, 1, 1, 1, 1, 1, 1, 1, 1, 1, 1, 1, 1, 1, 1, 1, 1, 1, 1, 1, 1, 1, 1, 1, 1, 1, 1, 1, 1, 1, 1, 1, 1, 1, 1, 1, 1, 1, 1, 1, 1, 1, 1, 1, 1, 1, 1, 1, 1, 1, 1, 1, 1, 1, 1, 1, 1, 1, 1, 1, 1, 1, 1, 1, 1, 1, 1, 1, 1, 1, 1, 1, 1, 1, 1, 1, 1, 1, 1, 1, 1, 1, 1, 1, 1, 1, 1, 1, 1, 1, 1, 1, 1, 1, 1, 1, 1, 1, 1, 1, 1, 1, 1, 1, 1, 1, 1, 1, 1, 1, 1, 1, 1, 1, 1, 1, 1, 1, 1, 1, 1, 1, 1, 1, 1, 1, 1, 1, 1, 1, 1, 1, 1, 1, 1, 1, 1, 1, 1, 1, 1, 1, 1, 1, 1, 1, 1, 1, 1, 1, 1, 1, 1, 1, 1, 1, 1, 1, 1, 1, 1, 1, 1, 1, 1, 1, 1, 1, 1, 1, 1, 1, 1, 1, 1, 1, 1, 1, 1, 1, 1, 1, 1, 1, 1, 1, 1, 1, 1, 1, 1, 1, 1, 1, 1, 1, 1, 1, 1, 1, 1, 1, 1, 1, 1, 1, 1, 1, 1, 1, 1, 1, 1, 1, 1, 1, 1, 1, 1, 1, 1, 1, 1, 1, 1, 1, 1, 1, 1, 1, 1, 1, 1, 1, 1, 1, 1, 1, 1, 1, 1, 1, 1, 1, 1, 1, 1, 1, 1, 1, 1, 1, 1, 1, 1, 1, 1, 1, 1, 1, 1, 1, 1, 1, 1, 1, 1, 1, 1, 1, 1, 1, 1, 1, 1, 1, 1, 1, 1, 1, 1, 1, 1, 1, 1, 1, 1, 1, 1, 1, 1, 1, 1, 1, 1, 1, 1, 1, 1, 1, 1, 1, 1, 1, 1, 1, 1, 1, 1, 1, 1, 1, 1, 1, 1, 1, 1, 1, 1, 1, 1, 1, 1, 1, 1, 1, 1, 1, 1, 1, 1, 1, 1, 1, 1, 1, 1, 1, 1, 1, 1, 1, 1, 1, 1, 1, 1, 1, 1, 1, 1, 1, 1, 1, 1, 1, 1, 1, 1, 1, 1, 1, 1, 1, 1, 1, 1, 1, 1, 1, 1, 1, 1, 1, 1, 1, 1, 1, 1, 1, 1, 1, 1, 1, 1, 1, 1, 1, 1, 1, 1, 1, 1, 1, 1, 1, 1, 1, 1, 1, 1, 1, 1, 1, 1, 1, 1, 1, 1, 1, 1, 1, 1, 1, 1, 1, 1, 1, 1, 1, 1, 1, 1, 1, 1, 1, 1, 1, 1, 1, 1, 1, 1, 1, 1, 1, 1, 1, 1, 1, 1, 1, 1, 1, 1, 1, 1, 1, 1, 1, 1, 1, 1, 1, 1, 1, 1, 1, 1, 1, 1, 1, 1, 1, 1, 1, 1, 1, 1, 1, 1, 1, 1, 1, 1, 1, 1, 1, 1, 1, 1, 1, 1, 1, 1, 1, 1, 1, 1, 1, 1, 1, 1, 1, 1, 1, 1, 1, 1, 1, 1, 1, 1, 1, 1, 1, 1, 1, 1, 1, 1, 1, 1, 1, 1, 1, 1, 1, 1, 1, 1, 1, 1, 1, 1, 1, 1, 1, 1, 1, 1, 1, 1, 1, 1, 1, 1, 1, 1, 1, 1, 1, 1, 1, 1, 1, 1, 1, 1, 1, 1, 1, 1, 1, 1, 1, 1, 1, 1, 1, 1, 1, 1, 1, 1, 1, 1, 1, 1, 1, 1, 1, 1, 1, 1, 1, 1, 1, 1, 1, 1, 1, 1, 1, 1, 1, 1, 1, 1, 1, 1, 1, 1, 1, 1, 1, 1, 1, 1, 1, 1, 1, 1, 1, 1, 1, 1, 1, 1, 1, 1, 1, 1, 1, 1, 1, 1, 1, 1, 1, 1, 1, 1, 1, 1, 1, 1, 1, 1, 1, 1, 1, 1, 1, 1, 1, 1, 1, 1, 1, 1, 1, 1, 1, 1, 1, 1, 1, 1, 1, 1, 1, 1, 1, 1, 1, 1, 1, 1, 1, 1, 1, 1, 1, 1, 1, 1, 1, 1, 1, 1, 1, 1, 1, 1, 1, 1, 1, 1, 1, 1, 1, 1, 1, 1, 1, 1, 1, 1, 1, 1, 1, 1, 1, 1, 1, 1, 1, 1, 1, 1, 1, 1, 1, 1, 1, 1, 1, 1, 1, 1, 1, 1, 1, 1, 1, 1, 1, 1, 1, 1, 1, 1, 1, 1, 1, 1, 1, 1, 1, 1, 1, 1, 1, 1, 1, 1, 1, 1, 1, 1, 1, 1, 1, 1, 1, 1, 1, 1, 1, 1, 1, 1, 1, 1, 1, 1, 1, 1, 1, 1, 1, 1, 1, 1, 1, 1, 1, 1, 1, 1, 1, 1, 1, 1, 1, 1, 1, 1, 1, 1, 1, 1, 1, 1, 1, 1, 1, 1, 1, 1, 1, 1, 1, 1, 1, 1, 1, 1, 1, 1, 1, 1, 1, 1, 1, 1, 1, 1, 1, 1, 1, 1, 1, 1, 1, 1, 1, 1, 1, 1, 1, 1, 1, 1, 1, 1, 1, 1, 1, 1, 1, 1, 1, 1, 1, 1, 1, 1, 1, 1, 1, 1, 1, 1, 1, 1, 1, 1, 1, 1, 1, 1, 1, 1, 1, 1, 1, 1, 1, 1, 1, 1, 1, 1, 1, 1, 1, 1, 1, 1, 1, 1, 1, 1, 1, 1, 1, 1, 1, 1, 1, 1, 1, 1, 1, 1, 1, 1, 1, 1, 1, 1, 1, 1, 1, 1, 1, 1, 1, 1, 1, 1, 1, 1, 1, 1, 1, 1, 1, 1, 1, 1, 1, 1, 1, 1, 1, 1, 1, 1, 1, 1, 1, 1, 1, 1, 1, 1, 1, 1, 1, 1, 1, 1, 1, 1, 1, 1, 1, 1, 1, 1, 1, 1, 1, 1, 1, 1, 1, 1, 1, 1, 1, 1, 1, 1, 1, 1, 1, 1, 1, 1, 1, 1, 1, 1, 1, 1, 1, 1, 1, 1, 1, 1, 1, 1, 1, 1, 1, 1, 1, 1, 1, 1, 1, 1, 1, 1, 1, 1, 1, 1, 1, 1, 1, 1, 1, 1, 1, 1, 1, 1, 1, 1, 1, 1, 1, 1, 1, 1, 1, 1, 1, 1, 1, 1, 1, 1, 1, 1, 1, 1, 1, 1, 1, 1, 1, 1, 1, 1, 1, 1, 1, 1, 1, 1, 1, 1, 1, 1, 1, 1, 1, 1, 1, 1, 1, 1, 1, 1, 1, 1, 1, 1, 1, 1, 1, 1, 1, 1, 1, 1, 1, 1, 1, 1, 1, 1, 1, 1, 1, 1, 1, 1, 1, 1, 1, 1, 1, 1, 1, 1, 1, 1, 1, 1, 1, 1, 1, 1, 1, 1, 1, 1, 1, 1, 1, 1, 1, 1, 1, 1, 1, 1, 1, 1, 1, 1, 1, 1, 1, 1, 1, 1, 1, 1, 1, 1, 1, 1, 1, 1, 1, 1, 1, 1, 1, 1, 1, 1, 1, 1, 1, 1, 1, 1, 1, 1, 1, 1, 1, 1, 1, 1, 1, 1, 1, 1, 1, 1, 1, 1, 1, 1, 1, 1, 1, 1, 1, 1, 1, 1, 1, 1, 1, 1, 1, 1, 1, 1, 1, 1, 1, 1, 1, 1, 1, 1, 1, 1, 1, 1, 1, 1, 1, 1, 1, 1, 1, 1, 1, 1, 1, 1, 1, 1, 1, 1, 1, 1, 1, 1, 1, 1, 1, 1, 1, 1, 1, 1, 1, 1, 1, 1, 1, 1, 1, 1, 1, 1, 1, 1, 1, 1, 1, 1, 1, 1, 1, 1, 1, 1, 1, 1, 1, 1, 1, 1, 1, 1, 1, 1, 1, 1, 1, 1, 1, 1, 1, 1, 1, 1, 1, 1, 1, 1, 1, 1, 1, 1, 1, 1, 1, 1, 1, 1, 1, 1, 1, 1, 1, 1, 1, 1, 1, 1, 1, 1, 1, 1, 1, 1, 1, 1, 1, 1, 1, 1, 1, 1, 1, 1, 1, 1, 1, 1, 1, 1, 1, 1, 1, 1, 1, 1, 1, 1, 1, 1, 1, 1, 1, 1, 1, 1, 1, 1, 1, 1, 1, 1, 1, 1, 1, 1, 1, 1, 1, 1, 1, 1, 1, 1, 1, 1, 1, 1, 1, 1, 1, 1, 1, 1, 1, 1, 1, 1, 1, 1, 1, 1, 1, 1, 1, 1, 1, 1, 1, 1, 1, 1, 1, 1, 1, 1, 1, 1, 1, 1, 1, 1, 1, 1, 1, 1, 1, 1, 1, 1, 1, 1, 1, 1, 1, 1, 1, 1, 1, 1, 1, 1, 1, 1, 1, 1, 1, 1, 1, 1, 1, 1, 1, 1, 1, 1, 1, 1, 1, 1, 1, 1, 1, 1, 1, 1, 1, 1, 1, 1, 1, 1, 1, 1, 1, 1, 1, 1, 1, 1, 1, 1, 1, 1, 1, 1, 1, 1, 1, 1, 1, 1, 1, 1, 1, 1, 1, 1, 1, 1, 1, 1, 1, 1, 1, 1, 1, 1, 1, 1, 1, 1, 1, 1, 1, 1, 1, 1, 1, 1, 1, 1, 1, 1, 1, 1, 1, 1, 1, 1, 1, 1, 1, 1, 1, 1, 1, 1, 1, 1, 1, 1, 1, 1, 1, 1, 1, 1, 1, 1, 1, 1, 1, 1, 1, 1, 1, 1, 1, 1, 1, 1, 1, 1, 1, 1, 1, 1, 1, 1, 1, 1, 1, 1, 1, 1, 1, 1, 1, 1, 1, 1, 1, 1, 1, 1, 1, 1, 1, 1, 1, 1, 1, 1, 1, 1, 1, 1, 1, 1, 1, 1, 1, 1, 1, 1, 1, 1, 1, 1, 1, 1, 1, 1, 1, 1, 1, 1, 1, 1, 1, 1, 1, 1, 1, 1, 1, 1, 1, 1, 1, 1, 1, 1, 1, 1, 1, 1, 1, 1, 1, 1, 1, 1, 1, 1, 1, 1, 1, 1, 1, 1, 1, 1, 1, 1, 1, 1, 1, 1, 1, 1, 1, 1, 1, 1, 1, 1, 1, 1, 1, 1, 1, 1, 1, 1, 1, 1, 1, 1, 1, 1, 1, 1, 1, 1, 1, 1, 1, 1, 1, 1, 1, 1, 1, 1, 1, 1, 1, 1, 1, 1, 1, 1, 1, 1, 1, 1, 1, 1, 1, 1, 1, 1, 1, 1, 1, 1, 1, 1, 1, 1, 1, 1, 1, 1, 1, 1, 1, 1, 1, 1, 1, 1, 1, 1, 1, 1, 1, 1, 1, 1, 1, 1, 1, 1, 1, 1, 1, 1, 1, 1, 1, 1, 1, 1, 1, 1, 1, 1, 1, 1, 1, 1, 1, 1, 1, 1, 1, 1, 1, 1, 1, 1, 1, 1, 1, 1, 1, 1, 1, 1, 1, 1, 1, 1, 1, 1, 1, 1, 1, 1, 1, 1, 1, 1, 1, 1, 1, 1, 1, 1, 1, 1, 1, 1, 1, 1, 1, 1, 1, 1, 1, 1, 1, 1, 1, 1, 1, 1, 1, 1, 1, 1, 1, 1, 1, 1, 1, 1, 1, 1, 1, 1, 1, 1, 1, 1, 1, 1, 1, 1, 1, 1, 1, 1, 1, 1, 1, 1, 1, 1, 1, 1, 1, 1, 1, 1, 1, 1, 1, 1, 1, 1, 1, 1, 1, 1, 1, 1, 1, 1, 1, 1, 1, 1, 1, 1, 1, 1, 1, 1, 1, 1, 1, 1, 1, 1, 1, 1, 1, 1, 1, 1, 1, 1, 1, 1, 1, 1, 1, 1, 1, 1, 1, 1, 1, 1, 1, 1, 1, 1, 1, 1, 1, 1, 1, 1, 1, 1, 1, 1, 1, 1, 1, 1, 1, 1, 1, 1, 1, 1, 1, 1, 1, 1, 1, 1, 1, 1, 1, 1, 1, 1, 1, 1, 1, 1, 1, 1, 1, 1, 1, 1, 1, 1, 1, 1, 1, 1, 1, 1, 1, 1, 1, 1, 1, 1, 1, 1, 1, 1, 1, 1, 1, 1, 1, 1, 1, 1, 1, 1, 1, 1, 1, 1, 1, 1, 1, 1, 1, 1, 1, 1, 1, 1, 1, 1, 1, 1, 1, 1, 1, 1, 1, 1, 1, 1, 1, 1, 1, 1, 1, 1, 1, 1, 1, 1, 1, 1, 1, 1, 1, 1, 1, 1, 1, 1, 1, 1, 1, 1, 1, 1, 1, 1, 1, 1, 1, 1, 1, 1, 1, 1, 1, 1, 1, 1, 1, 1, 1, 1, 1, 1, 1, 1, 1, 1, 1, 1, 1, 1, 1, 1, 1, 1, 1, 1, 1, 1, 1, 1, 1, 1, 1, 1, 1, 1, 1, 1, 1, 1, 1, 1, 1, 1, 1, 1, 1, 1, 1, 1, 1, 1, 1, 1, 1, 1, 1, 1, 1, 1, 1, 1, 1, 1, 1, 1, 1, 1, 1, 1, 1, 1, 1, 1, 1, 1, 1, 1, 1, 1, 1, 1, 1, 1, 1, 1, 1, 1, 1, 1, 1, 1, 1, 1, 1, 1, 1, 1, 1, 1, 1, 1, 1, 1, 1, 1, 1, 1, 1, 1, 1, 1, 1, 1, 1, 1, 1, 1, 1, 1, 1, 1, 1, 1, 1, 1, 1, 1, 1, 1, 1, 1, 1, 1, 1, 1, 1, 1, 1, 1, 1, 1, 1, 1, 1, 1, 1, 1, 1, 1, 1, 1, 1, 1, 1, 1, 1, 1, 1, 1, 1, 1, 1, 1, 1, 1, 1, 1, 1, 1, 1, 1, 1, 1, 1, 1, 1, 1, 1, 1, 1, 1, 1, 1, 1, 1, 1, 1, 1, 1, 1, 1, 1, 1, 1, 1, 1, 1, 1, 1, 1, 1, 1, 1, 1, 1, 1, 1, 1, 1, 1, 1, 1, 1, 1, 1, 1, 1, 1, 1, 1, 1, 1, 1, 1, 1, 1, 1, 1, 1, 1, 1, 1, 1, 1, 1, 1, 1, 1, 1, 1, 1, 1, 1, 1, 1, 1, 1, 1, 1, 1, 1, 1, 1, 1, 1, 1, 1, 1, 1, 1, 1, 1, 1, 1, 1, 1, 1, 1, 1, 1, 1, 1, 1, 1, 1, 1, 1, 1, 1, 1, 1, 1, 1, 1, 1, 1, 1, 1, 1, 1, 1, 1, 1, 1, 1, 1, 1, 1, 1, 1, 1, 1, 1, 1, 1, 1, 1, 1, 1, 1, 1, 1, 1, 1, 1, 1, 1, 1, 1, 1, 1, 1, 1, 1, 1, 1, 1, 1, 1, 1, 1, 1, 1, 1, 1, 1, 1, 1, 1, 1, 1, 1, 1, 1, 1, 1, 1, 1, 1, 1, 1, 1, 1, 1, 1, 1, 1, 1, 1, 1, 1, 1, 1, 1, 1, 1, 1, 1, 1, 1, 1, 1, 1, 1, 1, 1, 1, 1, 1, 1, 1, 1, 1, 1, 1, 1, 1, 1, 1, 1, 1, 1, 1, 1, 1, 1, 1, 1, 1, 1, 1, 1, 1, 1, 1, 1, 1, 1, 1, 1, 1, 1, 1, 1, 1, 1, 1, 1, 1, 1, 1, 1, 1, 1, 1, 1, 1, 1, 1, 1, 1, 1, 1, 1, 1, 1, 1, 1, 1, 1, 1, 1, 1, 1, 1, 1, 1, 1, 1, 1, 1, 1, 1, 1, 1, 1, 1, 1, 1, 1, 1, 1, 1, 1, 1, 1, 1, 1, 1, 1, 1, 1, 1, 1, 1, 1, 1, 1, 1, 1, 1, 1, 1, 1, 1, 1, 1, 1, 1, 1, 1, 1, 1, 1, 1, 1, 1, 1, 1, 1, 1, 1, 1, 1, 1, 1, 1, 1, 1, 1, 1, 1, 1, 1, 1, 1, 1, 1, 1, 1, 1, 1, 1, 1, 1, 1, 1, 1, 1, 1, 1, 1, 1, 1, 1, 1, 1, 1, 1, 1, 1, 1, 1, 1, 1, 1, 1, 1, 1, 1, 1, 1, 1, 1, 1, 1, 1, 1, 1, 1, 1, 1, 1, 1, 1, 1, 1, 1, 1, 1, 1, 1, 1, 1, 1, 1, 1, 1, 1, 1, 1, 1, 1, 1, 1, 1, 1, 1, 1, 1, 1, 1, 1, 1, 1, 1, 1, 1, 1, 1, 1, 1, 1, 1, 1, 1, 1, 1, 1, 1, 1, 1, 1, 1, 1, 1, 1, 1, 1, 1, 1, 1, 1, 1, 1, 1, 1, 1, 1, 1, 1, 1, 1, 1, 1, 1, 1, 1, 1, 1, 1, 1, 1, 1, 1, 1, 1, 1, 1, 1, 1, 1, 1, 1, 1, 1, 1, 1, 1, 1, 1, 1, 1, 1, 1, 1, 1, 1, 1, 1, 1, 1, 1, 1, 1, 1, 1, 1, 1, 1, 1, 1, 1, 1, 1, 1, 1, 1, 1, 1, 1, 1, 1, 1, 1, 1, 1, 1, 1, 1, 1, 1, 1, 1, 1, 1, 1, 1, 1, 1, 1, 1, 1, 1, 1, 1, 1, 1, 1, 1, 1, 1, 1, 1, 1, 1, 1, 1, 1, 1, 1, 1, 1, 1, 1, 1, 1, 1, 1, 1, 1, 1, 1, 1, 1, 1, 1, 1, 1, 1, 1, 1, 1, 1, 1, 1, 1, 1, 1, 1, 1, 1, 1, 1, 1, 1, 1, 1, 1, 1, 1, 1, 1, 1, 1, 1, 1, 1, 1, 1, 1, 1, 1, 1, 1, 1, 1, 1, 1, 1, 1, 1, 1, 1, 1, 1, 1, 1, 1, 1, 1, 1, 1, 1, 1, 1, 1, 1, 1, 1, 1, 1, 1, 1, 1, 1, 1, 1, 1, 1, 1, 1, 1, 1, 1, 1, 1, 1, 1, 1, 1, 1, 1, 1, 1, 1, 1, 1, 1, 1, 1, 1, 1, 1, 1, 1, 1, 1, 1, 1, 1, 1, 1, 1, 1, 1, 1, 1, 1, 1, 1, 1, 1, 1, 1, 1, 1, 1, 1, 1, 1, 1, 1, 1, 1, 1, 1, 1, 1, 1, 1, 1, 1, 1, 1, 1, 1, 1, 1, 1, 1, 1, 1, 1, 1, 1, 1, 1, 1, 1, 1, 1, 1, 1, 1, 1, 1, 1, 1, 1, 1, 1, 1, 1, 1, 1, 1, 1, 1, 1, 1, 1, 1, 1, 1, 1, 1, 1, 1, 1, 1, 1, 1, 1, 1, 1, 1, 1, 1, 1, 1, 1, 1, 1, 1, 1, 1, 1, 1, 1, 1, 1, 1, 1, 1, 1, 1, 1, 1, 1, 1, 1, 1, 1, 1, 1, 1, 1, 1, 1, 1, 1, 1, 1, 1, 1, 1, 1, 1, 1, 1, 1, 1, 1, 1, 1, 1, 1, 1, 1, 1, 1, 1, 1, 1, 1, 1, 1, 1, 1, 1, 1, 1, 1, 1, 1, 1, 1, 1, 1, 1, 1, 1, 1, 1, 1, 1, 1, 1, 1, 1, 1, 1, 1, 1, 1, 1, 1, 1, 1, 1, 1, 1, 1, 1, 1, 1, 1, 1, 1, 1, 1, 1, 1, 1, 1, 1, 1, 1, 1, 1, 1, 1, 1, 1, 1, 1, 1, 1, 1, 1, 1, 1, 1, 1, 1, 1, 1, 1, 1, 1, 1, 1, 1, 1, 1, 1, 1, 1, 1, 1, 1, 1, 1, 1, 1, 1, 1, 1, 1, 1, 1, 1, 1, 1, 1, 1, 1, 1, 1, 1, 1, 1, 1, 1, 1, 1, 1, 1, 1, 1, 1, 1, 1, 1, 1, 1, 1, 1, 1, 1, 1, 1, 1, 1, 1, 1, 1, 1, 1, 1, 1, 1, 1, 1, 1, 1, 1, 1, 1, 1, 1, 1, 1, 1, 1, 1, 1, 1, 1, 1, 1, 1, 1, 1, 1, 1, 1, 1, 1, 1, 1, 1, 1, 1, 1, 1, 1, 1, 1, 1, 1, 1, 1, 1, 1, 1, 1, 1, 1, 1, 1, 1, 1, 1, 1, 1, 1, 1, 1, 1, 1, 1, 1, 1, 1, 1, 1, 1, 1, 1, 1, 1, 1, 1, 1, 1, 1, 1, 1, 1, 1, 1, 1, 1, 1, 1, 1, 1, 1, 1, 1, 1, 1, 1, 1, 1, 1, 1, 1, 1, 1, 1, 1, 1, 1, 1, 1, 1, 1, 1, 1, 1, 1, 1, 1, 1, 1, 1, 1, 1, 1, 1, 1, 1, 1, 1, 1, 1, 1, 1, 1, 1, 1, 1, 1, 1, 1, 1, 1, 1, 1, 1, 1, 1, 1, 1, 1, 1, 1, 1, 1, 1, 1, 1, 1, 1, 1, 1, 1, 1, 1, 1, 1, 1, 1, 1, 1, 1, 1, 1, 1, 1, 1, 1, 1, 1, 1, 1, 1, 1, 1, 1, 1, 1, 1, 1, 1, 1, 1, 1, 1, 1, 1, 1, 1, 1, 1, 1, 1, 1, 1, 1, 1, 1, 1, 1, 1, 1, 1, 1, 1, 1, 1, 1, 1, 1, 1, 1, 1, 1, 1, 1, 1, 1, 1, 1, 1, 1, 1, 1, 1, 1, 1, 1, 1, 1, 1, 1, 1, 1, 1, 1, 1, 1, 1, 1, 1, 1, 1, 1, 1, 1, 1, 1, 1, 1, 1, 1, 1, 1, 1, 1, 1, 1, 1, 1, 1, 1, 1, 1, 1, 1, 1, 1, 1, 1, 1, 1, 1, 1, 1, 1, 1, 1, 1, 1, 1, 1, 1, 1, 1, 1, 1, 1, 1, 1, 1, 1, 1, 1, 1, 1, 1, 1, 1, 1, 1, 1, 1, 1, 1, 1, 1, 1, 1, 1, 1, 1, 1, 1, 1, 1, 1, 1, 1, 1, 1, 1, 1, 1, 1, 1, 1, 1, 1, 1, 1, 1, 1, 1, 1, 1, 1, 1, 1, 1, 1, 1, 1, 1, 1, 1, 1, 1, 1, 1, 1, 1, 1, 1, 1, 1, 1, 1, 1, 1, 1, 1, 1, 1, 1, 1, 1, 1, 1, 1, 1, 1, 1, 1, 1, 1, 1, 1, 1, 1, 1, 1, 1, 1, 1, 1, 1, 1, 1, 1, 1, 1, 1, 1, 1, 1, 1, 1, 1, 1, 1, 1, 1, 1, 1, 1, 1, 1, 1, 1, 1, 1, 1, 1, 1, 1, 1, 1, 1, 1, 1, 1, 1, 1, 1, 1, 1, 1, 1, 1, 1, 1, 1, 1, 1, 1, 1, 1, 1, 1, 1, 1, 1, 1, 1, 1, 1, 1, 1, 1, 1, 1, 1, 1, 1, 1, 1, 1, 1, 1, 1, 1, 1, 1, 1, 1, 1, 1, 1, 1, 1, 1, 1, 1, 1, 1, 1, 1, 1, 1, 1, 1, 1, 1, 1, 1, 1, 1, 1, 1, 1, 1, 1, 1, 1, 1, 1, 1, 1, 1, 1, 1, 1, 1, 1, 1, 1, 1, 1, 1, 1, 1, 1, 1, 1, 1, 1, 1, 1, 1, 1, 1, 1, 1, 1, 1, 1, 1, 1, 1, 1, 1, 1, 1, 1, 1, 1, 1, 1, 1, 1, 1, 1, 1, 1, 1, 1, 1, 1, 1, 1, 1, 1, 1, 1, 1, 1, 1, 1, 1, 1, 1, 1, 1, 1, 1, 1, 1, 1, 1, 1, 1, 1, 1, 1, 1, 1, 1, 1, 1, 1, 1, 1, 1, 1, 1, 1, 1, 1, 1, 1, 1, 1, 1, 1, 1, 1, 1, 1, 1, 1, 1, 1, 1, 1, 1, 1, 1, 1, 1, 1, 1, 1, 1, 1, 1, 1, 1, 1, 1, 1, 1, 1, 1, 1, 1, 1, 1, 1, 1, 1, 1, 1, 1, 1, 1, 1, 1, 1, 1, 1, 1, 1, 1, 1, 1, 1, 1, 1, 1, 1, 1, 1, 1, 1, 1, 1, 1, 1, 1, 1, 1, 1, 1, 1, 1, 1, 1, 1, 1, 1, 1, 1, 1, 1, 1, 1, 1, 1, 1, 1, 1, 1, 1, 1, 1, 1, 1, 1, 1, 1, 1, 1, 1, 1, 1, 1, 1, 1, 1, 1, 1, 1, 1, 1, 1, 1, 1, 1, 1, 1, 1, 1, 1, 1, 1, 1, 1, 1, 1, 1, 1, 1, 1, 1, 1, 1, 1, 1, 1, 1, 1, 1, 1, 1, 1, 1, 1, 1, 1, 1, 1, 1, 1, 1, 1, 1, 1, 1, 1, 1, 1, 1, 1, 1, 1, 1, 1, 1, 1, 1, 1, 1, 1, 1, 1, 1, 1, 1, 1, 1, 1, 1, 1, 1, 1, 1, 1, 1, 1, 1, 1, 1, 1, 1, 1, 1, 1, 1, 1, 1, 1, 1, 1, 1, 1, 1, 1, 1, 1, 1, 1, 1, 1, 1, 1, 1, 1, 1, 1, 1, 1, 1, 1, 1, 1, 1, 1, 1, 1, 1, 1, 1, 1, 1, 1, 1, 1, 1, 1, 1, 1, 1, 1, 1, 1, 1, 1, 1, 1, 1, 1, 1, 1, 1, 1, 1, 1, 1, 1, 1, 1, 1, 1, 1, 1, 1, 1, 1, 1, 1, 1, 1, 1, 1, 1, 1, 1, 1, 1, 1, 1, 1, 1, 1, 1, 1, 1, 1, 1, 1, 1, 1, 1, 1, 1, 1, 1, 1, 1, 1, 1, 1, 1, 1, 1, 1, 1, 1, 1, 1, 1, 1, 1, 1, 1, 1, 1, 1, 1, 1, 1, 1, 1, 1, 1, 1, 1, 1, 1, 1, 1, 1, 1, 1, 1, 1, 1, 1, 1, 1, 1, 1, 1, 1, 1, 1, 1, 1, 1, 1, 1, 1, 1, 1, 1, 1, 1, 1, 1, 1, 1, 1, 1, 1, 1, 1, 1, 1, 1, 1, 1, 1, 1, 1, 1, 1, 1, 1, 1, 1, 1, 1, 1, 1, 1, 1, 1, 1, 1, 1, 1, 1, 1, 1, 1, 1, 1, 1, 1, 1, 1, 1, 1, 1, 1, 1, 1, 1, 1, 1, 1, 1, 1, 1, 1, 1, 1, 1, 1, 1, 1, 1, 1, 1, 1, 1, 1, 1, 1, 1, 1, 1, 1, 1, 1, 1, 1, 1, 1, 1, 1, 1, 1, 1, 1, 1, 1, 1, 1, 1, 1, 1, 1, 1, 1, 1, 1, 1, 1, 1, 1, 1, 1, 1, 1, 1, 1, 1, 1, 1, 1, 1, 1, 1, 1, 1, 1, 1, 1, 1, 1, 1, 1, 1, 1, 1, 1, 1, 1, 1, 1, 1, 1, 1, 1, 1, 1, 1, 1, 1, 1, 1, 1, 1, 1, 1, 1, 1, 1, 1, 1, 1, 1, 1, 1, 1, 1, 1, 1, 1, 1, 1, 1, 1, 1, 1, 1, 1, 1, 1, 1, 1, 1, 1, 1, 1, 1, 1, 1, 1, 1, 1, 1, 1, 1, 1, 1, 1, 1, 1, 1, 1, 1, 1, 1, 1, 1, 1, 1, 1, 1, 1, 1, 1, 1, 1, 1, 1, 1, 1, 1, 1, 1, 1, 1, 1, 1, 1, 1, 1, 1, 1, 1, 1, 1, 1, 1, 1, 1, 1, 1, 1, 1, 1, 1, 1, 1, 1, 1, 1, 1, 1, 1, 1, 1, 1, 1, 1, 1, 1, 1, 1, 1, 1, 1, 1, 1, 1, 1, 1, 1, 1, 1, 1, 1, 1, 1, 1, 1, 1, 1, 1, 1, 1, 1, 1, 1, 1, 1, 1, 1, 1, 1, 1, 1, 1, 1, 1, 1, 1, 1, 1, 1, 1, 1, 1, 1, 1, 1, 1, 1, 1, 1, 1, 1, 1, 1, 1, 1, 1, 1, 1, 1, 1, 1, 1, 1, 1, 1, 1, 1, 1, 1, 1, 1, 1, 1, 1, 1, 1, 1, 1, 1, 1, 1, 1, 1, 1, 1, 1, 1, 1, 1, 1, 1, 1, 1, 1, 1, 1, 1, 1, 1, 1, 1, 1, 1, 1, 1, 1, 1, 1, 1, 1, 1, 1, 1, 1, 1, 1, 1, 1, 1, 1, 1, 1, 1, 1, 1, 1, 1, 1, 1, 1, 1, 1, 1, 1, 1, 1, 1, 1, 1, 1, 1, 1, 1, 1, 1, 1, 1, 1, 1, 1, 1, 1, 1, 1, 1, 1, 1, 1, 1, 1, 1, 1, 1, 1, 1, 1, 1, 1, 1, 1, 1, 1, 1, 1, 1, 1, 1, 1, 1, 1, 1, 1, 1, 1, 1, 1, 1, 1, 1, 1, 1, 1, 1, 1, 1, 1, 1, 1, 1, 1, 1, 1, 1, 1, 1, 1, 1, 1, 1, 1, 1, 1, 1, 1, 1, 1, 1, 1, 1, 1, 1, 1, 1, 1, 1, 1, 1, 1, 1, 1, 1, 1, 1, 1, 1, 1, 1, 1, 1, 1, 1, 1, 1, 1, 1, 1, 1, 1, 1, 1, 1, 1, 1, 1, 1, 1, 1, 1, 1, 1, 1, 1, 1, 1, 1, 1, 1, 1, 1, 1, 1, 1, 1, 1, 1, 1, 1, 1, 1, 1, 1, 1, 1, 1, 1, 1, 1, 1, 1, 1, 1, 1, 1, 1, 1, 1, 1, 1, 1, 1, 1, 1, 1, 1, 1, 1, 1, 1, 1, 1, 1, 1, 1, 1, 1, 1, 1, 1, 1, 1, 1, 1, 1, 1, 1, 1, 1, 1, 1, 1, 1, 1, 1, 1, 1, 1, 1, 1, 1, 1, 1, 1, 1, 1, 1, 1, 1, 1, 1, 1, 1, 1, 1, 1, 1, 1, 1, 1, 1, 1, 1, 1, 1, 1, 1, 1, 1, 1, 1, 1, 1, 1, 1, 1, 1, 1, 1, 1, 1, 1, 1, 1, 1, 1, 1, 1, 1, 1, 1, 1, 1, 1, 1, 1, 1, 1, 1, 1, 1, 1, 1, 1, 1, 1, 1, 1, 1, 1, 1, 1, 1, 1, 1, 1, 1, 1, 1, 1, 1, 1, 1, 1, 1, 1, 1, 1, 1, 1, 1, 1, 1, 1, 1, 1, 1, 1, 1, 1, 1, 1, 1, 1, 1, 1, 1, 1, 1, 1, 1, 1, 1, 1, 1, 1, 1, 1, 1, 1, 1, 1, 1, 1, 1, 1, 1, 1, 1, 1, 1, 1, 1, 1, 1, 1, 1, 1, 1, 1, 1, 1, 1, 1, 1, 1, 1, 1, 1, 1, 1, 1, 1, 1, 1, 1, 1, 1, 1, 1, 1, 1, 1, 1, 1, 1, 1, 1, 1, 1, 1, 1, 1, 1, 1, 1, 1, 1, 1, 1, 1, 1, 1, 1, 1, 1, 1, 1, 1, 1, 1, 1, 1, 1, 1, 1, 1, 1, 1, 1, 1, 1, 1, 1, 1, 1, 1, 1, 1, 1, 1, 1, 1, 1, 1, 1, 1, 1, 1, 1, 1, 1, 1, 1, 1, 1, 1, 1, 1, 1, 1, 1, 1, 1, 1, 1, 1, 1, 1, 1, 1, 1, 1, 1, 1, 1, 1, 1, 1, 1, 1, 1, 1, 1, 1, 1, 1, 1, 1, 1, 1, 1, 1, 1, 1, 1, 1, 1, 1, 1, 1, 1, 1, 1, 1, 1, 1, 1, 1, 1, 1, 1, 1, 1, 1, 1, 1, 1, 1, 1, 1, 1, 1, 1, 1, 1, 1, 1, 1, 1, 1, 1, 1, 1, 1, 1, 1, 1, 1, 1, 1, 1, 1, 1, 1, 1, 1, 1, 1, 1, 1, 1, 1, 1, 1, 1, 1, 1, 1, 1, 1, 1, 1, 1, 1, 1, 1, 1, 1, 1, 1, 1, 1, 1, 1, 1, 1, 1, 1, 1, 1, 1, 1, 1, 1, 1, 1, 1, 1, 1, 1, 1, 1, 1, 1, 1, 1, 1, 1, 1, 1, 1, 1, 1, 1, 1, 1, 1, 1, 1, 1, 1, 1, 1, 1, 1, 1, 1, 1, 1, 1, 1, 1, 1, 1, 1, 1, 1, 1, 1, 1, 1, 1, 1, 1, 1, 1, 1, 1, 1, 1, 1, 1, 1, 1, 1, 1, 1, 1, 1, 1, 1, 1, 1, 1, 1, 1, 1, 1, 1, 1, 1, 1, 1, 1, 1, 1, 1, 1, 1, 1, 1, 1, 1, 1, 1, 1, 1, 1, 1, 1, 1, 1, 1, 1, 1, 1, 1, 1, 1, 1, 1, 1, 1, 1, 1, 1, 1, 1, 1, 1, 1, 1, 1, 1, 1, 1, 1, 1, 1, 1, 1, 1, 1, 1, 1, 1, 1, 1, 1, 1, 1, 1, 1, 1, 1, 1, 1, 1, 1, 1, 1, 1, 1, 1, 1, 1, 1, 1, 1, 1, 1, 1, 1, 1, 1, 1, 1, 1, 1, 1, 1, 1, 1, 1, 1, 1, 1, 1, 1, 1, 1, 1, 1, 1, 1, 1, 1, 1, 1, 1, 1, 1, 1, 1, 1, 1, 1, 1, 1, 1, 1, 1, 1, 1, 1, 1, 1, 1, 1, 1, 1, 1, 1, 1, 1, 1, 1, 1, 1, 1, 1, 1, 1, 1, 1, 1, 1, 1, 1, 1, 1, 1, 1, 1, 1, 1, 1, 1, 1, 1, 1, 1, 1, 1, 1, 1, 1, 1, 1, 1, 1, 1, 1, 1, 1, 1, 1, 1, 1, 1, 1, 1, 1, 1, 1, 1, 1, 1, 1, 1, 1, 1, 1, 1, 1, 1, 1, 1, 1, 1, 1, 1, 1, 1, 1, 1, 1, 1, 1, 1, 1, 1, 1, 1, 1, 1, 1, 1, 1, 1, 1, 1, 1, 1, 1, 1, 1, 1, 1, 1, 1, 1, 1, 1, 1, 1, 1, 1, 1, 1, 1, 1, 1, 1, 1, 1, 1, 1, 1, 1, 1, 1, 1, 1, 1, 1, 1, 1, 1, 1, 1, 1, 1, 1, 1, 1, 1, 1, 1, 1, 1, 1, 1, 1, 1, 1, 1, 1, 1, 1, 1, 1, 1, 1, 1, 1, 1, 1, 1, 1, 1, 1, 1, 1, 1, 1, 1, 1, 1, 1, 1, 1, 1, 1, 1, 1, 1, 1, 1, 1, 1, 1, 1, 1, 1, 1, 1, 1, 1, 1, 1, 1, 1, 1, 1, 1, 1, 1, 1, 1, 1, 1, 1, 1, 1, 1, 1, 1, 1, 1, 1, 1, 1, 1, 1, 1, 1, 1, 1, 1, 1, 1, 1, 1, 1, 1, 1, 1, 1, 1, 1, 1, 1, 1, 1, 1, 1, 1, 1, 1, 1, 1, 1, 1, 1, 1, 1, 1, 1, 1, 1, 1, 1, 1, 1, 1, 1, 1, 1, 1, 1, 1, 1, 1, 1, 1, 1, 1, 1, 1, 1, 1, 1, 1, 1, 1, 1, 1, 1, 1, 1, 1, 1, 1, 1, 1, 1, 1, 1, 1, 1, 1, 1, 1, 1, 1, 1, 1, 1, 1, 1, 1, 1, 1, 1, 1, 1, 1, 1, 1, 1, 1, 1, 1, 1, 1, 1, 1, 1, 1, 1, 1, 1, 1, 1, 1, 1, 1, 1, 1, 1, 1, 1, 1, 1, 1, 1, 1, 1, 1, 1, 1, 1, 1, 1, 1, 1, 1, 1, 1, 1, 1, 1, 1, 1, 1, 1, 1, 1, 1, 1, 1, 1, 1, 1, 1, 1, 1, 1, 1, 1, 1, 1, 1, 1, 1, 1, 1, 1, 1, 1, 1, 1, 1, 1, 1, 1, 1, 1, 1, 1, 1, 1, 1, 1, 1, 1, 1, 1, 1, 1, 1, 1, 1, 1, 1, 1, 1, 1, 1, 1, 1, 1, 1, 1, 1, 1, 1, 1, 1, 1, 1, 1, 1, 1, 1, 1, 1, 1, 1, 1, 1, 1, 1, 1, 1, 1, 1, 1, 1, 1, 1, 1, 1, 1, 1, 1, 1, 1, 1, 1, 1, 1, 1, 1, 1, 1, 1, 1, 1, 1, 1, 1, 1, 1, 1, 1, 1, 1, 1, 1, 1, 1, 1, 1, 1, 1, 1, 1, 1, 1, 1, 1, 1, 1, 1, 1, 1, 1, 1, 1, 1, 1, 1, 1, 1, 1, 1, 1, 1, 1, 1, 1, 1, 1, 1, 1, 1, 1, 1, 1, 1, 1, 1, 1, 1, 1, 1, 1, 1, 1, 1, 1, 1, 1, 1, 1, 1, 1, 1, 1, 1, 1, 1, 1, 1, 1, 1, 1, 1, 1, 1, 1, 1, 1, 1, 1, 1, 1, 1, 1, 1, 1, 1, 1, 1, 1, 1, 1, 1, 1, 1, 1, 1, 1, 1, 1, 1, 1, 1, 1, 1, 1, 1, 1, 1, 1, 1, 1, 1, 1, 1, 1, 1, 1, 1, 1, 1, 1, 1, 1, 1, 1, 1, 1, 1, 1, 1, 1, 1, 1, 1, 1, 1, 1, 1, 1, 1, 1, 1, 1, 1, 1, 1, 1, 1, 1, 1, 1, 1, 1, 1, 1, 1, 1, 1, 1, 1, 1, 1, 1, 1, 1, 1, 1, 1, 1, 1, 1, 1, 1, 1, 1, 1, 1, 1, 1, 1, 1, 1, 1, 1, 1, 1, 1, 1, 1, 1, 1, 1, 1, 1, 1, 1, 1, 1, 1, 1, 1, 1, 1, 1, 1, 1, 1, 1, 1, 1, 1, 1, 1, 1, 1, 1, 1, 1, 1, 1, 1, 1, 1, 1, 1, 1, 1, 1, 1, 1, 1, 1, 1, 1, 1, 1, 1, 1, 1, 1, 1, 1, 1, 1, 1, 1, 1, 1, 1, 1, 1, 1, 1, 1, 1, 1, 1, 1, 1, 1, 1, 1, 1, 1, 1, 1, 1, 1, 1, 1, 1, 1, 1, 1, 1, 1, 1, 1, 1, 1, 1, 1, 1, 1, 1, 1, 1, 1, 1, 1, 1, 1, 1, 1, 1, 1, 1, 1, 1, 1, 1, 1, 1, 1, 1, 1, 1, 1, 1, 1, 1, 1, 1, 1, 1, 1, 1, 1, 1, 1, 1, 1, 1, 1, 1, 1, 1, 1, 1, 1, 1, 1, 1, 1, 1, 1, 1, 1, 1, 1, 1, 1, 1, 1, 1, 1, 1, 1, 1, 1, 1, 1, 1, 1, 1, 1, 1, 1, 1, 1, 1, 1, 1, 1, 1, 1, 1, 1, 1, 1, 1, 1, 1, 1, 1, 1, 1, 1, 1, 1, 1, 1, 1, 1, 1, 1, 1, 1, 1, 1, 1, 1, 1, 1, 1, 1, 1, 1, 1, 1, 1, 1, 1, 1, 1, 1, 1, 1, 1, 1, 1, 1, 1, 1, 1, 1, 1, 1, 1, 1, 1, 1, 1, 1, 1, 1, 1, 1, 1, 1, 1, 1, 1, 1, 1, 1, 1, 1, 1, 1, 1, 1, 1, 1, 1, 1, 1, 1, 1, 1, 1, 1, 1, 1, 1, 1, 1, 1, 1, 1, 1, 1, 1, 1, 1, 1, 1, 1, 1, 1, 1, 1, 1, 1, 1, 1, 1, 1, 1, 1, 1, 1, 1, 1, 1, 1, 1, 1, 1, 1, 1, 1, 1, 1, 1, 1, 1, 1, 1, 1, 1, 1, 1, 1, 1, 1, 1, 1, 1, 1, 1, 1, 1, 1, 1, 1, 1, 1, 1, 1, 1, 1, 1, 1, 1, 1, 1, 1, 1, 1, 1, 1, 1, 1, 1, 1, 1, 1, 1, 1, 1, 1, 1, 1, 1, 1, 1, 1, 1, 1, 1, 1, 1, 1, 1, 1, 1, 1, 1, 1, 1, 1, 1, 1, 1, 1, 1, 1, 1, 1, 1, 1, 1, 1, 1, 1, 1, 1, 1, 1, 1, 1, 1, 1, 1, 1, 1, 1, 1, 1, 1, 1, 1, 1, 1, 1, 1, 1, 1, 1, 1, 1, 1, 1, 1, 1, 1, 1, 1, 1, 1, 1, 1, 1, 1, 1, 1, 1, 1, 1, 1, 1, 1, 1, 1, 1, 1, 1, 1, 1, 1, 1, 1, 1, 1, 1, 1, 1, 1, 1, 1, 1, 1, 1, 1, 1, 1, 1, 1, 1, 1, 1, 1, 1, 1, 1, 1, 1, 1, 1, 1, 1, 1, 1, 1, 1, 1, 1, 1, 1, 1, 1, 1, 1, 1, 1, 1, 1, 1, 1, 1, 1, 1, 1, 1, 1, 1, 1, 1, 1, 1, 1, 1, 1, 1, 1, 1, 1, 1, 1, 1, 1, 1, 1, 1, 1, 1, 1, 1, 1, 1, 1, 1, 1, 1, 1, 1, 1, 1, 1, 1, 1, 1, 1, 1, 1, 1, 1, 1, 1, 1, 1, 1, 1, 1, 1, 1, 1, 1, 1, 1, 1, 1, 1, 1, 1, 1, 1, 1, 1, 1, 1, 1, 1, 1, 1, 1, 1, 1, 1, 1, 1, 1, 1, 1, 1, 1, 1, 1, 1, 1, 1, 1, 1, 1, 1, 1, 1, 1, 1, 1, 1, 1, 1, 1, 1, 1, 1, 1, 1, 1, 1, 1, 1, 1, 1, 1, 1, 1, 1, 1, 1, 1, 1, 1, 1, 1, 1, 1, 1, 1, 1, 1, 1, 1, 1, 1, 1, 1, 1, 1, 1, 1, 1, 1, 1, 1, 1, 1, 1, 1, 1, 1, 1, 1, 1, 1, 1, 1, 1, 1, 1, 1, 1, 1, 1, 1, 1, 1, 1, 1, 1, 1, 1, 1, 1, 1, 1, 1, 1, 1, 1, 1, 1, 1, 1, 1, 1, 1, 1, 1, 1, 1, 1, 1, 1, 1, 1, 1, 1, 1, 1, 1, 1, 1, 1, 1, 1, 1, 1, 1, 1, 1, 1, 1, 1, 1, 1, 1, 1, 1, 1, 1, 1, 1, 1, 1, 1, 1, 1, 1, 1, 1, 1, 1, 1, 1, 1, 1, 1, 1, 1, 1, 1, 1, 1, 1, 1, 1, 1, 1, 1, 1, 1, 1, 1, 1, 1, 1, 1, 1, 1, 1, 1, 1, 1, 1, 1, 1, 1, 1, 1, 1, 1, 1, 1, 1, 1, 1, 1, 1, 1, 1, 1, 1, 1, 1, 1, 1, 1, 1, 1, 1, 1, 1, 1, 1, 1, 1, 1, 1, 1, 1, 1, 1, 1, 1, 1, 1, 1, 1, 1, 1, 1, 1, 1, 1, 1, 1, 1, 1, 1, 1, 1, 1, 1, 1, 1, 1, 1, 1, 1, 1, 1, 1, 1, 1, 1, 1, 1, 1, 1, 1, 1, 1, 1, 1, 1, 1, 1, 1, 1, 1, 1, 1, 1, 1, 1, 1, 1, 1, 1, 1, 1, 1, 1, 1, 1, 1, 1, 1, 1, 1, 1, 1, 1, 1, 1, 1, 1, 1, 1, 1, 1, 1, 1, 1, 1, 1, 1, 1, 1, 1, 1, 1, 1, 1, 1, 1, 1, 1, 1, 1, 1, 1, 1, 1, 1, 1, 1, 1, 1, 1, 1, 1, 1, 1, 1, 1, 1, 1, 1, 1, 1, 1, 1, 1, 1, 1, 1, 1, 1, 1, 1, 1, 1, 1, 1, 1, 1, 1, 1, 1, 1, 1, 1, 1, 1, 1, 1, 1, 1, 1, 1, 1, 1, 1, 1, 1, 1, 1, 1, 1, 1, 1, 1, 1, 1, 1, 1, 1, 1, 1, 1, 1, 1, 1, 1, 1, 1, 1, 1, 1, 1, 1, 1, 1, 1, 1, 1, 1, 1, 1, 1, 1, 1, 1, 1, 1, 1, 1, 1, 1, 1, 1, 1, 1, 1, 1, 1, 1, 1, 1, 1, 1, 1, 1, 1, 1, 1, 1, 1, 1, 1, 1, 1, 1, 1, 1, 1, 1, 1, 1, 1, 1, 1, 1, 1, 1, 1, 1, 1, 1, 1, 1, 1, 1, 1, 1, 1, 1, 1, 1, 1, 1, 1, 1, 1, 1, 1, 1, 1, 1, 1, 1, 1, 1, 1, 1, 1, 1, 1, 1, 1, 1, 1, 1, 1, 1, 1, 1, 1, 1, 1, 1, 1, 1, 1, 1, 1, 1, 1, 1, 1, 1, 1, 1, 1, 1, 1, 1, 1, 1, 1, 1, 1, 1, 1, 1, 1, 1, 1, 1, 1, 1, 1, 1, 1, 1, 1, 1, 1, 1, 1, 1, 1, 1, 1, 1, 1, 1, 1, 1, 1, 1, 1, 1, 1, 1, 1, 1, 1, 1, 1, 1, 1, 1, 1, 1, 1, 1, 1, 1, 1, 1, 1, 1, 1, 1, 1, 1, 1, 1, 1, 1, 1, 1, 1, 1, 1, 1, 1, 1, 1, 1, 1, 1, 1, 1, 1, 1, 1, 1, 1, 1, 1, 1, 1, 1, 1, 1, 1, 1, 1, 1, 1, 1, 1, 1, 1, 1, 1, 1, 1, 1, 1, 1, 1, 1, 1, 1, 1, 1, 1, 1, 1, 1, 1, 1, 1, 1, 1, 1, 1, 1, 1, 1, 1, 1, 1, 1, 1, 1, 1, 1, 1, 1, 1, 1, 1, 1, 1, 1, 1, 1, 1, 1, 1, 1, 1, 1, 1, 1, 1, 1, 1, 1, 1, 1, 1, 1, 1, 1, 1, 1, 1, 1, 1, 1, 1, 1, 1, 1, 1, 1, 1, 1, 1, 1, 1, 1, 1, 1, 1, 1, 1, 1, 1, 1, 1, 1, 1, 1, 1, 1, 1, 1, 1, 1, 1, 1, 1, 1, 1, 1, 1, 1, 1, 1, 1, 1, 1, 1, 1, 1, 1, 1, 1, 1, 1, 1, 1, 1, 1, 1, 1, 1, 1, 1, 1, 1, 1, 1, 1, 1, 1, 1, 1, 1, 1, 1, 1, 1, 1, 1, 1, 1, 1, 1, 1, 1, 1, 1, 1, 1, 1, 1, 1, 1, 1, 1, 1, 1, 1, 1, 1, 1, 1, 1, 1, 1, 1, 1, 1, 1, 1, 1, 1, 1, 1, 1, 1, 1, 1, 1, 1, 1, 1, 1, 1, 1, 1, 1, 1, 1, 1, 1, 1, 1, 1, 1, 1, 1, 1, 1, 1, 1, 1, 1, 1, 1, 1, 1, 1, 1, 1, 1, 1, 1, 1, 1, 1, 1, 1, 1, 1, 1, 1, 1, 1, 1, 1, 1, 1, 1, 1, 1, 1, 1, 1, 1, 1, 1, 1, 1, 1, 1, 1, 1, 1, 1, 1, 1, 1, 1, 1, 1, 1, 1, 1, 1, 1, 1, 1, 1, 1, 1, 1, 1, 1, 1, 1, 1, 1, 1, 1, 1, 1, 1, 1, 1, 1, 1, 1, 1, 1, 1, 1, 1, 1, 1, 1, 1, 1, 1, 1, 1, 1, 1, 1, 1, 1, 1, 1, 1, 1, 1, 1, 1, 1, 1, 1, 1, 1, 1, 1, 1, 1, 1, 1, 1, 1, 1, 1, 1, 1, 1, 1, 1, 1, 1, 1, 1, 1, 1, 1, 1, 1, 1, 1, 1, 1, 1, 1, 1, 1, 1, 1, 1, 1, 1, 1, 1, 1, 1, 1, 1, 1, 1, 1, 1, 1, 1, 1, 1, 1, 1, 1, 1, 1, 1, 1, 1, 1, 1, 1, 1, 1, 1, 1, 1, 1, 1, 1, 1, 1, 1, 1, 1, 1, 1, 1, 1, 1, 1, 1, 1, 1, 1, 1, 1, 1, 1, 1, 1, 1, 1, 1, 1, 1, 1, 1, 1, 1, 1, 1, 1, 1, 1, 1, 1, 1, 1, 1, 1, 1, 1, 1, 1, 1, 1, 1, 1, 1, 1, 1, 1, 1, 1, 1, 1, 1, 1, 1, 1, 1, 1, 1, 1, 1, 1, 1, 1, 1, 1, 1, 1, 1, 1, 1, 1, 1, 1, 1, 1, 1, 1, 1, 1, 1, 1, 1, 1, 1, 1, 1, 1, 1, 1, 1, 1, 1, 1, 1, 1, 1, 1, 1, 1, 1, 1, 1, 1, 1, 1, 1, 1, 1, 1, 1, 1, 1, 1, 1, 1, 1, 1, 1, 1, 1, 1, 1, 1, 1, 1, 1, 1, 1, 1, 1, 1, 1, 1, 1, 1, 1, 1, 1, 1, 1, 1, 1, 1, 1, 1, 1, 1, 1, 1, 1, 1, 1, 1, 1, 1, 1, 1, 1, 1, 1, 1, 1, 1, 1, 1, 1, 1, 1, 1, 1, 1, 1, 1, 1, 1, 1, 1, 1, 1, 1, 1, 1, 1, 1, 1, 1, 1, 1, 1, 1, 1, 1, 1, 1, 1, 1, 1, 1, 1, 1, 1, 1, 1, 1, 1, 1, 1, 1, 1, 1, 1, 1, 1, 1, 1, 1, 1, 1, 1, 1, 1, 1, 1, 1, 1, 1, 1, 1, 1, 1, 1, 1, 1, 1, 1, 1, 1, 1, 1, 1, 1, 1, 1, 1, 1, 1, 1, 1, 1, 1, 1, 1, 1, 1, 1, 1, 1, 1, 1, 1, 1, 1, 1, 1, 1, 1, 1, 1, 1, 1, 1, 1, 1, 1, 1, 1, 1, 1, 1, 1, 1, 1, 1, 1, 1, 1, 1, 1, 1, 1, 1, 1, 1, 1, 1, 1, 1, 1, 1, 1, 1, 1, 1, 1, 1, 1, 1, 1, 1, 1, 1, 1, 1, 1, 1, 1, 1, 1, 1, 1, 1, 1, 1, 1, 1, 1, 1, 1, 1, 1, 1, 1, 1, 1, 1, 1, 1, 1, 1, 1, 1, 1, 1, 1, 1, 1, 1, 1, 1, 1, 1, 1, 1, 1, 1, 1, 1, 1, 1, 1, 1, 1, 1, 1, 1, 1, 1, 1, 1, 1, 1, 1, 1, 1, 1, 1, 1, 1, 1, 1, 1, 1, 1, 1, 1, 1, 1, 1, 1, 1, 1, 1, 1, 1, 1, 1, 1, 1, 1, 1, 1, 1, 1, 1, 1, 1, 1, 1, 1, 1, 1, 1, 1, 1, 1, 1, 1, 1, 1, 1, 1, 1, 1, 1, 1, 1, 1, 1, 1, 1, 1, 1, 1, 1, 1, 1, 1, 1, 1, 1, 1, 1, 1, 1, 1, 1, 1, 1, 1, 1, 1, 1, 1, 1, 1, 1, 1, 1, 1, 1, 1, 1, 1, 1, 1, 1, 1, 1, 1, 1, 1, 1, 1, 1, 1, 1, 1, 1, 1, 1, 1, 1, 1, 1, 1, 1, 1, 1, 1, 1, 1, 1, 1, 1, 1, 1, 1, 1, 1, 1, 1, 1, 1, 1, 1, 1, 1, 1, 1, 1, 1, 1, 1, 1, 1, 1, 1, 1, 1, 1, 1, 1, 1, 1, 1, 1, 1, 1, 1, 1, 1, 1, 1, 1, 1, 1, 1, 1, 1, 1, 1, 1, 1, 1, 1, 1, 1, 1, 1, 1, 1, 1, 1, 1, 1, 1, 1, 1, 1, 1, 1, 1, 1, 1, 1, 1, 1, 1, 1, 1, 1, 1, 1, 1, 1, 1, 1, 1, 1, 1, 1, 1, 1, 1, 1, 1, 1, 1, 1, 1, 1, 1, 1, 1, 1, 1, 1, 1, 1, 1, 1, 1, 1, 1, 1, 1, 1, 1, 1, 1, 1, 1, 1, 1, 1, 1, 1, 1, 1, 1, 1, 1, 1, 1, 1, 1, 1, 1, 1, 1, 1, 1, 1, 1, 1, 1, 1, 1, 1, 1, 1, 1, 1, 1, 1, 1, 1, 1, 1, 1, 1, 1, 1, 1, 1, 1, 1, 1, 1, 1, 1, 1, 1, 1, 1, 1, 1, 1, 1, 1, 1, 1, 1, 1, 1, 1, 1, 1, 1, 1, 1, 1, 1, 1, 1, 1, 1, 1, 1, 1, 1, 1, 1, 1, 1, 1, 1, 1, 1, 1, 1, 1, 1, 1, 1, 1, 1, 1, 1, 1, 1, 1, 1, 1, 1, 1, 1, 1, 1, 1, 1, 1, 1, 1, 1, 1, 1, 1, 1, 1, 1, 1, 1, 1, 1, 1, 1, 1, 1, 1, 1, 1, 1, 1, 1, 1, 1, 1, 1, 1, 1, 1, 1, 1, 1, 1, 1, 1, 1, 1, 1, 1, 1, 1, 1, 1, 1, 1, 1, 1, 1, 1, 1, 1, 1, 1, 1, 1, 1, 1, 1, 1, 1, 1, 1, 1, 1, 1, 1, 1, 1, 1, 1, 1, 1, 1, 1, 1, 1, 1, 1, 1, 1, 1, 1, 1, 1, 1, 1, 1, 1, 1, 1, 1, 1, 1, 1, 1, 1, 1, 1, 1, 1, 1, 1, 1, 1, 1, 1, 1, 1, 1, 1, 1, 1, 1, 1, 1, 1, 1, 1, 1, 1, 1, 1, 1, 1, 1, 1, 1, 1, 1, 1, 1, 1, 1, 1, 1, 1, 1, 1, 1, 1, 1, 1, 1, 1, 1, 1, 1, 1, 1, 1, 1, 1, 1, 1, 1, 1, 1, 1, 1, 1, 1, 1, 1, 1, 1, 1, 1, 1, 1, 1, 1, 1, 1, 1, 1, 1, 1, 1, 1, 1, 1, 1, 1, 1, 1, 1, 1, 1, 1, 1, 1, 1, 1, 1, 1, 1, 1, 1, 1, 1, 1, 1, 1, 1, 1, 1, 1, 1, 1, 1, 1, 1, 1, 1, 1, 1, 1, 1, 1, 1, 1, 1, 1, 1, 1, 1, 1, 1, 1, 1, 1, 1, 1, 1, 1, 1, 1, 1, 1, 1, 1, 1, 1, 1, 1, 1, 1, 1, 1, 1, 1, 1, 1, 1, 1, 1, 1, 1, 1, 1, 1, 1, 1, 1, 1, 1, 1, 1, 1, 1, 1, 1, 1, 1, 1, 1, 1, 1, 1, 1, 1, 1, 1, 1, 1, 1, 1, 1, 1, 1, 1, 1, 1, 1, 1, 1, 1, 1, 1, 1, 1, 1, 1, 1, 1, 1, 1, 1, 1, 1, 1, 1, 1, 1, 1, 1, 1, 1, 1, 1, 1, 1, 1, 1, 1, 1, 1, 1, 1, 1, 1, 1, 1, 1, 1, 1, 1, 1, 1, 1, 1, 1, 1, 1, 1, 1, 1, 1, 1, 1, 1, 1, 1, 1, 1, 1, 1, 1, 1, 1, 1, 1, 1, 1, 1, 1, 1, 1, 1, 1, 1, 1, 1, 1, 1, 1, 1, 1, 1, 1, 1, 1, 1, 1, 1, 1, 1, 1, 1, 1, 1, 1, 1, 1, 1, 1, 1, 1, 1, 1, 1, 1, 1, 1, 1, 1, 1, 1, 1, 1, 1, 1, 1, 1, 1, 1, 1, 1, 1, 1, 1, 1, 1, 1, 1, 1, 1, 1, 1, 1, 1, 1, 1, 1, 1, 1, 1, 1, 1, 1, 1, 1, 1, 1, 1, 1, 1, 1, 1, 1, 1, 1, 1, 1, 1, 1, 1, 1, 1, 1, 1, 1, 1, 1, 1, 1, 1, 1, 1, 1, 1, 1, 1, 1, 1, 1, 1, 1, 1, 1, 1, 1, 1, 1, 1, 1, 1, 1, 1, 1, 1, 1, 1, 1, 1, 1, 1, 1, 1, 1, 1, 1, 1, 1, 1, 1, 1, 1, 1, 1, 1, 1, 1, 1, 1, 1, 1, 1, 1, 1, 1, 1, 1, 1, 1, 1, 1, 1, 1, 1, 1, 1, 1, 1, 1, 1, 1, 1, 1, 1, 1, 1, 1, 1, 1, 1, 1, 1, 1, 1, 1, 1, 1, 1, 1, 1, 1, 1, 1, 1, 1, 1, 1, 1, 1, 1, 1, 1, 1, 1, 1, 1, 1, 1, 1, 1, 1, 1, 1, 1, 1, 1, 1, 1, 1, 1, 1, 1, 1, 1, 1, 1, 1, 1, 1, 1, 1, 1, 1, 1, 1, 1, 1, 1, 1, 1, 1, 1, 1, 1, 1, 1, 1, 1, 1, 1, 1, 1, 1, 1, 1, 1, 1, 1, 1, 1, 1, 1, 1, 1, 1, 1, 1, 1, 1, 1, 1, 1, 1, 1, 1, 1, 1, 1, 1, 1, 1, 1, 1, 1, 1, 1, 1, 1, 1, 1, 1, 1, 1, 1, 1, 1, 1, 1, 1, 1, 1, 1, 1, 1, 1, 1, 1, 1, 1, 1, 1, 1, 1, 1, 1, 1, 1, 1, 1, 1, 1, 1, 1, 1, 1, 1, 1, 1, 1, 1, 1, 1, 1, 1, 1, 1, 1, 1, 1, 1, 1, 1, 1, 1, 1, 1, 1, 1, 1, 1, 1, 1, 1, 1, 1, 1, 1, 1, 1, 1, 1, 1, 1, 1, 1, 1, 1, 1, 1, 1, 1, 1, 1, 1, 1, 1, 1, 1, 1, 1, 1, 1, 1, 1, 1, 1, 1, 1, 1, 1, 1, 1, 1, 1, 1, 1, 1, 1, 1, 1, 1, 1, 1, 1, 1, 1, 1, 1, 1, 1, 1, 1, 1, 1, 1, 1, 1, 1, 1, 1, 1, 1, 1, 1, 1, 1, 1, 1, 1, 1, 1, 1, 1, 1, 1, 1, 1, 1, 1, 1, 1, 1, 1, 1, 1, 1, 1, 1, 1, 1, 1, 1, 1, 1, 1, 1, 1, 1, 1, 1, 1, 1, 1, 1, 1, 1, 1, 1, 1, 1, 1, 1, 1, 1, 1, 1, 1, 1, 1, 1, 1, 1, 1, 1, 1, 1, 1, 1, 1, 1, 1, 1, 1, 1, 1, 1, 1, 1, 1, 1, 1, 1, 1, 1, 1, 1, 1, 1, 1, 1, 1, 1, 1, 1, 1, 1, 1, 1, 1, 1, 1, 1, 1, 1, 1, 1, 1, 1, 1, 1, 1, 1, 1, 1, 1, 1, 1, 1, 1, 1, 1, 1, 1, 1, 1, 1, 1, 1, 1, 1, 1, 1, 1, 1, 1, 1, 1, 1, 1, 1, 1, 1, 1, 1, 1, 1, 1, 1, 1, 1, 1, 1, 1, 1, 1, 1, 1, 1, 1, 1, 1, 1, 1, 1, 1, 1, 1, 1, 1, 1, 1, 1, 1, 1, 1, 1, 1, 1, 1, 1, 1, 1, 1, 1, 1, 1, 1, 1, 1, 1, 1, 1, 1, 1, 1, 1, 1, 1, 1, 1, 1, 1, 1, 1, 1, 1, 1, 1, 1, 1, 1, 1, 1, 1, 1, 1, 1, 1, 1, 1, 1, 1, 1, 1, 1, 1, 1, 1, 1, 1, 1, 1, 1, 1, 1, 1, 1, 1, 1, 1, 1, 1, 1, 1, 1, 1, 1, 1, 1, 1, 1, 1, 1, 1, 1, 1, 1, 1, 1, 1, 1, 1, 1, 1, 1, 1, 1, 1, 1, 1, 1, 1, 1, 1, 1, 1, 1, 1, 1, 1, 1, 1, 1, 1, 1, 1, 1, 1, 1, 1, 1, 1, 1, 1, 1, 1, 1, 1, 1, 1, 1, 1, 1, 1, 1, 1, 1, 1, 1, 1, 1, 1, 1, 1, 1, 1, 1, 1, 1, 1, 1, 1, 1, 1, 1, 1, 1, 1, 1, 1, 1, 1, 1, 1, 1, 1, 1, 1, 1, 1, 1, 1, 1, 1, 1, 1, 1, 1, 1, 1, 1, 1, 1, 1, 1, 1, 1, 1, 1, 1, 1, 1, 1, 1, 1, 1, 1, 1, 1, 1, 1, 1, 1, 1, 1, 1, 1, 1, 1, 1, 1, 1, 1, 1, 1, 1, 1, 1, 1, 1, 1, 1, 1, 1, 1, 1, 1, 1, 1, 1, 1, 1, 1, 1, 1, 1, 1, 1, 1, 1, 1, 1, 1, 1, 1, 1, 1, 1, 1, 1, 1, 1, 1, 1, 1, 1, 1, 1, 1, 1, 1, 1, 1, 1, 1, 1, 1, 1, 1, 1, 1, 1, 1, 1, 1, 1, 1, 1, 1, 1, 1, 1, 1, 1, 1, 1, 1, 1, 1, 1, 1, 1, 1, 1, 1, 1, 1, 1, 1, 1, 1, 1, 1, 1, 1, 1, 1, 1, 1, 1, 1, 1, 1, 1, 1, 1, 1, 1, 1, 1, 1, 1, 1, 1, 1, 1, 1, 1, 1, 1, 1, 1, 1, 1, 1, 1, 1, 1, 1, 1, 1, 1, 1, 1, 1, 1, 1, 1, 1, 1, 1, 1, 1, 1, 1, 1, 1, 1, 1, 1, 1, 1, 1, 1, 1, 1, 1, 1, 1, 1, 1, 1, 1, 1, 1, 1, 1, 1, 1, 1, 1, 1, 1, 1, 1, 1, 1, 1, 1, 1, 1, 1, 1, 1, 1, 1, 1, 1, 1, 1, 1, 1, 1, 1, 1, 1, 1, 1, 1, 1, 1, 1, 1, 1, 1, 1, 1, 1, 1, 1, 1, 1, 1, 1, 1, 1, 1, 1, 1, 1, 1, 1, 1, 1, 1, 1, 1, 1, 1, 1, 1, 1, 1, 1, 1, 1, 1, 1, 1, 1, 1, 1, 1, 1, 1, 1, 1, 1, 1, 1, 1, 1, 1, 1, 1, 1, 1, 1, 1, 1, 1, 1, 1, 1, 1, 1, 1, 1, 1, 1, 1, 1, 1, 1, 1, 1, 1, 1, 1, 1, 1, 1, 1, 1, 1, 1, 1, 1, 1, 1, 1, 1, 1, 1, 1, 1, 1, 1, 1, 1, 1, 1, 1, 1, 1, 1, 1, 1, 1, 1, 1, 1, 1, 1, 1, 1, 1, 1, 1, 1, 1, 1, 1, 1, 1, 1, 1, 1, 1, 1, 1, 1, 1, 1, 1, 1, 1, 1, 1, 1, 1, 1, 1, 1, 1, 1, 1, 1, 1, 1, 1, 1, 1, 1, 1, 1, 1, 1, 1, 1, 1, 1, 1, 1, 1, 1, 1, 1, 1, 1, 1, 1, 1, 1, 1, 1, 1, 1, 1, 1, 1, 1, 1, 1, 1, 1, 1, 1, 1, 1, 1, 1, 1, 1, 1, 1, 1, 1, 1, 1, 1, 1, 1, 1, 1, 1, 1, 1, 1, 1, 1, 1, 1, 1, 1, 1, 1, 1, 1, 1, 1, 1, 1, 1, 1, 1, 1, 1, 1, 1, 1, 1, 1, 1, 1, 1, 1, 1, 1, 1, 1, 1, 1, 1, 1, 1, 1, 1, 1, 1, 1, 1, 1, 1, 1, 1, 1, 1, 1, 1, 1, 1, 1, 1, 1, 1, 1, 1, 1, 1, 1, 1, 1, 1, 1, 1, 1, 1, 1, 1, 1, 1, 1, 1, 1, 1, 1, 1, 1, 1, 1, 1, 1, 1, 1, 1, 1, 1, 1, 1, 1, 1, 1, 1, 1, 1, 1, 1, 1, 1, 1, 1, 1, 1, 1, 1, 1, 1, 1, 1, 1, 1, 1, 1, 1, 1, 1, 1, 1, 1, 1, 1, 1, 1, 1, 1, 1, 1, 1, 1, 1, 1, 1, 1, 1, 1, 1, 1, 1, 1, 1, 1, 1, 1, 1, 1, 1, 1, 1, 1, 1, 1, 1, 1, 1, 1, 1, 1, 1, 1, 1, 1, 1, 1, 1, 1, 1, 1, 1, 1, 1, 1, 1, 1, 1, 1, 1, 1, 1, 1, 1, 1, 1, 1, 1, 1, 1, 1, 1, 1, 1, 1, 1, 1, 1, 1, 1, 1, 1, 1, 1, 1, 1, 1, 1, 1, 1, 1, 1, 1, 1, 1, 1, 1, 1, 1, 1, 1, 1, 1, 1, 1, 1, 1, 1, 1, 1, 1, 1, 1, 1, 1, 1, 1, 1, 1, 1, 1, 1, 1, 1, 1, 1, 1, 1, 1, 1, 1, 1, 1, 1, 1, 1, 1, 1, 1, 1, 1, 1, 1, 1, 1, 1, 1, 1, 1, 1, 1, 1, 1, 1, 1, 1, 1, 1, 1, 1, 1, 1, 1, 1, 1, 1, 1, 1, 1, 1, 1, 1, 1, 1, 1, 1, 1, 1, 1, 1, 1, 1, 1, 1, 1, 1, 1, 1, 1, 1, 1, 1, 1, 1, 1, 1, 1, 1, 1, 1, 1, 1, 1, 1, 1, 1, 1, 1, 1, 1, 1, 1, 1, 1, 1, 1, 1, 1, 1, 1, 1, 1, 1, 1, 1, 1, 1, 1, 1, 1, 1, 1, 1, 1, 1, 1, 1, 1, 1, 1, 1, 1, 1, 1, 1, 1, 1, 1, 1, 1, 1, 1, 1, 1, 1, 1, 1, 1, 1, 1, 1, 1, 1, 1, 1, 1, 1, 1, 1, 1, 1, 1, 1, 1, 1, 1, 1, 1, 1, 1, 1, 1, 1, 1, 1, 1, 1, 1, 1, 1, 1, 1, 1, 1, 1, 1, 1, 1, 1, 1, 1, 1, 1, 1, 1, 1, 1, 1, 1, 1, 1, 1, 1, 1, 1, 1, 1, 1, 1, 1, 1, 1, 1, 1, 1, 1, 1, 1, 1, 1, 1, 1, 1, 1, 1, 1, 1, 1, 1, 1, 1, 1, 1, 1, 1, 1, 1, 1, 1, 1, 1, 1, 1, 1, 1, 1, 1, 1, 1, 1, 1, 1, 1, 1, 1, 1, 1, 1, 1, 1, 1, 1, 1, 1, 1, 1, 1, 1, 1, 1, 1, 1, 1, 1, 1, 1, 1, 1, 1, 1, 1, 1, 1, 1, 1, 1, 1, 1, 1, 1, 1, 1, 1, 1, 1, 1, 1, 1, 1, 1, 1, 1, 1, 1, 1, 1, 1, 1, 1, 1, 1, 1, 1, 1, 1, 1, 1, 1, 1, 1, 1, 1, 1, 1, 1, 1, 1, 1, 1, 1, 1, 1, 1, 1, 1, 1, 1, 1, 1, 1, 1, 1, 1, 1, 1, 1, 1, 1, 1, 1, 1, 1, 1, 1, 1, 1, 1, 1, 1, 1, 1, 1, 1, 1, 1, 1, 1, 1, 1, 1, 1, 1, 1, 1, 1, 1, 1, 1, 1, 1, 1, 1, 1, 1, 1, 1, 1, 1, 1, 1, 1, 1, 1, 1, 1, 1, 1, 1, 1, 1, 1, 1, 1, 1, 1, 1, 1, 1, 1, 1, 1, 1, 1, 1, 1, 1, 1, 1, 1, 1, 1, 1, 1, 1, 1, 1, 1, 1, 1, 1, 1, 1, 1, 1, 1, 1, 1, 1, 1, 1, 1, 1, 1, 1, 1, 1, 1, 1, 1, 1, 1, 1, 1, 1, 1, 1, 1, 1, 1, 1, 1, 1, 1, 1, 1, 1, 1, 1, 1, 1, 1, 1, 1, 1, 1, 1, 1, 1, 1, 1, 1, 1, 1, 1, 1, 1, 1, 1, 1, 1, 1, 1, 1, 1, 1, 1, 1, 1, 1, 1, 1, 1, 1, 1, 1, 1, 1, 1, 1, 1, 1, 1, 1, 1, 1, 1, 1, 1, 1, 1, 1, 1, 1, 1, 1, 1, 1, 1, 1, 1, 1, 1, 1, 1, 1, 1, 1, 1, 1, 1, 1, 1, 1, 1, 1, 1, 1, 1, 1, 1, 1, 1, 1, 1, 1, 1, 1, 1, 1, 1, 1, 1, 1, 1, 1, 1, 1, 1, 1, 1, 1, 1, 1, 1, 1, 1, 1, 1, 1, 1, 1, 1, 1, 1, 1, 1, 1, 1, 1, 1, 1, 1, 1, 1, 1, 1, 1, 1, 1, 1, 1, 1, 1, 1, 1, 1, 1, 1, 1, 1, 1, 1, 1, 1, 1, 1, 1, 1, 1, 1, 1, 1, 1, 1, 1, 1, 1, 1, 1, 1, 1, 1, 1, 1, 1, 1, 1, 1, 1, 1, 1, 1, 1, 1, 1, 1, 1, 1, 1, 1, 1, 1, 1, 1, 1, 1, 1, 1, 1, 1, 1, 1, 1, 1, 1, 1, 1, 1, 1, 1, 1, 1, 1, 1, 1, 1, 1, 1, 1, 1, 1, 1, 1, 1, 1, 1, 1, 1, 1, 1, 1, 1, 1, 1, 1, 1, 1, 1, 1, 1, 1, 1, 1, 1, 1, 1, 1, 1, 1, 1, 1, 1, 1, 1, 1, 1, 1, 1, 1, 1, 1, 1, 1, 1, 1, 1, 1, 1, 1, 1, 1, 1, 1, 1, 1, 1, 1, 1, 1, 1, 1, 1, 1, 1, 1, 1, 1, 1, 1, 1, 1, 1, 1, 1, 1, 1, 1, 1, 1, 1, 1, 1, 1, 1, 1, 1, 1, 1, 1, 1, 1, 1, 1, 1, 1, 1, 1, 1, 1, 1, 1, 1, 1, 1, 1, 1, 1, 1, 1, 1, 1, 1, 1, 1, 1, 1, 1, 1, 1, 1, 1, 1, 1, 1, 1, 1, 1, 1, 1, 1, 1, 1, 1, 1, 1, 1, 1, 1, 1, 1, 1, 1, 1, 1, 1, 1, 1, 1, 1, 1, 1, 1, 1, 1, 1, 1, 1, 1, 1, 1, 1, 1, 1, 1, 1, 1, 1, 1, 1, 1, 1, 1, 1, 1, 1, 1, 1, 1, 1, 1, 1, 1, 1, 1, 1, 1, 1, 1, 1, 1, 1, 1, 1, 1, 1, 1, 1, 1, 1, 1, 1, 1, 1, 1, 1, 1, 1, 1, 1, 1, 1, 1, 1, 1, 1, 1, 1, 1, 1, 1, 1, 1, 1, 1, 1, 1, 1, 1, 1, 1, 1, 1, 1, 1, 1, 1, 1, 1, 1, 1, 1, 1, 1, 1, 1, 1, 1, 1, 1, 1, 1, 1, 1, 1, 1, 1, 1, 1, 1, 1, 1, 1, 1, 1, 1, 1, 1, 1, 1, 1, 1, 1, 1, 1, 1, 1, 1, 1, 1, 1, 1, 1, 1, 1, 1, 1, 1, 1, 1, 1, 1, 1, 1, 1, 1, 1, 1, 1, 1, 1, 1, 1, 1, 1, 1, 1, 1, 1, 1, 1, 1, 1, 1, 1, 1, 1, 1, 1, 1, 1, 1, 1, 1, 1, 1, 1, 1, 1, 1, 1, 1, 1, 1, 1, 1, 1, 1, 1, 1, 1, 1, 1, 1, 1, 1, 1, 1, 1, 1, 1, 1, 1, 1, 1, 1, 1, 1, 1, 1, 1, 1, 1, 1, 1, 1, 1, 1, 1, 1, 1, 1, 1, 1, 1, 1, 1, 1, 1, 1, 1, 1, 1, 1, 1, 1, 1, 1, 1, 1, 1, 1, 1, 1, 1, 1, 1, 1, 1, 1, 1, 1, 1, 1, 1, 1, 1, 1, 1, 1, 1, 1, 1, 1, 1, 1, 1, 1, 1, 1, 1, 1, 1, 1, 1, 1, 1, 1, 1, 1, 1, 1, 1, 1, 1, 1, 1, 1, 1, 1, 1, 1, 1, 1, 1, 1, 1, 1, 1, 1, 1, 1, 1, 1, 1, 1, 1, 1, 1, 1, 1, 1, 1, 1, 1, 1, 1, 1, 1, 1, 1, 1, 1, 1, 1, 1, 1, 1, 1, 1, 1, 1, 1, 1, 1, 1, 1, 1, 1, 1, 1, 1, 1, 1, 1, 1, 1, 1, 1, 1, 1, 1, 1, 1, 1, 1, 1, 1, 1, 1, 1, 1, 1, 1, 1, 1, 1, 1, 1, 1, 1, 1, 1, 1, 1, 1, 1, 1, 1, 1, 1, 1, 1, 1, 1, 1, 1, 1, 1, 1, 1, 1, 1, 1, 1, 1, 1, 1, 1, 1, 1, 1, 1, 1, 1, 1, 1, 1, 1, 1, 1, 1, 1, 1, 1, 1, 1, 1, 1, 1, 1, 1, 1, 1, 1, 1, 1, 1, 1, 1, 1, 1, 1, 1, 1, 1, 1, 1, 1, 1, 1, 1, 1, 1, 1, 1, 1, 1, 1, 1, 1, 1, 1, 1, 1, 1, 1, 1, 1, 1, 1, 1, 1, 1, 1, 1, 1, 1, 1, 1, 1, 1, 1, 1, 1, 1, 1, 1, 1, 1, 1, 1, 1, 1, 1, 1, 1, 1, 1, 1, 1, 1, 1, 1, 1, 1, 1, 1, 1, 1, 1, 1, 1, 1, 1, 1, 1, 1, 1, 1, 1, 1, 1, 1, 1, 1, 1, 1, 1, 1, 1, 1, 1, 1, 1, 1, 1, 1, 1, 1, 1, 1, 1, 1, 1, 1, 1, 1, 1, 1, 1, 1, 1, 1, 1, 1, 1, 1, 1, 1, 1, 1, 1, 1, 1, 1, 1, 1, 1, 1, 1, 1, 1, 1, 1, 1, 1, 1, 1, 1, 1, 1, 1, 1, 1, 1, 1, 1, 1, 1, 1, 1, 1, 1, 1, 1, 1, 1, 1, 1, 1, 1, 1, 1, 1, 1, 1, 1, 1, 1, 1, 1, 1, 1, 1, 1, 1, 1, 1, 1, 1, 1, 1, 1, 1, 1, 1, 1, 1, 1, 1, 1, 1, 1, 1, 1, 1, 1, 1, 1, 1, 1, 1, 1, 1, 1, 1, 1, 1, 1, 1, 1, 1, 1, 1, 1, 1, 1, 1, 1, 1, 1, 1, 1, 1, 1, 1, 1, 1, 1, 1, 1, 1, 1, 1, 1, 1, 1, 1, 1, 1, 1, 1, 1, 1, 1, 1, 1, 1, 1, 1, 1, 1, 1, 1, 1, 1, 1, 1, 1, 1, 1, 1, 1, 1, 1, 1, 1, 1, 1, 1, 1, 1, 1, 1, 1, 1, 1, 1, 1, 1, 1, 1, 1, 1, 1, 1, 1, 1, 1, 1, 1, 1, 1, 1, 1, 1, 1, 1, 1, 1, 1, 1, 1, 1, 1, 1, 1, 1, 1, 1, 1, 1, 1, 1, 1, 1, 1, 1, 1, 1, 1, 1, 1, 1, 1, 1, 1, 1, 1, 1, 1, 1, 1, 1, 1, 1, 1, 1, 1, 1, 1, 1, 1, 1, 1, 1, 1, 1, 1, 1, 1, 1, 1, 1, 1, 1, 1, 1, 1, 1, 1, 1, 1, 1, 1, 1, 1, 1, 1, 1, 1, 1, 1, 1, 1, 1, 1, 1, 1, 1, 1, 1, 1, 1, 1, 1, 1, 1, 1, 1, 1, 1, 1, 1, 1, 1, 1, 1, 1, 1, 1, 1, 1, 1, 1, 1, 1, 1, 1, 1, 1, 1, 1, 1, 1, 1, 1, 1, 1, 1, 1, 1, 1, 1, 1, 1, 1, 1, 1, 1, 1, 1, 1, 1, 1, 1, 1, 1, 1, 1, 1, 1, 1, 1, 1, 1, 1, 1, 1, 1, 1, 1, 1]\n"
          ]
        }
      ]
    },
    {
      "cell_type": "code",
      "source": [
        "label_2 = [0 if i <=5 else 1 for i in label_2]\n",
        "print(label_2)"
      ],
      "metadata": {
        "colab": {
          "base_uri": "https://localhost:8080/"
        },
        "id": "uq3e8wirzCvr",
        "outputId": "f71076ae-ea53-41ae-f9ae-c4673e199d31",
        "collapsed": true
      },
      "id": "uq3e8wirzCvr",
      "execution_count": null,
      "outputs": [
        {
          "output_type": "stream",
          "name": "stdout",
          "text": [
            "[0, 1, 0, 1, 0, 1, 0, 1, 1, 1, 0, 0, 1, 1, 1, 1, 1, 1, 1, 1, 0, 1, 0, 1, 1, 0, 0, 1, 0, 1, 1, 1, 0, 1, 1, 1, 1, 1, 1, 1, 1, 1, 0, 0, 1, 0, 1, 0, 1, 1, 1, 1, 1, 1, 1, 1, 1, 1, 1, 1, 1, 1, 1, 1, 1, 1, 0, 0, 1, 0, 1, 1, 1, 0, 0, 1, 1, 1, 0, 0, 1, 1, 1, 1, 1, 1, 1, 1, 1, 1, 1, 1, 1, 1, 1, 1, 0, 1, 0, 1, 1, 1, 1, 1, 1, 0, 0, 0, 1, 0, 1, 0, 1, 0, 1, 1, 1, 1, 1, 1, 1, 1, 1, 1, 1, 1, 1, 1, 1, 1, 1, 1, 1, 1, 0, 1, 1, 0, 1, 1, 1, 1, 1, 0, 1, 1, 1, 1, 1, 1, 0, 1, 0, 0, 0, 0, 1, 1, 0, 1, 0, 0, 1, 1, 1, 0, 1, 0, 1, 1, 0, 1, 0, 0, 0, 1, 1, 0, 0, 1, 0, 1, 1, 0, 1, 1, 1, 1, 1, 1, 1, 1, 0, 1, 0, 1, 1, 1, 1, 1, 0, 0, 1, 0, 1, 0, 0, 1, 1, 1, 1, 1, 0, 1, 1, 0, 1, 0, 1, 1, 1, 0, 1, 1, 1, 1, 0, 0, 1, 0, 1, 0, 1, 1, 1, 1, 1, 1, 0, 1, 1, 1, 1, 1, 0, 1, 1, 1, 1, 1, 1, 1, 0, 0, 0, 1, 0, 1, 1, 1, 1, 1, 1, 1, 1, 1, 0, 0, 1, 0, 0, 1, 1, 1, 1, 1, 1, 0, 1, 0, 1, 0, 1, 0, 1, 1, 1, 1, 1, 0, 1, 0, 0, 1, 1, 0, 1, 1, 1, 1, 1, 1, 1, 1, 1, 1, 1, 1, 1, 1, 1, 0, 1, 1, 1, 1, 1, 1, 1, 1, 1, 1, 1, 1, 1, 1, 1, 1, 0, 0, 0, 1, 1, 1, 1, 0, 1, 0, 0, 0, 0, 0, 1, 1, 1, 1, 0, 1, 1, 1, 0, 1, 1, 1, 1, 1, 0, 1, 1, 1, 1, 1, 1, 0, 1, 0, 1, 0, 1, 1, 1, 1, 0, 1, 1, 1, 1, 0, 1, 1, 0, 1, 1, 1, 0, 1, 0, 1, 1, 1, 1, 1, 1, 1, 1, 0, 0, 1, 1, 1, 1, 1, 1, 1, 1, 1, 0, 1, 1, 1, 1, 1, 1, 1, 1, 1, 1, 1, 1, 1, 1, 1, 1, 1, 0, 1, 0, 1, 1, 1, 1, 0, 0, 1, 0, 1, 0, 1, 1, 1, 1, 1, 0, 1, 0, 1, 1, 0, 1, 1, 1, 1, 1, 1, 0, 1, 1, 1, 1, 0, 0, 0, 1, 1, 1, 1, 0, 1, 1, 1, 0, 1, 1, 1, 1, 1, 1, 1, 0, 1, 1, 1, 1, 0, 1, 1, 0, 1, 1, 1, 0, 1, 1, 1, 1, 1, 1, 1, 1, 1, 1, 1, 1, 1, 1, 1, 1, 0, 1, 1, 1, 0, 1, 1, 1, 1, 0, 1, 0, 1, 1, 1, 0, 1, 1, 1, 1, 1, 1, 0, 1, 0, 0, 0, 1, 1, 0, 1, 1, 1, 0, 1, 0, 1, 1, 1, 1, 1, 1, 1, 1, 1, 1, 0, 1, 1, 1, 1, 1, 1, 1, 1, 0, 0, 1, 1, 1, 1, 1, 1, 0, 1, 0, 1, 1, 1, 1, 0, 1, 1, 0, 1, 1, 1, 1, 1, 1, 1, 1, 1, 1, 1, 1, 1, 1, 0, 1, 1, 0, 1, 1, 1, 0, 1, 1, 1, 0, 1, 0, 1, 0, 1, 1, 1, 1, 1, 1, 1, 0, 1, 1, 0, 1, 0, 0, 1, 0, 1, 1, 1, 0, 1, 0, 1, 1, 1, 1, 1, 1, 1, 1, 1, 0, 0, 0, 1, 1, 1, 1, 0, 0, 0, 0, 0, 0, 0, 1, 1, 1, 0, 0, 1, 1, 1, 0, 0, 1, 1, 1, 1, 1, 1, 1, 1, 1, 0, 1, 1, 1, 1, 0, 1, 0, 1, 1, 1, 1, 1, 1, 1, 1, 1, 1, 0, 1, 1, 1, 1, 0, 0, 1, 1, 0, 1, 0, 0, 0, 1, 1, 0, 1, 1, 1, 1, 1, 1, 1, 1, 0, 1, 1, 0, 1, 1, 0, 0, 0, 1, 1, 1, 1, 1, 1, 1, 1, 1, 0, 1, 1, 0, 1, 1, 1, 0, 1, 1, 1, 1, 1, 0, 1, 1, 1, 1, 0, 1, 1, 0, 1, 1, 1, 1, 0, 1, 0, 1, 0, 1, 1, 1, 0, 1, 1, 1, 1, 1, 1, 1, 1, 1, 1, 1, 1, 1, 0, 1, 1, 1, 1, 1, 0, 1, 1, 1, 1, 1, 1, 1, 1, 1, 0, 1, 1, 0, 1, 1, 1, 1, 1, 0, 1, 1, 1, 1, 1, 1, 1, 1, 1, 1, 0, 0, 1, 1, 0, 0, 0, 0, 0, 0, 1, 1, 1, 1, 1, 0, 1, 1, 0, 1, 0, 1, 0, 1, 0, 1, 1, 1, 1, 0, 0, 1, 1, 0, 1, 1, 1, 1, 1, 1, 1, 0, 0, 0, 1, 1, 1, 1, 1, 1, 0, 1, 1, 0, 1, 0, 0, 1, 1, 1, 1, 1, 1, 0, 0, 0, 1, 0, 1, 0, 1, 1, 1, 1, 1, 1, 1, 1, 1, 1, 1, 1, 1, 1, 1, 1, 0, 1, 0, 1, 0, 0, 0, 0, 1, 0, 1, 1, 1, 1, 1, 1, 1, 1, 1, 1, 1, 1, 1, 1, 1, 1, 1, 1, 1, 1, 1, 1, 0, 1, 0, 1, 1, 1, 1, 1, 1, 0, 1, 1, 1, 1, 1, 1, 1, 0, 1, 0, 0, 1, 1, 1, 1, 0, 1, 1, 1, 0, 1, 1, 1, 0, 1, 0, 0, 1, 0, 1, 0, 0, 0, 0, 1, 1, 1, 0, 1, 1, 1, 1, 0, 1, 1, 1, 1, 1, 0, 1, 1, 0, 1, 0, 1, 1, 0, 1, 1, 1, 1, 1, 1, 0, 0, 1, 1, 1, 1, 1, 1, 1, 1, 0, 0, 1, 1, 0, 1, 0, 1, 0, 1, 1, 0, 1, 0, 1, 1, 1, 0, 0, 1, 1, 1, 0, 1, 1, 1, 1, 0, 1, 0, 1, 1, 1, 1, 1, 1, 0, 1, 1, 0, 1, 1, 1, 1, 1, 1, 1, 1, 0, 1, 1, 1, 1, 0, 1, 1, 0, 0, 1, 1, 1, 0, 1, 1, 0, 1, 0, 1, 1, 0, 1, 1, 0, 0, 1, 0, 1, 0, 1, 1, 1, 1, 1, 1, 1, 0, 1, 1, 1, 1, 1, 1, 1, 0, 1, 1, 1, 1, 1, 1, 1, 1, 1, 1, 1, 1, 0, 0, 0, 0, 1, 0, 1, 0, 1, 1, 1, 1, 1, 1, 1, 0, 1, 1, 1, 1, 1, 0, 1, 0, 1, 1, 1, 1, 1, 1, 1, 0, 1, 0, 1, 1, 1, 1, 1, 1, 1, 0, 1, 0, 1, 1, 1, 0, 1, 1, 1, 1, 1, 0, 1, 0, 0, 1, 1, 0, 1, 1, 1, 1, 0, 1, 1, 1, 1, 1, 1, 1, 1, 0, 1, 1, 1, 1, 0, 0, 0, 0, 1, 1, 1, 1, 1, 0, 1, 0, 1, 1, 0, 1, 0, 1, 1, 1, 1, 1, 1, 0, 0, 1, 1, 0, 0, 1, 0, 1, 1, 1, 1, 1, 0, 1, 0, 1, 0, 1, 1, 1, 1, 0, 0, 1, 1, 0, 1, 1, 0, 1, 0, 1, 1, 1, 0, 1, 1, 1, 1, 1, 0, 1, 0, 1, 0, 0, 0, 0, 1, 1, 1, 1, 1, 1, 0, 1, 1, 0, 0, 1, 0, 1, 0, 1, 0, 1, 1, 1, 1, 1, 0, 0, 1, 1, 1, 0, 0, 1, 0, 1, 1, 1, 0, 0, 1, 1, 1, 0, 0, 0, 1, 0, 1, 0, 0, 0, 1, 0, 1, 1, 0, 0, 1, 1, 1, 0, 1, 1, 1, 1, 0, 1, 0, 0, 0, 1, 0, 1, 0, 1, 0, 1, 1, 1, 1, 1, 1, 1, 1, 1, 1, 0, 0, 1, 0, 1, 0, 0, 1, 1, 0, 0, 1, 0, 1, 0, 1, 1, 1, 1, 1, 1, 1, 0, 0, 0, 1, 0, 1, 1, 1, 1, 1, 0, 0, 0, 0, 1, 1, 1, 1, 0, 1, 1, 1, 1, 1, 1, 1, 1, 1, 1, 1, 0, 1, 0, 1, 0, 0, 1, 0, 1, 1, 1, 1, 1, 1, 1, 1, 0, 0, 1, 1, 1, 0, 1, 0, 1, 0, 1, 1, 1, 1, 0, 1, 1, 1, 1, 1, 1, 1, 0, 1, 1, 1, 1, 1, 0, 1, 0, 1, 0, 1, 1, 0, 1, 1, 1, 1, 1, 0, 1, 0, 1, 0, 0, 1, 0, 0, 1, 1, 1, 1, 1, 1, 1, 0, 0, 0, 1, 1, 1, 1, 1, 1, 0, 1, 1, 0, 0, 1, 1, 1, 1, 1, 1, 1, 1, 1, 1, 1, 1, 0, 1, 1, 1, 0, 1, 1, 1, 1, 1, 1, 1, 1, 1, 0, 0, 1, 0, 1, 1, 1, 1, 0, 0, 1, 1, 1, 0, 0, 0, 0, 1, 1, 0, 1, 1, 1, 1, 1, 1, 1, 1, 1, 0, 1, 0, 1, 0, 0, 1, 0, 1, 0, 1, 1, 1, 1, 1, 1, 1, 1, 0, 1, 0, 1, 0, 1, 1, 0, 1, 1, 1, 1, 0, 1, 0, 0, 1, 1, 1, 1, 1, 1, 1, 1, 1, 1, 1, 1, 1, 1, 1, 1, 1, 1, 1, 1, 1, 0, 0, 1, 1, 1, 0, 1, 1, 1, 1, 1, 0, 1, 1, 1, 0, 1, 0, 1, 1, 0, 1, 0, 1, 0, 1, 1, 0, 0, 1, 1, 1, 1, 1, 1, 0, 0, 1, 0, 1, 1, 0, 1, 1, 0, 1, 1, 1, 1, 1, 1, 1, 1, 0, 0, 0, 1, 0, 0, 1, 1, 1, 1, 1, 0, 1, 0, 1, 1, 1, 0, 0, 1, 1, 1, 1, 1, 1, 1, 0, 1, 1, 0, 1, 1, 0, 1, 1, 0, 1, 1, 0, 1, 1, 0, 1, 1, 1, 1, 1, 0, 1, 1, 1, 1, 1, 0, 1, 1, 0, 1, 1, 1, 0, 1, 0, 1, 1, 1, 1, 1, 1, 0, 1, 1, 1, 1, 1, 1, 0, 1, 1, 1, 1, 1, 1, 1, 1, 1, 0, 1, 0, 1, 1, 1, 1, 1, 1, 1, 1, 1, 1, 0, 1, 1, 1, 1, 1, 1, 1, 1, 1, 1, 1, 0, 0, 0, 1, 1, 0, 1, 1, 1, 1, 1, 1, 1, 0, 1, 1, 1, 1, 0, 0, 1, 0, 1, 0, 1, 1, 1, 1, 1, 1, 0, 1, 1, 1, 1, 0, 1, 1, 1, 1, 1, 1, 0, 1, 0, 1, 1, 1, 1, 1, 1, 0, 1, 1, 1, 1, 0, 0, 1, 1, 1, 1, 1, 1, 1, 1, 1, 1, 0, 1, 1, 1, 1, 1, 1, 1, 1, 0, 1, 1, 0, 1, 0, 1, 1, 1, 0, 1, 1, 0, 1, 0, 1, 1, 1, 1, 1, 0, 0, 1, 1, 1, 1, 0, 1, 1, 0, 1, 1, 1, 1, 1, 1, 1, 1, 0, 1, 1, 1, 1, 1, 1, 1, 1, 0, 1, 1, 1, 1, 0, 1, 0, 1, 1, 1, 1, 1, 1, 1, 1, 1, 1, 0, 0, 1, 1, 1, 1, 1, 0, 1, 1, 1, 1, 1, 1, 1, 1, 1, 0, 1, 1, 1, 1, 1, 0, 1, 1, 1, 1, 0, 1, 1, 1, 1, 1, 1, 1, 1, 1, 0, 1, 1, 1, 1, 1, 1, 1, 0, 1, 1, 1, 0, 0, 0, 1, 1, 1, 1, 1, 1, 1, 1, 1, 0, 0, 1, 1, 0, 1, 1, 1, 1, 0, 1, 1, 1, 0, 0, 1, 1, 1, 1, 1, 1, 1, 0, 1, 1, 1, 0, 1, 0, 1, 1, 1, 0, 1, 0, 1, 1, 1, 1, 0, 1, 1, 0, 1, 1, 1, 0, 1, 1, 1, 1, 1, 1, 1, 0, 1, 1, 1, 0, 1, 1, 1, 0, 1, 1, 0, 1, 0, 1, 0, 1, 1, 1, 1, 0, 1, 1, 1, 1, 0, 1, 0, 1, 1, 1, 1, 0, 1, 1, 1, 1, 0, 1, 1, 0, 1, 0, 1, 1, 1, 1, 1, 1, 1, 0, 0, 0, 1, 0, 1, 1, 1, 1, 1, 1, 1, 1, 1, 1, 0, 1, 0, 1, 1, 1, 1, 1, 1, 1, 1, 1, 1, 1, 1, 1, 1, 1, 1, 0, 1, 1, 1, 1, 1, 1, 0, 1, 1, 1, 1, 1, 1, 1, 0, 1, 1, 1, 1, 1, 1, 0, 1, 1, 1, 0, 0, 1, 0, 1, 1, 0, 1, 1, 0, 1, 1, 1, 1, 1, 1, 1, 1, 0, 1, 1, 1, 1, 1, 0, 1, 1, 1, 1, 1, 1, 1, 1, 0, 0, 1, 0, 0, 1, 1, 1, 1, 1, 1, 1, 1, 1, 1, 1, 1, 1, 1, 0, 0, 1, 1, 1, 1, 1, 0, 1, 1, 1, 1, 1, 1, 1, 1, 1, 1, 0, 1, 1, 1, 1, 1, 1, 1, 0, 1, 1, 1, 1, 1, 1, 1, 1, 0, 0, 1, 1, 1, 1, 1, 1, 0, 1, 1, 1, 1, 1, 0, 1, 1, 1, 0, 1, 0, 1, 1, 1, 1, 0, 0, 0, 1, 1, 1, 1, 1, 1, 1, 0, 0, 0, 1, 0, 1, 1, 1, 1, 1, 1, 1, 0, 1, 0, 0, 0, 1, 1, 1, 0, 1, 1, 0, 1, 0, 1, 1, 1, 1, 1, 1, 1, 1, 0, 1, 1, 1, 0, 0, 1, 1, 0, 0, 0, 0, 0, 1, 1, 1, 1, 1, 0, 1, 0, 1, 1, 0, 1, 1, 1, 1, 1, 1, 1, 0, 1, 1, 0, 1, 0, 1, 1, 0, 0, 1, 1, 0, 1, 1, 1, 0, 0, 0, 0, 1, 1, 0, 1, 1, 1, 1, 0, 1, 1, 0, 1, 1, 1, 1, 1, 1, 1, 0, 1, 1, 1, 0, 1, 1, 1, 1, 1, 1, 1, 1, 1, 1, 1, 1, 0, 1, 0, 0, 0, 0, 1, 1, 1, 1, 0, 1, 0, 0, 1, 1, 1, 1, 1, 1, 0, 1, 1, 1, 0, 1, 1, 0, 0, 1, 0, 1, 1, 1, 1, 1, 1, 0, 1, 1, 1, 1, 1, 1, 1, 1, 0, 1, 1, 1, 1, 1, 1, 0, 1, 1, 1, 1, 1, 0, 1, 1, 1, 1, 1, 1, 1, 0, 1, 1, 1, 1, 0, 0, 0, 1, 0, 1, 1, 1, 1, 1, 1, 0, 1, 0, 0, 1, 1, 1, 1, 1, 1, 1, 1, 1, 0, 0, 1, 0, 1, 0, 1, 0, 0, 1, 0, 1, 1, 0, 1, 1, 1, 0, 1, 1, 1, 1, 0, 1, 1, 1, 1, 1, 1, 1, 1, 0, 1, 0, 1, 1, 1, 1, 1, 1, 1, 1, 1, 1, 0, 1, 1, 1, 1, 1, 1, 1, 1, 1, 1, 1, 1, 1, 1, 1, 1, 1, 0, 1, 1, 0, 1, 1, 1, 1, 1, 1, 1, 1, 1, 1, 1, 1, 1, 1, 1, 0, 0, 1, 1, 0, 0, 1, 1, 0, 1, 0, 1, 1, 1, 1, 1, 1, 1, 1, 1, 1, 1, 1, 0, 1, 1, 1, 1, 1, 0, 1, 1, 0, 1, 1, 1, 1, 0, 1, 1, 0, 1, 0, 1, 1, 0, 1, 1, 1, 1, 1, 1, 0, 0, 1, 1, 1, 0, 1, 1, 1, 1, 1, 1, 1, 0, 0, 0, 1, 0, 1, 0, 1, 1, 0, 1, 1, 1, 1, 1, 0, 0, 1, 1, 1, 1, 0, 1, 1, 1, 0, 1, 1, 1, 0, 0, 1, 0, 0, 0, 1, 1, 1, 1, 1, 1, 1, 0, 1, 1, 1, 0, 1, 1, 1, 0, 1, 1, 1, 1, 1, 1, 1, 1, 1, 0, 1, 1, 0, 1, 1, 1, 0, 1, 1, 1, 1, 1, 0, 1, 1, 1, 1, 0, 1, 1, 1, 1, 1, 0, 1, 1, 1, 0, 1, 0, 0, 1, 1, 1, 1, 1, 1, 0, 1, 0, 1, 0, 1, 0, 1, 1, 1, 0, 0, 1, 1, 0, 1, 0, 0, 1, 0, 1, 1, 0, 1, 1, 1, 1, 1, 0, 1, 1, 1, 1, 1, 0, 0, 1, 0, 0, 1, 1, 1, 1, 1, 1, 0, 1, 1, 1, 1, 1, 1, 0, 1, 1, 1, 1, 1, 1, 1, 0, 0, 1, 1, 0, 0, 1, 0, 1, 1, 0, 1, 1, 0, 0, 1, 0, 1, 1, 1, 1, 0, 1, 1, 1, 1, 1, 1, 1, 1, 1, 1, 1, 0, 0, 0, 0, 1, 1, 1, 0, 1, 1, 1, 0, 1, 1, 0, 1, 1, 1, 1, 1, 1, 1, 1, 1, 1, 1, 1, 1, 1, 1, 1, 1, 1, 1, 1, 1, 1, 1, 1, 1, 1, 1, 1, 1, 1, 1, 1, 1, 1, 1, 1, 1, 1, 1, 1, 1, 1, 1, 1, 1, 1, 1, 1, 1, 1, 1, 1, 1, 1, 1, 1, 1, 1, 1, 1, 1, 1, 1, 1, 1, 1, 1, 1, 1, 1, 1, 1, 1, 1, 1, 1, 1, 1, 1, 1, 1, 1, 1, 1, 1, 1, 1, 1, 1, 1, 1, 1, 1, 1, 1, 1, 1, 1, 1, 1, 1, 1, 1, 1, 1, 1, 1, 1, 1, 1, 1, 1, 1, 1, 1, 1, 1, 1, 1, 1, 1, 1, 1, 1, 1, 1, 1, 1, 1, 1, 1, 1, 1, 1, 1, 1, 1, 1, 1, 1, 1, 1, 1, 1, 1, 1, 1, 1, 1, 1, 1, 1, 1, 1, 1, 1, 1, 1, 1, 1, 1, 1, 1, 1, 1, 1, 1, 1, 1, 1, 1, 1, 1, 1, 1, 1, 1, 1, 1, 1, 1, 1, 1, 1, 1, 1, 1, 1, 1, 1, 1, 1, 1, 1, 1, 1, 1, 1, 1, 1, 1, 1, 1, 1, 1, 1, 1, 1, 1, 1, 1, 1, 1, 1, 1, 1, 1, 1, 1, 1, 1, 1, 1, 1, 1, 1, 1, 1, 1, 1, 1, 1, 1, 1, 1, 1, 1, 1, 1, 1, 1, 1, 1, 1, 1, 1, 1, 1, 1, 1, 1, 1, 1, 1, 1, 1, 1, 1, 1, 1, 1, 1, 1, 1, 1, 1, 1, 1, 1, 1, 1, 1, 1, 1, 1, 1, 1, 1, 1, 1, 1, 1, 1, 1, 1, 1, 1, 1, 1, 1, 1, 1, 1, 1, 1, 1, 1, 1, 1, 1, 1, 1, 1, 1, 1, 1, 1, 1, 1, 1, 1, 1, 1, 1, 1, 1, 1, 1, 1, 1, 1, 1, 1, 1, 1, 1, 1, 1, 1, 1, 1, 1, 1, 1, 1, 1, 1, 1, 1, 1, 1, 1, 1, 1, 1, 1, 1, 1, 1, 1, 1, 1, 1, 1, 1, 1, 1, 1, 1, 1, 1, 1, 1, 1, 1, 1, 1, 1, 1, 1, 1, 1, 1, 1, 1, 1, 1, 1, 1, 1, 1, 1, 1, 1, 1, 1, 1, 1, 1, 1, 1, 1, 1, 1, 1, 1, 1, 1, 1, 1, 1, 1, 1, 1, 1, 1, 1, 1, 1, 1, 1, 1, 1, 1, 1, 1, 1, 1, 1, 1, 1, 1, 1, 1, 1, 1, 1, 1, 1, 1, 1, 1, 1, 1, 1, 1, 1, 1, 1, 1, 1, 1, 1, 1, 1, 1, 1, 1, 1, 1, 1, 1, 1, 1, 1, 1, 1, 1, 1, 1, 1, 1, 1, 1, 1, 1, 1, 1, 1, 1, 1, 1, 1, 1, 1, 1, 1, 1, 1, 1, 1, 1, 1, 1, 1, 1, 1, 1, 1, 1, 1, 1, 1, 1, 1, 1, 1, 1, 1, 1, 1, 1, 1, 1, 1, 1, 1, 1, 1, 1, 1, 1, 1, 1, 1, 1, 1, 1, 1, 1, 1, 1, 1, 1, 1, 1, 1, 1, 1, 1, 1, 1, 1, 1, 1, 1, 1, 1, 1, 1, 1, 1, 1, 1, 1, 1, 1, 1, 1, 1, 1, 1, 1, 1, 1, 1, 1, 1, 1, 1, 1, 1, 1, 1, 1, 1, 1, 1, 1, 1, 1, 1, 1, 1, 1, 1, 1, 1, 1, 1, 1, 1, 1, 1, 1, 1, 1, 1, 1, 1, 1, 1, 1, 1, 1, 1, 1, 1, 1, 1, 1, 1, 1, 1, 1, 1, 1, 1, 1, 1, 1, 1, 1, 1, 1, 1, 1, 1, 1, 1, 1, 1, 1, 1, 1, 1, 1, 1, 1, 1, 1, 1, 1, 1, 1, 1, 1, 1, 1, 1, 1, 1, 1, 1, 1, 1, 1, 1, 1, 1, 1, 1, 1, 1, 1, 1, 1, 1, 1, 1, 1, 1, 1, 1, 1, 1, 1, 1, 1, 1, 1, 1, 1, 1, 1, 1, 1, 1, 1, 1, 1, 1, 1, 1, 1, 1, 1, 1, 1, 1, 1, 1, 1, 1, 1, 1, 1, 1, 1, 1, 1, 1, 1, 1, 1, 1, 1, 1, 1, 1, 1, 1, 1, 1, 1, 1, 1, 1, 1, 1, 1, 1, 1, 1, 1, 1, 1, 1, 1, 1, 1, 1, 1, 1, 1, 1, 1, 1, 1, 1, 1, 1, 1, 1, 1, 1, 1, 1, 1, 1, 1, 1, 1, 1, 1, 1, 1, 1, 1, 1, 1, 1, 1, 1, 1, 1, 1, 1, 1, 1, 1, 1, 1, 1, 1, 1, 1, 1, 1, 1, 1, 1, 1, 1, 1, 1, 1, 1, 1, 1, 1, 1, 1, 1, 1, 1, 1, 1, 1, 1, 1, 1, 1, 1, 1, 1, 1, 1, 1, 1, 1, 1, 1, 1, 1, 1, 1, 1, 1, 1, 1, 1, 1, 1, 1, 1, 1, 1, 1, 1, 1, 1, 1, 1, 1, 1, 1, 1, 1, 1, 1, 1, 1, 1, 1, 1, 1, 1, 1, 1, 1, 1, 1, 1, 1, 1, 1, 1, 1, 1, 1, 1, 1, 1, 1, 1, 1, 1, 1, 1, 1, 1, 1, 1, 1, 1, 1, 1, 1, 1, 1, 1, 1, 1, 1, 1, 1, 1, 1, 1, 1, 1, 1, 1, 1, 1, 1, 1, 1, 1, 1, 1, 1, 1, 1, 1, 1, 1, 1, 1, 1, 1, 1, 1, 1, 1, 1, 1, 1, 1, 1, 1, 1, 1, 1, 1, 1, 1, 1, 1, 1, 1, 1, 1, 1, 1, 1, 1, 1, 1, 1, 1, 1, 1, 1, 1, 1, 1, 1, 1, 1, 1, 1, 1, 1, 1, 1, 1, 1, 1, 1, 1, 1, 1, 1, 1, 1, 1, 1, 1, 1, 1, 1, 1, 1, 1, 1, 1, 1, 1, 1, 1, 1, 1, 1, 1, 1, 1, 1, 1, 1, 1, 1, 1, 1, 1, 1, 1, 1, 1, 1, 1, 1, 1, 1, 1, 1, 1, 1, 1, 1, 1, 1, 1, 1, 1, 1, 1, 1, 1, 1, 1, 1, 1, 1, 1, 1, 1, 1, 1, 1, 1, 1, 1, 1, 1, 1, 1, 1, 1, 1, 1, 1, 1, 1, 1, 1, 1, 1, 1, 1, 1, 1, 1, 1, 1, 1, 1, 1, 1, 1, 1, 1, 1, 1, 1, 1, 1, 1, 1, 1, 1, 1, 1, 1, 1, 1, 1, 1, 1, 1, 1, 1, 1, 1, 1, 1, 1, 1, 1, 1, 1, 1, 1, 1, 1, 1, 1, 1, 1, 1, 1, 1, 1, 1, 1, 1, 1, 1, 1, 1, 1, 1, 1, 1, 1, 1, 1, 1, 1, 1, 1, 1, 1, 1, 1, 1, 1, 1, 1, 1, 1, 1, 1, 1, 1, 1, 1, 1, 1, 1, 1, 1, 1, 1, 1, 1, 1, 1, 1, 1, 1, 1, 1, 1, 1, 1, 1, 1, 1, 1, 1, 1, 1, 1, 1, 1, 1, 1, 1, 1, 1, 1, 1, 1, 1, 1, 1, 1, 1, 1, 1, 1, 1, 1, 1, 1, 1, 1, 1, 1, 1, 1, 1, 1, 1, 1, 1, 1, 1, 1, 1, 1, 1, 1, 1, 1, 1, 1, 1, 1, 1, 1, 1, 1, 1, 1, 1, 1, 1, 1, 1, 1, 1, 1, 1, 1, 1, 1, 1, 1, 1, 1, 1, 1, 1, 1, 1, 1, 1, 1, 1, 1, 1, 1, 1, 1, 1, 1, 1, 1, 1, 1, 1, 1, 1, 1, 1, 1, 1, 1, 1, 1, 1, 1, 1, 1, 1, 1, 1, 1, 1, 1, 1, 1, 1, 1, 1, 1, 1, 1, 1, 1, 1, 1, 1, 1, 1, 1, 1, 1, 1, 1, 1, 1, 1, 1, 1, 1, 1, 1, 1, 1, 1, 1, 1, 1, 1, 1, 1, 1, 1, 1, 1, 1, 1, 1, 1, 1, 1, 1, 1, 1, 1, 1, 1, 1, 1, 1, 1, 1, 1, 1, 1, 1, 1, 1, 1, 1, 1, 1, 1, 1, 1, 1, 1, 1, 1, 1, 1, 1, 1, 1, 1, 1, 1, 1, 1, 1, 1, 1, 1, 1, 1, 1, 1, 1, 1, 1, 1, 1, 1, 1, 1, 1, 1, 1, 1, 1, 1, 1, 1, 1, 1, 1, 1, 1, 1, 1, 1, 1, 1, 1, 1, 1, 1, 1, 1, 1, 1, 1, 1, 1, 1, 1, 1, 1, 1, 1, 1, 1, 1, 1, 1, 1, 1, 1, 1, 1, 1, 1, 1, 1, 1, 1, 1, 1, 1, 1, 1, 1, 1, 1, 1, 1, 1, 1, 1, 1, 1, 1, 1, 1, 1, 1, 1, 1, 1, 1, 1, 1, 1, 1, 1, 1, 1, 1, 1, 1, 1, 1, 1, 1, 1, 1, 1, 1, 1, 1, 1, 1, 1, 1, 1, 1, 1, 1, 1, 1, 1, 1, 1, 1, 1, 1, 1, 1, 1, 1, 1, 1, 1, 1, 1, 1, 1, 1, 1, 1, 1, 1, 1, 1, 1, 1, 1, 1, 1, 1, 1, 1, 1, 1, 1, 1, 1, 1, 1, 1, 1, 1, 1, 1, 1, 1, 1, 1, 1, 1, 1, 1, 1, 1, 1, 1, 1, 1, 1, 1, 1, 1, 1, 1, 1, 1, 1, 1, 1, 1, 1, 1, 1, 1, 1, 1, 1, 1, 1, 1, 1, 1, 1, 1, 1, 1, 1, 1, 1, 1, 1, 1, 1, 1, 1, 1, 1, 1, 1, 1, 1, 1, 1, 1, 1, 1, 1, 1, 1, 1, 1, 1, 1, 1, 1, 1, 1, 1, 1, 1, 1, 1, 1, 1, 1, 1, 1, 1, 1, 1, 1, 1, 1, 1, 1, 1, 1, 1, 1, 1, 1, 1, 1, 1, 1, 1, 1, 1, 1, 1, 1, 1, 1, 1, 1, 1, 1, 1, 1, 1, 1, 1, 1, 1, 1, 1, 1, 1, 1, 1, 1, 1, 1, 1, 1, 1, 1, 1, 1, 1, 1, 1, 1, 1, 1, 1, 1, 1, 1, 1, 1, 1, 1, 1, 1, 1, 1, 1, 1, 1, 1, 1, 1, 1, 1, 1, 1, 1, 1, 1, 1, 1, 1, 1, 1, 1, 1, 1, 1, 1, 1, 1, 1, 1, 1, 1, 1, 1, 1, 1, 1, 1, 1, 1, 1, 1, 1, 1, 1, 1, 1, 1, 1, 1, 1, 1, 1, 1, 1, 1, 1, 1, 1, 1, 1, 1, 1, 1, 1, 1, 1, 1, 1, 1, 1, 1, 1, 1, 1, 1, 1, 1, 1, 1, 1, 1, 1, 1, 1, 1, 1, 1, 1, 1, 1, 1, 1, 1, 1, 1, 1, 1, 1, 1, 1, 1, 1, 1, 1, 1, 1, 1, 1, 1, 1, 1, 1, 1, 1, 1, 1, 1, 1, 1, 1, 1, 1, 1, 1, 1, 1, 1, 1, 1, 1, 1, 1, 1, 1, 1, 1, 1, 1, 1, 1, 1, 1, 1, 1, 1, 1, 1, 1, 1, 1, 1, 1, 1, 1, 1, 1, 1, 1, 1, 1, 1, 1, 1, 1, 1, 1, 1, 1, 1, 1, 1, 1, 1, 1, 1, 1, 1, 1, 1, 1, 1, 1, 1, 1, 1, 1, 1, 1, 1, 1, 1, 1, 1, 1, 1, 1, 1, 1, 1, 1, 1, 1, 1, 1, 1, 1, 1, 1, 1, 1, 1, 1, 1, 1, 1, 1, 1, 1, 1, 1, 1, 1, 1, 1, 1, 1, 1, 1, 1, 1, 1, 1, 1, 1, 1, 1, 1, 1, 1, 1, 1, 1, 1, 1, 1, 1, 1, 1, 1, 1, 1, 1, 1, 1, 1, 1, 1, 1, 1, 1, 1, 1, 1, 1, 1, 1, 1, 1, 1, 1, 1, 1, 1, 1, 1, 1, 1, 1, 1, 1, 1, 1, 1, 1, 1, 1, 1, 1, 1, 1, 1, 1, 1, 1, 1, 1, 1, 1, 1, 1, 1, 1, 1, 1, 1, 1, 1, 1, 1, 1, 1, 1, 1, 1, 1, 1, 1, 1, 1, 1, 1, 1, 1, 1, 1, 1, 1, 1, 1, 1, 1, 1, 1, 1, 1, 1, 1, 1, 1, 1, 1, 1, 1, 1, 1, 1, 1, 1, 1, 1, 1, 1, 1, 1, 1, 1, 1, 1, 1, 1, 1, 1, 1, 1, 1, 1, 1, 1, 1, 1, 1, 1, 1, 1, 1, 1, 1, 1, 1, 1, 1, 1, 1, 1, 1, 1, 1, 1, 1, 1, 1, 1, 1, 1, 1, 1, 1, 1, 1, 1, 1, 1, 1, 1, 1, 1, 1, 1, 1, 1, 1, 1, 1, 1, 1, 1, 1, 1, 1, 1, 1, 1, 1, 1, 1, 1, 1, 1, 1, 1, 1, 1, 1, 1, 1, 1, 1, 1, 1, 1, 1, 1, 1, 1, 1, 1, 1, 1, 1, 1, 1, 1, 1, 1, 1, 1, 1, 1, 1, 1, 1, 1, 1, 1, 1, 1, 1, 1, 1, 1, 1, 1, 1, 1, 1, 1, 1, 1, 1, 1, 1, 1, 1, 1, 1, 1, 1, 1, 1, 1, 1, 1, 1, 1, 1, 1, 1, 1, 1, 1, 1, 1, 1, 1, 1, 1, 1, 1, 1, 1, 1, 1, 1, 1, 1, 1, 1, 1, 1, 1, 1, 1, 1, 1, 1, 1, 1, 1, 1, 1, 1, 1, 1, 1, 1, 1, 1, 1, 1, 1, 1, 1, 1, 1, 1, 1, 1, 1, 1, 1, 1, 1, 1, 1, 1, 1, 1, 1, 1, 1, 1, 1, 1, 1, 1, 1, 1, 1, 1, 1, 1, 1, 1, 1, 1, 1, 1, 1, 1, 1, 1, 1, 1, 1, 1, 1, 1, 1, 1, 1, 1, 1, 1, 1, 1, 1, 1, 1, 1, 1, 1, 1, 1, 1, 1, 1, 1, 1, 1, 1, 1, 1, 1, 1, 1, 1, 1, 1, 1, 1, 1, 1, 1, 1, 1, 1, 1, 1, 1, 1, 1, 1, 1, 1, 1, 1, 1, 1, 1, 1, 1, 1, 1, 1, 1, 1, 1, 1, 1, 1, 1, 1, 1, 1, 1, 1, 1, 1, 1, 1, 1, 1, 1, 1, 1, 1, 1, 1, 1, 1, 1, 1, 1, 1, 1, 1, 1, 1, 1, 1, 1, 1, 1, 1, 1, 1, 1, 1, 1, 1, 1, 1, 1, 1, 1, 1, 1, 1, 1, 1, 1, 1, 1, 1, 1, 1, 1, 1, 1, 1, 1, 1, 1, 1, 1, 1, 1, 1, 1, 1, 1, 1, 1, 1, 1, 1, 1, 1, 1, 1, 1, 1, 1, 1, 1, 1, 1, 1, 1, 1, 1, 1, 1, 1, 1, 1, 1, 1, 1, 1, 1, 1, 1, 1, 1, 1, 1, 1, 1, 1, 1, 1, 1, 1, 1, 1, 1, 1, 1, 1, 1, 1, 1, 1, 1, 1, 1, 1, 1, 1, 1, 1, 1, 1, 1, 1, 1, 1, 1, 1, 1, 1, 1, 1, 1, 1, 1, 1, 1, 1, 1, 1, 1, 1, 1, 1, 1, 1, 1, 1, 1, 1, 1, 1, 1, 1, 1, 1, 1, 1, 1, 1, 1, 1, 1, 1, 1, 1, 1, 1, 1, 1, 1, 1, 1, 1, 1, 1, 1, 1, 1, 1, 1, 1, 1, 1, 1, 1, 1, 1, 1, 1, 1, 1, 1, 1, 1, 1, 1, 1, 1, 1, 1, 1, 1, 1, 1, 1, 1, 1, 1, 1, 1, 1, 1, 1, 1, 1, 1, 1, 1, 1, 1, 1, 1, 1, 1, 1, 1, 1, 1, 1, 1, 1, 1, 1, 1, 1, 1, 1, 1, 1, 1, 1, 1, 1, 1, 1, 1, 1, 1, 1, 1, 1, 1, 1, 1, 1, 1, 1, 1, 1, 1, 1, 1, 1, 1, 1, 1, 1, 1, 1, 1, 1, 1, 1, 1, 1, 1, 1, 1, 1, 1, 1, 1, 1, 1, 1, 1, 1, 1, 1, 1, 1, 1, 1, 1, 1, 1, 1, 1, 1, 1, 1, 1, 1, 1, 1, 1, 1, 1, 1, 1, 1, 1, 1, 1, 1, 1, 1, 1, 1, 1, 1, 1, 1, 1, 1, 1, 1, 1, 1, 1, 1, 1, 1, 1, 1, 1, 1, 1, 1, 1, 1, 1, 1, 1, 1, 1, 1, 1, 1, 1, 1, 1, 1, 1, 1, 1, 1, 1, 1, 1, 1, 1, 1, 1, 1, 1, 1, 1, 1, 1, 1, 1, 1, 1, 1, 1, 1, 1, 1, 1, 1, 1, 1, 1, 1, 1, 1, 1, 1, 1, 1, 1, 1, 1, 1, 1, 1, 1, 1, 1, 1, 1, 1, 1, 1, 1, 1, 1, 1, 1, 1, 1, 1, 1, 1, 1, 1, 1, 1, 1, 1, 1, 1, 1, 1, 1, 1, 1, 1, 1, 1, 1, 1, 1, 1, 1, 1, 1, 1, 1, 1, 1, 1, 1, 1, 1, 1, 1, 1, 1, 1, 1, 1, 1, 1, 1, 1, 1, 1, 1, 1, 1, 1, 1, 1, 1, 1, 1, 1, 1, 1, 1, 1, 1, 1, 1, 1, 1, 1, 1, 1, 1, 1, 1, 1, 1, 1, 1, 1, 1, 1, 1, 1, 1, 1, 1, 1, 1, 1, 1, 1, 1, 1, 1, 1, 1, 1, 1, 1, 1, 1, 1, 1, 1, 1, 1, 1, 1, 1, 1, 1, 1, 1, 1, 1, 1, 1, 1, 1, 1, 1, 1, 1, 1, 1, 1, 1, 1, 1, 1, 1, 1, 1, 1, 1, 1, 1, 1, 1, 1, 1, 1, 1, 1, 1, 1, 1, 1, 1, 1, 1, 1, 1, 1, 1, 1, 1, 1, 1, 1, 1, 1, 1, 1, 1, 1, 1, 1, 1, 1, 1, 1, 1, 1, 1, 1, 1, 1, 1, 1, 1, 1, 1, 1, 1, 1, 1, 1, 1, 1, 1, 1, 1, 1, 1, 1, 1, 1, 1, 1, 1, 1, 1, 1, 1, 1, 1, 1, 1, 1, 1, 1, 1, 1, 1, 1, 1, 1, 1, 1, 1, 1, 1, 1, 1, 1, 1, 1, 1, 1, 1, 1, 1, 1, 1, 1, 1, 1, 1, 1, 1, 1, 1, 1, 1, 1, 1, 1, 1, 1, 1, 1, 1, 1, 1, 1, 1, 1, 1, 1, 1, 1, 1, 1, 1, 1, 1, 1, 1, 1, 1, 1, 1, 1, 1, 1, 1, 1, 1, 1, 1, 1, 1, 1, 1, 1, 1, 1, 1, 1, 1, 1, 1, 1, 1, 1, 1, 1, 1, 1, 1, 1, 1, 1, 1, 1, 1, 1, 1, 1, 1, 1, 1, 1, 1, 1, 1, 1, 1, 1, 1, 1, 1, 1, 1, 1, 1, 1, 1, 1, 1, 1, 1, 1, 1, 1, 1, 1, 1, 1, 1, 1, 1, 1, 1, 1, 1, 1, 1, 1, 1, 1, 1, 1, 1, 1, 1, 1, 1, 1, 1, 1, 1, 1, 1, 1, 1, 1, 1, 1, 1, 1, 1, 1, 1, 1, 1, 1, 1, 1, 1, 1, 1, 1, 1, 1, 1, 1, 1, 1, 1, 1, 1, 1, 1, 1, 1, 1, 1, 1, 1, 1, 1, 1, 1, 1, 1, 1, 1, 1, 1, 1, 1, 1, 1, 1, 1, 1, 1, 1, 1, 1, 1, 1, 1, 1, 1, 1, 1, 1, 1, 1, 1, 1, 1, 1, 1, 1, 1, 1, 1, 1, 1, 1, 1, 1, 1, 1, 1, 1, 1, 1, 1, 1, 1, 1, 1, 1, 1, 1, 1, 1, 1, 1, 1, 1, 1, 1, 1, 1, 1, 1, 1, 1, 1, 1, 1, 1, 1, 1, 1, 1, 1, 1, 1, 1, 1, 1, 1, 1, 1, 1, 1, 1, 1, 1, 1, 1, 1, 1, 1, 1, 1, 1, 1, 1, 1, 1, 1, 1, 1, 1, 1, 1, 1, 1, 1, 1, 1, 1, 1, 1, 1, 1, 1, 1, 1, 1, 1, 1, 1, 1, 1, 1, 1, 1, 1, 1, 1, 1, 1, 1, 1, 1, 1, 1, 1, 1, 1, 1, 1, 1, 1, 1, 1, 1, 1, 1, 1, 1, 1, 1, 1, 1, 1, 1, 1, 1, 1, 1, 1, 1, 1, 1, 1, 1, 1, 1, 1, 1, 1, 1, 1, 1, 1, 1, 1, 1, 1, 1, 1, 1, 1, 1, 1, 1, 1, 1, 1, 1, 1, 1, 1, 1, 1, 1, 1, 1, 1, 1, 1, 1, 1, 1, 1, 1, 1, 1, 1, 1, 1, 1, 1, 1, 1, 1, 1, 1, 1, 1, 1, 1, 1, 1, 1, 1, 1, 1, 1, 1, 1, 1, 1, 1, 1, 1, 1, 1, 1, 1, 1, 1, 1, 1, 1, 1, 1, 1, 1, 1, 1, 1, 1, 1, 1, 1, 1, 1, 1, 1, 1, 1, 1, 1, 1, 1, 1, 1, 1, 1, 1, 1, 1, 1, 1, 1, 1, 1, 1, 1, 1, 1, 1, 1, 1, 1, 1, 1, 1, 1, 1, 1, 1, 1, 1, 1, 1, 1, 1, 1, 1, 1, 1, 1, 1, 1, 1, 1, 1, 1, 1, 1, 1, 1, 1, 1, 1, 1, 1, 1, 1, 1, 1, 1, 1, 1, 1, 1, 1, 1, 1, 1, 1, 1, 1, 1, 1, 1, 1, 1, 1, 1, 1, 1, 1, 1, 1, 1, 1, 1, 1, 1, 1, 1, 1, 1, 1, 1, 1, 1, 1, 1, 1, 1, 1, 1, 1, 1, 1, 1, 1, 1, 1, 1, 1, 1, 1, 1, 1, 1, 1, 1, 1, 1, 1, 1, 1, 1, 1, 1, 1, 1, 1, 1, 1, 1, 1, 1, 1, 1, 1, 1, 1, 1, 1, 1, 1, 1, 1, 1, 1, 1, 1, 1, 1, 1, 1, 1, 1, 1, 1, 1, 1, 1, 1, 1, 1, 1, 1, 1, 1, 1, 1, 1, 1, 1, 1, 1, 1, 1, 1, 1, 1, 1, 1, 1, 1, 1, 1, 1, 1, 1, 1, 1, 1, 1, 1, 1, 1, 1, 1, 1, 1, 1, 1, 1, 1, 1, 1, 1, 1, 1, 1, 1, 1, 1, 1, 1, 1, 1, 1, 1, 1, 1, 1, 1, 1, 1, 1, 1, 1, 1, 1, 1, 1, 1, 1, 1, 1, 1, 1, 1, 1, 1, 1, 1, 1, 1, 1, 1, 1, 1, 1, 1, 1, 1, 1, 1, 1, 1, 1, 1, 1, 1, 1, 1, 1, 1, 1, 1, 1, 1, 1, 1, 1, 1, 1, 1, 1, 1, 1, 1, 1, 1, 1, 1, 1, 1, 1, 1, 1, 1, 1, 1, 1, 1, 1, 1, 1, 1, 1, 1, 1, 1, 1, 1, 1, 1, 1, 1, 1, 1, 1, 1, 1, 1, 1, 1, 1, 1, 1, 1, 1, 1, 1, 1, 1, 1, 1, 1, 1, 1, 1, 1, 1, 1, 1, 1, 1, 1, 1, 1, 1, 1, 1, 1, 1, 1, 1, 1, 1, 1, 1, 1, 1, 1, 1, 1, 1, 1, 1, 1, 1, 1, 1, 1, 1, 1, 1, 1, 1, 1, 1, 1, 1, 1, 1, 1, 1, 1, 1, 1, 1, 1, 1, 1, 1, 1, 1, 1, 1, 1, 1, 1, 1, 1, 1, 1, 1, 1, 1, 1, 1, 1, 1, 1, 1, 1, 1, 1, 1, 1, 1, 1, 1, 1, 1, 1, 1, 1, 1, 1, 1, 1, 1, 1, 1, 1, 1, 1, 1, 1, 1, 1, 1, 1, 1, 1, 1, 1, 1, 1, 1, 1, 1, 1, 1, 1, 1, 1, 1, 1, 1, 1, 1, 1, 1, 1, 1, 1, 1, 1, 1, 1, 1, 1, 1, 1, 1, 1, 1, 1, 1, 1, 1, 1, 1, 1, 1, 1, 1, 1, 1, 1, 1, 1, 1, 1, 1, 1, 1, 1, 1, 1, 1, 1, 1, 1, 1, 1, 1, 1, 1, 1, 1, 1, 1, 1, 1, 1, 1, 1, 1, 1, 1, 1, 1, 1, 1, 1, 1, 1, 1, 1, 1, 1, 1, 1, 1, 1, 1, 1, 1, 1, 1, 1, 1, 1, 1, 1, 1, 1, 1, 1, 1, 1, 1, 1, 1, 1, 1, 1, 1, 1, 1, 1, 1, 1, 1, 1, 1, 1, 1, 1, 1, 1, 1, 1, 1, 1, 1, 1, 1, 1, 1, 1, 1, 1, 1, 1, 1, 1, 1, 1, 1, 1, 1, 1, 1, 1, 1, 1, 1, 1, 1, 1, 1, 1, 1, 1, 1, 1, 1, 1, 1, 1, 1, 1, 1, 1, 1, 1, 1, 1, 1, 1, 1, 1, 1, 1, 1, 1, 1, 1, 1, 1, 1, 1, 1, 1, 1, 1, 1, 1, 1, 1, 1, 1, 1, 1, 1, 1, 1, 1, 1, 1, 1, 1, 1, 1, 1, 1, 1, 1, 1, 1, 1, 1, 1, 1, 1, 1, 1, 1, 1, 1, 1, 1, 1, 1, 1, 1, 1, 1, 1, 1, 1, 1, 1, 1, 1, 1, 1, 1, 1, 1, 1, 1, 1, 1, 1, 1, 1, 1, 1, 1, 1, 1, 1, 1, 1, 1, 1, 1, 1, 1, 1, 1, 1, 1, 1, 1, 1, 1, 1, 1, 1, 1, 1, 1, 1, 1, 1, 1, 1, 1, 1, 1, 1, 1, 1, 1, 1, 1, 1, 1, 1, 1, 1, 1, 1, 1, 1, 1, 1, 1, 1, 1, 1, 1, 1, 1, 1, 1, 1, 1, 1, 1, 1, 1, 1, 1, 1, 1, 1, 1, 1, 1, 1, 1, 1, 1, 1, 1, 1, 1, 1, 1, 1, 1, 1, 1, 1, 1, 1, 1, 1, 1, 1, 1, 1, 1, 1, 1, 1, 1, 1, 1, 1, 1, 1, 1, 1, 1, 1, 1, 1, 1, 1, 1, 1, 1, 1, 1, 1, 1, 1, 1, 1, 1, 1, 1, 1, 1, 1, 1, 1, 1, 1, 1, 1, 1, 1, 1, 1, 1, 1, 1, 1, 1, 1, 1, 1, 1, 1, 1, 1, 1, 1, 1, 1, 1, 1, 1, 1, 1, 1, 1, 1, 1, 1, 1, 1, 1, 1, 1, 1, 1, 1, 1, 1, 1, 1, 1, 1, 1, 1, 1, 1, 1, 1, 1, 1, 1, 1, 1, 1, 1, 1, 1, 1, 1, 1, 1, 1, 1, 1, 1, 1, 1, 1, 1, 1, 1, 1, 1, 1, 1, 1, 1, 1, 1, 1, 1, 1, 1, 1, 1, 1, 1, 1, 1, 1, 1, 1, 1, 1, 1, 1, 1, 1, 1, 1, 1, 1, 1, 1, 1, 1, 1, 1, 1, 1, 1, 1, 1, 1, 1, 1, 1, 1, 1, 1, 1, 1, 1, 1, 1, 1, 1, 1, 1, 1, 1, 1, 1, 1, 1, 1, 1, 1, 1, 1, 1, 1, 1, 1, 1, 1, 1, 1, 1, 1, 1, 1, 1, 1, 1, 1, 1, 1, 1, 1, 1, 1, 1, 1, 1, 1, 1, 1, 1, 1, 1, 1, 1, 1, 1, 1, 1, 1, 1, 1, 1, 1, 1, 1, 1, 1, 1, 1, 1, 1, 1, 1, 1, 1, 1, 1, 1, 1, 1, 1, 1, 1, 1, 1, 1, 1, 1, 1, 1, 1, 1, 1, 1, 1, 1, 1, 1, 1, 1, 1, 1, 1, 1, 1, 1, 1, 1, 1, 1, 1, 1, 1, 1, 1, 1, 1, 1, 1, 1, 1, 1, 1, 1, 1, 1, 1, 1, 1, 1, 1, 1, 1, 1, 1, 1, 1, 1, 1, 1, 1, 1, 1, 1, 1, 1, 1, 1, 1, 1, 1, 1, 1, 1, 1, 1, 1, 1, 1, 1, 1, 1, 1, 1, 1, 1, 1, 1, 1, 1, 1, 1, 1, 1, 1, 1, 1, 1, 1, 1, 1, 1, 1, 1, 1, 1, 1, 1, 1, 1, 1, 1, 1, 1, 1, 1, 1, 1, 1, 1, 1, 1, 1, 1, 1, 1, 1, 1, 1, 1, 1, 1, 1, 1, 1, 1, 1, 1, 1, 1, 1, 1, 1, 1, 1, 1, 1, 1, 1, 1, 1, 1, 1, 1, 1, 1, 1, 1, 1, 1, 1, 1, 1, 1, 1, 1, 1, 1, 1, 1, 1, 1, 1, 1, 1, 1, 1, 1, 1, 1, 1, 1, 1, 1, 1, 1, 1, 1, 1, 1, 1, 1, 1, 1, 1, 1, 1, 1, 1, 1, 1, 1, 1, 1, 1, 1, 1, 1, 1, 1, 1, 1, 1, 1, 1, 1, 1, 1, 1, 1, 1, 1, 1, 1, 1, 1, 1, 1, 1, 1, 1, 1, 1, 1, 1, 1, 1, 1, 1, 1, 1, 1, 1, 1, 1, 1, 1, 1, 1, 1, 1, 1, 1, 1, 1, 1, 1, 1, 1, 1, 1, 1, 1, 1, 1, 1, 1, 1, 1, 1, 1, 1, 1, 1, 1, 1, 1, 1, 1, 1, 1, 1, 1, 1, 1, 1, 1, 1, 1, 1, 1, 1, 1, 1, 1, 1, 1, 1, 1, 1, 1, 1, 1, 1, 1, 1, 1, 1, 1, 1, 1, 1, 1, 1, 1, 1, 1, 1, 1, 1, 1, 1, 1, 1, 1, 1, 1, 1, 1, 1, 1, 1, 1, 1, 1, 1, 1, 1, 1, 1, 1, 1, 1, 1, 1, 1, 1, 1, 1, 1, 1, 1, 1, 1, 1, 1, 1, 1, 1, 1, 1, 1, 1, 1, 1, 1, 1, 1, 1, 1, 1, 1, 1, 1, 1, 1, 1, 1, 1, 1, 1, 1, 1, 1, 1, 1, 1, 1, 1, 1, 1, 1, 1, 1, 1, 1, 1, 1, 1, 1, 1, 1, 1, 1, 1, 1, 1, 1, 1, 1, 1, 1, 1, 1, 1, 1, 1, 1, 1, 1, 1, 1, 1, 1, 1, 1, 1, 1, 1, 1, 1, 1, 1, 1, 1, 1, 1, 1, 1, 1, 1, 1, 1, 1, 1, 1, 1, 1, 1, 1, 1, 1, 1, 1, 1, 1, 1, 1, 1, 1, 1, 1, 1, 1, 1, 1, 1, 1, 1, 1, 1, 1, 1, 1, 1, 1, 1, 1, 1, 1, 1, 1, 1, 1, 1, 1, 1, 1, 1, 1, 1, 1, 1, 1, 1, 1, 1, 1, 1, 1, 1, 1, 1, 1, 1, 1, 1, 1, 1, 1, 1, 1, 1, 1, 1, 1, 1, 1, 1, 1, 1, 1, 1, 1, 1, 1, 1, 1, 1, 1, 1, 1, 1, 1, 1, 1, 1, 1, 1, 1, 1, 1, 1, 1, 1, 1, 1, 1, 1, 1, 1, 1, 1, 1, 1, 1, 1, 1, 1, 1, 1, 1, 1, 1, 1, 1, 1, 1, 1, 1, 1, 1, 1, 1, 1, 1, 1, 1, 1, 1, 1, 1, 1, 1, 1, 1, 1, 1, 1, 1, 1, 1, 1, 1, 1, 1, 1, 1, 1, 1, 1, 1, 1, 1, 1, 1, 1, 1, 1, 1, 1, 1, 1, 1, 1, 1, 1, 1, 1, 1, 1, 1, 1, 1, 1, 1, 1, 1, 1, 1, 1, 1, 1, 1, 1, 1, 1, 1, 1, 1, 1, 1, 1, 1, 1, 1, 1, 1, 1, 1, 1, 1, 1, 1, 1, 1, 1, 1, 1, 1, 1, 1, 1, 1, 1, 1, 1, 1, 1, 1, 1, 1, 1, 1, 1, 1, 1, 1, 1, 1, 1, 1, 1, 1, 1, 1, 1, 1, 1, 1, 1, 1, 1, 1, 1, 1, 1, 1, 1, 1, 1, 1, 1, 1, 1, 1, 1, 1, 1, 1, 1, 1, 1, 1, 1, 1, 1, 1, 1, 1, 1, 1, 1, 1, 1, 1, 1, 1, 1, 1, 1, 1, 1, 1, 1, 1, 1, 1, 1, 1, 1, 1, 1, 1, 1, 1, 1, 1, 1, 1, 1, 1, 1, 1, 1, 1, 1, 1, 1, 1, 1, 1, 1, 1, 1, 1, 1, 1, 1, 1, 1, 1, 1, 1, 1, 1, 1, 1, 1, 1, 1, 1, 1, 1, 1, 1, 1, 1, 1, 1, 1, 1, 1, 1, 1, 1, 1, 1, 1, 1, 1, 1, 1, 1, 1, 1, 1, 1, 1, 1, 1, 1, 1, 1, 1, 1, 1, 1, 1, 1, 1, 1, 1, 1, 1, 1, 1, 1, 1, 1, 1, 1, 1, 1, 1, 1, 1, 1, 1, 1, 1, 1, 1, 1, 1, 1, 1, 1, 1, 1, 1, 1, 1, 1, 1, 1, 1, 1, 1, 1, 1, 1, 1, 1, 1, 1, 1, 1, 1, 1, 1, 1, 1, 1, 1, 1, 1, 1, 1, 1, 1, 1, 1, 1, 1, 1, 1, 1, 1, 1, 1, 1, 1, 1, 1, 1, 1, 1, 1, 1, 1, 1, 1, 1, 1, 1, 1, 1, 1, 1, 1, 1, 1, 1, 1, 1, 1, 1, 1, 1, 1, 1, 1, 1, 1, 1, 1, 1, 1, 1, 1, 1, 1, 1, 1, 1, 1, 1, 1, 1, 1, 1, 1, 1, 1, 1, 1, 1, 1, 1, 1, 1, 1, 1, 1, 1, 1, 1, 1, 1, 1, 1, 1, 1, 1, 1, 1, 1, 1, 1, 1, 1, 1, 1, 1, 1, 1, 1, 1, 1, 1, 1, 1, 1, 1, 1, 1, 1, 1, 1, 1, 1, 1, 1, 1, 1, 1, 1, 1, 1, 1, 1, 1, 1, 1, 1, 1, 1, 1, 1, 1, 1, 1, 1, 1, 1, 1, 1, 1, 1, 1, 1, 1, 1, 1, 1, 1, 1, 1, 1, 1, 1, 1, 1, 1, 1, 1, 1, 1, 1, 1, 1, 1, 1, 1, 1, 1, 1, 1, 1, 1, 1, 1, 1, 1, 1, 1, 1, 1, 1, 1, 1, 1, 1, 1, 1, 1, 1, 1, 1, 1, 1, 1, 1, 1, 1, 1, 1, 1, 1, 1, 1, 1, 1, 1, 1, 1, 1, 1, 1, 1, 1, 1, 1, 1, 1, 1, 1, 1, 1, 1, 1, 1, 1, 1, 1, 1, 1, 1, 1, 1, 1, 1, 1, 1, 1, 1, 1, 1, 1, 1, 1, 1, 1, 1, 1, 1, 1, 1, 1, 1, 1, 1, 1, 1, 1, 1, 1, 1, 1, 1, 1, 1, 1, 1, 1, 1, 1, 1, 1, 1, 1, 1, 1, 1, 1, 1, 1, 1, 1, 1, 1, 1, 1, 1, 1, 1, 1, 1, 1, 1, 1, 1, 1, 1, 1, 1, 1, 1, 1, 1, 1, 1, 1, 1, 1, 1, 1, 1, 1, 1, 1, 1, 1, 1, 1, 1, 1, 1, 1, 1, 1, 1, 1, 1, 1, 1, 1, 1, 1, 1, 1, 1, 1, 1, 1, 1, 1, 1, 1, 1, 1, 1, 1, 1, 1, 1, 1, 1, 1, 1, 1, 1, 1, 1, 1, 1, 1, 1, 1, 1, 1, 1, 1, 1, 1, 1, 1, 1, 1, 1, 1, 1, 1, 1, 1, 1, 1, 1, 1, 1, 1, 1, 1, 1, 1, 1, 1, 1, 1, 1, 1, 1, 1, 1, 1, 1, 1, 1, 1, 1, 1, 1, 1, 1, 1, 1, 1, 1, 1, 1, 1, 1, 1, 1, 1, 1, 1, 1, 1, 1, 1, 1, 1, 1, 1, 1, 1, 1, 1, 1, 1, 1, 1, 1, 1, 1, 1, 1, 1, 1, 1, 1, 1, 1, 1, 1, 1, 1, 1, 1, 1, 1, 1, 1, 1, 1, 1, 1, 1, 1, 1, 1, 1, 1, 1, 1, 1, 1, 1, 1, 1, 1, 1, 1, 1, 1, 1, 1, 1, 1, 1, 1, 1, 1, 1, 1, 1, 1, 1, 1, 1, 1, 1, 1, 1, 1, 1, 1, 1, 1, 1, 1, 1, 1, 1, 1, 1, 1, 1, 1, 1, 1, 1, 1, 1, 1, 1, 1, 1, 1, 1, 1, 1, 1, 1, 1, 1, 1, 1, 1, 1, 1, 1, 1, 1, 1, 1, 1, 1, 1, 1, 1, 1, 1, 1, 1, 1, 1, 1, 1, 1, 1, 1, 1, 1, 1, 1, 1, 1, 1, 1, 1, 1, 1, 1, 1, 1, 1, 1, 1, 1, 1, 1, 1, 1, 1, 1, 1, 1, 1, 1, 1, 1, 1, 1, 1, 1, 1, 1, 1, 1, 1, 1, 1, 1, 1, 1, 1, 1, 1, 1, 1, 1, 1, 1, 1, 1, 1, 1, 1, 1, 1, 1, 1, 1, 1, 1, 1, 1, 1, 1, 1, 1, 1, 1, 1, 1, 1, 1, 1, 1, 1, 1, 1, 1, 1, 1, 1, 1, 1, 1, 1, 1, 1, 1, 1, 1, 1, 1, 1, 1, 1, 1, 1, 1, 1, 1, 1, 1, 1, 1, 1, 1, 1, 1, 1, 1, 1, 1, 1, 1, 1, 1, 1, 1, 1, 1, 1, 1, 1, 1, 1, 1, 1, 1, 1, 1, 1, 1, 1, 1, 1, 1, 1, 1, 1, 1, 1, 1, 1, 1, 1, 1, 1, 1, 1, 1, 1, 1, 1, 1, 1, 1, 1, 1, 1, 1, 1, 1, 1, 1, 1, 1, 1, 1, 1, 1, 1, 1, 1, 1, 1, 1, 1, 1, 1, 1, 1, 1, 1, 1, 1, 1, 1, 1, 1, 1, 1, 1, 1, 1, 1, 1, 1, 1, 1, 1, 1, 1, 1, 1, 1, 1, 1, 1, 1, 1, 1, 1, 1, 1, 1, 1, 1, 1, 1, 1, 1, 1, 1, 1, 1, 1, 1, 1, 1, 1, 1, 1, 1, 1, 1, 1, 1, 1, 1, 1, 1, 1, 1, 1, 1, 1, 1, 1, 1, 1, 1, 1, 1, 1, 1, 1, 1, 1, 1, 1, 1, 1, 1, 1, 1, 1, 1, 1, 1, 1, 1, 1, 1, 1, 1, 1, 1, 1, 1, 1, 1, 1, 1, 1, 1, 1, 1, 1, 1, 1, 1, 1, 1, 1, 1, 1, 1, 1, 1, 1, 1, 1, 1, 1, 1, 1, 1, 1, 1, 1, 1, 1, 1, 1, 1, 1, 1, 1, 1, 1, 1, 1, 1, 1, 1, 1, 1, 1, 1, 1, 1, 1, 1, 1, 1, 1, 1, 1, 1, 1, 1, 1, 1, 1, 1, 1, 1, 1, 1, 1, 1, 1, 1, 1, 1, 1, 1, 1, 1, 1, 1, 1, 1, 1, 1, 1, 1, 1, 1, 1, 1, 1, 1, 1, 1, 1, 1, 1, 1, 1, 1, 1, 1, 1, 1, 1, 1, 1, 1, 1, 1, 1, 1, 1, 1, 1, 1, 1, 1, 1, 1, 1, 1, 1, 1, 1, 1, 1, 1, 1, 1, 1, 1, 1, 1, 1, 1, 1, 1, 1, 1, 1, 1, 1, 1, 1, 1, 1, 1, 1, 1, 1, 1, 1, 1, 1, 1, 1, 1, 1, 1, 1, 1, 1, 1, 1, 1, 1, 1, 1, 1, 1, 1, 1, 1, 1, 1, 1, 1, 1, 1, 1, 1, 1, 1, 1, 1, 1, 1, 1, 1, 1, 1, 1, 1, 1, 1, 1, 1, 1, 1, 1, 1, 1, 1, 1, 1, 1, 1, 1, 1, 1, 1, 1, 1, 1, 1, 1, 1, 1, 1, 1, 1, 1, 1, 1, 1, 1, 1, 1, 1, 1, 1, 1, 1, 1, 1, 1, 1, 1, 1, 1, 1, 1, 1, 1, 1, 1, 1, 1, 1, 1, 1, 1, 1, 1, 1, 1, 1, 1, 1, 1, 1, 1, 1, 1, 1, 1, 1, 1, 1, 1, 1, 1, 1, 1, 1, 1, 1, 1, 1, 1, 1, 1, 1, 1, 1, 1, 1, 1, 1, 1, 1, 1, 1, 1, 1, 1, 1, 1, 1, 1, 1, 1, 1, 1, 1, 1, 1, 1, 1, 1, 1, 1, 1, 1, 1, 1, 1, 1, 1, 1, 1, 1, 1, 1, 1, 1, 1, 1, 1, 1, 1, 1, 1, 1, 1, 1, 1, 1, 1, 1, 1, 1, 1, 1, 1, 1, 1, 1, 1, 1, 1, 1, 1, 1, 1, 1, 1, 1, 1, 1, 1, 1, 1, 1, 1, 1, 1, 1, 1, 1, 1, 1, 1, 1, 1, 1, 1, 1, 1, 1, 1, 1, 1, 1, 1, 1, 1, 1, 1, 1, 1, 1, 1, 1, 1, 1, 1, 1, 1, 1, 1, 1, 1, 1, 1, 1, 1, 1, 1, 1, 1, 1, 1, 1, 1, 1, 1, 1, 1, 1, 1, 1, 1, 1, 1, 1, 1, 1, 1, 1, 1, 1, 1, 1, 1, 1, 1, 1, 1, 1, 1, 1, 1, 1, 1, 1, 1, 1, 1, 1, 1, 1, 1, 1, 1, 1, 1, 1, 1, 1, 1, 1, 1, 1, 1, 1, 1, 1, 1, 1, 1, 1, 1, 1, 1, 1, 1, 1, 1, 1, 1, 1, 1, 1, 1, 1, 1, 1, 1, 1, 1, 1, 1, 1, 1, 1, 1, 1, 1, 1, 1, 1, 1, 1, 1, 1, 1, 1, 1, 1, 1, 1, 1, 1, 1, 1, 1, 1, 1, 1, 1, 1, 1, 1, 1, 1, 1, 1, 1, 1, 1, 1, 1, 1, 1, 1, 1, 1, 1, 1, 1, 1, 1, 1, 1, 1, 1, 1, 1, 1, 1, 1, 1, 1, 1, 1, 1, 1, 1, 1, 1, 1, 1, 1, 1, 1, 1, 1, 1, 1, 1, 1, 1, 1, 1, 1, 1, 1, 1, 1, 1, 1, 1, 1, 1, 1, 1, 1, 1, 1, 1, 1, 1, 1, 1, 1, 1, 1, 1, 1, 1, 1, 1, 1, 1, 1, 1, 1, 1, 1, 1, 1, 1, 1, 1, 1, 1, 1, 1, 1, 1, 1, 1, 1, 1, 1, 1, 1, 1, 1, 1, 1, 1, 1, 1, 1, 1, 1, 1, 1, 1, 1, 1, 1, 1, 1, 1, 1, 1, 1, 1, 1, 1, 1, 1, 1, 1, 1, 1, 1, 1, 1, 1, 1, 1, 1, 1, 1, 1, 1, 1, 1, 1, 1, 1, 1, 1, 1, 1, 1, 1, 1, 1, 1, 1, 1, 1, 1, 1, 1, 1, 1, 1, 1, 1, 1, 1, 1, 1, 1, 1, 1, 1, 1, 1, 1, 1, 1, 1, 1, 1, 1, 1, 1, 1, 1, 1, 1, 1, 1, 1, 1, 1, 1, 1, 1, 1, 1, 1, 1, 1, 1, 1, 1, 1, 1, 1, 1, 1, 1, 1, 1, 1, 1, 1, 1, 1, 1, 1, 1, 1, 1, 1, 1, 1, 1, 1, 1, 1, 1, 1, 1, 1, 1, 1, 1, 1, 1, 1, 1, 1, 1, 1, 1, 1, 1, 1, 1, 1, 1, 1, 1, 1, 1, 1, 1, 1, 1, 1, 1, 1, 1, 1, 1, 1, 1, 1, 1, 1, 1, 1, 1, 1, 1, 1, 1, 1, 1, 1, 1, 1, 1, 1, 1, 1, 1, 1, 1, 1, 1, 1, 1, 1, 1, 1, 1, 1, 1, 1, 1, 1, 1, 1, 1, 1, 1, 1, 1, 1, 1, 1, 1, 1, 1, 1, 1, 1, 1, 1, 1, 1, 1, 1, 1, 1, 1, 1, 1, 1, 1, 1, 1, 1, 1, 1, 1, 1, 1, 1, 1, 1, 1, 1, 1, 1, 1, 1, 1, 1, 1, 1, 1, 1, 1, 1, 1, 1, 1, 1, 1, 1, 1, 1, 1, 1, 1, 1, 1, 1, 1, 1, 1, 1, 1, 1, 1, 1, 1, 1, 1, 1, 1, 1, 1, 1, 1, 1, 1, 1, 1, 1, 1, 1, 1, 1, 1, 1, 1, 1, 1, 1, 1, 1, 1, 1, 1, 1, 1, 1, 1, 1, 1, 1, 1, 1, 1, 1, 1, 1, 1, 1, 1, 1, 1, 1, 1, 1, 1, 1, 1, 1, 1, 1, 1, 1, 1, 1, 1, 1, 1, 1, 1, 1, 1, 1, 1, 1, 1, 1, 1, 1, 1, 1, 1, 1, 1, 1, 1, 1, 1, 1, 1, 1, 1, 1, 1, 1, 1, 1, 1, 1, 1, 1, 1, 1, 1, 1, 1, 1, 1, 1, 1, 1, 1, 1, 1, 1, 1, 1, 1, 1, 1, 1, 1, 1, 1, 1, 1, 1, 1, 1, 1, 1, 1, 1, 1, 1, 1, 1, 1, 1, 1, 1, 1, 1, 1, 1, 1, 1, 1, 1, 1, 1, 1, 1, 1, 1, 1, 1, 1, 1, 1, 1, 1, 1, 1, 1, 1, 1, 1, 1, 1, 1, 1, 1, 1, 1, 1, 1, 1, 1, 1, 1, 1, 1, 1, 1, 1, 1, 1, 1, 1, 1, 1, 1, 1, 1, 1, 1, 1, 1, 1, 1, 1, 1, 1, 1, 1, 1, 1, 1, 1, 1, 1, 1, 1, 1, 1, 1, 1, 1, 1, 1, 1, 1, 1, 1, 1, 1, 1, 1, 1, 1, 1, 1, 1, 1, 1, 1, 1, 1, 1, 1, 1, 1, 1, 1, 1, 1, 1, 1, 1, 1, 1, 1, 1, 1, 1, 1, 1, 1, 1, 1, 1, 1, 1, 1, 1, 1, 1, 1, 1, 1, 1, 1, 1, 1, 1, 1, 1, 1, 1, 1, 1, 1, 1, 1, 1, 1, 1, 1, 1, 1, 1, 1, 1, 1, 1, 1, 1, 1, 1, 1, 1, 1, 1, 1, 1, 1, 1, 1, 1, 1, 1, 1, 1, 1, 1, 1, 1, 1, 1, 1, 1, 1, 1, 1, 1, 1, 1, 1, 1, 1, 1, 1, 1, 1, 1, 1, 1, 1, 1, 1, 1, 1, 1, 1, 1, 1, 1, 1, 1, 1, 1, 1, 1, 1, 1, 1, 1, 1, 1, 1, 1, 1, 1, 1, 1, 1, 1, 1, 1, 1, 1, 1, 1, 1, 1, 1, 1, 1, 1, 1, 1, 1, 1, 1, 1, 1, 1, 1, 1, 1, 1, 1, 1, 1, 1, 1, 1, 1, 1, 1, 1, 1, 1, 1, 1, 1, 1, 1, 1, 1, 1, 1, 1, 1, 1, 1, 1, 1, 1, 1, 1, 1, 1, 1, 1, 1, 1, 1, 1, 1, 1, 1, 1, 1, 1, 1, 1, 1, 1, 1, 1, 1, 1, 1, 1, 1, 1, 1, 1, 1, 1, 1, 1, 1, 1, 1, 1, 1, 1, 1, 1, 1, 1, 1, 1, 1, 1, 1, 1, 1, 1, 1, 1, 1, 1, 1, 1, 1, 1, 1, 1, 1, 1, 1, 1, 1, 1, 1, 1, 1, 1, 1, 1, 1, 1, 1, 1, 1, 1, 1, 1, 1, 1, 1, 1, 1, 1, 1, 1, 1, 1, 1, 1, 1, 1, 1, 1, 1, 1, 1, 1, 1, 1, 1, 1, 1, 1, 1, 1, 1, 1, 1, 1, 1, 1, 1, 1, 1, 1, 1, 1, 1, 1, 1, 1, 1, 1, 1, 1, 1, 1, 1, 1, 1, 1, 1, 1, 1, 1, 1, 1, 1, 1, 1, 1, 1, 1, 1, 1, 1, 1, 1, 1, 1, 1, 1, 1, 1, 1, 1, 1, 1, 1, 1, 1, 1, 1, 1, 1, 1, 1, 1, 1, 1, 1, 1, 1, 1, 1, 1, 1, 1, 1, 1, 1, 1, 1, 1, 1, 1, 1, 1, 1, 1, 1, 1, 1, 1, 1, 1, 1, 1, 1, 1, 1, 1, 1, 1, 1, 1, 1, 1, 1, 1, 1, 1, 1, 1, 1, 1, 1, 1, 1, 1, 1, 1, 1, 1, 1, 1, 1, 1, 1, 1, 1, 1, 1, 1, 1, 1, 1, 1, 1, 1, 1, 1, 1, 1, 1, 1, 1, 1, 1, 1, 1, 1, 1, 1, 1, 1, 1, 1, 1, 1, 1, 1, 1, 1, 1, 1, 1, 1, 1, 1, 1, 1, 1, 1, 1, 1, 1, 1, 1, 1, 1, 1, 1, 1, 1, 1, 1, 1, 1, 1, 1, 1, 1, 1, 1, 1, 1, 1, 1, 1, 1, 1, 1, 1, 1, 1, 1, 1, 1, 1, 1, 1, 1, 1, 1, 1, 1, 1, 1, 1, 1, 1, 1, 1, 1, 1, 1, 1, 1, 1, 1, 1, 1, 1, 1, 1, 1, 1, 1, 1, 1, 1, 1, 1, 1, 1, 1, 1, 1, 1, 1, 1, 1, 1, 1, 1, 1, 1, 1, 1, 1, 1, 1, 1, 1, 1, 1, 1, 1, 1, 1, 1, 1, 1, 1, 1, 1, 1, 1, 1, 1, 1, 1, 1, 1, 1, 1, 1, 1, 1, 1, 1, 1, 1, 1, 1, 1, 1, 1, 1, 1, 1, 1, 1, 1, 1, 1, 1, 1, 1, 1, 1, 1, 1, 1, 1, 1, 1, 1, 1, 1, 1, 1, 1, 1, 1, 1, 1, 1, 1, 1, 1, 1, 1, 1, 1, 1, 1, 1, 1, 1, 1, 1, 1, 1, 1, 1, 1, 1, 1, 1, 1, 1, 1, 1, 1, 1, 1, 1, 1, 1, 1, 1, 1, 1, 1, 1, 1, 1, 1, 1, 1, 1, 1, 1, 1, 1, 1, 1, 1, 1, 1, 1, 1, 1, 1, 1, 1, 1, 1, 1, 1, 1, 1, 1, 1, 1, 1, 1, 1, 1, 1, 1, 1, 1, 1, 1, 1, 1, 1, 1, 1, 1, 1, 1, 1, 1, 1, 1, 1, 1, 1, 1, 1, 1, 1, 1, 1, 1, 1, 1, 1, 1, 1, 1, 1, 1, 1, 1, 1, 1, 1, 1, 1, 1, 1, 1, 1, 1, 1, 1, 1, 1, 1, 1, 1, 1, 1, 1, 1, 1, 1, 1, 1, 1, 1, 1, 1, 1, 1, 1, 1, 1, 1, 1, 1, 1, 1, 1, 1, 1, 1, 1, 1, 1, 1, 1, 1, 1, 1, 1, 1, 1, 1, 1, 1, 1, 1, 1, 1, 1, 1, 1, 1, 1, 1, 1, 1, 1, 1, 1, 1, 1, 1, 1, 1, 1, 1, 1, 1, 1, 1, 1, 1, 1, 1, 1, 1, 1, 1, 1, 1, 1, 1, 1, 1, 1, 1, 1, 1, 1, 1, 1, 1, 1, 1, 1, 1, 1, 1, 1, 1, 1, 1, 1, 1, 1, 1, 1, 1, 1, 1, 1, 1, 1, 1, 1, 1, 1, 1, 1, 1, 1, 1, 1, 1, 1, 1, 1, 1, 1, 1, 1, 1, 1, 1, 1, 1, 1, 1, 1, 1, 1, 1, 1, 1, 1, 1, 1, 1, 1, 1, 1, 1, 1, 1, 1, 1, 1, 1, 1, 1, 1, 1, 1, 1, 1, 1, 1, 1, 1, 1, 1, 1, 1, 1, 1, 1, 1, 1, 1, 1, 1, 1, 1, 1, 1, 1, 1, 1, 1, 1, 1, 1, 1, 1, 1, 1, 1, 1, 1, 1, 1, 1, 1, 1, 1, 1, 1, 1, 1, 1, 1, 1, 1, 1, 1, 1, 1, 1, 1, 1, 1, 1, 1, 1, 1, 1, 1, 1, 1, 1, 1, 1, 1, 1, 1, 1, 1, 1, 1, 1, 1, 1, 1, 1, 1, 1, 1, 1, 1, 1, 1, 1, 1, 1, 1, 1, 1, 1, 1, 1, 1, 1, 1, 1, 1, 1, 1, 1, 1, 1, 1, 1, 1, 1, 1, 1, 1, 1, 1, 1, 1, 1, 1, 1, 1, 1, 1, 1, 1, 1, 1, 1, 1, 1, 1, 1, 1, 1, 1, 1, 1, 1, 1, 1, 1, 1, 1, 1, 1, 1, 1, 1, 1, 1, 1, 1, 1, 1, 1, 1, 1, 1, 1, 1, 1, 1, 1, 1, 1, 1, 1, 1, 1, 1, 1, 1, 1, 1, 1, 1, 1, 1, 1, 1, 1, 1, 1, 1, 1, 1, 1, 1, 1, 1, 1, 1, 1, 1, 1, 1, 1, 1, 1, 1, 1, 1, 1, 1, 1, 1, 1, 1, 1, 1, 1, 1, 1, 1, 1, 1, 1, 1, 1, 1, 1, 1, 1, 1, 1, 1, 1, 1, 1, 1, 1, 1, 1, 1, 1, 1, 1, 1, 1, 1, 1, 1, 1, 1, 1, 1, 1, 1, 1, 1, 1, 1, 1, 1, 1, 1, 1, 1, 1, 1, 1, 1, 1, 1, 1, 1, 1, 1, 1, 1, 1, 1, 1, 1, 1, 1, 1, 1, 1, 1, 1, 1, 1, 1, 1, 1, 1, 1, 1, 1, 1, 1, 1, 1, 1, 1, 1, 1, 1, 1, 1, 1, 1, 1, 1, 1, 1, 1, 1, 1, 1, 1, 1, 1, 1, 1, 1, 1, 1, 1, 1, 1, 1, 1, 1, 1, 1, 1, 1, 1, 1, 1, 1, 1, 1, 1, 1, 1, 1, 1, 1, 1, 1, 1, 1, 1, 1, 1, 1, 1, 1, 1, 1, 1, 1, 1, 1, 1, 1, 1, 1, 1, 1, 1, 1, 1, 1, 1, 1, 1, 1, 1, 1, 1, 1, 1, 1, 1, 1, 1, 1, 1, 1, 1, 1, 1, 1, 1, 1, 1, 1, 1, 1, 1, 1, 1, 1, 1, 1, 1, 1, 1, 1, 1, 1, 1, 1, 1, 1, 1, 1, 1, 1, 1, 1, 1, 1, 1, 1, 1, 1, 1, 1, 1, 1, 1, 1, 1, 1, 1, 1, 1, 1, 1, 1, 1, 1, 1, 1, 1, 1, 1, 1, 1, 1, 1, 1, 1, 1, 1, 1, 1, 1, 1, 1, 1, 1, 1, 1, 1, 1, 1, 1, 1, 1, 1, 1, 1, 1, 1, 1, 1, 1, 1, 1, 1, 1, 1, 1, 1, 1, 1, 1, 1, 1, 1, 1, 1, 1, 1, 1, 1, 1, 1, 1, 1, 1, 1, 1, 1, 1, 1, 1, 1, 1, 1, 1, 1, 1, 1, 1, 1, 1, 1, 1, 1, 1, 1, 1, 1, 1, 1, 1, 1, 1, 1, 1, 1, 1, 1, 1, 1, 1, 1, 1, 1, 1, 1, 1, 1, 1, 1, 1, 1, 1, 1, 1, 1, 1, 1, 1, 1, 1, 1, 1, 1, 1, 1, 1, 1, 1, 1, 1, 1, 1, 1, 1, 1, 1, 1, 1, 1, 1, 1, 1, 1, 1, 1, 1, 1, 1, 1, 1, 1, 1, 1, 1, 1, 1, 1, 1, 1, 1, 1, 1, 1, 1, 1, 1, 1, 1, 1, 1, 1, 1, 1, 1, 1, 1, 1, 1, 1, 1, 1, 1, 1, 1, 1, 1, 1, 1, 1, 1, 1, 1, 1, 1, 1, 1, 1, 1, 1, 1, 1, 1, 1, 1, 1, 1, 1, 1, 1, 1, 1, 1, 1, 1, 1, 1, 1, 1, 1, 1, 1, 1, 1, 1, 1, 1, 1, 1, 1, 1, 1, 1, 1, 1, 1, 1, 1, 1, 1, 1, 1, 1, 1, 1, 1, 1, 1, 1, 1, 1, 1, 1, 1, 1, 1, 1, 1, 1, 1, 1, 1, 1, 1, 1, 1, 1, 1, 1, 1, 1, 1, 1, 1, 1, 1, 1, 1, 1, 1, 1, 1, 1, 1, 1, 1, 1, 1, 1, 1, 1, 1, 1, 1, 1, 1, 1, 1, 1, 1, 1, 1, 1, 1, 1, 1, 1, 1, 1, 1, 1, 1, 1, 1, 1, 1, 1, 1, 1, 1, 1, 1, 1, 1, 1, 1, 1, 1, 1, 1, 1, 1, 1, 1, 1, 1, 1, 1, 1, 1, 1, 1, 1, 1, 1, 1, 1, 1, 1, 1, 1, 1, 1, 1, 1, 1, 1, 1, 1, 1, 1, 1, 1, 1, 1, 1, 1, 1, 1, 1, 1, 1, 1, 1, 1, 1, 1, 1, 1, 1, 1, 1, 1, 1, 1, 1, 1, 1, 1, 1, 1, 1, 1, 1, 1, 1, 1, 1, 1, 1, 1, 1, 1, 1, 1, 1, 1, 1, 1, 1, 1, 1, 1, 1, 1, 1, 1, 1, 1, 1, 1, 1, 1, 1, 1, 1, 1, 1, 1, 1, 1, 1, 1, 1, 1, 1, 1, 1, 1, 1, 1, 1, 1, 1, 1, 1, 1, 1, 1, 1, 1, 1, 1, 1, 1, 1, 1, 1, 1, 1, 1, 1, 1, 1, 1, 1, 1, 1, 1, 1, 1, 1, 1, 1, 1, 1, 1, 1, 1, 1, 1, 1, 1, 1, 1, 1, 1, 1, 1, 1, 1, 1, 1, 1, 1, 1, 1, 1, 1, 1, 1, 1, 1, 1, 1, 1, 1, 1, 1, 1, 1, 1, 1, 1, 1, 1, 1, 1, 1, 1, 1, 1, 1, 1, 1, 1, 1, 1, 1, 1, 1, 1, 1, 1, 1, 1, 1, 1, 1, 1, 1, 1, 1, 1, 1, 1, 1, 1, 1, 1, 1, 1, 1, 1, 1, 1, 1, 1, 1, 1, 1, 1, 1, 1, 1, 1, 1, 1, 1, 1, 1, 1, 1, 1, 1, 1, 1, 1, 1, 1, 1, 1, 1, 1, 1, 1, 1, 1, 1, 1, 1, 1, 1, 1, 1, 1, 1, 1, 1, 1, 1, 1, 1, 1, 1, 1, 1, 1, 1, 1, 1, 1, 1, 1, 1, 1, 1, 1, 1, 1, 1, 1, 1, 1, 1, 1, 1, 1, 1, 1, 1, 1, 1, 1, 1, 1, 1, 1, 1, 1, 1, 1, 1, 1, 1, 1, 1, 1, 1, 1, 1, 1, 1, 1, 1, 1, 1, 1, 1, 1, 1, 1, 1, 1, 1, 1, 1, 1, 1, 1, 1, 1, 1, 1, 1, 1, 1, 1, 1, 1, 1, 1, 1, 1, 1, 1, 1, 1, 1, 1, 1, 1, 1, 1, 1, 1, 1, 1, 1, 1, 1, 1, 1, 1, 1, 1, 1, 1, 1, 1, 1, 1, 1, 1, 1, 1, 1, 1, 1, 1, 1, 1, 1, 1, 1, 1, 1, 1, 1, 1, 1, 1, 1, 1, 1, 1, 1, 1, 1, 1, 1, 1, 1, 1, 1, 1, 1, 1, 1, 1, 1, 1, 1, 1, 1, 1, 1, 1, 1, 1, 1, 1, 1, 1, 1, 1, 1, 1, 1, 1, 1, 1, 1, 1, 1, 1, 1, 1, 1, 1, 1, 1, 1, 1, 1, 1, 1, 1, 1, 1, 1, 1, 1, 1, 1, 1, 1, 1, 1, 1, 1, 1, 1, 1, 1, 1, 1, 1, 1, 1, 1, 1, 1, 1, 1, 1, 1, 1, 1, 1, 1, 1, 1, 1, 1, 1, 1, 1, 1, 1, 1, 1, 1, 1, 1, 1, 1, 1, 1, 1, 1, 1, 1, 1, 1, 1, 1, 1, 1, 1, 1, 1, 1, 1, 1, 1, 1, 1, 1, 1, 1, 1, 1, 1, 1, 1, 1, 1, 1, 1, 1, 1, 1, 1, 1, 1, 1, 1, 1, 1, 1, 1, 1, 1, 1, 1, 1, 1, 1, 1, 1, 1, 1, 1, 1, 1, 1, 1, 1, 1, 1, 1, 1, 1, 1, 1, 1, 1, 1, 1, 1, 1, 1, 1, 1, 1, 1, 1, 1, 1, 1, 1, 1, 1, 1, 1, 1, 1, 1, 1, 1, 1, 1, 1, 1, 1, 1, 1, 1, 1, 1, 1, 1, 1, 1, 1, 1, 1, 1, 1, 1, 1, 1, 1, 1, 1, 1, 1, 1, 1, 1, 1, 1, 1, 1, 1, 1, 1, 1, 1, 1, 1, 1, 1, 1, 1, 1, 1, 1, 1, 1, 1, 1, 1, 1, 1, 1, 1, 1, 1, 1, 1, 1, 1, 1, 1, 1, 1, 1, 1, 1, 1, 1, 1, 1, 1, 1, 1, 1, 1, 1, 1, 1, 1, 1, 1, 1, 1, 1, 1, 1, 1, 1, 1, 1, 1, 1, 1, 1, 1, 1, 1, 1, 1, 1, 1, 1, 1, 1, 1, 1, 1, 1, 1, 1, 1, 1, 1, 1, 1, 1, 1, 1, 1, 1, 1, 1, 1, 1, 1, 1, 1, 1, 1, 1, 1, 1, 1, 1, 1, 1, 1, 1, 1, 1, 1, 1, 1, 1, 1, 1, 1, 1, 1, 1, 1, 1, 1, 1, 1, 1, 1, 1, 1, 1, 1, 1, 1, 1, 1, 1, 1, 1, 1, 1, 1, 1, 1, 1, 1, 1, 1, 1, 1, 1, 1, 1, 1, 1, 1, 1, 1, 1, 1, 1, 1, 1, 1, 1, 1, 1, 1, 1, 1, 1, 1, 1, 1, 1, 1, 1, 1, 1, 1, 1, 1, 1, 1, 1, 1, 1, 1, 1, 1, 1, 1, 1, 1, 1, 1, 1, 1, 1, 1, 1, 1, 1, 1, 1, 1, 1, 1, 1, 1, 1, 1, 1, 1, 1, 1, 1, 1, 1, 1, 1, 1, 1, 1, 1, 1, 1, 1, 1, 1, 1, 1, 1, 1, 1, 1, 1, 1, 1, 1, 1, 1, 1, 1, 1, 1, 1, 1, 1, 1, 1, 1, 1, 1, 1, 1, 1, 1, 1, 1, 1, 1, 1, 1, 1, 1, 1, 1, 1, 1, 1, 1, 1, 1, 1, 1, 1, 1, 1, 1, 1, 1, 1, 1, 1, 1, 1, 1, 1, 1, 1, 1, 1, 1, 1, 1, 1, 1, 1, 1, 1, 1, 1, 1, 1, 1, 1, 1, 1, 1, 1, 1, 1, 1, 1, 1, 1, 1, 1, 1, 1, 1, 1, 1, 1, 1, 1, 1, 1, 1, 1, 1, 1, 1, 1, 1, 1, 1, 1, 1, 1, 1, 1, 1, 1, 1, 1, 1, 1, 1, 1, 1, 1, 1, 1, 1, 1, 1, 1, 1, 1, 1, 1, 1, 1, 1, 1, 1, 1, 1, 1, 1, 1, 1, 1, 1, 1, 1, 1, 1, 1, 1, 1, 1, 1, 1, 1, 1, 1, 1, 1, 1, 1, 1, 1, 1, 1, 1, 1, 1, 1, 1, 1, 1, 1, 1, 1, 1, 1, 1, 1, 1, 1, 1, 1, 1, 1, 1, 1, 1, 1, 1, 1, 1, 1, 1, 1, 1, 1, 1, 1, 1, 1, 1, 1, 1, 1, 1, 1, 1, 1, 1, 1, 1, 1, 1, 1, 1, 1, 1, 1, 1, 1, 1, 1, 1, 1, 1, 1, 1, 1, 1, 1, 1, 1, 1, 1, 1, 1, 1, 1, 1, 1, 1, 1, 1, 1, 1, 1, 1, 1, 1, 1, 1, 1, 1, 1, 1, 1, 1, 1, 1, 1, 1, 1, 1, 1, 1, 1, 1, 1, 1, 1, 1, 1, 1, 1, 1, 1, 1, 1, 1, 1, 1, 1, 1, 1, 1, 1, 1, 1, 1, 1, 1, 1, 1, 1, 1, 1, 1, 1, 1, 1, 1, 1, 1, 1, 1, 1, 1, 1, 1, 1, 1, 1, 1, 1, 1, 1, 1, 1, 1, 1, 1, 1, 1, 1, 1, 1, 1, 1, 1, 1, 1, 1, 1, 1, 1, 1, 1, 1, 1, 1, 1, 1, 1, 1, 1, 1, 1, 1, 1, 1, 1, 1, 1, 1, 1, 1, 1, 1, 1, 1, 1, 1, 1, 1, 1, 1, 1, 1, 1, 1, 1, 1, 1, 1, 1, 1, 1, 1, 1, 1, 1, 1, 1, 1, 1, 1, 1, 1, 1, 1, 1, 1, 1, 1, 1, 1, 1, 1, 1, 1, 1, 1, 1, 1, 1, 1, 1, 1, 1, 1, 1, 1, 1, 1, 1, 1, 1, 1, 1, 1, 1, 1, 1, 1, 1, 1, 1, 1, 1, 1, 1, 1, 1, 1, 1, 1, 1, 1, 1, 1, 1, 1, 1, 1, 1, 1, 1, 1, 1, 1, 1, 1, 1, 1, 1, 1, 1, 1, 1, 1, 1, 1, 1, 1, 1, 1, 1, 1, 1, 1, 1, 1, 1, 1, 1, 1, 1, 1, 1, 1, 1, 1, 1, 1, 1, 1, 1, 1, 1, 1, 1, 1, 1, 1, 1, 1, 1, 1, 1, 1, 1, 1, 1, 1, 1, 1, 1, 1, 1, 1, 1, 1, 1, 1, 1, 1, 1, 1, 1, 1, 1, 1, 1, 1, 1, 1, 1, 1, 1, 1, 1, 1, 1, 1, 1, 1, 1, 1, 1, 1, 1, 1, 1, 1, 1, 1, 1, 1, 1, 1, 1, 1, 1, 1, 1, 1, 1, 1, 1, 1, 1, 1, 1, 1, 1, 1, 1, 1, 1, 1, 1, 1, 1, 1, 1, 1, 1, 1, 1, 1, 1, 1, 1, 1, 1, 1, 1, 1, 1, 1, 1, 1, 1, 1, 1, 1, 1, 1, 1, 1, 1, 1, 1, 1, 1, 1, 1, 1, 1, 1, 1, 1, 1, 1, 1, 1, 1, 1, 1, 1, 1, 1, 1, 1, 1, 1, 1, 1, 1, 1, 1, 1, 1, 1, 1, 1, 1, 1, 1, 1, 1, 1, 1, 1, 1, 1, 1, 1, 1, 1, 1, 1, 1, 1, 1, 1, 1, 1, 1, 1, 1, 1, 1, 1, 1, 1, 1, 1, 1, 1, 1, 1, 1, 1, 1, 1, 1, 1, 1, 1, 1, 1, 1, 1, 1, 1, 1, 1, 1, 1, 1, 1, 1, 1, 1, 1, 1, 1, 1, 1, 1, 1, 1, 1, 1, 1, 1, 1, 1, 1, 1, 1, 1, 1, 1, 1, 1, 1, 1, 1, 1, 1, 1, 1, 1, 1, 1, 1, 1, 1, 1, 1, 1, 1, 1, 1, 1, 1, 1, 1, 1, 1, 1, 1, 1, 1, 1, 1, 1, 1, 1, 1, 1, 1, 1, 1, 1, 1, 1, 1, 1, 1, 1, 1, 1, 1, 1, 1, 1, 1, 1, 1, 1, 1, 1, 1, 1, 1, 1, 1, 1, 1, 1, 1, 1, 1, 1, 1, 1, 1, 1, 1, 1, 1, 1, 1, 1, 1, 1, 1, 1, 1, 1, 1, 1, 1, 1, 1, 1, 1, 1, 1, 1, 1, 1, 1, 1, 1, 1, 1, 1, 1, 1, 1, 1, 1, 1, 1, 1, 1, 1, 1, 1, 1, 1, 1, 1, 1, 1, 1, 1, 1, 1, 1, 1, 1, 1, 1, 1, 1, 1, 1, 1, 1, 1, 1, 1, 1, 1, 1, 1, 1, 1, 1, 1, 1, 1, 1, 1, 1, 1, 1, 1, 1, 1, 1, 1, 1, 1, 1, 1, 1, 1, 1, 1, 1, 1, 1, 1, 1, 1, 1, 1, 1, 1, 1, 1, 1, 1, 1, 1, 1, 1, 1, 1, 1, 1, 1, 1, 1, 1, 1, 1, 1, 1, 1, 1, 1, 1, 1, 1, 1, 1, 1, 1, 1, 1, 1, 1, 1, 1, 1, 1, 1, 1, 1, 1, 1, 1, 1, 1, 1, 1, 1, 1, 1, 1, 1, 1, 1, 1, 1, 1, 1, 1, 1, 1, 1, 1, 1, 1, 1, 1, 1, 1, 1, 1, 1, 1, 1, 1, 1, 1, 1, 1, 1, 1, 1, 1, 1, 1, 1, 1, 1, 1, 1, 1, 1, 1, 1, 1, 1, 1, 1, 1, 1, 1, 1, 1, 1, 1, 1, 1, 1, 1, 1, 1, 1, 1, 1, 1, 1, 1, 1, 1, 1, 1, 1, 1, 1, 1, 1, 1, 1, 1, 1, 1, 1, 1, 1, 1, 1, 1, 1, 1, 1, 1, 1, 1, 1, 1, 1, 1, 1, 1, 1, 1, 1, 1, 1, 1, 1, 1, 1, 1, 1, 1, 1, 1, 1, 1, 1, 1, 1, 1, 1, 1, 1, 1, 1, 1, 1, 1, 1, 1, 1, 1, 1, 1, 1, 1, 1, 1, 1, 1, 1, 1, 1, 1, 1, 1, 1, 1, 1, 1, 1, 1, 1, 1, 1, 1, 1, 1, 1, 1, 1, 1, 1, 1, 1, 1, 1, 1, 1, 1, 1, 1, 1, 1, 1, 1, 1, 1, 1, 1, 1, 1, 1, 1, 1, 1, 1, 1, 1, 1, 1, 1, 1, 1, 1, 1, 1, 1, 1, 1, 1, 1, 1, 1, 1, 1, 1, 1, 1, 1, 1, 1, 1, 1, 1, 1, 1, 1, 1, 1, 1, 1, 1, 1, 1, 1, 1, 1, 1, 1, 1, 1, 1, 1, 1, 1, 1, 1, 1, 1, 1, 1, 1, 1, 1, 1, 1, 1, 1, 1, 1, 1, 1, 1, 1, 1, 1, 1, 1, 1, 1, 1, 1, 1, 1, 1, 1, 1, 1, 1, 1, 1, 1, 1, 1, 1, 1, 1, 1, 1, 1, 1, 1, 1, 1, 1, 1, 1, 1, 1, 1, 1, 1, 1, 1, 1, 1, 1, 1, 1, 1, 1, 1, 1, 1, 1, 1, 1, 1, 1, 1, 1, 1, 1, 1, 1, 1, 1, 1, 1, 1, 1, 1, 1, 1, 1, 1, 1, 1, 1, 1, 1, 1, 1, 1, 1, 1, 1, 1, 1, 1, 1, 1, 1, 1, 1, 1, 1, 1, 1, 1, 1, 1, 1, 1, 1, 1, 1, 1, 1, 1, 1, 1, 1, 1, 1, 1, 1, 1, 1, 1, 1, 1, 1, 1, 1, 1, 1, 1, 1, 1, 1, 1, 1, 1, 1, 1, 1, 1, 1, 1, 1, 1, 1, 1, 1, 1, 1, 1, 1, 1, 1, 1, 1, 1, 1, 1, 1, 1, 1, 1, 1, 1, 1, 1, 1, 1, 1, 1, 1, 1, 1, 1, 1, 1, 1, 1, 1, 1, 1, 1, 1, 1, 1, 1, 1, 1, 1, 1, 1, 1, 1, 1, 1, 1, 1, 1, 1, 1, 1, 1, 1, 1, 1, 1, 1, 1, 1, 1, 1, 1, 1, 1, 1, 1, 1, 1, 1, 1, 1, 1, 1, 1, 1, 1, 1, 1, 1, 1, 1, 1, 1, 1, 1, 1, 1, 1, 1, 1, 1, 1, 1, 1, 1, 1, 1, 1, 1, 1, 1, 1, 1, 1, 1, 1, 1, 1, 1, 1, 1, 1, 1, 1, 1, 1, 1, 1, 1, 1, 1, 1, 1, 1, 1, 1, 1, 1, 1, 1, 1, 1, 1, 1, 1, 1, 1, 1, 1, 1, 1, 1, 1, 1, 1, 1, 1, 1, 1, 1, 1, 1, 1, 1, 1, 1, 1, 1, 1, 1, 1, 1, 1, 1, 1, 1, 1, 1, 1, 1, 1, 1, 1, 1, 1, 1, 1, 1, 1, 1, 1, 1, 1, 1, 1, 1, 1, 1, 1, 1, 1, 1, 1, 1, 1, 1, 1, 1, 1, 1, 1, 1, 1, 1, 1, 1, 1, 1, 1, 1, 1, 1, 1, 1, 1, 1, 1, 1, 1, 1, 1, 1, 1, 1, 1, 1, 1, 1, 1, 1, 1, 1, 1, 1, 1, 1, 1, 1, 1, 1, 1, 1, 1, 1, 1, 1, 1, 1, 1, 1, 1, 1, 1, 1, 1, 1, 1, 1, 1, 1, 1, 1, 1, 1, 1, 1, 1, 1, 1, 1, 1, 1, 1, 1, 1, 1, 1, 1, 1, 1, 1, 1, 1, 1, 1, 1, 1, 1, 1, 1, 1, 1, 1, 1, 1, 1, 1, 1, 1, 1, 1, 1, 1, 1, 1, 1, 1, 1, 1, 1, 1, 1, 1, 1, 1, 1, 1, 1, 1, 1, 1, 1, 1, 1, 1, 1, 1, 1, 1, 1, 1, 1, 1, 1, 1, 1, 1, 1, 1, 1, 1, 1, 1, 1, 1, 1, 1, 1, 1, 1, 1, 1, 1, 1, 1, 1, 1, 1, 1, 1, 1, 1, 1, 1, 1, 1, 1, 1, 1, 1, 1, 1, 1, 1, 1, 1, 1, 1, 1, 1, 1, 1, 1, 1, 1, 1, 1, 1, 1, 1, 1, 1, 1, 1, 1, 1, 1, 1, 1, 1, 1, 1, 1, 1, 1, 1, 1, 1, 1, 1, 1, 1, 1, 1, 1, 1, 1, 1, 1, 1, 1, 1, 1, 1, 1, 1, 1, 1, 1, 1, 1, 1, 1, 1, 1, 1, 1, 1, 1, 1, 1, 1, 1, 1, 1, 1, 1, 1, 1, 1, 1, 1, 1, 1, 1, 1, 1, 1, 1, 1, 1, 1, 1, 1, 1, 1, 1, 1, 1, 1, 1, 1, 1, 1, 1, 1, 1, 1, 1, 1, 1, 1, 1, 1, 1, 1, 1, 1, 1, 1, 1, 1, 1, 1, 1, 1, 1, 1, 1, 1, 1, 1, 1, 1, 1, 1, 1, 1, 1, 1, 1, 1, 1, 1, 1, 1, 1, 1, 1, 1, 1, 1, 1, 1, 1, 1, 1, 1, 1, 1, 1, 1, 1, 1, 1, 1, 1, 1, 1, 1, 1, 1, 1, 1, 1, 1, 1, 1, 1, 1, 1, 1, 1, 1, 1, 1, 1, 1, 1, 1, 1, 1, 1, 1, 1, 1, 1, 1, 1, 1, 1, 1, 1, 1, 1, 1, 1, 1, 1, 1, 1, 1, 1, 1, 1, 1, 1, 1, 1, 1, 1, 1, 1, 1, 1, 1, 1, 1, 1, 1, 1, 1, 1, 1, 1, 1, 1, 1, 1, 1, 1, 1, 1, 1, 1, 1, 1, 1, 1, 1, 1, 1, 1, 1, 1, 1, 1, 1, 1, 1, 1, 1, 1, 1, 1, 1, 1, 1, 1, 1, 1, 1, 1, 1, 1, 1, 1, 1, 1, 1, 1, 1, 1, 1, 1, 1, 1, 1, 1, 1, 1, 1, 1, 1, 1, 1, 1, 1, 1, 1, 1, 1, 1, 1, 1, 1, 1, 1, 1, 1, 1, 1, 1, 1, 1, 1, 1, 1, 1, 1, 1, 1, 1, 1, 1, 1, 1, 1, 1, 1, 1, 1, 1, 1, 1, 1, 1, 1, 1, 1, 1, 1, 1, 1, 1, 1, 1, 1, 1, 1, 1, 1, 1, 1, 1, 1, 1, 1, 1, 1, 1, 1, 1, 1, 1, 1, 1, 1, 1, 1, 1, 1, 1, 1, 1, 1, 1, 1, 1, 1, 1, 1, 1, 1, 1, 1, 1, 1, 1, 1, 1, 1, 1, 1, 1, 1, 1, 1, 1, 1, 1, 1, 1, 1, 1, 1, 1, 1, 1, 1, 1, 1, 1, 1, 1, 1, 1, 1, 1, 1, 1, 1, 1, 1, 1, 1, 1, 1, 1, 1, 1, 1, 1, 1, 1, 1, 1, 1, 1, 1, 1, 1, 1, 1, 1, 1, 1, 1, 1, 1, 1, 1, 1, 1, 1, 1, 1, 1, 1, 1, 1, 1, 1, 1, 1, 1, 1, 1, 1, 1, 1, 1, 1, 1, 1, 1, 1, 1, 1, 1, 1, 1, 1, 1, 1, 1, 1, 1, 1, 1, 1, 1, 1, 1, 1, 1, 1, 1, 1, 1, 1, 1, 1, 1, 1, 1, 1, 1, 1, 1, 1, 1, 1, 1, 1, 1, 1, 1, 1, 1, 1, 1, 1, 1, 1, 1, 1, 1, 1, 1, 1, 1, 1, 1, 1, 1, 1, 1, 1, 1, 1, 1, 1, 1, 1, 1, 1, 1, 1, 1, 1, 1, 1, 1, 1, 1, 1, 1, 1, 1, 1, 1, 1, 1, 1, 1, 1, 1, 1, 1, 1, 1, 1, 1, 1, 1, 1, 1, 1, 1, 1, 1, 1, 1, 1, 1, 1, 1, 1, 1, 1, 1, 1, 1, 1, 1, 1, 1, 1, 1, 1, 1, 1, 1, 1, 1, 1, 1, 1, 1, 1, 1, 1, 1, 1, 1, 1, 1, 1, 1, 1, 1, 1, 1, 1, 1, 1, 1, 1, 1, 1, 1, 1, 1, 1, 1, 1, 1, 1, 1, 1, 1, 1, 1, 1, 1, 1, 1, 1, 1, 1, 1, 1, 1, 1, 1, 1, 1, 1, 1, 1, 1, 1, 1, 1, 1, 1, 1, 1, 1, 1, 1, 1, 1, 1, 1, 1, 1, 1, 1, 1, 1, 1, 1, 1, 1, 1, 1, 1, 1, 1, 1, 1, 1, 1, 1, 1, 1, 1, 1, 1, 1, 1, 1, 1, 1, 1, 1, 1, 1, 1, 1, 1, 1, 1, 1, 1, 1, 1, 1, 1, 1, 1, 1, 1, 1, 1, 1, 1, 1, 1, 1, 1, 1, 1, 1, 1, 1, 1, 1, 1, 1, 1, 1, 1, 1, 1, 1, 1, 1, 1, 1, 1, 1, 1, 1, 1, 1, 1, 1, 1, 1, 1, 1, 1, 1, 1, 1, 1, 1, 1, 1, 1, 1, 1, 1, 1, 1, 1, 1, 1, 1, 1, 1, 1, 1, 1, 1, 1, 1, 1, 1, 1, 1, 1, 1, 1, 1, 1, 1, 1, 1, 1, 1, 1, 1, 1, 1, 1, 1, 1, 1, 1, 1, 1, 1, 1, 1, 1, 1, 1, 1, 1, 1, 1, 1, 1, 1, 1, 1, 1, 1, 1, 1, 1, 1, 1, 1, 1, 1, 1, 1, 1, 1, 1, 1, 1, 1, 1, 1, 1, 1, 1, 1, 1, 1, 1, 1, 1, 1, 1, 1, 1, 1, 1, 1, 1, 1, 1, 1, 1, 1, 1, 1, 1, 1, 1, 1, 1, 1, 1, 1, 1, 1, 1, 1, 1, 1, 1, 1, 1, 1, 1, 1, 1, 1, 1, 1, 1, 1, 1, 1, 1, 1, 1, 1, 1, 1, 1, 1, 1, 1, 1, 1, 1, 1, 1, 1, 1, 1, 1, 1, 1, 1, 1, 1, 1, 1, 1, 1, 1, 1, 1, 1, 1, 1, 1, 1, 1, 1, 1, 1, 1, 1, 1, 1, 1, 1, 1, 1, 1, 1, 1, 1, 1, 1, 1, 1, 1, 1, 1, 1, 1, 1, 1, 1, 1, 1, 1, 1, 1, 1, 1, 1, 1, 1, 1, 1, 1, 1, 1, 1, 1, 1, 1, 1, 1, 1, 1, 1, 1, 1, 1, 1, 1, 1, 1, 1, 1, 1, 1, 1, 1, 1, 1, 1, 1, 1, 1, 1, 1, 1, 1, 1, 1, 1, 1, 1, 1, 1, 1, 1, 1, 1, 1, 1, 1, 1, 1, 1, 1, 1, 1, 1, 1, 1, 1, 1, 1, 1, 1, 1, 1, 1, 1, 1, 1, 1, 1, 1, 1, 1, 1, 1, 1, 1, 1, 1, 1, 1, 1, 1, 1, 1, 1, 1, 1, 1, 1, 1, 1, 1, 1, 1, 1, 1, 1, 1, 1, 1, 1, 1, 1, 1, 1, 1, 1, 1, 1, 1, 1, 1, 1, 1, 1, 1, 1, 1, 1, 1, 1, 1, 1, 1, 1, 1, 1, 1, 1, 1, 1, 1, 1, 1, 1, 1, 1, 1, 1, 1, 1, 1, 1, 1, 1, 1, 1, 1, 1, 1, 1, 1, 1, 1, 1, 1, 1, 1, 1, 1, 1, 1, 1, 1, 1, 1, 1, 1, 1, 1, 1, 1, 1, 1, 1, 1, 1, 1, 1, 1, 1, 1, 1, 1, 1, 1, 1, 1, 1, 1, 1, 1, 1, 1, 1, 1, 1, 1, 1, 1, 1, 1, 1, 1, 1, 1, 1, 1, 1, 1, 1, 1, 1, 1, 1, 1, 1, 1, 1, 1, 1, 1, 1, 1, 1, 1, 1, 1, 1, 1, 1, 1, 1, 1, 1, 1, 1, 1, 1, 1, 1, 1, 1, 1, 1, 1, 1, 1, 1, 1, 1, 1, 1, 1, 1, 1, 1, 1, 1, 1, 1, 1, 1, 1, 1, 1, 1, 1, 1, 1, 1, 1, 1, 1, 1, 1, 1, 1, 1, 1, 1, 1, 1, 1, 1, 1, 1, 1, 1, 1, 1, 1, 1, 1, 1, 1, 1, 1, 1, 1, 1, 1, 1, 1, 1, 1, 1, 1, 1, 1, 1, 1, 1, 1, 1, 1, 1, 1, 1, 1, 1, 1, 1, 1, 1, 1, 1, 1, 1, 1, 1, 1, 1, 1, 1, 1, 1, 1, 1, 1, 1, 1, 1, 1, 1, 1, 1, 1, 1, 1, 1, 1, 1, 1, 1, 1, 1, 1, 1, 1, 1, 1, 1, 1, 1, 1, 1, 1, 1, 1, 1, 1, 1, 1, 1, 1, 1, 1, 1, 1, 1, 1, 1, 1, 1, 1, 1, 1, 1, 1, 1, 1, 1, 1, 1, 1, 1, 1, 1, 1, 1, 1, 1, 1, 1, 1, 1, 1, 1, 1, 1, 1, 1, 1, 1, 1, 1, 1, 1, 1, 1, 1, 1, 1, 1, 1, 1, 1, 1, 1, 1, 1, 1, 1, 1, 1, 1, 1, 1, 1, 1, 1, 1, 1, 1, 1, 1, 1, 1, 1, 1, 1, 1, 1, 1, 1, 1, 1, 1, 1, 1, 1, 1, 1, 1, 1, 1, 1, 1, 1, 1, 1, 1, 1, 1, 1, 1, 1, 1, 1, 1, 1, 1, 1, 1, 1, 1, 1, 1, 1, 1, 1, 1, 1, 1, 1, 1, 1, 1, 1, 1, 1, 1, 1, 1, 1, 1, 1, 1, 1, 1, 1, 1, 1, 1, 1, 1, 1, 1, 1, 1, 1, 1, 1, 1, 1, 1, 1, 1, 1, 1, 1, 1, 1, 1, 1, 1, 1, 1, 1, 1, 1, 1, 1, 1, 1, 1, 1, 1, 1, 1, 1, 1, 1, 1, 1, 1, 1, 1, 1, 1, 1, 1, 1, 1, 1, 1, 1, 1, 1, 1, 1, 1, 1, 1, 1, 1, 1, 1, 1, 1, 1, 1, 1, 1, 1, 1, 1, 1, 1, 1, 1, 1, 1, 1, 1, 1, 1, 1, 1, 1, 1, 1, 1, 1, 1, 1, 1, 1, 1, 1, 1, 1, 1, 1, 1, 1, 1, 1, 1, 1, 1, 1, 1, 1, 1, 1, 1, 1, 1, 1, 1, 1, 1, 1, 1, 1, 1, 1, 1, 1, 1, 1, 1, 1, 1, 1, 1, 1, 1, 1, 1, 1, 1, 1, 1, 1, 1, 1, 1, 1, 1, 1, 1, 1, 1, 1, 1, 1, 1, 1, 1, 1, 1, 1, 1, 1, 1, 1, 1, 1, 1, 1, 1, 1, 1, 1, 1, 1, 1, 1, 1, 1, 1, 1, 1, 1, 1, 1, 1, 1, 1, 1, 1, 1, 1, 1, 1, 1, 1, 1, 1, 1, 1, 1, 1, 1, 1, 1, 1, 1, 1, 1, 1, 1, 1, 1, 1, 1, 1, 1, 1, 1, 1, 1, 1, 1, 1, 1, 1, 1, 1, 1, 1, 1, 1, 1, 1, 1, 1, 1, 1, 1, 1, 1, 1, 1, 1, 1, 1, 1, 1, 1, 1, 1, 1, 1, 1, 1, 1, 1, 1, 1, 1, 1, 1, 1, 1, 1, 1, 1, 1, 1, 1, 1, 1, 1, 1, 1, 1, 1, 1, 1, 1, 1, 1, 1, 1, 1, 1, 1, 1, 1, 1, 1, 1, 1, 1, 1, 1, 1, 1, 1, 1, 1, 1, 1, 1, 1, 1, 1, 1, 1, 1, 1, 1, 1, 1, 1, 1, 1, 1, 1, 1, 1, 1, 1, 1, 1, 1, 1, 1, 1, 1, 1, 1, 1, 1, 1, 1, 1, 1, 1, 1, 1, 1, 1, 1, 1, 1, 1, 1, 1, 1, 1, 1, 1, 1, 1, 1, 1, 1, 1, 1, 1, 1, 1, 1, 1, 1, 1, 1, 1, 1, 1, 1, 1, 1, 1, 1, 1, 1, 1, 1, 1, 1, 1, 1, 1, 1, 1, 1, 1, 1, 1, 1, 1, 1, 1, 1, 1, 1, 1, 1, 1, 1, 1, 1, 1, 1, 1, 1, 1, 1, 1, 1, 1, 1, 1, 1, 1, 1, 1, 1, 1, 1, 1, 1, 1, 1, 1, 1, 1, 1, 1, 1, 1, 1, 1, 1, 1, 1, 1, 1, 1, 1, 1, 1, 1, 1, 1, 1, 1, 1, 1, 1, 1, 1, 1, 1, 1, 1, 1, 1, 1, 1, 1, 1, 1, 1, 1, 1, 1, 1, 1, 1, 1, 1, 1, 1, 1, 1, 1, 1, 1, 1, 1, 1, 1, 1, 1, 1, 1, 1, 1, 1, 1, 1, 1, 1, 1, 1, 1, 1, 1, 1, 1, 1, 1, 1, 1, 1, 1, 1, 1, 1, 1, 1, 1, 1, 1, 1, 1, 1, 1, 1, 1, 1, 1, 1, 1, 1, 1, 1, 1, 1, 1, 1, 1, 1, 1, 1, 1, 1, 1, 1, 1, 1, 1, 1, 1, 1, 1, 1, 1, 1, 1, 1, 1, 1, 1, 1, 1, 1, 1, 1, 1, 1, 1, 1, 1, 1, 1, 1, 1, 1, 1, 1, 1, 1, 1, 1, 1, 1, 1, 1, 1, 1, 1, 1, 1, 1, 1, 1, 1, 1, 1, 1, 1, 1, 1, 1, 1, 1, 1, 1, 1, 1, 1, 1, 1, 1, 1, 1, 1, 1, 1, 1, 1, 1, 1, 1, 1, 1, 1, 1, 1, 1, 1, 1, 1, 1, 1, 1, 1, 1, 1, 1, 1, 1, 1, 1, 1, 1, 1, 1, 1, 1, 1, 1, 1, 1, 1, 1, 1, 1, 1, 1, 1, 1, 1, 1, 1, 1, 1, 1, 1, 1, 1, 1, 1, 1, 1, 1, 1, 1, 1, 1, 1, 1, 1, 1, 1, 1, 1, 1, 1, 1, 1, 1, 1, 1, 1, 1, 1, 1, 1, 1, 1, 1, 1, 1, 1, 1, 1, 1, 1, 1, 1, 1, 1, 1, 1, 1, 1, 1, 1, 1, 1, 1, 1, 1, 1, 1, 1, 1, 1, 1, 1, 1, 1, 1, 1, 1, 1, 1, 1, 1, 1, 1, 1, 1, 1, 1, 1, 1, 1, 1, 1, 1, 1, 1, 1, 1, 1, 1, 1, 1, 1, 1, 1, 1, 1, 1, 1, 1, 1, 1, 1, 1, 1, 1, 1, 1, 1, 1, 1, 1, 1, 1, 1, 1, 1, 1, 1, 1, 1, 1, 1, 1, 1, 1, 1, 1, 1, 1, 1, 1, 1, 1, 1, 1, 1, 1, 1, 1, 1, 1, 1, 1, 1, 1, 1, 1, 1, 1, 1, 1, 1, 1, 1, 1, 1, 1, 1, 1, 1, 1, 1, 1, 1, 1, 1, 1, 1, 1, 1, 1, 1, 1, 1, 1, 1, 1, 1, 1, 1, 1, 1, 1, 1, 1, 1, 1, 1, 1, 1, 1, 1, 1, 1, 1, 1, 1, 1, 1, 1, 1, 1, 1, 1, 1, 1, 1, 1, 1, 1, 1, 1, 1, 1, 1, 1, 1, 1, 1, 1, 1, 1, 1, 1, 1, 1, 1, 1, 1, 1, 1, 1, 1, 1, 1, 1, 1, 1, 1, 1, 1, 1, 1, 1, 1, 1, 1, 1, 1, 1, 1, 1, 1, 1, 1, 1, 1, 1, 1, 1, 1, 1, 1, 1, 1, 1, 1, 1, 1, 1, 1, 1, 1, 1, 1, 1, 1, 1, 1, 1, 1, 1, 1, 1, 1, 1, 1, 1, 1, 1, 1, 1, 1, 1, 1, 1, 1, 1, 1, 1, 1, 1, 1, 1, 1, 1, 1, 1, 1, 1, 1, 1, 1, 1, 1, 1, 1, 1, 1, 1, 1, 1, 1, 1, 1, 1, 1, 1, 1, 1, 1, 1, 1, 1, 1, 1, 1, 1, 1, 1, 1, 1, 1, 1, 1, 1, 1, 1, 1, 1, 1, 1, 1, 1, 1, 1, 1, 1, 1, 1, 1, 1, 1, 1, 1, 1, 1, 1, 1, 1, 1, 1, 1, 1, 1, 1, 1, 1, 1, 1, 1, 1, 1, 1, 1, 1, 1, 1, 1, 1, 1, 1, 1, 1, 1, 1, 1, 1, 1, 1, 1, 1, 1, 1, 1, 1, 1, 1, 1, 1, 1, 1, 1, 1, 1, 1, 1, 1, 1, 1, 1, 1, 1, 1, 1, 1, 1, 1, 1, 1, 1, 1, 1, 1, 1, 1, 1, 1, 1, 1, 1, 1, 1, 1, 1, 1, 1, 1, 1, 1, 1, 1, 1, 1, 1, 1, 1, 1, 1, 1, 1, 1, 1, 1, 1, 1, 1, 1, 1, 1, 1, 1, 1, 1, 1, 1, 1, 1, 1, 1, 1, 1, 1, 1, 1, 1, 1, 1, 1, 1, 1, 1, 1, 1, 1, 1, 1, 1, 1, 1, 1, 1, 1, 1, 1, 1, 1, 1, 1, 1, 1, 1, 1, 1, 1, 1, 1, 1, 1, 1, 1, 1, 1, 1, 1, 1, 1, 1, 1, 1, 1, 1, 1, 1, 1, 1, 1, 1, 1, 1, 1, 1, 1, 1, 1, 1, 1, 1, 1, 1, 1, 1, 1, 1, 1, 1, 1, 1, 1, 1, 1, 1, 1, 1, 1, 1, 1, 1, 1, 1, 1, 1, 1, 1, 1, 1, 1, 1, 1, 1, 1, 1, 1, 1, 1, 1, 1, 1, 1, 1, 1, 1, 1, 1, 1, 1, 1, 1, 1, 1, 1, 1, 1, 1, 1, 1, 1, 1, 1, 1, 1, 1, 1, 1, 1, 1, 1, 1, 1, 1, 1, 1, 1, 1, 1, 1, 1, 1, 1, 1, 1, 1, 1, 1, 1, 1, 1, 1, 1, 1, 1, 1, 1, 1, 1, 1, 1, 1, 1, 1, 1, 1, 1, 1, 1, 1, 1, 1, 1, 1, 1, 1, 1, 1, 1, 1, 1, 1, 1, 1, 1, 1, 1, 1, 1, 1, 1, 1, 1, 1, 1, 1, 1, 1, 1, 1, 1, 1, 1, 1, 1, 1, 1, 1, 1, 1, 1, 1, 1, 1, 1, 1, 1, 1, 1, 1, 1, 1, 1, 1, 1, 1, 1, 1, 1, 1, 1, 1, 1, 1, 1, 1, 1, 1, 1, 1, 1, 1, 1, 1, 1, 1, 1, 1, 1, 1, 1, 1, 1, 1, 1, 1, 1, 1, 1, 1, 1, 1, 1, 1, 1, 1, 1, 1, 1, 1, 1, 1, 1, 1, 1, 1, 1, 1, 1, 1, 1, 1, 1, 1, 1, 1, 1, 1, 1, 1, 1, 1, 1, 1, 1, 1, 1, 1, 1, 1, 1, 1, 1, 1, 1, 1, 1, 1, 1, 1, 1, 1, 1, 1, 1, 1, 1, 1, 1, 1, 1, 1, 1, 1, 1, 1, 1, 1, 1, 1, 1, 1, 1, 1, 1, 1, 1, 1, 1, 1, 1, 1, 1, 1, 1, 1, 1, 1, 1, 1, 1, 1, 1, 1, 1, 1, 1, 1, 1, 1, 1, 1, 1, 1, 1, 1, 1, 1, 1, 1, 1, 1, 1, 1, 1, 1, 1, 1, 1, 1, 1, 1, 1, 1, 1, 1, 1, 1, 1, 1, 1, 1, 1, 1, 1, 1, 1, 1, 1, 1, 1, 1, 1, 1, 1, 1, 1, 1, 1, 1, 1, 1, 1, 1, 1, 1, 1, 1, 1, 1, 1, 1, 1, 1, 1, 1, 1, 1, 1, 1, 1, 1, 1, 1, 1, 1, 1, 1, 1, 1, 1, 1, 1, 1, 1, 1, 1, 1, 1, 1, 1, 1, 1, 1, 1, 1, 1, 1, 1, 1, 1, 1, 1, 1, 1, 1, 1, 1, 1, 1, 1, 1, 1, 1, 1, 1, 1, 1, 1, 1, 1, 1, 1, 1, 1, 1, 1, 1, 1, 1, 1, 1, 1, 1, 1, 1, 1, 1, 1, 1, 1, 1, 1, 1, 1, 1, 1, 1, 1, 1, 1, 1, 1, 1, 1, 1, 1, 1, 1, 1, 1, 1, 1, 1, 1, 1, 1, 1, 1, 1, 1, 1, 1, 1, 1, 1, 1, 1, 1, 1, 1, 1, 1, 1, 1, 1, 1, 1, 1, 1, 1, 1, 1, 1, 1, 1, 1, 1, 1, 1, 1, 1, 1, 1, 1, 1, 1, 1, 1, 1, 1, 1, 1, 1, 1, 1, 1, 1, 1, 1, 1, 1, 1, 1, 1, 1, 1, 1, 1, 1, 1, 1, 1, 1, 1, 1, 1, 1, 1, 1, 1, 1, 1, 1, 1, 1, 1, 1, 1, 1, 1, 1, 1, 1, 1, 1, 1, 1, 1, 1, 1, 1, 1, 1, 1, 1, 1, 1, 1, 1, 1, 1, 1, 1, 1, 1, 1, 1, 1, 1, 1, 1, 1, 1, 1, 1, 1, 1, 1, 1, 1, 1, 1, 1, 1, 1, 1, 1, 1, 1, 1, 1, 1, 1, 1, 1, 1, 1, 1, 1, 1, 1, 1, 1, 1, 1, 1, 1, 1, 1, 1, 1, 1, 1, 1, 1, 1, 1, 1, 1, 1, 1, 1, 1, 1, 1, 1, 1, 1, 1, 1, 1, 1, 1, 1, 1, 1, 1, 1, 1, 1, 1, 1, 1, 1, 1, 1, 1, 1, 1, 1, 1, 1, 1, 1, 1, 1, 1, 1, 1, 1, 1, 1, 1, 1, 1, 1, 1, 1, 1, 1, 1, 1, 1, 1, 1, 1, 1, 1, 1, 1, 1, 1, 1, 1, 1, 1, 1, 1, 1, 1, 1, 1, 1, 1, 1, 1, 1, 1, 1, 1, 1, 1, 1, 1, 1, 1, 1, 1, 1, 1, 1, 1, 1, 1, 1, 1, 1, 1, 1, 1, 1, 1, 1, 1, 1, 1, 1, 1, 1, 1, 1, 1, 1, 1, 1, 1, 1, 1, 1, 1, 1, 1, 1, 1, 1, 1, 1, 1, 1, 1, 1, 1, 1, 1, 1, 1, 1, 1, 1, 1, 1, 1, 1, 1, 1, 1, 1, 1, 1, 1, 1, 1, 1, 1, 1, 1, 1, 1, 1, 1, 1, 1, 1, 1, 1, 1, 1, 1, 1, 1, 1, 1, 1, 1, 1, 1, 1, 1, 1, 1, 1, 1, 1, 1, 1, 1, 1, 1, 1, 1, 1, 1, 1, 1, 1, 1, 1, 1, 1, 1, 1, 1, 1, 1, 1, 1, 1, 1, 1, 1, 1, 1]\n"
          ]
        }
      ]
    },
    {
      "cell_type": "code",
      "execution_count": null,
      "id": "cc64ba75-4294-43a2-9b15-79d21c52b611",
      "metadata": {
        "colab": {
          "base_uri": "https://localhost:8080/"
        },
        "id": "cc64ba75-4294-43a2-9b15-79d21c52b611",
        "outputId": "607af3b7-2f67-496a-8134-a66acecbfab7"
      },
      "outputs": [
        {
          "output_type": "stream",
          "name": "stdout",
          "text": [
            "17932\n",
            "17932\n"
          ]
        }
      ],
      "source": [
        "print(len(name_2))\n",
        "print(len(name_1))"
      ]
    },
    {
      "cell_type": "code",
      "execution_count": null,
      "id": "a4d54a6b-4d40-450e-af0d-daaeeb8f493e",
      "metadata": {
        "colab": {
          "base_uri": "https://localhost:8080/",
          "height": 826
        },
        "id": "a4d54a6b-4d40-450e-af0d-daaeeb8f493e",
        "outputId": "41349503-f479-4336-aeb8-afb9100807a8"
      },
      "outputs": [
        {
          "output_type": "display_data",
          "data": {
            "text/plain": [
              "<Figure size 1000x1000 with 25 Axes>"
            ],
            "image/png": "[encoded data removed]"
          },
          "metadata": {}
        }
      ],
      "source": [
        "\n",
        "class_name =['Fall',\n",
        "             'Non-Fall']\n",
        "plt.figure(figsize=(10,10))\n",
        "for i in range(25):\n",
        "    plt.subplot(5,5,i+1)\n",
        "    plt.xticks([])\n",
        "    plt.yticks([])\n",
        "    plt.grid(False)\n",
        "    plt.imshow(img_1[i], cmap = 'gray')\n",
        "    plt.xlabel(class_name[label_1[i]])\n",
        "plt.show()"
      ]
    },
    {
      "cell_type": "code",
      "execution_count": null,
      "id": "e27ccbcd-d9e2-424d-bffd-efa60b2ea2f0",
      "metadata": {
        "colab": {
          "base_uri": "https://localhost:8080/",
          "height": 826
        },
        "id": "e27ccbcd-d9e2-424d-bffd-efa60b2ea2f0",
        "outputId": "a9c369c2-f870-434a-d289-492d27deccdc"
      },
      "outputs": [
        {
          "output_type": "display_data",
          "data": {
            "text/plain": [
              "<Figure size 1000x1000 with 25 Axes>"
            ],
            "image/png": "[encoded data removed]"
          },
          "metadata": {}
        }
      ],
      "source": [
        "plt.figure(figsize=(10,10))\n",
        "for i in range(25):\n",
        "    plt.subplot(5,5,i+1)\n",
        "    plt.xticks([])\n",
        "    plt.yticks([])\n",
        "    plt.grid(False)\n",
        "    plt.imshow(img_2[i], cmap = 'gray')\n",
        "    plt.xlabel(class_name[label_2[i]])\n",
        "plt.show()"
      ]
    },
    {
      "cell_type": "code",
      "execution_count": null,
      "id": "a2d7c5f5-e408-4afe-a1ef-cc94176c4c1c",
      "metadata": {
        "colab": {
          "base_uri": "https://localhost:8080/"
        },
        "id": "a2d7c5f5-e408-4afe-a1ef-cc94176c4c1c",
        "outputId": "b962f120-0ddd-4a47-cb44-c7804b082e49"
      },
      "outputs": [
        {
          "output_type": "stream",
          "name": "stdout",
          "text": [
            "(17932, 32, 32)\n",
            "(17932, 32, 32)\n",
            "(17932, 37)\n",
            "True\n",
            "True\n"
          ]
        }
      ],
      "source": [
        "\n",
        "data = SUB.loc[name_1].values\n",
        "print(img_1.shape)\n",
        "print(img_2.shape)\n",
        "print(data.shape)\n",
        "\n",
        "\n",
        "print((label_2 == data[:,-1]).all())\n",
        "print((label_1 == data[:,-1]).all())"
      ]
    },
    {
      "cell_type": "code",
      "execution_count": null,
      "id": "a9f39356-4084-49e4-b44e-8002533ad3d4",
      "metadata": {
        "colab": {
          "base_uri": "https://localhost:8080/"
        },
        "id": "a9f39356-4084-49e4-b44e-8002533ad3d4",
        "outputId": "3a252f24-22e3-450b-a0b5-ace59c2df136"
      },
      "outputs": [
        {
          "output_type": "stream",
          "name": "stdout",
          "text": [
            "X_train_csv shape :  (10759, 36)\n",
            "X_test_csv shape :  (3587, 36)\n",
            "X_val_csv shape :  (3586, 36)\n",
            "y_train_csv shape :  (10759,)\n",
            "y_test_csv shape :  (3587,)\n",
            "y_val_csv shape :  (3586,)\n",
            "Y_train_csv shape :  (10759, 2)\n",
            "Y_test_csv shape :  (3587, 2)\n",
            "Y_val_csv shape :  (3586, 2)\n",
            "********************\n",
            "X_train_1 shape :  (10759, 32, 32)\n",
            "X_test_1 shape :  (3587, 32, 32)\n",
            "X_val_1 shape :  (3586, 32, 32)\n",
            "y_train_1 shape :  (10759,)\n",
            "y_test_1 shape :  (3587,)\n",
            "y_val_1 shape :  (3586,)\n",
            "Y_train_1 shape :  (10759, 2)\n",
            "Y_test_1 shape :  (3587, 2)\n",
            "Y_val_1 shape :  (3586, 2)\n",
            "********************\n",
            "X_train_2 shape :  (10759, 32, 32)\n",
            "X_test_2 shape :  (3587, 32, 32)\n",
            "X_val_2 shape :  (3586, 32, 32)\n",
            "y_train_2 shape :  (10759,)\n",
            "y_test_2 shape :  (3587,)\n",
            "y_val_2 shape :  (3586,)\n",
            "Y_train_2 shape :  (10759, 2)\n",
            "Y_test_2 shape :  (3587, 2)\n",
            "Y_val_2 shape :  (3586, 2)\n"
          ]
        }
      ],
      "source": [
        "\n",
        "def set_seed():\n",
        "    SEED = 0\n",
        "    os.environ['PYTHONHASHSEED']=str(SEED)\n",
        "    np.random.seed(SEED)\n",
        "    tf.random.set_seed(SEED)\n",
        "    rn.seed(SEED)\n",
        "    session_conf = tf.compat.v1.ConfigProto(intra_op_parallelism_threads=1, inter_op_parallelism_threads=1)\n",
        "    sess = tf.compat.v1.Session(graph=tf.compat.v1.get_default_graph(), config=session_conf)\n",
        "    tf.compat.v1.keras.backend.set_session(sess)\n",
        "\n",
        "set_seed()\n",
        "X_csv, y_csv = data[:,:-1] , data[:,-1]\n",
        "\n",
        "y_csv = np.where(y_csv == 20 , 0, y_csv)\n",
        "label_1 = np.where(label_1 == 20 , 0, label_1)\n",
        "label_2 = np.where(label_2 == 20, 0, label_2)\n",
        "X_train_csv,X_rem_csv,y_train_csv,y_rem_csv = train_test_split(X_csv, y_csv,\n",
        "                                                                 train_size = 0.6,\n",
        "                                                                 random_state = 42)\n",
        "\n",
        "X_val_csv, X_test_csv, y_val_csv, y_test_csv = train_test_split(X_rem_csv, y_rem_csv,\n",
        "                                                                  test_size = 0.5,\n",
        "                                                                  random_state = 42)\n",
        "\n",
        "print('X_train_csv shape : ',X_train_csv.shape)\n",
        "print('X_test_csv shape : ',X_test_csv.shape)\n",
        "print('X_val_csv shape : ',X_val_csv.shape)\n",
        "print('y_train_csv shape : ',y_train_csv.shape)\n",
        "print('y_test_csv shape : ',y_test_csv.shape)\n",
        "print('y_val_csv shape : ',y_val_csv.shape)\n",
        "\n",
        "Y_train_csv = to_categorical(y_train_csv, 2)\n",
        "Y_test_csv = to_categorical(y_test_csv, 2)\n",
        "Y_val_csv = to_categorical(y_val_csv, 2)\n",
        "\n",
        "print('Y_train_csv shape : ',Y_train_csv.shape)\n",
        "print('Y_test_csv shape : ',Y_test_csv.shape)\n",
        "print('Y_val_csv shape : ',Y_val_csv.shape)\n",
        "\n",
        "\n",
        "\n",
        "X_train_1,X_rem_1,y_train_1,y_rem_1 = train_test_split(img_1,label_1,\n",
        "                                                         train_size = 0.6,\n",
        "                                                         random_state = 42,\n",
        "                                                         )\n",
        "\n",
        "X_val_1,X_test_1,y_val_1,y_test_1 = train_test_split(X_rem_1,y_rem_1,\n",
        "                                                         test_size = 0.5,\n",
        "                                                         random_state = 42,\n",
        "                                                         )\n",
        "print('*'*20)\n",
        "print('X_train_1 shape : ',X_train_1.shape)\n",
        "print('X_test_1 shape : ',X_test_1.shape)\n",
        "print('X_val_1 shape : ',X_val_1.shape)\n",
        "print('y_train_1 shape : ',y_train_1.shape)\n",
        "print('y_test_1 shape : ',y_test_1.shape)\n",
        "print('y_val_1 shape : ',y_val_1.shape)\n",
        "\n",
        "\n",
        "Y_train_1 = to_categorical(y_train_1, 2)\n",
        "Y_test_1 = to_categorical(y_test_1, 2)\n",
        "Y_val_1 = to_categorical(y_val_1, 2)\n",
        "\n",
        "print('Y_train_1 shape : ',Y_train_1.shape)\n",
        "print('Y_test_1 shape : ',Y_test_1.shape)\n",
        "print('Y_val_1 shape : ',Y_val_1.shape)\n",
        "\n",
        "\n",
        "\n",
        "X_train_2,X_rem_2,y_train_2,y_rem_2 = train_test_split(img_2,label_2,\n",
        "                                                         train_size = 0.6,\n",
        "                                                         random_state = 42,\n",
        "                                                         )\n",
        "\n",
        "X_val_2,X_test_2,y_val_2,y_test_2 = train_test_split(X_rem_2,y_rem_2,\n",
        "                                                         test_size = 0.5,\n",
        "                                                         random_state = 42,\n",
        "                                                         )\n",
        "\n",
        "print('*'*20)\n",
        "print('X_train_2 shape : ',X_train_2.shape)\n",
        "print('X_test_2 shape : ',X_test_2.shape)\n",
        "print('X_val_2 shape : ',X_val_2.shape)\n",
        "print('y_train_2 shape : ',y_train_2.shape)\n",
        "print('y_test_2 shape : ',y_test_2.shape)\n",
        "print('y_val_2 shape : ',y_val_2.shape)\n",
        "\n",
        "\n",
        "Y_train_2 = to_categorical(y_train_2, 2)\n",
        "Y_test_2 = to_categorical(y_test_2, 2)\n",
        "Y_val_2 = to_categorical(y_val_2, 2)\n",
        "\n",
        "print('Y_train_2 shape : ',Y_train_2.shape)\n",
        "print('Y_test_2 shape : ',Y_test_2.shape)\n",
        "print('Y_val_2 shape : ',Y_val_2.shape)\n"
      ]
    },
    {
      "cell_type": "code",
      "execution_count": null,
      "id": "a5a79bd0-1f13-4001-b6c2-cda70bd19232",
      "metadata": {
        "colab": {
          "base_uri": "https://localhost:8080/"
        },
        "id": "a5a79bd0-1f13-4001-b6c2-cda70bd19232",
        "outputId": "ecc4fdf4-8e53-455b-adef-d01dfd91b44d"
      },
      "outputs": [
        {
          "output_type": "stream",
          "name": "stdout",
          "text": [
            "True\n",
            "True\n",
            "True\n",
            "True\n",
            "True\n",
            "True\n"
          ]
        }
      ],
      "source": [
        "print((y_train_1 == y_train_csv).all())\n",
        "print((y_train_2 == y_train_csv).all())\n",
        "\n",
        "print((y_val_1 == y_val_csv).all())\n",
        "print((y_val_2 == y_val_csv).all())\n",
        "\n",
        "print((y_test_1 == y_test_csv).all())\n",
        "print((y_test_2 == y_test_csv).all())"
      ]
    },
    {
      "cell_type": "code",
      "execution_count": null,
      "id": "8f1ae354-7622-4e2b-aff8-14e754ebffad",
      "metadata": {
        "id": "8f1ae354-7622-4e2b-aff8-14e754ebffad"
      },
      "outputs": [],
      "source": [
        "shape1, shape2 = 32,32\n",
        "X_train_1 = X_train_1.reshape(X_train_1.shape[0], shape1, shape2 ,1)\n",
        "X_train_2 = X_train_2.reshape(X_train_2.shape[0], shape1, shape2 ,1)\n",
        "X_val_1 = X_val_1.reshape(X_val_1.shape[0], shape1, shape2 , 1)\n",
        "X_val_2 = X_val_2.reshape(X_val_2.shape[0], shape1, shape2 , 1)\n",
        "X_test_1 = X_test_1.reshape(X_test_1.shape[0], shape1, shape2 ,1)\n",
        "X_test_2 = X_test_2.reshape(X_test_2.shape[0], shape1, shape2 ,1)"
      ]
    },
    {
      "cell_type": "code",
      "execution_count": null,
      "id": "9fc7a3fb-6713-481b-87c9-05e5bfa6baa4",
      "metadata": {
        "id": "9fc7a3fb-6713-481b-87c9-05e5bfa6baa4"
      },
      "outputs": [],
      "source": [
        "X_train_1_scaled = X_train_1/255.0\n",
        "X_train_2_scaled = X_train_2/255.0\n",
        "\n",
        "X_val_1_scaled = X_val_1/255.0\n",
        "X_val_2_scaled = X_val_2/255.0\n",
        "\n",
        "X_test_1_scaled = X_test_1/255.0\n",
        "X_test_2_scaled = X_test_2/255.0"
      ]
    },
    {
      "cell_type": "code",
      "execution_count": null,
      "id": "1d37390e-d0b0-452e-91ed-e2ad05228fef",
      "metadata": {
        "colab": {
          "base_uri": "https://localhost:8080/"
        },
        "id": "1d37390e-d0b0-452e-91ed-e2ad05228fef",
        "outputId": "f7f9fadd-55d4-4a7b-b4eb-61c0901b12c2"
      },
      "outputs": [
        {
          "output_type": "stream",
          "name": "stdout",
          "text": [
            "(10759, 32, 32, 1)\n",
            "(3587, 32, 32, 1)\n",
            "(3586, 32, 32, 1)\n",
            "(10759, 32, 32, 1)\n",
            "(3587, 32, 32, 1)\n",
            "(3586, 32, 32, 1)\n"
          ]
        }
      ],
      "source": [
        "print(X_train_1_scaled.shape)\n",
        "print(X_test_1_scaled.shape)\n",
        "print(X_val_1_scaled.shape)\n",
        "\n",
        "print(X_train_2_scaled.shape)\n",
        "print(X_test_2_scaled.shape)\n",
        "print(X_val_2_scaled.shape)"
      ]
    },
    {
      "cell_type": "code",
      "execution_count": null,
      "id": "43c05dcd-56f9-41f2-8fed-38db907d8a2b",
      "metadata": {
        "colab": {
          "base_uri": "https://localhost:8080/"
        },
        "id": "43c05dcd-56f9-41f2-8fed-38db907d8a2b",
        "outputId": "88a57894-786a-43e5-e15f-18def2a4178e"
      },
      "outputs": [
        {
          "output_type": "stream",
          "name": "stdout",
          "text": [
            "--------------------------To Categorical ---------------------------\n",
            "Before    :  1.0\n",
            "After     :  [0. 1.]\n"
          ]
        }
      ],
      "source": [
        "\n",
        "def display_result(y_test , y_pred) :\n",
        "    print('Accuracy score : ', accuracy_score(y_test , y_pred) )\n",
        "    print('Precision score : ', precision_score(y_test , y_pred, average='weighted'))\n",
        "    print('Recall score : ', recall_score(y_test , y_pred, average='weighted'))\n",
        "    print('F1 score : ', f1_score(y_test , y_pred, average='weighted'))\n",
        "\n",
        "\n",
        "def scaled_data(X_train, X_test, X_val):\n",
        "    scaler = StandardScaler()\n",
        "    X_train_scaled = scaler.fit_transform(X_train)\n",
        "    X_test_scaled = scaler.transform(X_test)\n",
        "    X_val_scaled = scaler.transform(X_val)\n",
        "    return X_train_scaled, X_test_scaled , X_val_scaled\n",
        "\n",
        "\n",
        "def convert_to_categorical (y_train, y_test, y_val) :\n",
        "    print('--------------------------To Categorical ---------------------------')\n",
        "    Y_train = to_categorical(y_train, 2)\n",
        "    Y_test = to_categorical(y_test, 2)\n",
        "    Y_val = to_categorical(y_val,2)\n",
        "\n",
        "    print('Before    : ', y_train[0])\n",
        "    print('After     : ',Y_train[0])\n",
        "    return Y_train, Y_test, Y_val\n",
        "\n",
        "\n",
        "X_train_csv_scaled, X_test_csv_scaled , X_val_csv_scaled = scaled_data(X_train_csv, X_test_csv, X_val_csv)\n",
        "Y_train_csv , Y_test_csv , Y_val_csv = convert_to_categorical (y_train_csv, y_test_csv, y_val_csv)\n",
        "\n"
      ]
    },
    {
      "cell_type": "markdown",
      "id": "e6209778-705d-409d-b1a1-d9b8470010fa",
      "metadata": {
        "id": "e6209778-705d-409d-b1a1-d9b8470010fa"
      },
      "source": [
        "# Sensor Data"
      ]
    },
    {
      "cell_type": "markdown",
      "id": "1838e9ac-5173-4e44-a6d5-baabe69f9592",
      "metadata": {
        "id": "1838e9ac-5173-4e44-a6d5-baabe69f9592"
      },
      "source": [
        "## Multilayer Perceptron"
      ]
    },
    {
      "cell_type": "code",
      "execution_count": null,
      "id": "71507fdf-1c20-4297-a1b5-1773e2ef0a76",
      "metadata": {
        "id": "71507fdf-1c20-4297-a1b5-1773e2ef0a76"
      },
      "outputs": [],
      "source": [
        "\n",
        "def csv_MLP(input_shapes):\n",
        "    set_seed()\n",
        "    model =  Sequential([\n",
        "                    Dense(2000, activation = tf.nn.relu, input_shape = (input_shapes,)),\n",
        "                    BatchNormalization(),\n",
        "                    Dense(600, activation = tf.nn.relu),\n",
        "                    BatchNormalization(),\n",
        "                    Dropout(0.2),\n",
        "                    Dense(12, activation='softmax'),\n",
        "                ])\n",
        "    model.compile(\n",
        "                  optimizer = tf.keras.optimizers.Adam(learning_rate = 0.001 , name = 'Adam'),\n",
        "                  loss='categorical_crossentropy' ,\n",
        "                  metrics =[\n",
        "                           keras.metrics.CategoricalAccuracy( name='categorical_accuracy'),\n",
        "                           keras.metrics.Precision( name = 'precision' ),\n",
        "                           keras.metrics.Recall( name = 'recall' ),\n",
        "                           tfa.metrics.F1Score( num_classes=12,   name = 'f1_score', average='weighted'),\n",
        "                          ] )\n",
        "    return model\n",
        "model_MLP = csv_MLP(X_train_csv_scaled.shape[1])\n",
        "model_MLP.summary()"
      ]
    },
    {
      "cell_type": "code",
      "execution_count": null,
      "id": "fc89cada-2de5-4090-ac9f-a5a505cb0bee",
      "metadata": {
        "tags": [],
        "id": "fc89cada-2de5-4090-ac9f-a5a505cb0bee"
      },
      "outputs": [],
      "source": [
        "\n",
        "f1_callback_MLP = ModelCheckpoint(\"Saved Model/Experiments/MLP_csv.hdf5\",\n",
        "                              monitor='val_f1_score',\n",
        "                              verbose=1,\n",
        "                              save_best_only=True,\n",
        "                              mode='max')\n",
        "\n",
        "history_MLP = model_MLP.fit(X_train_csv_scaled,Y_train_csv,\n",
        "                                      epochs= 150,\n",
        "                                      batch_size=  2**10,\n",
        "                                      validation_data=(X_val_csv_scaled,Y_val_csv),\n",
        "                                      callbacks = [f1_callback_MLP]\n",
        "                                     )\n"
      ]
    },
    {
      "cell_type": "code",
      "execution_count": null,
      "id": "2217d129-bb7c-4f9d-82ab-72b130d6c359",
      "metadata": {
        "id": "2217d129-bb7c-4f9d-82ab-72b130d6c359"
      },
      "outputs": [],
      "source": [
        "print(\"best model: \")\n",
        "model_MLP.load_weights(\"Saved Model/Experiments/MLP_csv.hdf5\")\n",
        "print('Validation Set')\n",
        "print(model_MLP.evaluate(X_val_csv_scaled, Y_val_csv))\n",
        "print('Test Set')\n",
        "print(model_MLP.evaluate(X_test_csv_scaled, Y_test_csv))\n"
      ]
    },
    {
      "cell_type": "code",
      "execution_count": null,
      "id": "d197492f-06dd-4b0b-a5e2-a75cd975bcd1",
      "metadata": {
        "id": "d197492f-06dd-4b0b-a5e2-a75cd975bcd1"
      },
      "outputs": [],
      "source": [
        "print(history_MLP.history.keys())\n",
        "plt.plot(history_MLP.history['categorical_accuracy'])\n",
        "plt.plot(history_MLP.history['val_categorical_accuracy'])\n",
        "plt.title('model accuracy')\n",
        "plt.ylabel('accuracy')\n",
        "plt.xlabel('epoch')\n",
        "plt.legend(['train', 'valid'], loc='upper left')\n",
        "plt.show()\n",
        "\n",
        "\n",
        "\n",
        "plt.plot(history_MLP.history['precision'])\n",
        "plt.plot(history_MLP.history['val_precision'])\n",
        "plt.title('model precision')\n",
        "plt.ylabel('precision')\n",
        "plt.xlabel('epoch')\n",
        "plt.legend(['train', 'valid'], loc='upper left')\n",
        "plt.show()\n",
        "\n",
        "\n",
        "\n",
        "plt.plot(history_MLP.history['recall'])\n",
        "plt.plot(history_MLP.history['val_recall'])\n",
        "plt.title('model recall')\n",
        "plt.ylabel('recall')\n",
        "plt.xlabel('epoch')\n",
        "plt.legend(['train', 'valid'], loc='upper left')\n",
        "plt.show()\n",
        "\n",
        "\n",
        "plt.plot(history_MLP.history['f1_score'])\n",
        "plt.plot(history_MLP.history['f1_score'])\n",
        "plt.title('model f1 score')\n",
        "plt.ylabel('f1 score')\n",
        "plt.xlabel('epoch')\n",
        "plt.legend(['train', 'valid'], loc='upper left')\n",
        "plt.show()"
      ]
    },
    {
      "cell_type": "markdown",
      "id": "559d4cd4-b031-45af-9db4-f13685b1dc75",
      "metadata": {
        "id": "559d4cd4-b031-45af-9db4-f13685b1dc75"
      },
      "source": [
        "## XGBBoost"
      ]
    },
    {
      "cell_type": "code",
      "execution_count": null,
      "id": "c8cc658d-8bb9-4625-9417-b08d1143bb3e",
      "metadata": {
        "tags": [],
        "id": "c8cc658d-8bb9-4625-9417-b08d1143bb3e"
      },
      "outputs": [],
      "source": [
        "import xgboost\n",
        "from xgboost import XGBClassifier\n",
        "\n",
        "\n",
        "def csv_XGB() :\n",
        "#     set_seed()\n",
        "    model_XGB = XGBClassifier(objective=\"multi:softprob\",\n",
        "                              eta = 0.5,\n",
        "                              random_state=42,\n",
        "                              use_label_encoder=False,\n",
        "                              n_estimators  = 60\n",
        "                           )\n",
        "    return model_XGB\n",
        "\n",
        "model_XGB =  csv_XGB()\n",
        "\n",
        "model_XGB.fit(\n",
        "              X = X_train_csv_scaled,\n",
        "              y =  y_train_csv ,\n",
        "              eval_set = [(X_train_csv_scaled,y_train_csv) ,(X_val_csv_scaled,y_val_csv)],\n",
        "              verbose= 1,\n",
        "              early_stopping_rounds=5,\n",
        "             )\n"
      ]
    },
    {
      "cell_type": "code",
      "execution_count": null,
      "id": "8def4fc1-6ba8-4b84-afcb-f94357aded30",
      "metadata": {
        "id": "8def4fc1-6ba8-4b84-afcb-f94357aded30"
      },
      "outputs": [],
      "source": [
        "print('---------------------Test Set--------------------------')\n",
        "y_pred_csv_XGB = model_XGB.predict(X_test_csv_scaled)\n",
        "display_result(y_test_csv, y_pred_csv_XGB)"
      ]
    },
    {
      "cell_type": "code",
      "execution_count": null,
      "id": "8371a75a-6b51-4be3-a8ad-0a488b7c9d92",
      "metadata": {
        "id": "8371a75a-6b51-4be3-a8ad-0a488b7c9d92"
      },
      "outputs": [],
      "source": [
        "filename = 'Saved Model/Experiments/XGB_model.sav'\n",
        "joblib.dump(model_XGB, filename)\n",
        "loaded_XGB_model = joblib.load(filename)\n",
        "\n",
        "y_pred_csv_XGB = loaded_XGB_model.predict(X_test_csv_scaled)\n",
        "display_result(y_test_csv, y_pred_csv_XGB)"
      ]
    },
    {
      "cell_type": "markdown",
      "id": "980e944f-9b04-4d7e-a80e-dbe3b165ea8b",
      "metadata": {
        "id": "980e944f-9b04-4d7e-a80e-dbe3b165ea8b"
      },
      "source": [
        "## CATBOOST"
      ]
    },
    {
      "cell_type": "code",
      "execution_count": null,
      "id": "913ee9da-c71e-48aa-b07a-dad241b3a09e",
      "metadata": {
        "id": "913ee9da-c71e-48aa-b07a-dad241b3a09e"
      },
      "outputs": [],
      "source": [
        "from catboost import CatBoostClassifier\n",
        "def csv_CatBoost():\n",
        "    model  = CatBoostClassifier(\n",
        "                                n_estimators=500,\n",
        "                                random_seed= 42,\n",
        "                                learning_rate=0.25,\n",
        "                                max_depth = 12,\n",
        "                                )\n",
        "    return model\n",
        "\n",
        "model_catboost = csv_CatBoost()\n",
        "\n",
        "model_catboost .fit(\n",
        "    X_train_csv_scaled,\n",
        "    y_train_csv,\n",
        "    eval_set=(X_val_csv_scaled, y_val_csv),\n",
        "    verbose= 1 ,\n",
        "    early_stopping_rounds= 5\n",
        ")\n",
        "\n"
      ]
    },
    {
      "cell_type": "code",
      "execution_count": null,
      "id": "1a062e57-7277-4656-96a9-0889b42e7880",
      "metadata": {
        "id": "1a062e57-7277-4656-96a9-0889b42e7880"
      },
      "outputs": [],
      "source": [
        "print('---------------------Test Set--------------------------')\n",
        "y_pred_csv_catboost = model_catboost.predict(X_test_csv_scaled)\n",
        "display_result(y_test_csv, y_pred_csv_catboost)\n"
      ]
    },
    {
      "cell_type": "code",
      "execution_count": null,
      "id": "24672734-8550-45b5-9ae8-2c0c477b9280",
      "metadata": {
        "id": "24672734-8550-45b5-9ae8-2c0c477b9280"
      },
      "outputs": [],
      "source": [
        "filename = 'Saved Model/Experiments/Catboost_model.sav'\n",
        "joblib.dump(model_catboost, filename)\n",
        "loaded_catboost_model = joblib.load(filename)\n",
        "\n",
        "y_pred_csv_catboost = loaded_catboost_model.predict(X_test_csv_scaled)\n",
        "display_result(y_test_csv, y_pred_csv_catboost)"
      ]
    },
    {
      "cell_type": "markdown",
      "id": "3b560deb-de88-46e7-9bee-f320895a640f",
      "metadata": {
        "id": "3b560deb-de88-46e7-9bee-f320895a640f"
      },
      "source": [
        "# IMAGE 1"
      ]
    },
    {
      "cell_type": "code",
      "execution_count": null,
      "id": "09d06ceb-ff03-4a48-987c-81c34168f99d",
      "metadata": {
        "id": "09d06ceb-ff03-4a48-987c-81c34168f99d",
        "outputId": "61e4f7bc-4d48-4510-b631-faec9a8fc8d8",
        "colab": {
          "base_uri": "https://localhost:8080/"
        }
      },
      "outputs": [
        {
          "output_type": "stream",
          "name": "stdout",
          "text": [
            "X_train_1 shape :  (10759, 32, 32, 1)\n",
            "X_test_1 shape :  (3587, 32, 32, 1)\n",
            "X_val_1 shape :  (3586, 32, 32, 1)\n",
            "y_train_1 shape :  (10759,)\n",
            "y_test_1 shape :  (3587,)\n",
            "y_val_1 shape :  (3586,)\n",
            "Y_train_1 shape :  (10759, 2)\n",
            "Y_test_1 shape :  (3587, 2)\n",
            "Y_val_1 shape :  (3586, 2)\n"
          ]
        }
      ],
      "source": [
        "print('X_train_1 shape : ',X_train_1.shape)\n",
        "print('X_test_1 shape : ',X_test_1.shape)\n",
        "print('X_val_1 shape : ',X_val_1.shape)\n",
        "print('y_train_1 shape : ',y_train_1.shape)\n",
        "print('y_test_1 shape : ',y_test_1.shape)\n",
        "print('y_val_1 shape : ',y_val_1.shape)\n",
        "\n",
        "print('Y_train_1 shape : ',Y_train_1.shape)\n",
        "print('Y_test_1 shape : ',Y_test_1.shape)\n",
        "print('Y_val_1 shape : ',Y_val_1.shape)"
      ]
    },
    {
      "cell_type": "code",
      "execution_count": null,
      "id": "afd4b54e-356c-4b39-a159-f864ab3b66f8",
      "metadata": {
        "id": "afd4b54e-356c-4b39-a159-f864ab3b66f8"
      },
      "outputs": [],
      "source": [
        "\n",
        "\n",
        "\n",
        "def img1_CNN(shape_1, shape_2):\n",
        "    set_seed()\n",
        "\n",
        "    input = Input(shape=  (shape_1, shape_2, 1) )\n",
        "    conv = Conv2D(filters = 16,\n",
        "                  kernel_size = (3,3) ,\n",
        "                  activation = tf.nn.relu )(input)\n",
        "\n",
        "    conv = BatchNormalization()(conv)\n",
        "    conv = MaxPooling2D(pool_size=(2, 2))(conv)\n",
        "    conv = Flatten()(conv)\n",
        "    fc = Dense(units = 200,\n",
        "               activation = tf.nn.relu)(conv)\n",
        "\n",
        "    dropout = Dropout(rate = 0.2)(fc)\n",
        "    softmax = Dense(units = 12 ,\n",
        "                    activation = tf.nn.softmax)(dropout)\n",
        "    model = Model(inputs = input, outputs = softmax)\n",
        "\n",
        "    model.compile(\n",
        "              optimizer = tf.keras.optimizers.Adam(learning_rate = 0.001 , name = 'Adam'),\n",
        "              loss = 'categorical_crossentropy' ,\n",
        "              metrics =[\n",
        "                       keras.metrics.CategoricalAccuracy(name='categorical_accuracy') ,\n",
        "                       keras.metrics.Precision(name='precision'),\n",
        "                       keras.metrics.Recall(name='recall'),\n",
        "                       tfa.metrics.F1Score( num_classes=12,\n",
        "                                           name = 'f1_score',\n",
        "                                           average='weighted'),\n",
        "\n",
        "              ])\n",
        "    return  model\n",
        "\n",
        "model_img1 = img1_CNN(32,32)\n",
        "model_img1.summary()\n"
      ]
    },
    {
      "cell_type": "code",
      "execution_count": null,
      "id": "29f21ab4-2eb1-4097-a7bc-8525f92bf66b",
      "metadata": {
        "id": "29f21ab4-2eb1-4097-a7bc-8525f92bf66b"
      },
      "outputs": [],
      "source": [
        "\n",
        "\n",
        "filepath = 'Saved Model/Experiments/CNN_img1.hdf5'\n",
        "f1_callback1 = ModelCheckpoint(filepath,\n",
        "                              monitor='val_f1_score',\n",
        "                              verbose=1,\n",
        "                              save_best_only=True,\n",
        "                              mode='max')\n",
        "\n",
        "history_img1 =model_img1.fit(\n",
        "                                X_train_1_scaled,Y_train_1,\n",
        "                                epochs=30,\n",
        "                                batch_size=  2**10,\n",
        "                                validation_data=(X_val_1_scaled,Y_val_1),\n",
        "                                callbacks = [f1_callback1]\n",
        "                )\n",
        "\n"
      ]
    },
    {
      "cell_type": "code",
      "execution_count": null,
      "id": "f1f64090-109b-44c2-a74c-7ece7e8cf1d6",
      "metadata": {
        "id": "f1f64090-109b-44c2-a74c-7ece7e8cf1d6"
      },
      "outputs": [],
      "source": [
        "print(history_img1.history.keys())\n",
        "plt.plot(history_img1.history['categorical_accuracy'])\n",
        "plt.plot(history_img1.history['val_categorical_accuracy'])\n",
        "plt.title('model accuracy')\n",
        "plt.ylabel('accuracy')\n",
        "plt.xlabel('epoch')\n",
        "plt.legend(['train', 'valid'], loc='upper left')\n",
        "plt.show()\n",
        "\n",
        "\n",
        "\n",
        "plt.plot(history_img1.history['precision'])\n",
        "plt.plot(history_img1.history['val_precision'])\n",
        "plt.title('model precision')\n",
        "plt.ylabel('precision')\n",
        "plt.xlabel('epoch')\n",
        "plt.legend(['train', 'valid'], loc='upper left')\n",
        "plt.show()\n",
        "\n",
        "\n",
        "\n",
        "plt.plot(history_img1.history['recall'])\n",
        "plt.plot(history_img1.history['val_recall'])\n",
        "plt.title('model recall')\n",
        "plt.ylabel('recall')\n",
        "plt.xlabel('epoch')\n",
        "plt.legend(['train', 'valid'], loc='upper left')\n",
        "plt.show()"
      ]
    },
    {
      "cell_type": "code",
      "execution_count": null,
      "id": "fe316ac5-3902-48e2-8b99-746992fff87e",
      "metadata": {
        "id": "fe316ac5-3902-48e2-8b99-746992fff87e"
      },
      "outputs": [],
      "source": [
        "print(\"best model: \")\n",
        "model_img1.load_weights('Saved Model/Experiments/CNN_img1.hdf5')\n",
        "print(model_img1.evaluate(X_val_1_scaled, Y_val_1))\n",
        "print(model_img1.evaluate(X_test_1_scaled, Y_test_1))"
      ]
    },
    {
      "cell_type": "markdown",
      "id": "f4085299-d5d7-4a5e-af91-6d972949cdb6",
      "metadata": {
        "id": "f4085299-d5d7-4a5e-af91-6d972949cdb6"
      },
      "source": [
        "# IMAGE 2"
      ]
    },
    {
      "cell_type": "code",
      "execution_count": null,
      "id": "32e22426-2754-488f-99c5-9be09412dd46",
      "metadata": {
        "id": "32e22426-2754-488f-99c5-9be09412dd46",
        "outputId": "3c74e4e9-4893-413f-c975-21e41d4acf2b",
        "colab": {
          "base_uri": "https://localhost:8080/"
        }
      },
      "outputs": [
        {
          "output_type": "stream",
          "name": "stdout",
          "text": [
            "X_train_2 shape :  (10759, 32, 32, 1)\n",
            "X_test_2 shape :  (3587, 32, 32, 1)\n",
            "X_val_2 shape :  (3586, 32, 32, 1)\n",
            "y_train_2 shape :  (10759,)\n",
            "y_test_2 shape :  (3587,)\n",
            "y_val_2 shape :  (3586,)\n",
            "Y_train_2 shape :  (10759, 2)\n",
            "Y_test_2 shape :  (3587, 2)\n",
            "Y_val_2 shape :  (3586, 2)\n"
          ]
        }
      ],
      "source": [
        "print('X_train_2 shape : ',X_train_2.shape)\n",
        "print('X_test_2 shape : ',X_test_2.shape)\n",
        "print('X_val_2 shape : ',X_val_2.shape)\n",
        "print('y_train_2 shape : ',y_train_2.shape)\n",
        "print('y_test_2 shape : ',y_test_2.shape)\n",
        "print('y_val_2 shape : ',y_val_2.shape)\n",
        "\n",
        "print('Y_train_2 shape : ',Y_train_2.shape)\n",
        "print('Y_test_2 shape : ',Y_test_2.shape)\n",
        "print('Y_val_2 shape : ',Y_val_2.shape)"
      ]
    },
    {
      "cell_type": "code",
      "execution_count": null,
      "id": "59f1bdc7-d7d0-4985-862e-afb53f092e3d",
      "metadata": {
        "id": "59f1bdc7-d7d0-4985-862e-afb53f092e3d"
      },
      "outputs": [],
      "source": [
        "def img2_CNN(shape_1, shape_2):\n",
        "    set_seed()\n",
        "\n",
        "    input = Input(shape=  (shape_1, shape_2, 1) )\n",
        "    conv = Conv2D(filters = 18 ,\n",
        "                  kernel_size = (3,3) ,\n",
        "                  activation = tf.nn.relu )(input)\n",
        "    conv = BatchNormalization()(conv)\n",
        "    conv = MaxPooling2D(pool_size=(2, 2))(conv)\n",
        "    conv = Flatten()(conv)\n",
        "    fc = Dense(units = 100,\n",
        "               activation = tf.nn.relu)(conv)\n",
        "    dropout = Dropout(rate = 0.2)(fc)\n",
        "    softmax = Dense(units = 12 ,\n",
        "                    activation = tf.nn.softmax)(dropout)\n",
        "    model = Model(inputs = input, outputs = softmax)\n",
        "\n",
        "    model.compile(\n",
        "              optimizer = tf.keras.optimizers.Adam(learning_rate = 0.001 , name = 'Adam'),\n",
        "              loss = 'categorical_crossentropy' ,\n",
        "              metrics =[\n",
        "                       keras.metrics.CategoricalAccuracy(name='categorical_accuracy') ,\n",
        "                       keras.metrics.Precision(name='precision'),\n",
        "                       keras.metrics.Recall(name='recall'),\n",
        "                       tfa.metrics.F1Score( num_classes=12,   name = 'f1_score', average='weighted'),\n",
        "\n",
        "              ])\n",
        "    return  model\n",
        "\n",
        "model_img2 = img2_CNN(32,32)\n",
        "model_img2.summary()"
      ]
    },
    {
      "cell_type": "code",
      "execution_count": null,
      "id": "abc9c081-94f1-4906-a867-1daf0809cbbd",
      "metadata": {
        "id": "abc9c081-94f1-4906-a867-1daf0809cbbd"
      },
      "outputs": [],
      "source": [
        "\n",
        "\n",
        "f1_callback2 = ModelCheckpoint(\"Saved Model/Experiments/CNN_img2.hdf5\",\n",
        "                              monitor='val_f1_score',\n",
        "                              verbose=1,\n",
        "                              save_best_only=True,\n",
        "                              mode='max')\n",
        "\n",
        "history_img2 =model_img2.fit(\n",
        "                                X_train_2_scaled,Y_train_2,\n",
        "                                epochs=30,\n",
        "                                batch_size=  2**10,\n",
        "                                validation_data=(X_val_2_scaled,Y_val_2),\n",
        "                                callbacks = [f1_callback2]\n",
        "                )\n"
      ]
    },
    {
      "cell_type": "code",
      "execution_count": null,
      "id": "00c77e44-2612-4ed9-9726-86f37b1c06d4",
      "metadata": {
        "id": "00c77e44-2612-4ed9-9726-86f37b1c06d4"
      },
      "outputs": [],
      "source": [
        "print(history_img2.history.keys())\n",
        "plt.plot(history_img2.history['categorical_accuracy'])\n",
        "plt.plot(history_img2.history['val_categorical_accuracy'])\n",
        "plt.title('model accuracy')\n",
        "plt.ylabel('accuracy')\n",
        "plt.xlabel('epoch')\n",
        "plt.legend(['train', 'valid'], loc='upper left')\n",
        "plt.show()\n",
        "\n",
        "plt.plot(history_img2.history['precision'])\n",
        "plt.plot(history_img2.history['val_precision'])\n",
        "plt.title('model precision')\n",
        "plt.ylabel('precision')\n",
        "plt.xlabel('epoch')\n",
        "plt.legend(['train', 'valid'], loc='upper left')\n",
        "plt.show()\n",
        "\n",
        "plt.plot(history_img2.history['recall'])\n",
        "plt.plot(history_img2.history['val_recall'])\n",
        "plt.title('model recall')\n",
        "plt.ylabel('recall')\n",
        "plt.xlabel('epoch')\n",
        "plt.legend(['train', 'valid'], loc='upper left')\n",
        "plt.show()\n",
        "\n",
        "\n",
        "plt.plot(history_img2.history['f1_score'])\n",
        "plt.plot(history_img2.history['val_f1_score'])\n",
        "plt.title('model f1_score')\n",
        "plt.ylabel('f1_score')\n",
        "plt.xlabel('epoch')\n",
        "plt.legend(['train', 'valid'], loc='upper left')\n",
        "plt.show()\n"
      ]
    },
    {
      "cell_type": "code",
      "execution_count": null,
      "id": "17f5b07d-73a4-4fb6-b124-89737d01f4e1",
      "metadata": {
        "id": "17f5b07d-73a4-4fb6-b124-89737d01f4e1"
      },
      "outputs": [],
      "source": [
        "print(\"best model: \")\n",
        "model_img2.load_weights(\"Saved Model/Experiments/CNN_img2.hdf5\")\n",
        "print(model_img2.evaluate(X_val_2_scaled, Y_val_2))\n",
        "print(model_img2.evaluate(X_test_2_scaled, Y_test_2))"
      ]
    },
    {
      "cell_type": "markdown",
      "id": "b30350c4-612a-486b-9fcd-4f3dc269c68e",
      "metadata": {
        "id": "b30350c4-612a-486b-9fcd-4f3dc269c68e"
      },
      "source": [
        "# IMG1 + IMG2"
      ]
    },
    {
      "cell_type": "code",
      "execution_count": null,
      "id": "fff40de7-221d-4b4a-b27c-3dd50a33e0ea",
      "metadata": {
        "id": "fff40de7-221d-4b4a-b27c-3dd50a33e0ea"
      },
      "outputs": [],
      "source": [
        "def concatenate_IMG(shape1, shape2) :\n",
        "    set_seed()\n",
        "    #------------------------------------------\n",
        "    input1 = Input(shape = (shape1, shape2, 1))\n",
        "    conv1 = Conv2D(filters = 16 ,\n",
        "                   kernel_size = (3, 3) ,\n",
        "                   activation = tf.nn.relu )(input1)\n",
        "    conv1 = MaxPooling2D(pool_size = (2,2))(conv1)\n",
        "    conv1 = BatchNormalization()(conv1)\n",
        "    conv1 = Flatten()(conv1)\n",
        "    #------------------------------------------\n",
        "    input2 = Input( shape = (shape1, shape2, 1))\n",
        "    conv2 = Conv2D(filters = 16 ,\n",
        "                   kernel_size = (3, 3) ,\n",
        "                   activation= tf.nn.relu )(input2)\n",
        "    conv2 = MaxPooling2D(2, 2)(conv2)\n",
        "    conv2 = BatchNormalization()(conv2)\n",
        "    conv2 = Flatten()(conv2)\n",
        "    #------------------------------------------\n",
        "    concat = Concatenate(axis=1)([conv1, conv2])\n",
        "    concat = Dense(units = 400 ,\n",
        "                   activation = tf.nn.relu)(concat)\n",
        "    concat = Dense(units = 200 ,\n",
        "                   activation = tf.nn.relu)(concat)\n",
        "    dropout = Dropout(0.2)(concat)\n",
        "    softmax = Dense(2, activation = tf.nn.softmax )(dropout)\n",
        "    model = Model(inputs=[input1, input2], outputs=softmax)\n",
        "\n",
        "    model.compile(\n",
        "                 optimizer = tf.keras.optimizers.Adam(0.001),\n",
        "                 loss = keras.losses.CategoricalCrossentropy(name='categorical_crossentropy'),\n",
        "                 metrics = [\n",
        "                            keras.metrics.CategoricalAccuracy(name='categorical_accuracy'),\n",
        "                            keras.metrics.Precision(name='precision'),\n",
        "                            keras.metrics.Recall(name='recall'),\n",
        "                            tfa.metrics.F1Score( num_classes=2,\n",
        "                                                name = 'f1_score',\n",
        "                                                average='weighted')]  )\n",
        "\n",
        "    return model\n"
      ]
    },
    {
      "cell_type": "code",
      "execution_count": null,
      "id": "0d0748c3-ab05-467b-bdf5-34b0c10351a3",
      "metadata": {
        "id": "0d0748c3-ab05-467b-bdf5-34b0c10351a3"
      },
      "outputs": [],
      "source": [
        "shape1 ,shape2 = 32, 32\n",
        "model_img12 = concatenate_IMG(shape1, shape2)"
      ]
    },
    {
      "cell_type": "code",
      "execution_count": null,
      "id": "7511944b-818c-4fb4-83d1-44bc2e70aed2",
      "metadata": {
        "colab": {
          "base_uri": "https://localhost:8080/"
        },
        "id": "7511944b-818c-4fb4-83d1-44bc2e70aed2",
        "outputId": "eb84bc3f-25f1-4cc6-bd4e-4f66e52e5886"
      },
      "outputs": [
        {
          "output_type": "stream",
          "name": "stdout",
          "text": [
            "Model: \"model\"\n",
            "__________________________________________________________________________________________________\n",
            " Layer (type)                   Output Shape         Param #     Connected to                     \n",
            "==================================================================================================\n",
            " input_1 (InputLayer)           [(None, 32, 32, 1)]  0           []                               \n",
            "                                                                                                  \n",
            " input_2 (InputLayer)           [(None, 32, 32, 1)]  0           []                               \n",
            "                                                                                                  \n",
            " conv2d (Conv2D)                (None, 30, 30, 16)   160         ['input_1[0][0]']                \n",
            "                                                                                                  \n",
            " conv2d_1 (Conv2D)              (None, 30, 30, 16)   160         ['input_2[0][0]']                \n",
            "                                                                                                  \n",
            " max_pooling2d (MaxPooling2D)   (None, 15, 15, 16)   0           ['conv2d[0][0]']                 \n",
            "                                                                                                  \n",
            " max_pooling2d_1 (MaxPooling2D)  (None, 15, 15, 16)  0           ['conv2d_1[0][0]']               \n",
            "                                                                                                  \n",
            " batch_normalization (BatchNorm  (None, 15, 15, 16)  64          ['max_pooling2d[0][0]']          \n",
            " alization)                                                                                       \n",
            "                                                                                                  \n",
            " batch_normalization_1 (BatchNo  (None, 15, 15, 16)  64          ['max_pooling2d_1[0][0]']        \n",
            " rmalization)                                                                                     \n",
            "                                                                                                  \n",
            " flatten (Flatten)              (None, 3600)         0           ['batch_normalization[0][0]']    \n",
            "                                                                                                  \n",
            " flatten_1 (Flatten)            (None, 3600)         0           ['batch_normalization_1[0][0]']  \n",
            "                                                                                                  \n",
            " concatenate (Concatenate)      (None, 7200)         0           ['flatten[0][0]',                \n",
            "                                                                  'flatten_1[0][0]']              \n",
            "                                                                                                  \n",
            " dense (Dense)                  (None, 400)          2880400     ['concatenate[0][0]']            \n",
            "                                                                                                  \n",
            " dense_1 (Dense)                (None, 200)          80200       ['dense[0][0]']                  \n",
            "                                                                                                  \n",
            " dropout (Dropout)              (None, 200)          0           ['dense_1[0][0]']                \n",
            "                                                                                                  \n",
            " dense_2 (Dense)                (None, 2)            402         ['dropout[0][0]']                \n",
            "                                                                                                  \n",
            "==================================================================================================\n",
            "Total params: 2,961,450\n",
            "Trainable params: 2,961,386\n",
            "Non-trainable params: 64\n",
            "__________________________________________________________________________________________________\n"
          ]
        }
      ],
      "source": [
        "model_img12.summary()"
      ]
    },
    {
      "cell_type": "code",
      "source": [
        "print(X_train_1_scaled.shape)\n",
        "print(X_train_2_scaled.shape)\n",
        "print(Y_val_1.shape)\n",
        "print(Y_train_1.shape)"
      ],
      "metadata": {
        "colab": {
          "base_uri": "https://localhost:8080/"
        },
        "id": "fdRiUhro7Lnd",
        "outputId": "af707285-1616-4482-b280-8b52be5cf939"
      },
      "id": "fdRiUhro7Lnd",
      "execution_count": null,
      "outputs": [
        {
          "output_type": "stream",
          "name": "stdout",
          "text": [
            "(10759, 32, 32, 1)\n",
            "(10759, 32, 32, 1)\n",
            "(3586, 2)\n",
            "(10759, 2)\n"
          ]
        }
      ]
    },
    {
      "cell_type": "code",
      "execution_count": null,
      "id": "b2dc568e-90c6-4648-9eab-66cb2a48663d",
      "metadata": {
        "colab": {
          "base_uri": "https://localhost:8080/"
        },
        "id": "b2dc568e-90c6-4648-9eab-66cb2a48663d",
        "outputId": "812e13b9-acaa-43a0-d0f7-73dc05aaee30"
      },
      "outputs": [
        {
          "output_type": "stream",
          "name": "stdout",
          "text": [
            "Epoch 1/30\n",
            "11/11 [==============================] - ETA: 0s - loss: 0.5343 - categorical_accuracy: 0.8637 - precision: 0.8637 - recall: 0.8637 - f1_score: 0.8923\n",
            "Epoch 1: val_f1_score improved from -inf to 0.08553, saving model to Saved Model/Experiments/model_img12.hdf5\n",
            "11/11 [==============================] - 12s 132ms/step - loss: 0.5343 - categorical_accuracy: 0.8637 - precision: 0.8637 - recall: 0.8637 - f1_score: 0.8923 - val_loss: 0.8390 - val_categorical_accuracy: 0.0837 - val_precision: 0.0837 - val_recall: 0.0837 - val_f1_score: 0.0855\n",
            "Epoch 2/30\n",
            "10/11 [==========================>...] - ETA: 0s - loss: 0.1635 - categorical_accuracy: 0.9493 - precision: 0.9493 - recall: 0.9493 - f1_score: 0.9489\n",
            "Epoch 2: val_f1_score improved from 0.08553 to 0.77933, saving model to Saved Model/Experiments/model_img12.hdf5\n",
            "11/11 [==============================] - 1s 50ms/step - loss: 0.1601 - categorical_accuracy: 0.9503 - precision: 0.9503 - recall: 0.9503 - f1_score: 0.9496 - val_loss: 0.6415 - val_categorical_accuracy: 0.6852 - val_precision: 0.6852 - val_recall: 0.6852 - val_f1_score: 0.7793\n",
            "Epoch 3/30\n",
            "10/11 [==========================>...] - ETA: 0s - loss: 0.0986 - categorical_accuracy: 0.9630 - precision: 0.9630 - recall: 0.9630 - f1_score: 0.9592\n",
            "Epoch 3: val_f1_score improved from 0.77933 to 0.89114, saving model to Saved Model/Experiments/model_img12.hdf5\n",
            "11/11 [==============================] - 1s 57ms/step - loss: 0.0982 - categorical_accuracy: 0.9631 - precision: 0.9631 - recall: 0.9631 - f1_score: 0.9592 - val_loss: 0.6101 - val_categorical_accuracy: 0.8483 - val_precision: 0.8483 - val_recall: 0.8483 - val_f1_score: 0.8911\n",
            "Epoch 4/30\n",
            "10/11 [==========================>...] - ETA: 0s - loss: 0.0734 - categorical_accuracy: 0.9705 - precision: 0.9705 - recall: 0.9705 - f1_score: 0.9676\n",
            "Epoch 4: val_f1_score improved from 0.89114 to 0.97004, saving model to Saved Model/Experiments/model_img12.hdf5\n",
            "11/11 [==============================] - 0s 39ms/step - loss: 0.0724 - categorical_accuracy: 0.9710 - precision: 0.9710 - recall: 0.9710 - f1_score: 0.9680 - val_loss: 0.5388 - val_categorical_accuracy: 0.9679 - val_precision: 0.9679 - val_recall: 0.9679 - val_f1_score: 0.9700\n",
            "Epoch 5/30\n",
            "10/11 [==========================>...] - ETA: 0s - loss: 0.0536 - categorical_accuracy: 0.9788 - precision: 0.9788 - recall: 0.9788 - f1_score: 0.9768\n",
            "Epoch 5: val_f1_score improved from 0.97004 to 0.97364, saving model to Saved Model/Experiments/model_img12.hdf5\n",
            "11/11 [==============================] - 0s 37ms/step - loss: 0.0532 - categorical_accuracy: 0.9790 - precision: 0.9790 - recall: 0.9790 - f1_score: 0.9771 - val_loss: 0.4947 - val_categorical_accuracy: 0.9763 - val_precision: 0.9763 - val_recall: 0.9763 - val_f1_score: 0.9736\n",
            "Epoch 6/30\n",
            "10/11 [==========================>...] - ETA: 0s - loss: 0.0424 - categorical_accuracy: 0.9838 - precision: 0.9838 - recall: 0.9838 - f1_score: 0.9825\n",
            "Epoch 6: val_f1_score did not improve from 0.97364\n",
            "11/11 [==============================] - 0s 27ms/step - loss: 0.0421 - categorical_accuracy: 0.9837 - precision: 0.9837 - recall: 0.9837 - f1_score: 0.9825 - val_loss: 0.4430 - val_categorical_accuracy: 0.9752 - val_precision: 0.9752 - val_recall: 0.9752 - val_f1_score: 0.9702\n",
            "Epoch 7/30\n",
            "10/11 [==========================>...] - ETA: 0s - loss: 0.0388 - categorical_accuracy: 0.9852 - precision: 0.9852 - recall: 0.9852 - f1_score: 0.9843\n",
            "Epoch 7: val_f1_score did not improve from 0.97364\n",
            "11/11 [==============================] - 0s 26ms/step - loss: 0.0381 - categorical_accuracy: 0.9855 - precision: 0.9855 - recall: 0.9855 - f1_score: 0.9847 - val_loss: 0.4035 - val_categorical_accuracy: 0.9771 - val_precision: 0.9771 - val_recall: 0.9771 - val_f1_score: 0.9728\n",
            "Epoch 8/30\n",
            "10/11 [==========================>...] - ETA: 0s - loss: 0.0353 - categorical_accuracy: 0.9869 - precision: 0.9869 - recall: 0.9869 - f1_score: 0.9864\n",
            "Epoch 8: val_f1_score did not improve from 0.97364\n",
            "11/11 [==============================] - 0s 27ms/step - loss: 0.0351 - categorical_accuracy: 0.9871 - precision: 0.9871 - recall: 0.9871 - f1_score: 0.9866 - val_loss: 0.3664 - val_categorical_accuracy: 0.9749 - val_precision: 0.9749 - val_recall: 0.9749 - val_f1_score: 0.9695\n",
            "Epoch 9/30\n",
            "10/11 [==========================>...] - ETA: 0s - loss: 0.0303 - categorical_accuracy: 0.9889 - precision: 0.9889 - recall: 0.9889 - f1_score: 0.9885\n",
            "Epoch 9: val_f1_score improved from 0.97364 to 0.97558, saving model to Saved Model/Experiments/model_img12.hdf5\n",
            "11/11 [==============================] - 0s 40ms/step - loss: 0.0305 - categorical_accuracy: 0.9887 - precision: 0.9887 - recall: 0.9887 - f1_score: 0.9883 - val_loss: 0.3356 - val_categorical_accuracy: 0.9791 - val_precision: 0.9791 - val_recall: 0.9791 - val_f1_score: 0.9756\n",
            "Epoch 10/30\n",
            "10/11 [==========================>...] - ETA: 0s - loss: 0.0232 - categorical_accuracy: 0.9916 - precision: 0.9916 - recall: 0.9916 - f1_score: 0.9913\n",
            "Epoch 10: val_f1_score did not improve from 0.97558\n",
            "11/11 [==============================] - 0s 29ms/step - loss: 0.0230 - categorical_accuracy: 0.9916 - precision: 0.9916 - recall: 0.9916 - f1_score: 0.9914 - val_loss: 0.2974 - val_categorical_accuracy: 0.9791 - val_precision: 0.9791 - val_recall: 0.9791 - val_f1_score: 0.9756\n",
            "Epoch 11/30\n",
            "10/11 [==========================>...] - ETA: 0s - loss: 0.0264 - categorical_accuracy: 0.9894 - precision: 0.9894 - recall: 0.9894 - f1_score: 0.9890\n",
            "Epoch 11: val_f1_score improved from 0.97558 to 0.98398, saving model to Saved Model/Experiments/model_img12.hdf5\n",
            "11/11 [==============================] - 0s 35ms/step - loss: 0.0261 - categorical_accuracy: 0.9896 - precision: 0.9896 - recall: 0.9896 - f1_score: 0.9893 - val_loss: 0.2915 - val_categorical_accuracy: 0.9855 - val_precision: 0.9855 - val_recall: 0.9855 - val_f1_score: 0.9840\n",
            "Epoch 12/30\n",
            "10/11 [==========================>...] - ETA: 0s - loss: 0.0239 - categorical_accuracy: 0.9908 - precision: 0.9908 - recall: 0.9908 - f1_score: 0.9905\n",
            "Epoch 12: val_f1_score did not improve from 0.98398\n",
            "11/11 [==============================] - 0s 28ms/step - loss: 0.0239 - categorical_accuracy: 0.9908 - precision: 0.9908 - recall: 0.9908 - f1_score: 0.9905 - val_loss: 0.2547 - val_categorical_accuracy: 0.9830 - val_precision: 0.9830 - val_recall: 0.9830 - val_f1_score: 0.9808\n",
            "Epoch 13/30\n",
            "10/11 [==========================>...] - ETA: 0s - loss: 0.0194 - categorical_accuracy: 0.9941 - precision: 0.9941 - recall: 0.9941 - f1_score: 0.9941\n",
            "Epoch 13: val_f1_score did not improve from 0.98398\n",
            "11/11 [==============================] - 0s 26ms/step - loss: 0.0194 - categorical_accuracy: 0.9940 - precision: 0.9940 - recall: 0.9940 - f1_score: 0.9939 - val_loss: 0.2162 - val_categorical_accuracy: 0.9819 - val_precision: 0.9819 - val_recall: 0.9819 - val_f1_score: 0.9794\n",
            "Epoch 14/30\n",
            "10/11 [==========================>...] - ETA: 0s - loss: 0.0148 - categorical_accuracy: 0.9947 - precision: 0.9947 - recall: 0.9947 - f1_score: 0.9946\n",
            "Epoch 14: val_f1_score improved from 0.98398 to 0.98635, saving model to Saved Model/Experiments/model_img12.hdf5\n",
            "11/11 [==============================] - 0s 37ms/step - loss: 0.0150 - categorical_accuracy: 0.9947 - precision: 0.9947 - recall: 0.9947 - f1_score: 0.9946 - val_loss: 0.2154 - val_categorical_accuracy: 0.9875 - val_precision: 0.9875 - val_recall: 0.9875 - val_f1_score: 0.9863\n",
            "Epoch 15/30\n",
            " 9/11 [=======================>......] - ETA: 0s - loss: 0.0141 - categorical_accuracy: 0.9956 - precision: 0.9956 - recall: 0.9956 - f1_score: 0.9955\n",
            "Epoch 15: val_f1_score did not improve from 0.98635\n",
            "11/11 [==============================] - 0s 47ms/step - loss: 0.0142 - categorical_accuracy: 0.9952 - precision: 0.9952 - recall: 0.9952 - f1_score: 0.9951 - val_loss: 0.1859 - val_categorical_accuracy: 0.9844 - val_precision: 0.9844 - val_recall: 0.9844 - val_f1_score: 0.9826\n",
            "Epoch 16/30\n",
            " 9/11 [=======================>......] - ETA: 0s - loss: 0.0142 - categorical_accuracy: 0.9962 - precision: 0.9962 - recall: 0.9962 - f1_score: 0.9962\n",
            "Epoch 16: val_f1_score did not improve from 0.98635\n",
            "11/11 [==============================] - 0s 44ms/step - loss: 0.0145 - categorical_accuracy: 0.9959 - precision: 0.9959 - recall: 0.9959 - f1_score: 0.9959 - val_loss: 0.1536 - val_categorical_accuracy: 0.9838 - val_precision: 0.9838 - val_recall: 0.9838 - val_f1_score: 0.9819\n",
            "Epoch 17/30\n",
            "10/11 [==========================>...] - ETA: 0s - loss: 0.0140 - categorical_accuracy: 0.9947 - precision: 0.9947 - recall: 0.9947 - f1_score: 0.9946\n",
            "Epoch 17: val_f1_score improved from 0.98635 to 0.98968, saving model to Saved Model/Experiments/model_img12.hdf5\n",
            "11/11 [==============================] - 1s 66ms/step - loss: 0.0137 - categorical_accuracy: 0.9949 - precision: 0.9949 - recall: 0.9949 - f1_score: 0.9948 - val_loss: 0.1563 - val_categorical_accuracy: 0.9902 - val_precision: 0.9902 - val_recall: 0.9902 - val_f1_score: 0.9897\n",
            "Epoch 18/30\n",
            " 9/11 [=======================>......] - ETA: 0s - loss: 0.0131 - categorical_accuracy: 0.9954 - precision: 0.9954 - recall: 0.9954 - f1_score: 0.9954\n",
            "Epoch 18: val_f1_score improved from 0.98968 to 0.98996, saving model to Saved Model/Experiments/model_img12.hdf5\n",
            "11/11 [==============================] - 1s 94ms/step - loss: 0.0131 - categorical_accuracy: 0.9953 - precision: 0.9953 - recall: 0.9953 - f1_score: 0.9952 - val_loss: 0.1455 - val_categorical_accuracy: 0.9905 - val_precision: 0.9905 - val_recall: 0.9905 - val_f1_score: 0.9900\n",
            "Epoch 19/30\n",
            " 9/11 [=======================>......] - ETA: 0s - loss: 0.0119 - categorical_accuracy: 0.9956 - precision: 0.9956 - recall: 0.9956 - f1_score: 0.9955\n",
            "Epoch 19: val_f1_score improved from 0.98996 to 0.99093, saving model to Saved Model/Experiments/model_img12.hdf5\n",
            "11/11 [==============================] - 1s 79ms/step - loss: 0.0119 - categorical_accuracy: 0.9956 - precision: 0.9956 - recall: 0.9956 - f1_score: 0.9956 - val_loss: 0.1327 - val_categorical_accuracy: 0.9914 - val_precision: 0.9914 - val_recall: 0.9914 - val_f1_score: 0.9909\n",
            "Epoch 20/30\n",
            "10/11 [==========================>...] - ETA: 0s - loss: 0.0093 - categorical_accuracy: 0.9972 - precision: 0.9972 - recall: 0.9972 - f1_score: 0.9972\n",
            "Epoch 20: val_f1_score did not improve from 0.99093\n",
            "11/11 [==============================] - 0s 39ms/step - loss: 0.0093 - categorical_accuracy: 0.9971 - precision: 0.9971 - recall: 0.9971 - f1_score: 0.9971 - val_loss: 0.1037 - val_categorical_accuracy: 0.9872 - val_precision: 0.9872 - val_recall: 0.9872 - val_f1_score: 0.9861\n",
            "Epoch 21/30\n",
            "10/11 [==========================>...] - ETA: 0s - loss: 0.0070 - categorical_accuracy: 0.9975 - precision: 0.9975 - recall: 0.9975 - f1_score: 0.9974\n",
            "Epoch 21: val_f1_score improved from 0.99093 to 0.99158, saving model to Saved Model/Experiments/model_img12.hdf5\n",
            "11/11 [==============================] - 1s 59ms/step - loss: 0.0072 - categorical_accuracy: 0.9974 - precision: 0.9974 - recall: 0.9974 - f1_score: 0.9974 - val_loss: 0.1008 - val_categorical_accuracy: 0.9919 - val_precision: 0.9919 - val_recall: 0.9919 - val_f1_score: 0.9916\n",
            "Epoch 22/30\n",
            "11/11 [==============================] - ETA: 0s - loss: 0.0069 - categorical_accuracy: 0.9980 - precision: 0.9980 - recall: 0.9980 - f1_score: 0.9980\n",
            "Epoch 22: val_f1_score did not improve from 0.99158\n",
            "11/11 [==============================] - 0s 43ms/step - loss: 0.0069 - categorical_accuracy: 0.9980 - precision: 0.9980 - recall: 0.9980 - f1_score: 0.9980 - val_loss: 0.0792 - val_categorical_accuracy: 0.9897 - val_precision: 0.9897 - val_recall: 0.9897 - val_f1_score: 0.9890\n",
            "Epoch 23/30\n",
            "10/11 [==========================>...] - ETA: 0s - loss: 0.0086 - categorical_accuracy: 0.9974 - precision: 0.9974 - recall: 0.9974 - f1_score: 0.9974\n",
            "Epoch 23: val_f1_score did not improve from 0.99158\n",
            "11/11 [==============================] - 1s 56ms/step - loss: 0.0084 - categorical_accuracy: 0.9974 - precision: 0.9974 - recall: 0.9974 - f1_score: 0.9974 - val_loss: 0.0685 - val_categorical_accuracy: 0.9855 - val_precision: 0.9855 - val_recall: 0.9855 - val_f1_score: 0.9840\n",
            "Epoch 24/30\n",
            " 9/11 [=======================>......] - ETA: 0s - loss: 0.0071 - categorical_accuracy: 0.9976 - precision: 0.9976 - recall: 0.9976 - f1_score: 0.9976\n",
            "Epoch 24: val_f1_score improved from 0.99158 to 0.99216, saving model to Saved Model/Experiments/model_img12.hdf5\n",
            "11/11 [==============================] - 1s 99ms/step - loss: 0.0075 - categorical_accuracy: 0.9973 - precision: 0.9973 - recall: 0.9973 - f1_score: 0.9973 - val_loss: 0.0745 - val_categorical_accuracy: 0.9925 - val_precision: 0.9925 - val_recall: 0.9925 - val_f1_score: 0.9922\n",
            "Epoch 25/30\n",
            " 9/11 [=======================>......] - ETA: 0s - loss: 0.0057 - categorical_accuracy: 0.9985 - precision: 0.9985 - recall: 0.9985 - f1_score: 0.9985\n",
            "Epoch 25: val_f1_score did not improve from 0.99216\n",
            "11/11 [==============================] - 1s 60ms/step - loss: 0.0057 - categorical_accuracy: 0.9984 - precision: 0.9984 - recall: 0.9984 - f1_score: 0.9984 - val_loss: 0.0537 - val_categorical_accuracy: 0.9877 - val_precision: 0.9877 - val_recall: 0.9877 - val_f1_score: 0.9867\n",
            "Epoch 26/30\n",
            "11/11 [==============================] - ETA: 0s - loss: 0.0056 - categorical_accuracy: 0.9988 - precision: 0.9988 - recall: 0.9988 - f1_score: 0.9988\n",
            "Epoch 26: val_f1_score did not improve from 0.99216\n",
            "11/11 [==============================] - 1s 53ms/step - loss: 0.0056 - categorical_accuracy: 0.9988 - precision: 0.9988 - recall: 0.9988 - f1_score: 0.9988 - val_loss: 0.0478 - val_categorical_accuracy: 0.9863 - val_precision: 0.9863 - val_recall: 0.9863 - val_f1_score: 0.9851\n",
            "Epoch 27/30\n",
            "11/11 [==============================] - ETA: 0s - loss: 0.0065 - categorical_accuracy: 0.9975 - precision: 0.9975 - recall: 0.9975 - f1_score: 0.9975\n",
            "Epoch 27: val_f1_score improved from 0.99216 to 0.99369, saving model to Saved Model/Experiments/model_img12.hdf5\n",
            "11/11 [==============================] - 1s 91ms/step - loss: 0.0065 - categorical_accuracy: 0.9975 - precision: 0.9975 - recall: 0.9975 - f1_score: 0.9975 - val_loss: 0.0510 - val_categorical_accuracy: 0.9939 - val_precision: 0.9939 - val_recall: 0.9939 - val_f1_score: 0.9937\n",
            "Epoch 28/30\n",
            "11/11 [==============================] - ETA: 0s - loss: 0.0071 - categorical_accuracy: 0.9973 - precision: 0.9973 - recall: 0.9973 - f1_score: 0.9973\n",
            "Epoch 28: val_f1_score did not improve from 0.99369\n",
            "11/11 [==============================] - 1s 66ms/step - loss: 0.0071 - categorical_accuracy: 0.9973 - precision: 0.9973 - recall: 0.9973 - f1_score: 0.9973 - val_loss: 0.0402 - val_categorical_accuracy: 0.9863 - val_precision: 0.9863 - val_recall: 0.9863 - val_f1_score: 0.9851\n",
            "Epoch 29/30\n",
            "11/11 [==============================] - ETA: 0s - loss: 0.0056 - categorical_accuracy: 0.9984 - precision: 0.9984 - recall: 0.9984 - f1_score: 0.9984\n",
            "Epoch 29: val_f1_score did not improve from 0.99369\n",
            "11/11 [==============================] - 1s 59ms/step - loss: 0.0056 - categorical_accuracy: 0.9984 - precision: 0.9984 - recall: 0.9984 - f1_score: 0.9984 - val_loss: 0.0423 - val_categorical_accuracy: 0.9930 - val_precision: 0.9930 - val_recall: 0.9930 - val_f1_score: 0.9927\n",
            "Epoch 30/30\n",
            " 9/11 [=======================>......] - ETA: 0s - loss: 0.0044 - categorical_accuracy: 0.9985 - precision: 0.9985 - recall: 0.9985 - f1_score: 0.9985\n",
            "Epoch 30: val_f1_score did not improve from 0.99369\n",
            "11/11 [==============================] - 0s 39ms/step - loss: 0.0042 - categorical_accuracy: 0.9985 - precision: 0.9985 - recall: 0.9985 - f1_score: 0.9985 - val_loss: 0.0350 - val_categorical_accuracy: 0.9925 - val_precision: 0.9925 - val_recall: 0.9925 - val_f1_score: 0.9921\n"
          ]
        }
      ],
      "source": [
        "\n",
        "f1_callback_img12 = ModelCheckpoint(\"Saved Model/Experiments/model_img12.hdf5\",\n",
        "                              monitor='val_f1_score',\n",
        "                              verbose=2,\n",
        "                              save_best_only=True,\n",
        "                              mode='max')\n",
        "history_img12 = model_img12.fit(x = [X_train_1_scaled, X_train_2_scaled],\n",
        "                      y=  Y_train_1,\n",
        "                      epochs=30,\n",
        "                      batch_size = 2**10 ,\n",
        "                      validation_data = ([X_val_1_scaled, X_val_2_scaled] , Y_val_1),\n",
        "                      callbacks = [f1_callback_img12]\n",
        "                     )"
      ]
    },
    {
      "cell_type": "code",
      "execution_count": null,
      "id": "6a6e8cda-b841-41bf-a832-be993e5d0246",
      "metadata": {
        "colab": {
          "base_uri": "https://localhost:8080/"
        },
        "id": "6a6e8cda-b841-41bf-a832-be993e5d0246",
        "outputId": "8300a0a6-e01e-4260-8f18-70f76719925a"
      },
      "outputs": [
        {
          "output_type": "stream",
          "name": "stdout",
          "text": [
            "best model: \n",
            "113/113 [==============================] - 1s 5ms/step - loss: 0.0510 - categorical_accuracy: 0.9939 - precision: 0.9939 - recall: 0.9939 - f1_score: 0.9937\n",
            "[0.051008958369493484, 0.9938650131225586, 0.9938650131225586, 0.9938650131225586, 0.9936943054199219]\n",
            "113/113 [==============================] - 1s 4ms/step - loss: 0.0525 - categorical_accuracy: 0.9922 - precision: 0.9922 - recall: 0.9922 - f1_score: 0.9919\n",
            "[0.052456922829151154, 0.9921940565109253, 0.9921940565109253, 0.9921940565109253, 0.9919144511222839]\n"
          ]
        }
      ],
      "source": [
        "print(\"best model: \")\n",
        "model_img12.load_weights(\"Saved Model/Experiments/model_img12.hdf5\")\n",
        "print(model_img12.evaluate([X_val_1_scaled, X_val_2_scaled] , Y_val_1))\n",
        "print(model_img12.evaluate([X_test_1_scaled, X_test_2_scaled] , Y_test_1))"
      ]
    },
    {
      "cell_type": "code",
      "source": [
        "from tensorflow.keras.models import load_model\n",
        "\n",
        "# load the saved model\n",
        "saved_model = load_model(\"Saved Model/Experiments/model_img12.hdf5\")\n",
        "\n",
        "# perform inference on new data\n",
        "predictions = saved_model.predict([X_test_1_scaled, X_test_2_scaled])\n",
        "\n",
        "predicted_labels = np.argmax(predictions, axis=1)\n"
      ],
      "metadata": {
        "colab": {
          "base_uri": "https://localhost:8080/"
        },
        "id": "y_xWnJS3dCQF",
        "outputId": "0c717c0f-4e15-4e8b-b182-f11615d8e591"
      },
      "id": "y_xWnJS3dCQF",
      "execution_count": null,
      "outputs": [
        {
          "output_type": "stream",
          "name": "stdout",
          "text": [
            "113/113 [==============================] - 0s 2ms/step\n"
          ]
        }
      ]
    },
    {
      "cell_type": "markdown",
      "id": "dbd402f8-bc53-4009-aba2-1008eec8b902",
      "metadata": {
        "id": "dbd402f8-bc53-4009-aba2-1008eec8b902"
      },
      "source": [
        "# CONCATENATE"
      ]
    },
    {
      "cell_type": "code",
      "execution_count": null,
      "id": "5ae9c8cc-1053-4f04-a519-b988f8030b4a",
      "metadata": {
        "id": "5ae9c8cc-1053-4f04-a519-b988f8030b4a"
      },
      "outputs": [],
      "source": [
        "def model_csv_img (num_csv_features , img_shape1, img_shape2):\n",
        "    set_seed()\n",
        "\n",
        "    inputs1 = Input(shape= ( num_csv_features ,1 ) )\n",
        "    conv1 = Conv1D(filters=10, kernel_size=3, activation='relu')(inputs1)\n",
        "    pool1 = MaxPooling1D(pool_size=2)(conv1)\n",
        "    batch1 = BatchNormalization()(pool1)\n",
        "    flat1 = Flatten()(batch1)\n",
        "    #--------------------------\n",
        "    inputs2 = Input(shape=  (img_shape1, img_shape2, 1) )\n",
        "    conv2 = Conv2D(filters = 16 ,\n",
        "                   kernel_size = (3, 3),\n",
        "                   activation=  tf.nn.relu )(inputs2)\n",
        "    pool2 = MaxPooling2D(pool_size = (2,2))(conv2)\n",
        "    batch2 = BatchNormalization()(pool2)\n",
        "    flat2 = Flatten()(batch2)\n",
        "    #--------------------------\n",
        "    inputs3 = Input(shape=  (img_shape1, img_shape2, 1) )\n",
        "    conv3 = Conv2D(16 ,(3, 3), activation='relu')(inputs3)\n",
        "    pool3 = MaxPooling2D(pool_size = (2,2))(conv3)\n",
        "    batch3 = BatchNormalization()(pool3)\n",
        "    flat3 = Flatten()(batch3)\n",
        "    #--------------------------\n",
        "    merged = Concatenate(axis=1)([flat1, flat2,flat3])\n",
        "    dense1 = Dense(units = 600, activation='relu')(merged)\n",
        "    dense2 = Dense(units = 1200, activation='relu')(dense1)\n",
        "    dropout = Dropout(0.2)(dense2)\n",
        "    outputs = Dense(2, activation='softmax')(dropout)\n",
        "    model  = Model(inputs=[inputs1, inputs2, inputs3], outputs=outputs)\n",
        "\n",
        "    model.compile(\n",
        "                 optimizer = tf.keras.optimizers.Adam(0.001),\n",
        "                 loss = keras.losses.CategoricalCrossentropy(name='categorical_crossentropy'),\n",
        "                 metrics = [\n",
        "                            keras.metrics.CategoricalAccuracy(name='categorical_accuracy'),\n",
        "                            keras.metrics.Precision(name='precision'),\n",
        "                            keras.metrics.Recall(name='recall'),\n",
        "                            tfa.metrics.F1Score( num_classes=2,\n",
        "                                                name = 'f1_score',\n",
        "                                                average='weighted')\n",
        "                           ]\n",
        "    )\n",
        "\n",
        "    return model"
      ]
    },
    {
      "cell_type": "code",
      "execution_count": null,
      "id": "9285a366-b1c9-4889-8df2-852035ab290b",
      "metadata": {
        "id": "9285a366-b1c9-4889-8df2-852035ab290b"
      },
      "outputs": [],
      "source": [
        "model_concatenate = model_csv_img (X_train_csv_scaled.shape[1] ,\n",
        "                                   32,\n",
        "                                   32)"
      ]
    },
    {
      "cell_type": "code",
      "execution_count": null,
      "id": "e3d3b00c-e594-4677-9450-e6c68faeaf2d",
      "metadata": {
        "id": "e3d3b00c-e594-4677-9450-e6c68faeaf2d",
        "outputId": "c18591d5-1821-4987-be10-ab8016ef0d74",
        "colab": {
          "base_uri": "https://localhost:8080/"
        }
      },
      "outputs": [
        {
          "output_type": "stream",
          "name": "stdout",
          "text": [
            "Model: \"model_1\"\n",
            "__________________________________________________________________________________________________\n",
            " Layer (type)                   Output Shape         Param #     Connected to                     \n",
            "==================================================================================================\n",
            " input_3 (InputLayer)           [(None, 36, 1)]      0           []                               \n",
            "                                                                                                  \n",
            " input_4 (InputLayer)           [(None, 32, 32, 1)]  0           []                               \n",
            "                                                                                                  \n",
            " input_5 (InputLayer)           [(None, 32, 32, 1)]  0           []                               \n",
            "                                                                                                  \n",
            " conv1d (Conv1D)                (None, 34, 10)       40          ['input_3[0][0]']                \n",
            "                                                                                                  \n",
            " conv2d_2 (Conv2D)              (None, 30, 30, 16)   160         ['input_4[0][0]']                \n",
            "                                                                                                  \n",
            " conv2d_3 (Conv2D)              (None, 30, 30, 16)   160         ['input_5[0][0]']                \n",
            "                                                                                                  \n",
            " max_pooling1d (MaxPooling1D)   (None, 17, 10)       0           ['conv1d[0][0]']                 \n",
            "                                                                                                  \n",
            " max_pooling2d_2 (MaxPooling2D)  (None, 15, 15, 16)  0           ['conv2d_2[0][0]']               \n",
            "                                                                                                  \n",
            " max_pooling2d_3 (MaxPooling2D)  (None, 15, 15, 16)  0           ['conv2d_3[0][0]']               \n",
            "                                                                                                  \n",
            " batch_normalization_2 (BatchNo  (None, 17, 10)      40          ['max_pooling1d[0][0]']          \n",
            " rmalization)                                                                                     \n",
            "                                                                                                  \n",
            " batch_normalization_3 (BatchNo  (None, 15, 15, 16)  64          ['max_pooling2d_2[0][0]']        \n",
            " rmalization)                                                                                     \n",
            "                                                                                                  \n",
            " batch_normalization_4 (BatchNo  (None, 15, 15, 16)  64          ['max_pooling2d_3[0][0]']        \n",
            " rmalization)                                                                                     \n",
            "                                                                                                  \n",
            " flatten_2 (Flatten)            (None, 170)          0           ['batch_normalization_2[0][0]']  \n",
            "                                                                                                  \n",
            " flatten_3 (Flatten)            (None, 3600)         0           ['batch_normalization_3[0][0]']  \n",
            "                                                                                                  \n",
            " flatten_4 (Flatten)            (None, 3600)         0           ['batch_normalization_4[0][0]']  \n",
            "                                                                                                  \n",
            " concatenate_1 (Concatenate)    (None, 7370)         0           ['flatten_2[0][0]',              \n",
            "                                                                  'flatten_3[0][0]',              \n",
            "                                                                  'flatten_4[0][0]']              \n",
            "                                                                                                  \n",
            " dense_3 (Dense)                (None, 600)          4422600     ['concatenate_1[0][0]']          \n",
            "                                                                                                  \n",
            " dense_4 (Dense)                (None, 1200)         721200      ['dense_3[0][0]']                \n",
            "                                                                                                  \n",
            " dropout_1 (Dropout)            (None, 1200)         0           ['dense_4[0][0]']                \n",
            "                                                                                                  \n",
            " dense_5 (Dense)                (None, 2)            2402        ['dropout_1[0][0]']              \n",
            "                                                                                                  \n",
            "==================================================================================================\n",
            "Total params: 5,146,730\n",
            "Trainable params: 5,146,646\n",
            "Non-trainable params: 84\n",
            "__________________________________________________________________________________________________\n"
          ]
        }
      ],
      "source": [
        "model_concatenate.summary()"
      ]
    },
    {
      "cell_type": "code",
      "execution_count": null,
      "id": "08620b19-0f3e-4ecc-be2b-cd25943e0622",
      "metadata": {
        "tags": [],
        "id": "08620b19-0f3e-4ecc-be2b-cd25943e0622",
        "outputId": "37df1047-5aed-4648-fe00-e0d3d745f0c6",
        "colab": {
          "base_uri": "https://localhost:8080/"
        }
      },
      "outputs": [
        {
          "output_type": "stream",
          "name": "stdout",
          "text": [
            "Epoch 1/30\n",
            "11/11 [==============================] - ETA: 0s - loss: 1.2028 - categorical_accuracy: 0.8941 - precision: 0.8941 - recall: 0.8941 - f1_score: 0.9102\n",
            "Epoch 1: val_f1_score improved from -inf to 0.93935, saving model to Saved Model/Experiments/model_concatenate.hdf5\n",
            "11/11 [==============================] - 7s 169ms/step - loss: 1.2028 - categorical_accuracy: 0.8941 - precision: 0.8941 - recall: 0.8941 - f1_score: 0.9102 - val_loss: 0.2249 - val_categorical_accuracy: 0.9593 - val_precision: 0.9593 - val_recall: 0.9593 - val_f1_score: 0.9394\n",
            "Epoch 2/30\n",
            "10/11 [==========================>...] - ETA: 0s - loss: 0.4623 - categorical_accuracy: 0.9529 - precision: 0.9529 - recall: 0.9529 - f1_score: 0.9470\n",
            "Epoch 2: val_f1_score did not improve from 0.93935\n",
            "11/11 [==============================] - 1s 48ms/step - loss: 0.4479 - categorical_accuracy: 0.9510 - precision: 0.9510 - recall: 0.9510 - f1_score: 0.9470 - val_loss: 0.6183 - val_categorical_accuracy: 0.4590 - val_precision: 0.4590 - val_recall: 0.4590 - val_f1_score: 0.5887\n",
            "Epoch 3/30\n",
            "11/11 [==============================] - ETA: 0s - loss: 0.0757 - categorical_accuracy: 0.9664 - precision: 0.9664 - recall: 0.9664 - f1_score: 0.9605\n",
            "Epoch 3: val_f1_score did not improve from 0.93935\n",
            "11/11 [==============================] - 1s 54ms/step - loss: 0.0757 - categorical_accuracy: 0.9664 - precision: 0.9664 - recall: 0.9664 - f1_score: 0.9605 - val_loss: 0.5968 - val_categorical_accuracy: 0.4657 - val_precision: 0.4657 - val_recall: 0.4657 - val_f1_score: 0.5958\n",
            "Epoch 4/30\n",
            "11/11 [==============================] - ETA: 0s - loss: 0.0439 - categorical_accuracy: 0.9849 - precision: 0.9849 - recall: 0.9849 - f1_score: 0.9849\n",
            "Epoch 4: val_f1_score did not improve from 0.93935\n",
            "11/11 [==============================] - 1s 55ms/step - loss: 0.0439 - categorical_accuracy: 0.9849 - precision: 0.9849 - recall: 0.9849 - f1_score: 0.9849 - val_loss: 0.5246 - val_categorical_accuracy: 0.5870 - val_precision: 0.5870 - val_recall: 0.5870 - val_f1_score: 0.7035\n",
            "Epoch 5/30\n",
            " 9/11 [=======================>......] - ETA: 0s - loss: 0.0306 - categorical_accuracy: 0.9885 - precision: 0.9885 - recall: 0.9885 - f1_score: 0.9883\n",
            "Epoch 5: val_f1_score did not improve from 0.93935\n",
            "11/11 [==============================] - 1s 51ms/step - loss: 0.0303 - categorical_accuracy: 0.9886 - precision: 0.9886 - recall: 0.9886 - f1_score: 0.9884 - val_loss: 0.5185 - val_categorical_accuracy: 0.5086 - val_precision: 0.5086 - val_recall: 0.5086 - val_f1_score: 0.6352\n",
            "Epoch 6/30\n",
            " 9/11 [=======================>......] - ETA: 0s - loss: 0.0264 - categorical_accuracy: 0.9887 - precision: 0.9887 - recall: 0.9887 - f1_score: 0.9884\n",
            "Epoch 6: val_f1_score did not improve from 0.93935\n",
            "11/11 [==============================] - 0s 33ms/step - loss: 0.0246 - categorical_accuracy: 0.9897 - precision: 0.9897 - recall: 0.9897 - f1_score: 0.9895 - val_loss: 0.4834 - val_categorical_accuracy: 0.5714 - val_precision: 0.5714 - val_recall: 0.5714 - val_f1_score: 0.6901\n",
            "Epoch 7/30\n",
            " 9/11 [=======================>......] - ETA: 0s - loss: 0.0190 - categorical_accuracy: 0.9926 - precision: 0.9926 - recall: 0.9926 - f1_score: 0.9924\n",
            "Epoch 7: val_f1_score did not improve from 0.93935\n",
            "11/11 [==============================] - 0s 31ms/step - loss: 0.0188 - categorical_accuracy: 0.9928 - precision: 0.9928 - recall: 0.9928 - f1_score: 0.9926 - val_loss: 0.4476 - val_categorical_accuracy: 0.6297 - val_precision: 0.6297 - val_recall: 0.6297 - val_f1_score: 0.7374\n",
            "Epoch 8/30\n",
            " 9/11 [=======================>......] - ETA: 0s - loss: 0.0163 - categorical_accuracy: 0.9933 - precision: 0.9933 - recall: 0.9933 - f1_score: 0.9932\n",
            "Epoch 8: val_f1_score did not improve from 0.93935\n",
            "11/11 [==============================] - 0s 31ms/step - loss: 0.0158 - categorical_accuracy: 0.9935 - precision: 0.9935 - recall: 0.9935 - f1_score: 0.9934 - val_loss: 0.3906 - val_categorical_accuracy: 0.8009 - val_precision: 0.8009 - val_recall: 0.8009 - val_f1_score: 0.8598\n",
            "Epoch 9/30\n",
            "11/11 [==============================] - ETA: 0s - loss: 0.0123 - categorical_accuracy: 0.9951 - precision: 0.9951 - recall: 0.9951 - f1_score: 0.9950\n",
            "Epoch 9: val_f1_score did not improve from 0.93935\n",
            "11/11 [==============================] - 0s 34ms/step - loss: 0.0123 - categorical_accuracy: 0.9951 - precision: 0.9951 - recall: 0.9951 - f1_score: 0.9950 - val_loss: 0.3659 - val_categorical_accuracy: 0.8455 - val_precision: 0.8455 - val_recall: 0.8455 - val_f1_score: 0.8890\n",
            "Epoch 10/30\n",
            " 9/11 [=======================>......] - ETA: 0s - loss: 0.0098 - categorical_accuracy: 0.9962 - precision: 0.9962 - recall: 0.9962 - f1_score: 0.9962\n",
            "Epoch 10: val_f1_score did not improve from 0.93935\n",
            "11/11 [==============================] - 0s 33ms/step - loss: 0.0105 - categorical_accuracy: 0.9959 - precision: 0.9959 - recall: 0.9959 - f1_score: 0.9959 - val_loss: 0.3052 - val_categorical_accuracy: 0.9004 - val_precision: 0.9004 - val_recall: 0.9004 - val_f1_score: 0.9246\n",
            "Epoch 11/30\n",
            " 9/11 [=======================>......] - ETA: 0s - loss: 0.0109 - categorical_accuracy: 0.9957 - precision: 0.9957 - recall: 0.9957 - f1_score: 0.9956\n",
            "Epoch 11: val_f1_score did not improve from 0.93935\n",
            "11/11 [==============================] - 0s 31ms/step - loss: 0.0108 - categorical_accuracy: 0.9958 - precision: 0.9958 - recall: 0.9958 - f1_score: 0.9958 - val_loss: 0.2771 - val_categorical_accuracy: 0.9099 - val_precision: 0.9099 - val_recall: 0.9099 - val_f1_score: 0.9308\n",
            "Epoch 12/30\n",
            "10/11 [==========================>...] - ETA: 0s - loss: 0.0081 - categorical_accuracy: 0.9973 - precision: 0.9973 - recall: 0.9973 - f1_score: 0.9973\n",
            "Epoch 12: val_f1_score improved from 0.93935 to 0.94450, saving model to Saved Model/Experiments/model_concatenate.hdf5\n",
            "11/11 [==============================] - 0s 47ms/step - loss: 0.0078 - categorical_accuracy: 0.9974 - precision: 0.9974 - recall: 0.9974 - f1_score: 0.9974 - val_loss: 0.2304 - val_categorical_accuracy: 0.9306 - val_precision: 0.9306 - val_recall: 0.9306 - val_f1_score: 0.9445\n",
            "Epoch 13/30\n",
            "10/11 [==========================>...] - ETA: 0s - loss: 0.0057 - categorical_accuracy: 0.9982 - precision: 0.9982 - recall: 0.9982 - f1_score: 0.9982\n",
            "Epoch 13: val_f1_score improved from 0.94450 to 0.96914, saving model to Saved Model/Experiments/model_concatenate.hdf5\n",
            "11/11 [==============================] - 1s 60ms/step - loss: 0.0056 - categorical_accuracy: 0.9981 - precision: 0.9981 - recall: 0.9981 - f1_score: 0.9981 - val_loss: 0.1696 - val_categorical_accuracy: 0.9654 - val_precision: 0.9654 - val_recall: 0.9654 - val_f1_score: 0.9691\n",
            "Epoch 14/30\n",
            "11/11 [==============================] - ETA: 0s - loss: 0.0056 - categorical_accuracy: 0.9980 - precision: 0.9980 - recall: 0.9980 - f1_score: 0.9980\n",
            "Epoch 14: val_f1_score did not improve from 0.96914\n",
            "11/11 [==============================] - 0s 41ms/step - loss: 0.0056 - categorical_accuracy: 0.9980 - precision: 0.9980 - recall: 0.9980 - f1_score: 0.9980 - val_loss: 0.1643 - val_categorical_accuracy: 0.9543 - val_precision: 0.9543 - val_recall: 0.9543 - val_f1_score: 0.9609\n",
            "Epoch 15/30\n",
            " 9/11 [=======================>......] - ETA: 0s - loss: 0.0050 - categorical_accuracy: 0.9984 - precision: 0.9984 - recall: 0.9984 - f1_score: 0.9984\n",
            "Epoch 15: val_f1_score improved from 0.96914 to 0.97862, saving model to Saved Model/Experiments/model_concatenate.hdf5\n",
            "11/11 [==============================] - 1s 61ms/step - loss: 0.0046 - categorical_accuracy: 0.9985 - precision: 0.9985 - recall: 0.9985 - f1_score: 0.9985 - val_loss: 0.1130 - val_categorical_accuracy: 0.9774 - val_precision: 0.9774 - val_recall: 0.9774 - val_f1_score: 0.9786\n",
            "Epoch 16/30\n",
            " 9/11 [=======================>......] - ETA: 0s - loss: 0.0063 - categorical_accuracy: 0.9976 - precision: 0.9976 - recall: 0.9976 - f1_score: 0.9976\n",
            "Epoch 16: val_f1_score did not improve from 0.97862\n",
            "11/11 [==============================] - 0s 37ms/step - loss: 0.0066 - categorical_accuracy: 0.9975 - precision: 0.9975 - recall: 0.9975 - f1_score: 0.9975 - val_loss: 0.1290 - val_categorical_accuracy: 0.9690 - val_precision: 0.9690 - val_recall: 0.9690 - val_f1_score: 0.9726\n",
            "Epoch 17/30\n",
            " 9/11 [=======================>......] - ETA: 0s - loss: 0.0059 - categorical_accuracy: 0.9976 - precision: 0.9976 - recall: 0.9976 - f1_score: 0.9976\n",
            "Epoch 17: val_f1_score improved from 0.97862 to 0.98523, saving model to Saved Model/Experiments/model_concatenate.hdf5\n",
            "11/11 [==============================] - 1s 59ms/step - loss: 0.0055 - categorical_accuracy: 0.9978 - precision: 0.9978 - recall: 0.9978 - f1_score: 0.9978 - val_loss: 0.0792 - val_categorical_accuracy: 0.9849 - val_precision: 0.9849 - val_recall: 0.9849 - val_f1_score: 0.9852\n",
            "Epoch 18/30\n",
            "11/11 [==============================] - ETA: 0s - loss: 0.0040 - categorical_accuracy: 0.9986 - precision: 0.9986 - recall: 0.9986 - f1_score: 0.9986\n",
            "Epoch 18: val_f1_score did not improve from 0.98523\n",
            "11/11 [==============================] - 1s 49ms/step - loss: 0.0040 - categorical_accuracy: 0.9986 - precision: 0.9986 - recall: 0.9986 - f1_score: 0.9986 - val_loss: 0.0739 - val_categorical_accuracy: 0.9822 - val_precision: 0.9822 - val_recall: 0.9822 - val_f1_score: 0.9827\n",
            "Epoch 19/30\n",
            " 9/11 [=======================>......] - ETA: 0s - loss: 0.0033 - categorical_accuracy: 0.9989 - precision: 0.9989 - recall: 0.9989 - f1_score: 0.9989\n",
            "Epoch 19: val_f1_score did not improve from 0.98523\n",
            "11/11 [==============================] - 0s 37ms/step - loss: 0.0030 - categorical_accuracy: 0.9991 - precision: 0.9991 - recall: 0.9991 - f1_score: 0.9991 - val_loss: 0.0678 - val_categorical_accuracy: 0.9827 - val_precision: 0.9827 - val_recall: 0.9827 - val_f1_score: 0.9837\n",
            "Epoch 20/30\n",
            "11/11 [==============================] - ETA: 0s - loss: 0.0040 - categorical_accuracy: 0.9982 - precision: 0.9982 - recall: 0.9982 - f1_score: 0.9982\n",
            "Epoch 20: val_f1_score improved from 0.98523 to 0.98892, saving model to Saved Model/Experiments/model_concatenate.hdf5\n",
            "11/11 [==============================] - 1s 56ms/step - loss: 0.0040 - categorical_accuracy: 0.9982 - precision: 0.9982 - recall: 0.9982 - f1_score: 0.9982 - val_loss: 0.0445 - val_categorical_accuracy: 0.9891 - val_precision: 0.9891 - val_recall: 0.9891 - val_f1_score: 0.9889\n",
            "Epoch 21/30\n",
            " 9/11 [=======================>......] - ETA: 0s - loss: 0.0030 - categorical_accuracy: 0.9986 - precision: 0.9986 - recall: 0.9986 - f1_score: 0.9986\n",
            "Epoch 21: val_f1_score did not improve from 0.98892\n",
            "11/11 [==============================] - 0s 31ms/step - loss: 0.0034 - categorical_accuracy: 0.9985 - precision: 0.9985 - recall: 0.9985 - f1_score: 0.9985 - val_loss: 0.0500 - val_categorical_accuracy: 0.9852 - val_precision: 0.9852 - val_recall: 0.9852 - val_f1_score: 0.9855\n",
            "Epoch 22/30\n",
            "11/11 [==============================] - ETA: 0s - loss: 0.0035 - categorical_accuracy: 0.9989 - precision: 0.9989 - recall: 0.9989 - f1_score: 0.9989\n",
            "Epoch 22: val_f1_score improved from 0.98892 to 0.98931, saving model to Saved Model/Experiments/model_concatenate.hdf5\n",
            "11/11 [==============================] - 1s 48ms/step - loss: 0.0035 - categorical_accuracy: 0.9989 - precision: 0.9989 - recall: 0.9989 - f1_score: 0.9989 - val_loss: 0.0441 - val_categorical_accuracy: 0.9891 - val_precision: 0.9891 - val_recall: 0.9891 - val_f1_score: 0.9893\n",
            "Epoch 23/30\n",
            "11/11 [==============================] - ETA: 0s - loss: 0.0029 - categorical_accuracy: 0.9989 - precision: 0.9989 - recall: 0.9989 - f1_score: 0.9989\n",
            "Epoch 23: val_f1_score improved from 0.98931 to 0.99032, saving model to Saved Model/Experiments/model_concatenate.hdf5\n",
            "11/11 [==============================] - 1s 49ms/step - loss: 0.0029 - categorical_accuracy: 0.9989 - precision: 0.9989 - recall: 0.9989 - f1_score: 0.9989 - val_loss: 0.0366 - val_categorical_accuracy: 0.9902 - val_precision: 0.9902 - val_recall: 0.9902 - val_f1_score: 0.9903\n",
            "Epoch 24/30\n",
            " 9/11 [=======================>......] - ETA: 0s - loss: 0.0014 - categorical_accuracy: 0.9997 - precision: 0.9997 - recall: 0.9997 - f1_score: 0.9997\n",
            "Epoch 24: val_f1_score improved from 0.99032 to 0.99069, saving model to Saved Model/Experiments/model_concatenate.hdf5\n",
            "11/11 [==============================] - 1s 48ms/step - loss: 0.0020 - categorical_accuracy: 0.9992 - precision: 0.9992 - recall: 0.9992 - f1_score: 0.9992 - val_loss: 0.0308 - val_categorical_accuracy: 0.9908 - val_precision: 0.9908 - val_recall: 0.9908 - val_f1_score: 0.9907\n",
            "Epoch 25/30\n",
            " 9/11 [=======================>......] - ETA: 0s - loss: 0.0021 - categorical_accuracy: 0.9991 - precision: 0.9991 - recall: 0.9991 - f1_score: 0.9991\n",
            "Epoch 25: val_f1_score improved from 0.99069 to 0.99146, saving model to Saved Model/Experiments/model_concatenate.hdf5\n",
            "11/11 [==============================] - 0s 47ms/step - loss: 0.0019 - categorical_accuracy: 0.9993 - precision: 0.9993 - recall: 0.9993 - f1_score: 0.9993 - val_loss: 0.0262 - val_categorical_accuracy: 0.9916 - val_precision: 0.9916 - val_recall: 0.9916 - val_f1_score: 0.9915\n",
            "Epoch 26/30\n",
            "11/11 [==============================] - ETA: 0s - loss: 0.0015 - categorical_accuracy: 0.9995 - precision: 0.9995 - recall: 0.9995 - f1_score: 0.9995\n",
            "Epoch 26: val_f1_score did not improve from 0.99146\n",
            "11/11 [==============================] - 0s 34ms/step - loss: 0.0015 - categorical_accuracy: 0.9995 - precision: 0.9995 - recall: 0.9995 - f1_score: 0.9995 - val_loss: 0.0243 - val_categorical_accuracy: 0.9916 - val_precision: 0.9916 - val_recall: 0.9916 - val_f1_score: 0.9915\n",
            "Epoch 27/30\n",
            " 9/11 [=======================>......] - ETA: 0s - loss: 0.0022 - categorical_accuracy: 0.9992 - precision: 0.9992 - recall: 0.9992 - f1_score: 0.9992\n",
            "Epoch 27: val_f1_score did not improve from 0.99146\n",
            "11/11 [==============================] - 0s 31ms/step - loss: 0.0020 - categorical_accuracy: 0.9993 - precision: 0.9993 - recall: 0.9993 - f1_score: 0.9993 - val_loss: 0.0256 - val_categorical_accuracy: 0.9905 - val_precision: 0.9905 - val_recall: 0.9905 - val_f1_score: 0.9903\n",
            "Epoch 28/30\n",
            " 9/11 [=======================>......] - ETA: 0s - loss: 0.0029 - categorical_accuracy: 0.9988 - precision: 0.9988 - recall: 0.9988 - f1_score: 0.9988\n",
            "Epoch 28: val_f1_score improved from 0.99146 to 0.99241, saving model to Saved Model/Experiments/model_concatenate.hdf5\n",
            "11/11 [==============================] - 1s 50ms/step - loss: 0.0026 - categorical_accuracy: 0.9990 - precision: 0.9990 - recall: 0.9990 - f1_score: 0.9990 - val_loss: 0.0235 - val_categorical_accuracy: 0.9925 - val_precision: 0.9925 - val_recall: 0.9925 - val_f1_score: 0.9924\n",
            "Epoch 29/30\n",
            " 9/11 [=======================>......] - ETA: 0s - loss: 0.0016 - categorical_accuracy: 0.9993 - precision: 0.9993 - recall: 0.9993 - f1_score: 0.9993\n",
            "Epoch 29: val_f1_score did not improve from 0.99241\n",
            "11/11 [==============================] - 0s 35ms/step - loss: 0.0015 - categorical_accuracy: 0.9994 - precision: 0.9994 - recall: 0.9994 - f1_score: 0.9994 - val_loss: 0.0234 - val_categorical_accuracy: 0.9919 - val_precision: 0.9919 - val_recall: 0.9919 - val_f1_score: 0.9918\n",
            "Epoch 30/30\n",
            " 9/11 [=======================>......] - ETA: 0s - loss: 7.1818e-04 - categorical_accuracy: 0.9998 - precision: 0.9998 - recall: 0.9998 - f1_score: 0.9998\n",
            "Epoch 30: val_f1_score improved from 0.99241 to 0.99297, saving model to Saved Model/Experiments/model_concatenate.hdf5\n",
            "11/11 [==============================] - 0s 45ms/step - loss: 9.7176e-04 - categorical_accuracy: 0.9996 - precision: 0.9996 - recall: 0.9996 - f1_score: 0.9996 - val_loss: 0.0224 - val_categorical_accuracy: 0.9930 - val_precision: 0.9930 - val_recall: 0.9930 - val_f1_score: 0.9930\n"
          ]
        }
      ],
      "source": [
        "\n",
        "\n",
        "f1_callback_concat = ModelCheckpoint(\"Saved Model/Experiments/model_concatenate.hdf5\",\n",
        "                              monitor='val_f1_score',\n",
        "                              verbose=1,\n",
        "                              save_best_only=True,\n",
        "                              mode='max')\n",
        "history_concatenate = model_concatenate.fit(x = [X_train_csv_scaled,X_train_1_scaled, X_train_2_scaled],\n",
        "                      y=  Y_train_csv,\n",
        "                      epochs= 30,\n",
        "                      batch_size = 2**10 ,\n",
        "                      validation_data = ([X_val_csv_scaled,X_val_1_scaled, X_val_2_scaled] , Y_val_csv),\n",
        "                      callbacks = [f1_callback_concat]\n",
        "                     )\n",
        "\n"
      ]
    },
    {
      "cell_type": "code",
      "execution_count": null,
      "id": "7855ec2f-8f15-480b-847e-fd938e368eab",
      "metadata": {
        "id": "7855ec2f-8f15-480b-847e-fd938e368eab",
        "outputId": "a3ee9a8a-5f9b-49b8-d021-af42e2cf60e1",
        "colab": {
          "base_uri": "https://localhost:8080/",
          "height": 1000
        }
      },
      "outputs": [
        {
          "output_type": "stream",
          "name": "stdout",
          "text": [
            "dict_keys(['loss', 'categorical_accuracy', 'precision', 'recall', 'f1_score', 'val_loss', 'val_categorical_accuracy', 'val_precision', 'val_recall', 'val_f1_score'])\n"
          ]
        },
        {
          "output_type": "display_data",
          "data": {
            "text/plain": [
              "<Figure size 640x480 with 1 Axes>"
            ],
            "image/png": "[encoded data removed]"
          },
          "metadata": {}
        },
        {
          "output_type": "display_data",
          "data": {
            "text/plain": [
              "<Figure size 640x480 with 1 Axes>"
            ],
            "image/png": "[encoded data removed]"
          },
          "metadata": {}
        },
        {
          "output_type": "display_data",
          "data": {
            "text/plain": [
              "<Figure size 640x480 with 1 Axes>"
            ],
            "image/png": "[encoded data removed]"
          },
          "metadata": {}
        },
        {
          "output_type": "display_data",
          "data": {
            "text/plain": [
              "<Figure size 640x480 with 1 Axes>"
            ],
            "image/png": "[encoded data removed]"
          },
          "metadata": {}
        }
      ],
      "source": [
        "print(history_concatenate.history.keys())\n",
        "plt.plot(history_concatenate.history['categorical_accuracy'])\n",
        "plt.plot(history_concatenate.history['val_categorical_accuracy'])\n",
        "plt.title('model accuracy')\n",
        "plt.ylabel('accuracy')\n",
        "plt.xlabel('epoch')\n",
        "plt.legend(['train', 'valid'], loc='upper left')\n",
        "plt.show()\n",
        "\n",
        "plt.plot(history_concatenate.history['precision'])\n",
        "plt.plot(history_concatenate.history['val_precision'])\n",
        "plt.title('model precision')\n",
        "plt.ylabel('precision')\n",
        "plt.xlabel('epoch')\n",
        "plt.legend(['train', 'valid'], loc='upper left')\n",
        "plt.show()\n",
        "\n",
        "plt.plot(history_concatenate.history['recall'])\n",
        "plt.plot(history_concatenate.history['val_recall'])\n",
        "plt.title('model recall')\n",
        "plt.ylabel('recall')\n",
        "plt.xlabel('epoch')\n",
        "plt.legend(['train', 'valid'], loc='upper left')\n",
        "plt.show()\n",
        "\n",
        "\n",
        "plt.plot(history_concatenate.history['f1_score'])\n",
        "plt.plot(history_concatenate.history['val_f1_score'])\n",
        "plt.title('model f1_score')\n",
        "plt.ylabel('f1_score')\n",
        "plt.xlabel('epoch')\n",
        "plt.legend(['train', 'valid'], loc='upper left')\n",
        "plt.show()\n"
      ]
    },
    {
      "cell_type": "code",
      "execution_count": null,
      "id": "003ef1d1-c90e-4189-89af-eebaa7aef728",
      "metadata": {
        "id": "003ef1d1-c90e-4189-89af-eebaa7aef728",
        "outputId": "7da5540e-47fd-4885-fe3a-f161632303fc",
        "colab": {
          "base_uri": "https://localhost:8080/"
        }
      },
      "outputs": [
        {
          "output_type": "stream",
          "name": "stdout",
          "text": [
            "best model: \n",
            "113/113 [==============================] - 1s 6ms/step - loss: 0.0190 - categorical_accuracy: 0.9939 - precision: 0.9939 - recall: 0.9939 - f1_score: 0.9938\n",
            "[0.01895492896437645, 0.9938650131225586, 0.9938650131225586, 0.9938650131225586, 0.9938033223152161]\n",
            "113/113 [==============================] - 1s 4ms/step - loss: 0.0222 - categorical_accuracy: 0.9908 - precision: 0.9908 - recall: 0.9908 - f1_score: 0.9907\n",
            "[0.022179128602147102, 0.9908000826835632, 0.9908000826835632, 0.9908000826835632, 0.9906712770462036]\n"
          ]
        }
      ],
      "source": [
        "print(\"best model: \")\n",
        "model_concatenate.load_weights(\"Saved Model/Experiments/model_concatenate.hdf5\")\n",
        "print(model_concatenate.evaluate([X_val_csv_scaled, X_val_1_scaled, X_val_2_scaled] , Y_val_1))\n",
        "print(model_concatenate.evaluate([X_test_csv_scaled, X_test_1_scaled, X_test_2_scaled] , Y_test_1))\n"
      ]
    },
    {
      "cell_type": "code",
      "execution_count": null,
      "id": "7e77079e-9389-45cc-b61f-7ccf0f01da8f",
      "metadata": {
        "id": "7e77079e-9389-45cc-b61f-7ccf0f01da8f"
      },
      "outputs": [],
      "source": []
    },
    {
      "cell_type": "markdown",
      "id": "7c2ebcf1-580b-40ee-8358-444ce08a1dcb",
      "metadata": {
        "id": "7c2ebcf1-580b-40ee-8358-444ce08a1dcb"
      },
      "source": [
        "# Comparing with different model"
      ]
    },
    {
      "cell_type": "markdown",
      "id": "2ca8d827-7863-4b90-ad13-75e98738ef48",
      "metadata": {
        "id": "2ca8d827-7863-4b90-ad13-75e98738ef48"
      },
      "source": [
        "## Random Forest"
      ]
    },
    {
      "cell_type": "code",
      "execution_count": null,
      "id": "4ca71657-f37c-42a5-9313-c3bf3221100b",
      "metadata": {
        "id": "4ca71657-f37c-42a5-9313-c3bf3221100b"
      },
      "outputs": [],
      "source": [
        "from sklearn.ensemble import RandomForestClassifier\n",
        "def csv_RandomForest():\n",
        "    model = RandomForestClassifier(n_estimators = 10,\n",
        "                                   min_samples_split = 2,\n",
        "                                   min_samples_leaf = 1,\n",
        "                                   bootstrap = True,\n",
        "                                   random_state = 0\n",
        "                                    )\n",
        "    return model\n"
      ]
    },
    {
      "cell_type": "code",
      "execution_count": null,
      "id": "4246954e-ef9d-4e1b-994d-7a487552ea9e",
      "metadata": {
        "id": "4246954e-ef9d-4e1b-994d-7a487552ea9e",
        "outputId": "a25fbf70-3bc2-4675-df06-bd7a086b34bb"
      },
      "outputs": [
        {
          "name": "stdout",
          "output_type": "stream",
          "text": [
            "Accuracy score :  0.9746430854464095\n",
            "Precision score :  0.97299353092025\n",
            "Recall score :  0.9746430854464095\n",
            "F1 score :  0.9728036654461721\n"
          ]
        }
      ],
      "source": [
        "model_RF = csv_RandomForest()\n",
        "model_RF.fit(X_train_csv_scaled, y_train_csv)\n",
        "y_pred_RandomForest = model_RF.predict(X_test_csv_scaled)\n",
        "display_result(y_test_csv,y_pred_RandomForest)"
      ]
    },
    {
      "cell_type": "code",
      "execution_count": null,
      "id": "82d48c1c-4d02-44ea-b78e-0c9f28f6039b",
      "metadata": {
        "id": "82d48c1c-4d02-44ea-b78e-0c9f28f6039b",
        "outputId": "35f4dd9f-ef89-41c0-f6b8-c966c391fefd"
      },
      "outputs": [
        {
          "name": "stdout",
          "output_type": "stream",
          "text": [
            "Accuracy score :  0.9746430854464095\n",
            "Precision score :  0.97299353092025\n",
            "Recall score :  0.9746430854464095\n",
            "F1 score :  0.9728036654461721\n"
          ]
        }
      ],
      "source": [
        "filename = 'Saved Model/Paper/RandomForest_model.sav'\n",
        "joblib.dump(model_RF, filename)\n",
        "loaded_RF_model = joblib.load(filename)\n",
        "\n",
        "y_pred_csv_RandomForest = loaded_RF_model.predict(X_test_csv_scaled)\n",
        "display_result(y_test_csv, y_pred_csv_RandomForest)"
      ]
    },
    {
      "cell_type": "markdown",
      "id": "a6231d59-1fe8-4758-aa7e-9dbc7f19d22a",
      "metadata": {
        "id": "a6231d59-1fe8-4758-aa7e-9dbc7f19d22a"
      },
      "source": [
        "## SVM"
      ]
    },
    {
      "cell_type": "code",
      "execution_count": null,
      "id": "95e84ec2-4049-4f3c-902d-7eb739fbd525",
      "metadata": {
        "id": "95e84ec2-4049-4f3c-902d-7eb739fbd525"
      },
      "outputs": [],
      "source": [
        "from sklearn import svm\n",
        "def csv_SVM():\n",
        "    model = svm.SVC(C = 1,\n",
        "                kernel = 'rbf',\n",
        "                gamma  = 'auto',\n",
        "                shrinking  = True,\n",
        "                tol = 0.001,\n",
        "                random_state = 0\n",
        "                )\n",
        "    return model\n",
        "\n",
        "\n"
      ]
    },
    {
      "cell_type": "code",
      "execution_count": null,
      "id": "883ea430-aaf3-4501-8c51-41891acf088c",
      "metadata": {
        "id": "883ea430-aaf3-4501-8c51-41891acf088c",
        "outputId": "bad5ee0b-f8f3-4dfc-b02e-6b24aa1755ff"
      },
      "outputs": [
        {
          "name": "stdout",
          "output_type": "stream",
          "text": [
            "Accuracy score :  0.9696840555566317\n",
            "Precision score :  0.9682218625909775\n",
            "Recall score :  0.9696840555566317\n",
            "F1 score :  0.9661331258667356\n"
          ]
        }
      ],
      "source": [
        "model_SVM = csv_SVM()\n",
        "model_SVM.fit(X_train_csv_scaled, y_train_csv)\n",
        "y_pred_SVM = model_SVM.predict(X_test_csv_scaled)\n",
        "display_result(y_test_csv,y_pred_SVM)"
      ]
    },
    {
      "cell_type": "code",
      "execution_count": null,
      "id": "f8880dff-29f0-4c7a-a9f9-271ed7646f52",
      "metadata": {
        "id": "f8880dff-29f0-4c7a-a9f9-271ed7646f52",
        "outputId": "297fab42-c4b5-44ec-def9-7864d94655cc"
      },
      "outputs": [
        {
          "name": "stdout",
          "output_type": "stream",
          "text": [
            "Accuracy score :  0.9696840555566317\n",
            "Precision score :  0.9682218625909775\n",
            "Recall score :  0.9696840555566317\n",
            "F1 score :  0.9661331258667356\n"
          ]
        }
      ],
      "source": [
        "filename = 'Saved Model/Paper/SVM_model.sav'\n",
        "joblib.dump(model_SVM, filename)\n",
        "loaded_SVM_model = joblib.load(filename)\n",
        "\n",
        "y_pred_csv_SVM = loaded_SVM_model.predict(X_test_csv_scaled)\n",
        "display_result(y_test_csv, y_pred_csv_SVM)"
      ]
    },
    {
      "cell_type": "markdown",
      "id": "da853c38-9296-471d-ace6-a73b032e0252",
      "metadata": {
        "id": "da853c38-9296-471d-ace6-a73b032e0252"
      },
      "source": [
        "## kNN"
      ]
    },
    {
      "cell_type": "code",
      "execution_count": null,
      "id": "e8c87a1c-930f-4bfc-bf16-6bf82b164218",
      "metadata": {
        "id": "e8c87a1c-930f-4bfc-bf16-6bf82b164218"
      },
      "outputs": [],
      "source": [
        "from sklearn.neighbors import KNeighborsClassifier\n",
        "def csv_kNN():\n",
        "    model = KNeighborsClassifier(n_neighbors=5,\n",
        "                                 leaf_size = 30,\n",
        "                                 metric = 'euclidean')\n",
        "    return model\n",
        "\n"
      ]
    },
    {
      "cell_type": "code",
      "execution_count": null,
      "id": "dbfac947-e93d-47f4-8020-dfd89c29708a",
      "metadata": {
        "id": "dbfac947-e93d-47f4-8020-dfd89c29708a",
        "outputId": "07da5057-7d52-46de-ea80-c4b30197f388"
      },
      "outputs": [
        {
          "name": "stdout",
          "output_type": "stream",
          "text": [
            "Accuracy score :  0.9724735098696318\n",
            "Precision score :  0.9707220537176988\n",
            "Recall score :  0.9724735098696318\n",
            "F1 score :  0.9705624147721252\n"
          ]
        }
      ],
      "source": [
        "model_kNN = csv_kNN()\n",
        "model_kNN.fit(X_train_csv_scaled, y_train_csv)\n",
        "y_pred_kNN = model_kNN.predict(X_test_csv_scaled)\n",
        "display_result(y_test_csv,y_pred_kNN)"
      ]
    },
    {
      "cell_type": "code",
      "execution_count": null,
      "id": "38dac6a9-235b-4f5d-a190-9b1d5cdba254",
      "metadata": {
        "id": "38dac6a9-235b-4f5d-a190-9b1d5cdba254",
        "outputId": "868df760-11ba-41f1-8ed5-fbb70a366343"
      },
      "outputs": [
        {
          "name": "stdout",
          "output_type": "stream",
          "text": [
            "Accuracy score :  0.9724735098696318\n",
            "Precision score :  0.9707220537176988\n",
            "Recall score :  0.9724735098696318\n",
            "F1 score :  0.9705624147721252\n"
          ]
        }
      ],
      "source": [
        "filename = 'Saved Model/Paper/KNN_model.sav'\n",
        "joblib.dump(model_kNN, filename)\n",
        "loaded_KNN_model = joblib.load(filename)\n",
        "\n",
        "y_pred_csv_KNN = loaded_KNN_model.predict(X_test_csv_scaled)\n",
        "display_result(y_test_csv, y_pred_csv_KNN)"
      ]
    },
    {
      "cell_type": "markdown",
      "id": "80fd1c22-d5ae-4f74-92c7-ce2c4a55d21e",
      "metadata": {
        "id": "80fd1c22-d5ae-4f74-92c7-ce2c4a55d21e"
      },
      "source": [
        "## MLP"
      ]
    },
    {
      "cell_type": "code",
      "execution_count": null,
      "id": "33327318-01e8-416d-b191-58100b3f47e5",
      "metadata": {
        "id": "33327318-01e8-416d-b191-58100b3f47e5"
      },
      "outputs": [],
      "source": [
        "from sklearn.neural_network import MLPClassifier\n",
        "\n",
        "def csv_MLP():\n",
        "    model = MLPClassifier(hidden_layer_sizes=(100,),\n",
        "                          activation='relu',\n",
        "                          solver='sgd',\n",
        "                          alpha=0.0001,\n",
        "                          batch_size='auto',\n",
        "                          learning_rate_init=0.001,\n",
        "                          shuffle=True,\n",
        "                          random_state=0,\n",
        "                          tol=0.0001,\n",
        "                          verbose=True,\n",
        "                          beta_1 = 0.9,\n",
        "                          beta_2 = 0.999,\n",
        "                          max_iter = 10 )\n",
        "    return model\n",
        "\n",
        "\n"
      ]
    },
    {
      "cell_type": "code",
      "execution_count": null,
      "id": "9bf5e0b3-d312-42f0-b5bf-dd44fcc5097b",
      "metadata": {
        "id": "9bf5e0b3-d312-42f0-b5bf-dd44fcc5097b",
        "outputId": "f8d8d577-9780-4dc7-af9e-b988c123e111"
      },
      "outputs": [
        {
          "name": "stdout",
          "output_type": "stream",
          "text": [
            "Iteration 1, loss = 1.44348865\n",
            "Iteration 2, loss = 0.91531298\n",
            "Iteration 3, loss = 0.73099396\n",
            "Iteration 4, loss = 0.62725433\n",
            "Iteration 5, loss = 0.55896672\n",
            "Iteration 6, loss = 0.50918701\n",
            "Iteration 7, loss = 0.47050653\n",
            "Iteration 8, loss = 0.43908364\n",
            "Iteration 9, loss = 0.41294291\n",
            "Iteration 10, loss = 0.39081072\n"
          ]
        },
        {
          "name": "stderr",
          "output_type": "stream",
          "text": [
            "/home/tf/.conda/envs/tf2/lib/python3.7/site-packages/sklearn/neural_network/_multilayer_perceptron.py:617: ConvergenceWarning: Stochastic Optimizer: Maximum iterations (10) reached and the optimization hasn't converged yet.\n",
            "  % self.max_iter, ConvergenceWarning)\n"
          ]
        },
        {
          "name": "stdout",
          "output_type": "stream",
          "text": [
            "Accuracy score :  0.9021753869399298\n",
            "Precision score :  0.8836096881084812\n",
            "Recall score :  0.9021753869399298\n",
            "F1 score :  0.8843256709741995\n"
          ]
        },
        {
          "name": "stderr",
          "output_type": "stream",
          "text": [
            "/home/tf/.conda/envs/tf2/lib/python3.7/site-packages/sklearn/metrics/_classification.py:1248: UndefinedMetricWarning: Precision is ill-defined and being set to 0.0 in labels with no predicted samples. Use `zero_division` parameter to control this behavior.\n",
            "  _warn_prf(average, modifier, msg_start, len(result))\n"
          ]
        }
      ],
      "source": [
        "model_MLP = csv_MLP()\n",
        "model_MLP.fit(X_train_csv_scaled, y_train_csv)\n",
        "y_pred_MLP = model_MLP.predict(X_test_csv_scaled)\n",
        "display_result(y_test_csv,y_pred_MLP)\n"
      ]
    },
    {
      "cell_type": "code",
      "execution_count": null,
      "id": "ea00b8b0-ec6c-4358-ba74-dc5798fa04db",
      "metadata": {
        "id": "ea00b8b0-ec6c-4358-ba74-dc5798fa04db",
        "outputId": "1a10e143-7bb6-4199-9c5e-b46419effaea"
      },
      "outputs": [
        {
          "name": "stdout",
          "output_type": "stream",
          "text": [
            "Accuracy score :  0.9021753869399298\n",
            "Precision score :  0.8836096881084812\n",
            "Recall score :  0.9021753869399298\n",
            "F1 score :  0.8843256709741995\n"
          ]
        },
        {
          "name": "stderr",
          "output_type": "stream",
          "text": [
            "/home/tf/.conda/envs/tf2/lib/python3.7/site-packages/sklearn/metrics/_classification.py:1248: UndefinedMetricWarning: Precision is ill-defined and being set to 0.0 in labels with no predicted samples. Use `zero_division` parameter to control this behavior.\n",
            "  _warn_prf(average, modifier, msg_start, len(result))\n"
          ]
        }
      ],
      "source": [
        "filename = 'Saved Model/Paper/MLP_model.sav'\n",
        "joblib.dump(model_MLP, filename)\n",
        "loaded_MLP_model = joblib.load(filename)\n",
        "\n",
        "y_pred_csv_MLP = loaded_MLP_model.predict(X_test_csv_scaled)\n",
        "display_result(y_test_csv, y_pred_csv_MLP)"
      ]
    },
    {
      "cell_type": "code",
      "execution_count": null,
      "id": "b4e54eaa-4bd8-4b73-8b91-5e24491d9cd6",
      "metadata": {
        "id": "b4e54eaa-4bd8-4b73-8b91-5e24491d9cd6",
        "outputId": "49c67ae7-402c-48bc-ddfb-8de20d2762ae"
      },
      "outputs": [
        {
          "name": "stdout",
          "output_type": "stream",
          "text": [
            "Model: \"sequential_2\"\n",
            "_________________________________________________________________\n",
            "Layer (type)                 Output Shape              Param #   \n",
            "=================================================================\n",
            "conv2d_6 (Conv2D)            (None, 30, 30, 8)         80        \n",
            "_________________________________________________________________\n",
            "max_pooling2d_6 (MaxPooling2 (None, 15, 15, 8)         0         \n",
            "_________________________________________________________________\n",
            "conv2d_7 (Conv2D)            (None, 13, 13, 16)        1168      \n",
            "_________________________________________________________________\n",
            "max_pooling2d_7 (MaxPooling2 (None, 6, 6, 16)          0         \n",
            "_________________________________________________________________\n",
            "conv2d_8 (Conv2D)            (None, 4, 4, 32)          4640      \n",
            "_________________________________________________________________\n",
            "max_pooling2d_8 (MaxPooling2 (None, 2, 2, 32)          0         \n",
            "_________________________________________________________________\n",
            "flatten_2 (Flatten)          (None, 128)               0         \n",
            "_________________________________________________________________\n",
            "dense_2 (Dense)              (None, 12)                1548      \n",
            "=================================================================\n",
            "Total params: 7,436\n",
            "Trainable params: 7,436\n",
            "Non-trainable params: 0\n",
            "_________________________________________________________________\n"
          ]
        }
      ],
      "source": [
        "def model_paper(shape1, shape2):\n",
        "    set_seed()\n",
        "    model =   Sequential([\n",
        "                        Conv2D(8 ,(3, 3),\n",
        "                               activation = tf.nn.relu,\n",
        "                               input_shape=( shape1 , shape2 ,1)),\n",
        "                        MaxPooling2D(2, 2),\n",
        "                        Conv2D(16 ,(3, 3),\n",
        "                               activation = tf.nn.relu),\n",
        "                        MaxPooling2D(2, 2),\n",
        "                        Conv2D(32 ,(3, 3),\n",
        "                               activation = tf.nn.relu),\n",
        "                        MaxPooling2D(2, 2),\n",
        "                        Flatten(),\n",
        "                        Dense(12, activation= tf.nn.softmax,\n",
        "                                              kernel_regularizer=tf.keras.regularizers.l1(0.004),\n",
        "                                              activity_regularizer=tf.keras.regularizers.l2(0.004)) ])\n",
        "\n",
        "\n",
        "    model.compile(\n",
        "              optimizer = tf.keras.optimizers.SGD(learning_rate=0.001, name='SGD'),\n",
        "              loss = 'categorical_crossentropy' ,\n",
        "              metrics =[\n",
        "                       keras.metrics.CategoricalAccuracy(name='categorical_accuracy') ,\n",
        "                       keras.metrics.Precision(name='precision'),\n",
        "                       keras.metrics.Recall(name='recall'),\n",
        "                       tfa.metrics.F1Score( num_classes=12,   name = 'f1_score', average='weighted'),\n",
        "\n",
        "              ])\n",
        "    return  model\n",
        "\n",
        "model_img_paper1 = model_paper(32,32)\n",
        "model_img_paper1.summary()"
      ]
    },
    {
      "cell_type": "code",
      "execution_count": null,
      "id": "71440315-0fd6-4c35-bdb3-eb5323ff669b",
      "metadata": {
        "id": "71440315-0fd6-4c35-bdb3-eb5323ff669b",
        "outputId": "9d42320a-78c2-4321-9384-dd989d60260e"
      },
      "outputs": [
        {
          "data": {
            "text/plain": [
              "(154867, 32, 32, 1)"
            ]
          },
          "execution_count": 34,
          "metadata": {},
          "output_type": "execute_result"
        }
      ],
      "source": [
        "X_train_1.shape"
      ]
    },
    {
      "cell_type": "code",
      "execution_count": null,
      "id": "ba992740-b81f-4e91-b426-f773ddb008b5",
      "metadata": {
        "id": "ba992740-b81f-4e91-b426-f773ddb008b5",
        "outputId": "82b44999-5036-4c15-8450-e07a42c8c068"
      },
      "outputs": [
        {
          "name": "stdout",
          "output_type": "stream",
          "text": [
            "Epoch 1/30\n",
            "1549/1549 [==============================] - 39s 25ms/step - loss: 2.6792 - categorical_accuracy: 0.2635 - precision: 0.0000e+00 - recall: 0.0000e+00 - f1_score: 0.1265 - val_loss: 2.3581 - val_categorical_accuracy: 0.2777 - val_precision: 0.0000e+00 - val_recall: 0.0000e+00 - val_f1_score: 0.1207\n",
            "\n",
            "Epoch 00001: val_f1_score improved from -inf to 0.12075, saving model to Saved Model/Paper/UP_1_32.hdf5\n",
            "Epoch 2/30\n",
            "1549/1549 [==============================] - 39s 25ms/step - loss: 2.3308 - categorical_accuracy: 0.2785 - precision: 0.0000e+00 - recall: 0.0000e+00 - f1_score: 0.1214 - val_loss: 2.3139 - val_categorical_accuracy: 0.2777 - val_precision: 0.0000e+00 - val_recall: 0.0000e+00 - val_f1_score: 0.1207\n",
            "\n",
            "Epoch 00002: val_f1_score did not improve from 0.12075\n",
            "Epoch 3/30\n",
            "1549/1549 [==============================] - 38s 25ms/step - loss: 2.2897 - categorical_accuracy: 0.2785 - precision: 0.0000e+00 - recall: 0.0000e+00 - f1_score: 0.1214 - val_loss: 2.2745 - val_categorical_accuracy: 0.2777 - val_precision: 0.0000e+00 - val_recall: 0.0000e+00 - val_f1_score: 0.1207\n",
            "\n",
            "Epoch 00003: val_f1_score did not improve from 0.12075\n",
            "Epoch 4/30\n",
            "1549/1549 [==============================] - 38s 25ms/step - loss: 2.2513 - categorical_accuracy: 0.2785 - precision: 0.0000e+00 - recall: 0.0000e+00 - f1_score: 0.1214 - val_loss: 2.2371 - val_categorical_accuracy: 0.2777 - val_precision: 0.0000e+00 - val_recall: 0.0000e+00 - val_f1_score: 0.1207\n",
            "\n",
            "Epoch 00004: val_f1_score did not improve from 0.12075\n",
            "Epoch 5/30\n",
            "1549/1549 [==============================] - 38s 25ms/step - loss: 2.2149 - categorical_accuracy: 0.2785 - precision: 0.0000e+00 - recall: 0.0000e+00 - f1_score: 0.1214 - val_loss: 2.2014 - val_categorical_accuracy: 0.2777 - val_precision: 0.0000e+00 - val_recall: 0.0000e+00 - val_f1_score: 0.1207\n",
            "\n",
            "Epoch 00005: val_f1_score did not improve from 0.12075\n",
            "Epoch 6/30\n",
            "1549/1549 [==============================] - 38s 25ms/step - loss: 2.1793 - categorical_accuracy: 0.2785 - precision: 0.0000e+00 - recall: 0.0000e+00 - f1_score: 0.1214 - val_loss: 2.1657 - val_categorical_accuracy: 0.2777 - val_precision: 0.0000e+00 - val_recall: 0.0000e+00 - val_f1_score: 0.1207\n",
            "\n",
            "Epoch 00006: val_f1_score did not improve from 0.12075\n",
            "Epoch 7/30\n",
            "1549/1549 [==============================] - 38s 25ms/step - loss: 2.1442 - categorical_accuracy: 0.2786 - precision: 0.0000e+00 - recall: 0.0000e+00 - f1_score: 0.1214 - val_loss: 2.1311 - val_categorical_accuracy: 0.2777 - val_precision: 0.0000e+00 - val_recall: 0.0000e+00 - val_f1_score: 0.1207\n",
            "\n",
            "Epoch 00007: val_f1_score did not improve from 0.12075\n",
            "Epoch 8/30\n",
            "1549/1549 [==============================] - 39s 25ms/step - loss: 2.1087 - categorical_accuracy: 0.2801 - precision: 0.0000e+00 - recall: 0.0000e+00 - f1_score: 0.1263 - val_loss: 2.0943 - val_categorical_accuracy: 0.2772 - val_precision: 0.0000e+00 - val_recall: 0.0000e+00 - val_f1_score: 0.1212\n",
            "\n",
            "Epoch 00008: val_f1_score improved from 0.12075 to 0.12119, saving model to Saved Model/Paper/UP_1_32.hdf5\n",
            "Epoch 9/30\n",
            "1549/1549 [==============================] - 38s 25ms/step - loss: 2.0717 - categorical_accuracy: 0.2942 - precision: 0.0000e+00 - recall: 0.0000e+00 - f1_score: 0.1558 - val_loss: 2.0566 - val_categorical_accuracy: 0.3018 - val_precision: 0.0000e+00 - val_recall: 0.0000e+00 - val_f1_score: 0.1685\n",
            "\n",
            "Epoch 00009: val_f1_score improved from 0.12119 to 0.16855, saving model to Saved Model/Paper/UP_1_32.hdf5\n",
            "Epoch 10/30\n",
            "1549/1549 [==============================] - 38s 25ms/step - loss: 2.0318 - categorical_accuracy: 0.3262 - precision: 0.0000e+00 - recall: 0.0000e+00 - f1_score: 0.2039 - val_loss: 2.0144 - val_categorical_accuracy: 0.3860 - val_precision: 0.0000e+00 - val_recall: 0.0000e+00 - val_f1_score: 0.2604\n",
            "\n",
            "Epoch 00010: val_f1_score improved from 0.16855 to 0.26039, saving model to Saved Model/Paper/UP_1_32.hdf5\n",
            "Epoch 11/30\n",
            "1549/1549 [==============================] - 38s 25ms/step - loss: 1.9851 - categorical_accuracy: 0.3778 - precision: 0.0000e+00 - recall: 0.0000e+00 - f1_score: 0.2536 - val_loss: 1.9613 - val_categorical_accuracy: 0.3824 - val_precision: 0.0000e+00 - val_recall: 0.0000e+00 - val_f1_score: 0.2580\n",
            "\n",
            "Epoch 00011: val_f1_score did not improve from 0.26039\n",
            "Epoch 12/30\n",
            "1549/1549 [==============================] - 38s 25ms/step - loss: 1.9223 - categorical_accuracy: 0.4268 - precision: 0.0000e+00 - recall: 0.0000e+00 - f1_score: 0.2860 - val_loss: 1.8852 - val_categorical_accuracy: 0.4378 - val_precision: 0.0000e+00 - val_recall: 0.0000e+00 - val_f1_score: 0.2915\n",
            "\n",
            "Epoch 00012: val_f1_score improved from 0.26039 to 0.29146, saving model to Saved Model/Paper/UP_1_32.hdf5\n",
            "Epoch 13/30\n",
            "1549/1549 [==============================] - 38s 25ms/step - loss: 1.8278 - categorical_accuracy: 0.4596 - precision: 0.4753 - recall: 0.0028 - f1_score: 0.3247 - val_loss: 1.7712 - val_categorical_accuracy: 0.4618 - val_precision: 0.6951 - val_recall: 0.0248 - val_f1_score: 0.3117\n",
            "\n",
            "Epoch 00013: val_f1_score improved from 0.29146 to 0.31174, saving model to Saved Model/Paper/UP_1_32.hdf5\n",
            "Epoch 14/30\n",
            "1549/1549 [==============================] - 38s 25ms/step - loss: 1.7030 - categorical_accuracy: 0.5000 - precision: 0.6249 - recall: 0.0747 - f1_score: 0.3922 - val_loss: 1.6477 - val_categorical_accuracy: 0.5250 - val_precision: 0.6127 - val_recall: 0.1578 - val_f1_score: 0.4251\n",
            "\n",
            "Epoch 00014: val_f1_score improved from 0.31174 to 0.42509, saving model to Saved Model/Paper/UP_1_32.hdf5\n",
            "Epoch 15/30\n",
            "1549/1549 [==============================] - 38s 25ms/step - loss: 1.5935 - categorical_accuracy: 0.5337 - precision: 0.6313 - recall: 0.1816 - f1_score: 0.4449 - val_loss: 1.5538 - val_categorical_accuracy: 0.5662 - val_precision: 0.6552 - val_recall: 0.1896 - val_f1_score: 0.4978\n",
            "\n",
            "Epoch 00015: val_f1_score improved from 0.42509 to 0.49781, saving model to Saved Model/Paper/UP_1_32.hdf5\n",
            "Epoch 16/30\n",
            "1549/1549 [==============================] - 38s 24ms/step - loss: 1.5127 - categorical_accuracy: 0.5596 - precision: 0.6749 - recall: 0.2658 - f1_score: 0.4830 - val_loss: 1.4849 - val_categorical_accuracy: 0.5438 - val_precision: 0.7173 - val_recall: 0.3031 - val_f1_score: 0.4694\n",
            "\n",
            "Epoch 00016: val_f1_score did not improve from 0.49781\n",
            "Epoch 17/30\n",
            "1549/1549 [==============================] - 38s 25ms/step - loss: 1.4428 - categorical_accuracy: 0.5828 - precision: 0.7101 - recall: 0.3335 - f1_score: 0.5166 - val_loss: 1.4120 - val_categorical_accuracy: 0.5929 - val_precision: 0.7128 - val_recall: 0.3669 - val_f1_score: 0.5260\n",
            "\n",
            "Epoch 00017: val_f1_score improved from 0.49781 to 0.52601, saving model to Saved Model/Paper/UP_1_32.hdf5\n",
            "Epoch 18/30\n",
            "1549/1549 [==============================] - 38s 25ms/step - loss: 1.3757 - categorical_accuracy: 0.6054 - precision: 0.7336 - recall: 0.3880 - f1_score: 0.5482 - val_loss: 1.3486 - val_categorical_accuracy: 0.6093 - val_precision: 0.7565 - val_recall: 0.3745 - val_f1_score: 0.5652\n",
            "\n",
            "Epoch 00018: val_f1_score improved from 0.52601 to 0.56517, saving model to Saved Model/Paper/UP_1_32.hdf5\n",
            "Epoch 19/30\n",
            "1549/1549 [==============================] - 38s 25ms/step - loss: 1.3067 - categorical_accuracy: 0.6337 - precision: 0.7497 - recall: 0.4369 - f1_score: 0.5829 - val_loss: 1.2744 - val_categorical_accuracy: 0.6581 - val_precision: 0.7759 - val_recall: 0.4553 - val_f1_score: 0.6136\n",
            "\n",
            "Epoch 00019: val_f1_score improved from 0.56517 to 0.61363, saving model to Saved Model/Paper/UP_1_32.hdf5\n",
            "Epoch 20/30\n",
            "1549/1549 [==============================] - 38s 25ms/step - loss: 1.2358 - categorical_accuracy: 0.6599 - precision: 0.7641 - recall: 0.4906 - f1_score: 0.6138 - val_loss: 1.2118 - val_categorical_accuracy: 0.6557 - val_precision: 0.7415 - val_recall: 0.5225 - val_f1_score: 0.6035\n",
            "\n",
            "Epoch 00020: val_f1_score did not improve from 0.61363\n",
            "Epoch 21/30\n",
            "1549/1549 [==============================] - 38s 25ms/step - loss: 1.1674 - categorical_accuracy: 0.6796 - precision: 0.7749 - recall: 0.5397 - f1_score: 0.6372 - val_loss: 1.1514 - val_categorical_accuracy: 0.6833 - val_precision: 0.7783 - val_recall: 0.5606 - val_f1_score: 0.6448\n",
            "\n",
            "Epoch 00021: val_f1_score improved from 0.61363 to 0.64483, saving model to Saved Model/Paper/UP_1_32.hdf5\n",
            "Epoch 22/30\n",
            "1549/1549 [==============================] - 38s 25ms/step - loss: 1.1051 - categorical_accuracy: 0.6925 - precision: 0.7824 - recall: 0.5772 - f1_score: 0.6535 - val_loss: 1.0886 - val_categorical_accuracy: 0.7073 - val_precision: 0.8001 - val_recall: 0.6001 - val_f1_score: 0.6702\n",
            "\n",
            "Epoch 00022: val_f1_score improved from 0.64483 to 0.67015, saving model to Saved Model/Paper/UP_1_32.hdf5\n",
            "Epoch 23/30\n",
            "1549/1549 [==============================] - 38s 25ms/step - loss: 1.0482 - categorical_accuracy: 0.7038 - precision: 0.7893 - recall: 0.6048 - f1_score: 0.6680 - val_loss: 1.0234 - val_categorical_accuracy: 0.7118 - val_precision: 0.8014 - val_recall: 0.6263 - val_f1_score: 0.6736\n",
            "\n",
            "Epoch 00023: val_f1_score improved from 0.67015 to 0.67357, saving model to Saved Model/Paper/UP_1_32.hdf5\n",
            "Epoch 24/30\n",
            "1549/1549 [==============================] - 38s 25ms/step - loss: 0.9977 - categorical_accuracy: 0.7173 - precision: 0.7966 - recall: 0.6282 - f1_score: 0.6843 - val_loss: 0.9888 - val_categorical_accuracy: 0.7222 - val_precision: 0.7912 - val_recall: 0.6436 - val_f1_score: 0.6837\n",
            "\n",
            "Epoch 00024: val_f1_score improved from 0.67357 to 0.68373, saving model to Saved Model/Paper/UP_1_32.hdf5\n",
            "Epoch 25/30\n",
            "1549/1549 [==============================] - 38s 25ms/step - loss: 0.9499 - categorical_accuracy: 0.7335 - precision: 0.8084 - recall: 0.6511 - f1_score: 0.7026 - val_loss: 0.9696 - val_categorical_accuracy: 0.7181 - val_precision: 0.7863 - val_recall: 0.6154 - val_f1_score: 0.6870\n",
            "\n",
            "Epoch 00025: val_f1_score improved from 0.68373 to 0.68701, saving model to Saved Model/Paper/UP_1_32.hdf5\n",
            "Epoch 26/30\n",
            "1549/1549 [==============================] - 38s 25ms/step - loss: 0.9074 - categorical_accuracy: 0.7516 - precision: 0.8196 - recall: 0.6737 - f1_score: 0.7226 - val_loss: 0.8985 - val_categorical_accuracy: 0.7744 - val_precision: 0.8471 - val_recall: 0.6746 - val_f1_score: 0.7521\n",
            "\n",
            "Epoch 00026: val_f1_score improved from 0.68701 to 0.75207, saving model to Saved Model/Paper/UP_1_32.hdf5\n",
            "Epoch 27/30\n",
            "1549/1549 [==============================] - 38s 25ms/step - loss: 0.8696 - categorical_accuracy: 0.7662 - precision: 0.8296 - recall: 0.6939 - f1_score: 0.7392 - val_loss: 0.8503 - val_categorical_accuracy: 0.7856 - val_precision: 0.8525 - val_recall: 0.7033 - val_f1_score: 0.7656\n",
            "\n",
            "Epoch 00027: val_f1_score improved from 0.75207 to 0.76557, saving model to Saved Model/Paper/UP_1_32.hdf5\n",
            "Epoch 28/30\n",
            "1549/1549 [==============================] - 38s 25ms/step - loss: 0.8349 - categorical_accuracy: 0.7804 - precision: 0.8380 - recall: 0.7126 - f1_score: 0.7551 - val_loss: 0.8270 - val_categorical_accuracy: 0.7923 - val_precision: 0.8522 - val_recall: 0.7092 - val_f1_score: 0.7704\n",
            "\n",
            "Epoch 00028: val_f1_score improved from 0.76557 to 0.77041, saving model to Saved Model/Paper/UP_1_32.hdf5\n",
            "Epoch 29/30\n",
            "1549/1549 [==============================] - 38s 25ms/step - loss: 0.8049 - categorical_accuracy: 0.7926 - precision: 0.8456 - recall: 0.7291 - f1_score: 0.7686 - val_loss: 0.8223 - val_categorical_accuracy: 0.7668 - val_precision: 0.8288 - val_recall: 0.6997 - val_f1_score: 0.7412\n",
            "\n",
            "Epoch 00029: val_f1_score did not improve from 0.77041\n",
            "Epoch 30/30\n",
            "1549/1549 [==============================] - 38s 25ms/step - loss: 0.7776 - categorical_accuracy: 0.8026 - precision: 0.8516 - recall: 0.7430 - f1_score: 0.7796 - val_loss: 0.7673 - val_categorical_accuracy: 0.7945 - val_precision: 0.8426 - val_recall: 0.7450 - val_f1_score: 0.7632\n",
            "\n",
            "Epoch 00030: val_f1_score did not improve from 0.77041\n"
          ]
        }
      ],
      "source": [
        "f1_paper_callback1 = ModelCheckpoint(\"Saved Model/Paper/UP_1_32.hdf5\",\n",
        "                              monitor='val_f1_score',\n",
        "                              verbose=1,\n",
        "                              save_best_only=True,\n",
        "                              mode='max')\n",
        "\n",
        "history_img_paper1 = model_img_paper1.fit(\n",
        "                                X_train_1_scaled,Y_train_1,\n",
        "                                epochs=30,\n",
        "                                batch_size=  100,\n",
        "                                validation_data=(X_val_1_scaled,Y_val_1),\n",
        "                                callbacks = [f1_paper_callback1 ]\n",
        "                )\n"
      ]
    },
    {
      "cell_type": "code",
      "execution_count": null,
      "id": "46246ba7-b7ef-4a9c-93e1-f2eb1e1a1a53",
      "metadata": {
        "id": "46246ba7-b7ef-4a9c-93e1-f2eb1e1a1a53",
        "outputId": "2ef18b78-1b82-47a1-daac-e61aa15f9496"
      },
      "outputs": [
        {
          "name": "stdout",
          "output_type": "stream",
          "text": [
            "best model: \n",
            "1614/1614 [==============================] - 7s 4ms/step - loss: 0.8270 - categorical_accuracy: 0.7923 - precision: 0.8522 - recall: 0.7092 - f1_score: 0.7704\n",
            "[0.8270156979560852, 0.7922631502151489, 0.8521648049354553, 0.7091606259346008, 0.7704067230224609]\n",
            "1614/1614 [==============================] - 6s 4ms/step - loss: 0.8299 - categorical_accuracy: 0.7892 - precision: 0.8481 - recall: 0.7098 - f1_score: 0.7669\n",
            "[0.8298739194869995, 0.7892025113105774, 0.8480766415596008, 0.7097998857498169, 0.7669154405593872]\n"
          ]
        }
      ],
      "source": [
        "print(\"best model: \")\n",
        "model_img_paper1.load_weights(\"Saved Model/Paper/UP_1_32.hdf5\")\n",
        "print(model_img_paper1.evaluate(X_val_1_scaled, Y_val_1))\n",
        "print(model_img_paper1.evaluate(X_test_1_scaled, Y_test_1))"
      ]
    },
    {
      "cell_type": "code",
      "execution_count": null,
      "id": "cacf48c0-952e-4d25-8259-ae78579e169e",
      "metadata": {
        "id": "cacf48c0-952e-4d25-8259-ae78579e169e",
        "outputId": "3412f78d-6da9-4722-94c7-c4ef8e128284"
      },
      "outputs": [
        {
          "name": "stdout",
          "output_type": "stream",
          "text": [
            "dict_keys(['loss', 'categorical_accuracy', 'precision', 'recall', 'f1_score', 'val_loss', 'val_categorical_accuracy', 'val_precision', 'val_recall', 'val_f1_score'])\n"
          ]
        },
        {
          "data": {
            "image/png": "[encoded data removed]",
            "text/plain": [
              "<Figure size 432x288 with 1 Axes>"
            ]
          },
          "metadata": {
            "needs_background": "light"
          },
          "output_type": "display_data"
        },
        {
          "data": {
            "image/png": "[encoded data removed]",
            "text/plain": [
              "<Figure size 432x288 with 1 Axes>"
            ]
          },
          "metadata": {
            "needs_background": "light"
          },
          "output_type": "display_data"
        },
        {
          "data": {
            "image/png": "[encoded data removed]",
            "text/plain": [
              "<Figure size 432x288 with 1 Axes>"
            ]
          },
          "metadata": {
            "needs_background": "light"
          },
          "output_type": "display_data"
        },
        {
          "data": {
            "image/png": "[encoded data removed]",
            "text/plain": [
              "<Figure size 432x288 with 1 Axes>"
            ]
          },
          "metadata": {
            "needs_background": "light"
          },
          "output_type": "display_data"
        }
      ],
      "source": [
        "print(history_img_paper1.history.keys())\n",
        "plt.plot(history_img_paper1.history['categorical_accuracy'])\n",
        "plt.plot(history_img_paper1.history['val_categorical_accuracy'])\n",
        "plt.title('model accuracy')\n",
        "plt.ylabel('accuracy')\n",
        "plt.xlabel('epoch')\n",
        "plt.legend(['train', 'valid'], loc='upper left')\n",
        "plt.show()\n",
        "\n",
        "plt.plot(history_img_paper1.history['precision'])\n",
        "plt.plot(history_img_paper1.history['val_precision'])\n",
        "plt.title('model precision')\n",
        "plt.ylabel('precision')\n",
        "plt.xlabel('epoch')\n",
        "plt.legend(['train', 'valid'], loc='upper left')\n",
        "plt.show()\n",
        "\n",
        "plt.plot(history_img_paper1.history['recall'])\n",
        "plt.plot(history_img_paper1.history['val_recall'])\n",
        "plt.title('model recall')\n",
        "plt.ylabel('recall')\n",
        "plt.xlabel('epoch')\n",
        "plt.legend(['train', 'valid'], loc='upper left')\n",
        "plt.show()\n",
        "\n",
        "\n",
        "plt.plot(history_img_paper1.history['f1_score'])\n",
        "plt.plot(history_img_paper1.history['val_f1_score'])\n",
        "plt.title('model f1_score')\n",
        "plt.ylabel('f1_score')\n",
        "plt.xlabel('epoch')\n",
        "plt.legend(['train', 'valid'], loc='upper left')\n",
        "plt.show()"
      ]
    },
    {
      "cell_type": "code",
      "execution_count": null,
      "id": "6d5f4b91-144f-4121-962f-b23fdf9bc931",
      "metadata": {
        "id": "6d5f4b91-144f-4121-962f-b23fdf9bc931",
        "outputId": "413445b3-55ba-4f1b-c8bc-ed6b453a4a29"
      },
      "outputs": [
        {
          "name": "stdout",
          "output_type": "stream",
          "text": [
            "Model: \"sequential_4\"\n",
            "_________________________________________________________________\n",
            "Layer (type)                 Output Shape              Param #   \n",
            "=================================================================\n",
            "conv2d_12 (Conv2D)           (None, 30, 30, 8)         80        \n",
            "_________________________________________________________________\n",
            "max_pooling2d_12 (MaxPooling (None, 15, 15, 8)         0         \n",
            "_________________________________________________________________\n",
            "conv2d_13 (Conv2D)           (None, 13, 13, 16)        1168      \n",
            "_________________________________________________________________\n",
            "max_pooling2d_13 (MaxPooling (None, 6, 6, 16)          0         \n",
            "_________________________________________________________________\n",
            "conv2d_14 (Conv2D)           (None, 4, 4, 32)          4640      \n",
            "_________________________________________________________________\n",
            "max_pooling2d_14 (MaxPooling (None, 2, 2, 32)          0         \n",
            "_________________________________________________________________\n",
            "flatten_4 (Flatten)          (None, 128)               0         \n",
            "_________________________________________________________________\n",
            "dense_4 (Dense)              (None, 12)                1548      \n",
            "=================================================================\n",
            "Total params: 7,436\n",
            "Trainable params: 7,436\n",
            "Non-trainable params: 0\n",
            "_________________________________________________________________\n"
          ]
        }
      ],
      "source": [
        "model_img_paper2 = model_paper(32,32)\n",
        "model_img_paper2.summary()"
      ]
    },
    {
      "cell_type": "code",
      "execution_count": null,
      "id": "baedf98e-1f4b-43e1-b1a9-f42fa79a5902",
      "metadata": {
        "id": "baedf98e-1f4b-43e1-b1a9-f42fa79a5902",
        "outputId": "040ea77d-193a-4446-9a52-5d7e139a3f97"
      },
      "outputs": [
        {
          "name": "stdout",
          "output_type": "stream",
          "text": [
            "Epoch 1/30\n",
            "1549/1549 [==============================] - 39s 25ms/step - loss: 2.6647 - categorical_accuracy: 0.2663 - precision: 0.0000e+00 - recall: 0.0000e+00 - f1_score: 0.1265 - val_loss: 2.3155 - val_categorical_accuracy: 0.2777 - val_precision: 0.0000e+00 - val_recall: 0.0000e+00 - val_f1_score: 0.1207\n",
            "\n",
            "Epoch 00001: val_f1_score improved from -inf to 0.12075, saving model to Saved Model/Paper/UP_2_32.hdf5\n",
            "Epoch 2/30\n",
            "1549/1549 [==============================] - 39s 25ms/step - loss: 2.2366 - categorical_accuracy: 0.3451 - precision: 0.0000e+00 - recall: 0.0000e+00 - f1_score: 0.2350 - val_loss: 2.1299 - val_categorical_accuracy: 0.5333 - val_precision: 0.0000e+00 - val_recall: 0.0000e+00 - val_f1_score: 0.4336\n",
            "\n",
            "Epoch 00002: val_f1_score improved from 0.12075 to 0.43361, saving model to Saved Model/Paper/UP_2_32.hdf5\n",
            "Epoch 3/30\n",
            "1549/1549 [==============================] - 39s 25ms/step - loss: 1.8845 - categorical_accuracy: 0.6418 - precision: 0.8738 - recall: 0.1497 - f1_score: 0.5714 - val_loss: 1.6608 - val_categorical_accuracy: 0.6349 - val_precision: 0.8726 - val_recall: 0.3954 - val_f1_score: 0.5369\n",
            "\n",
            "Epoch 00003: val_f1_score improved from 0.43361 to 0.53687, saving model to Saved Model/Paper/UP_2_32.hdf5\n",
            "Epoch 4/30\n",
            "1549/1549 [==============================] - 38s 25ms/step - loss: 1.5514 - categorical_accuracy: 0.7020 - precision: 0.8595 - recall: 0.4278 - f1_score: 0.6540 - val_loss: 1.4862 - val_categorical_accuracy: 0.7232 - val_precision: 0.8523 - val_recall: 0.4126 - val_f1_score: 0.6747\n",
            "\n",
            "Epoch 00004: val_f1_score improved from 0.53687 to 0.67470, saving model to Saved Model/Paper/UP_2_32.hdf5\n",
            "Epoch 5/30\n",
            "1549/1549 [==============================] - 39s 25ms/step - loss: 1.4339 - categorical_accuracy: 0.7252 - precision: 0.8416 - recall: 0.4868 - f1_score: 0.6776 - val_loss: 1.3933 - val_categorical_accuracy: 0.7255 - val_precision: 0.8311 - val_recall: 0.5336 - val_f1_score: 0.6770\n",
            "\n",
            "Epoch 00005: val_f1_score improved from 0.67470 to 0.67700, saving model to Saved Model/Paper/UP_2_32.hdf5\n",
            "Epoch 6/30\n",
            "1549/1549 [==============================] - 39s 25ms/step - loss: 1.3502 - categorical_accuracy: 0.7422 - precision: 0.8376 - recall: 0.5614 - f1_score: 0.6941 - val_loss: 1.3258 - val_categorical_accuracy: 0.7181 - val_precision: 0.7765 - val_recall: 0.6129 - val_f1_score: 0.6706\n",
            "\n",
            "Epoch 00006: val_f1_score did not improve from 0.67700\n",
            "Epoch 7/30\n",
            "1549/1549 [==============================] - 39s 25ms/step - loss: 1.2758 - categorical_accuracy: 0.7552 - precision: 0.8336 - recall: 0.6251 - f1_score: 0.7071 - val_loss: 1.2493 - val_categorical_accuracy: 0.7550 - val_precision: 0.8203 - val_recall: 0.6521 - val_f1_score: 0.6988\n",
            "\n",
            "Epoch 00007: val_f1_score improved from 0.67700 to 0.69883, saving model to Saved Model/Paper/UP_2_32.hdf5\n",
            "Epoch 8/30\n",
            "1549/1549 [==============================] - 38s 25ms/step - loss: 1.2067 - categorical_accuracy: 0.7648 - precision: 0.8316 - recall: 0.6676 - f1_score: 0.7180 - val_loss: 1.1703 - val_categorical_accuracy: 0.7697 - val_precision: 0.8384 - val_recall: 0.6730 - val_f1_score: 0.7225\n",
            "\n",
            "Epoch 00008: val_f1_score improved from 0.69883 to 0.72251, saving model to Saved Model/Paper/UP_2_32.hdf5\n",
            "Epoch 9/30\n",
            "1549/1549 [==============================] - 38s 25ms/step - loss: 1.1413 - categorical_accuracy: 0.7746 - precision: 0.8329 - recall: 0.6961 - f1_score: 0.7294 - val_loss: 1.1062 - val_categorical_accuracy: 0.7873 - val_precision: 0.8424 - val_recall: 0.7070 - val_f1_score: 0.7354\n",
            "\n",
            "Epoch 00009: val_f1_score improved from 0.72251 to 0.73541, saving model to Saved Model/Paper/UP_2_32.hdf5\n",
            "Epoch 10/30\n",
            "1549/1549 [==============================] - 38s 25ms/step - loss: 1.0804 - categorical_accuracy: 0.7835 - precision: 0.8360 - recall: 0.7179 - f1_score: 0.7408 - val_loss: 1.0585 - val_categorical_accuracy: 0.7898 - val_precision: 0.8396 - val_recall: 0.7036 - val_f1_score: 0.7406\n",
            "\n",
            "Epoch 00010: val_f1_score improved from 0.73541 to 0.74060, saving model to Saved Model/Paper/UP_2_32.hdf5\n",
            "Epoch 11/30\n",
            "1549/1549 [==============================] - 39s 25ms/step - loss: 1.0246 - categorical_accuracy: 0.7924 - precision: 0.8422 - recall: 0.7360 - f1_score: 0.7521 - val_loss: 0.9995 - val_categorical_accuracy: 0.7877 - val_precision: 0.8600 - val_recall: 0.7044 - val_f1_score: 0.7611\n",
            "\n",
            "Epoch 00011: val_f1_score improved from 0.74060 to 0.76114, saving model to Saved Model/Paper/UP_2_32.hdf5\n",
            "Epoch 12/30\n",
            "1549/1549 [==============================] - 38s 25ms/step - loss: 0.9752 - categorical_accuracy: 0.8006 - precision: 0.8475 - recall: 0.7502 - f1_score: 0.7626 - val_loss: 0.9529 - val_categorical_accuracy: 0.8226 - val_precision: 0.8679 - val_recall: 0.7422 - val_f1_score: 0.7810\n",
            "\n",
            "Epoch 00012: val_f1_score improved from 0.76114 to 0.78100, saving model to Saved Model/Paper/UP_2_32.hdf5\n",
            "Epoch 13/30\n",
            "1549/1549 [==============================] - 38s 25ms/step - loss: 0.9265 - categorical_accuracy: 0.8103 - precision: 0.8539 - recall: 0.7667 - f1_score: 0.7741 - val_loss: 0.9163 - val_categorical_accuracy: 0.8083 - val_precision: 0.8528 - val_recall: 0.7735 - val_f1_score: 0.7621\n",
            "\n",
            "Epoch 00013: val_f1_score did not improve from 0.78100\n",
            "Epoch 14/30\n",
            "1549/1549 [==============================] - 38s 25ms/step - loss: 0.8866 - categorical_accuracy: 0.8174 - precision: 0.8569 - recall: 0.7790 - f1_score: 0.7832 - val_loss: 0.9708 - val_categorical_accuracy: 0.7336 - val_precision: 0.7873 - val_recall: 0.6913 - val_f1_score: 0.6854\n",
            "\n",
            "Epoch 00014: val_f1_score did not improve from 0.78100\n",
            "Epoch 15/30\n",
            "1549/1549 [==============================] - 38s 25ms/step - loss: 0.8500 - categorical_accuracy: 0.8234 - precision: 0.8596 - recall: 0.7882 - f1_score: 0.7905 - val_loss: 0.8198 - val_categorical_accuracy: 0.8310 - val_precision: 0.8726 - val_recall: 0.7888 - val_f1_score: 0.8074\n",
            "\n",
            "Epoch 00015: val_f1_score improved from 0.78100 to 0.80735, saving model to Saved Model/Paper/UP_2_32.hdf5\n",
            "Epoch 16/30\n",
            "1549/1549 [==============================] - 38s 25ms/step - loss: 0.8148 - categorical_accuracy: 0.8275 - precision: 0.8615 - recall: 0.7968 - f1_score: 0.7960 - val_loss: 0.8482 - val_categorical_accuracy: 0.7776 - val_precision: 0.8028 - val_recall: 0.7341 - val_f1_score: 0.7509\n",
            "\n",
            "Epoch 00016: val_f1_score did not improve from 0.80735\n",
            "Epoch 17/30\n",
            "1549/1549 [==============================] - 38s 25ms/step - loss: 0.7834 - categorical_accuracy: 0.8318 - precision: 0.8641 - recall: 0.8034 - f1_score: 0.8012 - val_loss: 0.7654 - val_categorical_accuracy: 0.8352 - val_precision: 0.8645 - val_recall: 0.8134 - val_f1_score: 0.7850\n",
            "\n",
            "Epoch 00017: val_f1_score did not improve from 0.80735\n",
            "Epoch 18/30\n",
            "1549/1549 [==============================] - 38s 25ms/step - loss: 0.7516 - categorical_accuracy: 0.8372 - precision: 0.8680 - recall: 0.8103 - f1_score: 0.8075 - val_loss: 0.7613 - val_categorical_accuracy: 0.8177 - val_precision: 0.8440 - val_recall: 0.7879 - val_f1_score: 0.8023\n",
            "\n",
            "Epoch 00018: val_f1_score did not improve from 0.80735\n",
            "Epoch 19/30\n",
            "1549/1549 [==============================] - 38s 25ms/step - loss: 0.7251 - categorical_accuracy: 0.8404 - precision: 0.8704 - recall: 0.8148 - f1_score: 0.8121 - val_loss: 0.7305 - val_categorical_accuracy: 0.8323 - val_precision: 0.8541 - val_recall: 0.8216 - val_f1_score: 0.7781\n",
            "\n",
            "Epoch 00019: val_f1_score did not improve from 0.80735\n",
            "Epoch 20/30\n",
            "1549/1549 [==============================] - 38s 25ms/step - loss: 0.7006 - categorical_accuracy: 0.8441 - precision: 0.8721 - recall: 0.8189 - f1_score: 0.8169 - val_loss: 0.6901 - val_categorical_accuracy: 0.8461 - val_precision: 0.8736 - val_recall: 0.8300 - val_f1_score: 0.8010\n",
            "\n",
            "Epoch 00020: val_f1_score did not improve from 0.80735\n",
            "Epoch 21/30\n",
            "1549/1549 [==============================] - 38s 25ms/step - loss: 0.6770 - categorical_accuracy: 0.8477 - precision: 0.8749 - recall: 0.8233 - f1_score: 0.8218 - val_loss: 0.6603 - val_categorical_accuracy: 0.8652 - val_precision: 0.8899 - val_recall: 0.8361 - val_f1_score: 0.8412\n",
            "\n",
            "Epoch 00021: val_f1_score improved from 0.80735 to 0.84122, saving model to Saved Model/Paper/UP_2_32.hdf5\n",
            "Epoch 22/30\n",
            "1549/1549 [==============================] - 38s 25ms/step - loss: 0.6572 - categorical_accuracy: 0.8501 - precision: 0.8771 - recall: 0.8268 - f1_score: 0.8248 - val_loss: 0.6640 - val_categorical_accuracy: 0.8390 - val_precision: 0.8624 - val_recall: 0.8271 - val_f1_score: 0.7931\n",
            "\n",
            "Epoch 00022: val_f1_score did not improve from 0.84122\n",
            "Epoch 23/30\n",
            "1549/1549 [==============================] - 38s 25ms/step - loss: 0.6365 - categorical_accuracy: 0.8537 - precision: 0.8799 - recall: 0.8310 - f1_score: 0.8294 - val_loss: 0.6243 - val_categorical_accuracy: 0.8679 - val_precision: 0.8901 - val_recall: 0.8487 - val_f1_score: 0.8443\n",
            "\n",
            "Epoch 00023: val_f1_score improved from 0.84122 to 0.84430, saving model to Saved Model/Paper/UP_2_32.hdf5\n",
            "Epoch 24/30\n",
            "1549/1549 [==============================] - 39s 25ms/step - loss: 0.6190 - categorical_accuracy: 0.8567 - precision: 0.8815 - recall: 0.8337 - f1_score: 0.8334 - val_loss: 0.6272 - val_categorical_accuracy: 0.8467 - val_precision: 0.8674 - val_recall: 0.8267 - val_f1_score: 0.8025.6190 - categorical_accuracy: 0.8566 - precision: 0.8815 - recall: 0.8337 - f1_s\n",
            "\n",
            "Epoch 00024: val_f1_score did not improve from 0.84430\n",
            "Epoch 25/30\n",
            "1549/1549 [==============================] - 38s 25ms/step - loss: 0.6006 - categorical_accuracy: 0.8613 - precision: 0.8850 - recall: 0.8390 - f1_score: 0.8387 - val_loss: 0.6210 - val_categorical_accuracy: 0.8262 - val_precision: 0.8519 - val_recall: 0.8041 - val_f1_score: 0.8094\n",
            "\n",
            "Epoch 00025: val_f1_score did not improve from 0.84430\n",
            "Epoch 26/30\n",
            "1549/1549 [==============================] - 38s 25ms/step - loss: 0.5845 - categorical_accuracy: 0.8641 - precision: 0.8875 - recall: 0.8418 - f1_score: 0.8421 - val_loss: 0.5835 - val_categorical_accuracy: 0.8678 - val_precision: 0.9001 - val_recall: 0.8341 - val_f1_score: 0.8501\n",
            "\n",
            "Epoch 00026: val_f1_score improved from 0.84430 to 0.85009, saving model to Saved Model/Paper/UP_2_32.hdf5\n",
            "Epoch 27/30\n",
            "1549/1549 [==============================] - 38s 25ms/step - loss: 0.5712 - categorical_accuracy: 0.8666 - precision: 0.8893 - recall: 0.8443 - f1_score: 0.8454 - val_loss: 0.5844 - val_categorical_accuracy: 0.8509 - val_precision: 0.8753 - val_recall: 0.8280 - val_f1_score: 0.8359\n",
            "\n",
            "Epoch 00027: val_f1_score did not improve from 0.85009\n",
            "Epoch 28/30\n",
            "1549/1549 [==============================] - 38s 25ms/step - loss: 0.5566 - categorical_accuracy: 0.8701 - precision: 0.8926 - recall: 0.8479 - f1_score: 0.8493 - val_loss: 0.5941 - val_categorical_accuracy: 0.8299 - val_precision: 0.8528 - val_recall: 0.8053 - val_f1_score: 0.8129\n",
            "\n",
            "Epoch 00028: val_f1_score did not improve from 0.85009\n",
            "Epoch 29/30\n",
            "1549/1549 [==============================] - 38s 25ms/step - loss: 0.5434 - categorical_accuracy: 0.8729 - precision: 0.8953 - recall: 0.8519 - f1_score: 0.8527 - val_loss: 0.5303 - val_categorical_accuracy: 0.8822 - val_precision: 0.9028 - val_recall: 0.8609 - val_f1_score: 0.8603\n",
            "\n",
            "Epoch 00029: val_f1_score improved from 0.85009 to 0.86027, saving model to Saved Model/Paper/UP_2_32.hdf5\n",
            "Epoch 30/30\n",
            "1549/1549 [==============================] - 38s 25ms/step - loss: 0.5311 - categorical_accuracy: 0.8771 - precision: 0.8987 - recall: 0.8556 - f1_score: 0.8574 - val_loss: 0.5284 - val_categorical_accuracy: 0.8682 - val_precision: 0.8880 - val_recall: 0.8516 - val_f1_score: 0.8388\n",
            "\n",
            "Epoch 00030: val_f1_score did not improve from 0.86027\n"
          ]
        }
      ],
      "source": [
        "f1_paper_callback2 = ModelCheckpoint(\"Saved Model/Paper/UP_2_32.hdf5\",\n",
        "                              monitor='val_f1_score',\n",
        "                              verbose=1,\n",
        "                              save_best_only=True,\n",
        "                              mode='max')\n",
        "\n",
        "history_img_paper2 = model_img_paper2.fit(\n",
        "                                X_train_2_scaled,Y_train_2,\n",
        "                                epochs=30,\n",
        "                                batch_size=  100,\n",
        "                                validation_data=(X_val_2_scaled,Y_val_2),\n",
        "                                callbacks = [f1_paper_callback2 ]\n",
        "                )\n"
      ]
    },
    {
      "cell_type": "code",
      "execution_count": null,
      "id": "f73556f1-9dd1-489b-aa22-924b7615e603",
      "metadata": {
        "id": "f73556f1-9dd1-489b-aa22-924b7615e603",
        "outputId": "a9edb978-f144-4af7-a0f6-47b0394a891d"
      },
      "outputs": [
        {
          "name": "stdout",
          "output_type": "stream",
          "text": [
            "best model: \n",
            "1614/1614 [==============================] - 7s 4ms/step - loss: 0.5303 - categorical_accuracy: 0.8822 - precision: 0.9028 - recall: 0.8609 - f1_score: 0.8603\n",
            "[0.530326783657074, 0.8821843266487122, 0.9027644991874695, 0.8609340786933899, 0.8602725267410278]\n",
            "1614/1614 [==============================] - 7s 4ms/step - loss: 0.5296 - categorical_accuracy: 0.8825 - precision: 0.9033 - recall: 0.8613 - f1_score: 0.8607\n",
            "[0.5296090841293335, 0.8824554681777954, 0.9032624959945679, 0.8613215088844299, 0.8606771230697632]\n"
          ]
        }
      ],
      "source": [
        "print(\"best model: \")\n",
        "model_img_paper2.load_weights(\"Saved Model/Paper/UP_2_32.hdf5\")\n",
        "print(model_img_paper2.evaluate(X_val_2_scaled, Y_val_2))\n",
        "print(model_img_paper2.evaluate(X_test_2_scaled, Y_test_2))"
      ]
    },
    {
      "cell_type": "code",
      "execution_count": null,
      "id": "0134f98e-48a6-4c78-a35c-8051ad2069e1",
      "metadata": {
        "id": "0134f98e-48a6-4c78-a35c-8051ad2069e1",
        "outputId": "430a66b8-10f7-46e9-8443-0cf8c786b7c2"
      },
      "outputs": [
        {
          "name": "stdout",
          "output_type": "stream",
          "text": [
            "dict_keys(['loss', 'categorical_accuracy', 'precision', 'recall', 'f1_score', 'val_loss', 'val_categorical_accuracy', 'val_precision', 'val_recall', 'val_f1_score'])\n"
          ]
        },
        {
          "data": {
            "image/png": "[encoded data removed]",
            "text/plain": [
              "<Figure size 432x288 with 1 Axes>"
            ]
          },
          "metadata": {
            "needs_background": "light"
          },
          "output_type": "display_data"
        },
        {
          "data": {
            "image/png": "[encoded data removed]",
            "text/plain": [
              "<Figure size 432x288 with 1 Axes>"
            ]
          },
          "metadata": {
            "needs_background": "light"
          },
          "output_type": "display_data"
        },
        {
          "data": {
            "image/png": "[encoded data removed]",
            "text/plain": [
              "<Figure size 432x288 with 1 Axes>"
            ]
          },
          "metadata": {
            "needs_background": "light"
          },
          "output_type": "display_data"
        },
        {
          "data": {
            "image/png": "[encoded data removed]",
            "text/plain": [
              "<Figure size 432x288 with 1 Axes>"
            ]
          },
          "metadata": {
            "needs_background": "light"
          },
          "output_type": "display_data"
        }
      ],
      "source": [
        "print(history_img_paper2.history.keys())\n",
        "plt.plot(history_img_paper2.history['categorical_accuracy'])\n",
        "plt.plot(history_img_paper2.history['val_categorical_accuracy'])\n",
        "plt.title('model accuracy')\n",
        "plt.ylabel('accuracy')\n",
        "plt.xlabel('epoch')\n",
        "plt.legend(['train', 'valid'], loc='upper left')\n",
        "plt.show()\n",
        "\n",
        "plt.plot(history_img_paper2.history['precision'])\n",
        "plt.plot(history_img_paper2.history['val_precision'])\n",
        "plt.title('model precision')\n",
        "plt.ylabel('precision')\n",
        "plt.xlabel('epoch')\n",
        "plt.legend(['train', 'valid'], loc='upper left')\n",
        "plt.show()\n",
        "\n",
        "plt.plot(history_img_paper2.history['recall'])\n",
        "plt.plot(history_img_paper2.history['val_recall'])\n",
        "plt.title('model recall')\n",
        "plt.ylabel('recall')\n",
        "plt.xlabel('epoch')\n",
        "plt.legend(['train', 'valid'], loc='upper left')\n",
        "plt.show()\n",
        "\n",
        "\n",
        "plt.plot(history_img_paper2.history['f1_score'])\n",
        "plt.plot(history_img_paper2.history['val_f1_score'])\n",
        "plt.title('model f1_score')\n",
        "plt.ylabel('f1_score')\n",
        "plt.xlabel('epoch')\n",
        "plt.legend(['train', 'valid'], loc='upper left')\n",
        "plt.show()"
      ]
    },
    {
      "cell_type": "code",
      "execution_count": null,
      "id": "921f4526-5354-437a-9e03-3ba81b24fce7",
      "metadata": {
        "id": "921f4526-5354-437a-9e03-3ba81b24fce7"
      },
      "outputs": [],
      "source": []
    }
  ],
  "metadata": {
    "kernelspec": {
      "display_name": "Python 3 (ipykernel)",
      "language": "python",
      "name": "python3"
    },
    "language_info": {
      "codemirror_mode": {
        "name": "ipython",
        "version": 3
      },
      "file_extension": ".py",
      "mimetype": "text/x-python",
      "name": "python",
      "nbconvert_exporter": "python",
      "pygments_lexer": "ipython3",
      "version": "3.8.10"
    },
    "colab": {
      "provenance": [],
      "toc_visible": true,
      "collapsed_sections": [
        "e6209778-705d-409d-b1a1-d9b8470010fa",
        "1838e9ac-5173-4e44-a6d5-baabe69f9592",
        "559d4cd4-b031-45af-9db4-f13685b1dc75",
        "980e944f-9b04-4d7e-a80e-dbe3b165ea8b",
        "f4085299-d5d7-4a5e-af91-6d972949cdb6"
      ]
    },
    "accelerator": "GPU",
    "gpuClass": "standard"
  },
  "nbformat": 4,
  "nbformat_minor": 5
}